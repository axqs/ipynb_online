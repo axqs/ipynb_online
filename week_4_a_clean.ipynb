{
 "cells": [
  {
   "cell_type": "markdown",
   "metadata": {},
   "source": [
    "# Week 4 : Lecture A \n",
    " ## Data structures: Lists, sorting and tuples\n",
    " ##### CS1P - University of Glasgow - John H. Williamson - 2017/2018 Python 3.x"
   ]
  },
  {
   "cell_type": "markdown",
   "metadata": {},
   "source": [
    "## Data structures\n",
    "Organising data into **data structures** is a key part of programming. Most languages support a number of different types of data structures which **aggregate** (collect together) simple data like numbers, strings or other data structures. They are sometimes called **compound** data structures because they are made up of elements.\n",
    "\n",
    "## Lists\n",
    "Lists are probably the most important compound data type in Python and are very widely used. They are a **sequence type** and represent an ordered sequence of values. Sequence types are a specialised kind of **collection type** (they impose **order**); a **collection type** just means a data type that holds multiple elements.\n",
    "\n",
    "I'll use **element** to mean a value that can be in a list, and **sequence** to refer to any ordered collection of **elements**. For example the list \n",
    "\n",
    "    [1,2,3]\n",
    "    \n",
    "is a **sequence** of **elements** 1, 2 and 3.\n",
    "\n",
    "----"
   ]
  },
  {
   "cell_type": "markdown",
   "metadata": {},
   "source": [
    "# Why lists?\n",
    "How would you use lists to design a program? Lists are extremely versatile, and most Python programs will use them extensively. \n",
    "\n",
    "Lists are so useful that some other languages, like **Lisp** (LISt Processing), make lists the primary datatype. Programs in Lisp are centered around working with data in list form.\n",
    "\n",
    "### Unordered collections\n",
    "A common use is just to aggregate data together. Say you wanted a collection of all the albums on Spotify released by a particular artist. A list is a reasonable way to store this. We can then test if an album is in this list, or add new ones, and so on."
   ]
  },
  {
   "cell_type": "code",
   "execution_count": 2,
   "metadata": {},
   "outputs": [
    {
     "name": "stdout",
     "output_type": "stream",
     "text": [
      "Tomorrow's Harvest\n",
      "The Campfire Headphase\n",
      "Geogaddi\n",
      "Music Has The Right To Children\n",
      "Twoism\n",
      "Reach For The Dead\n",
      "In A Beautiful Place Out In The Country\n",
      "Trans Canada Highway\n",
      "Peel Session\n",
      "Hi Scores\n",
      "Hi Scores 2014 Edition\n",
      "DJ-Kicks (Lone) [Mixed Tracks]\n",
      "Late Night Tales: BADBADNOTGOOD\n",
      "Mr Mistake (Boards Of Canada Remix Instrumental)\n",
      "Mr Mistake (feat. Boards Of Canada) [Boards Of Canada Remix]\n",
      "Late Night Tales: Nils Frahm\n",
      "DJ-Kicks (DJ Koze) [Mixed Tracks]\n",
      "Balance 026\n",
      "Late Night Tales: Franz Ferdinand\n",
      "Warp20 (Unheard)\n",
      "Warp20 (Chosen)\n",
      "Pretty Swell Explode\n",
      "Guerolito (UK Only Version)\n",
      "Remix EP #1\n",
      "Corymb\n"
     ]
    }
   ],
   "source": [
    "import spotipycaching \n",
    "\n",
    "# this actually queries spotify directly\n",
    "artist = spotipycaching.get_artist(\"Boards of Canada\")\n",
    "albums = spotipycaching.get_albums(artist)\n",
    "\n",
    "for album in albums:\n",
    "    print(album)"
   ]
  },
  {
   "cell_type": "code",
   "execution_count": 3,
   "metadata": {},
   "outputs": [
    {
     "name": "stdout",
     "output_type": "stream",
     "text": [
      "True\n"
     ]
    }
   ],
   "source": [
    "# test if this album is in the list\n",
    "print(\"Geogaddi\" in albums)"
   ]
  },
  {
   "cell_type": "code",
   "execution_count": 4,
   "metadata": {},
   "outputs": [
    {
     "data": {
      "text/html": [
       "<img src=\"https://i.scdn.co/image/8adf71c978be01d5d577e35b90650f4f10f03681\">"
      ],
      "text/plain": [
       "<IPython.core.display.HTML object>"
      ]
     },
     "metadata": {},
     "output_type": "display_data"
    },
    {
     "data": {
      "text/html": [
       "<img src=\"https://i.scdn.co/image/f24d8ea898ca9aae8524020d0f7ac161f753fed5\">"
      ],
      "text/plain": [
       "<IPython.core.display.HTML object>"
      ]
     },
     "metadata": {},
     "output_type": "display_data"
    },
    {
     "data": {
      "text/html": [
       "<img src=\"https://i.scdn.co/image/7abd69dc8d601c23252c54fd082a9b5228350bc8\">"
      ],
      "text/plain": [
       "<IPython.core.display.HTML object>"
      ]
     },
     "metadata": {},
     "output_type": "display_data"
    },
    {
     "data": {
      "text/html": [
       "<img src=\"https://i.scdn.co/image/f1f89f6e409f52b2c8c1b72c0748925da78a5577\">"
      ],
      "text/plain": [
       "<IPython.core.display.HTML object>"
      ]
     },
     "metadata": {},
     "output_type": "display_data"
    },
    {
     "data": {
      "text/html": [
       "<img src=\"https://i.scdn.co/image/d77c5f5fea529b6eaf99f8404f4e2747d25671c7\">"
      ],
      "text/plain": [
       "<IPython.core.display.HTML object>"
      ]
     },
     "metadata": {},
     "output_type": "display_data"
    },
    {
     "data": {
      "text/html": [
       "<img src=\"https://i.scdn.co/image/83cc16e0dc0506789ab175eb5dc5a774b2ab57f5\">"
      ],
      "text/plain": [
       "<IPython.core.display.HTML object>"
      ]
     },
     "metadata": {},
     "output_type": "display_data"
    },
    {
     "data": {
      "text/html": [
       "<img src=\"https://i.scdn.co/image/f4a37f3e3af0e4c4d70b5084683d6952311da954\">"
      ],
      "text/plain": [
       "<IPython.core.display.HTML object>"
      ]
     },
     "metadata": {},
     "output_type": "display_data"
    },
    {
     "data": {
      "text/html": [
       "<img src=\"https://i.scdn.co/image/8c0bc97188586623898dcdf7de2560677ebbc33c\">"
      ],
      "text/plain": [
       "<IPython.core.display.HTML object>"
      ]
     },
     "metadata": {},
     "output_type": "display_data"
    }
   ],
   "source": [
    "# get a list of image URLs and show them\n",
    "artist_images = spotipycaching.get_album_images('Stars of the Lid')\n",
    "for image_url in artist_images:\n",
    "    spotipycaching.show_image(image_url)\n"
   ]
  },
  {
   "cell_type": "markdown",
   "metadata": {},
   "source": [
    "### Time-ordered data\n",
    "Because lists are sequences, we can use them to store ordered data. For example, we might capture the rainfall each day in a measuring cup, and store it as a sequence:\n",
    "<img src=\"imgs/rain_chart.jpg\" width=\"600px\">\n",
    "*[Image credit: CambridgeBayWeather. Public Domain]*"
   ]
  },
  {
   "cell_type": "code",
   "execution_count": 9,
   "metadata": {},
   "outputs": [
    {
     "name": "stdout",
     "output_type": "stream",
     "text": [
      "On Sun 0.5 mm of rain fell\n",
      "On Mon 2.5 mm of rain fell\n",
      "On Tue 10.7 mm of rain fell\n",
      "On Wed 2.9 mm of rain fell\n",
      "On Thu 0.0 mm of rain fell\n",
      "On Fri 0.0 mm of rain fell\n",
      "On Sat 1.8 mm of rain fell\n"
     ]
    }
   ],
   "source": [
    "week_rainfall = [0.5, 2.5, 10.7, 2.9, 0.0, 0.0, 1.8]\n",
    "week_days = [\"Sun\", \"Mon\", \"Tue\", \"Wed\", \"Thu\", \"Fri\", \"Sat\"]\n",
    "for i in range(len(week_days)):\n",
    "    print(\"On\", week_days[i], week_rainfall[i], \"mm of rain fell\")"
   ]
  },
  {
   "cell_type": "markdown",
   "metadata": {},
   "source": [
    "### Vector\n",
    "We can use lists to store numerical vectors. By a vector I mean a numerical data structure where we can perform operations like vector addition, scalar multiplication, and compute aggregated results like the sum or mean.\n",
    "<img src=\"imgs/vector.png\">\n",
    "\n",
    "*[Image credit: User:Acdx via wikimedia commons https://commons.wikimedia.org/wiki/File:3D_Vector.svg]*"
   ]
  },
  {
   "cell_type": "code",
   "execution_count": 10,
   "metadata": {},
   "outputs": [
    {
     "name": "stdout",
     "output_type": "stream",
     "text": [
      "[1.0, 5.0, 6.0]\n",
      "12.0\n"
     ]
    }
   ],
   "source": [
    "pt_1 = [0.0, 5.0, 7.0]\n",
    "pt_2 = [1.0, 0.0, -1.0]\n",
    "pt_3 = []\n",
    "\n",
    "# add together two vectors\n",
    "for i in range(3):\n",
    "    pt_3.append(pt_1[i] + pt_2[i])\n",
    "print(pt_3)\n",
    "\n",
    "# sum is built in to Python\n",
    "print(sum(pt_3))"
   ]
  },
  {
   "cell_type": "markdown",
   "metadata": {},
   "source": [
    "## Irregular iteration\n",
    "`for i in range()` is fine for numerical loops (e.g. every number from 0 to 20). But often you want to run through an iteration of an irregular sequence. Lists make this trivial:"
   ]
  },
  {
   "cell_type": "code",
   "execution_count": 11,
   "metadata": {},
   "outputs": [
    {
     "name": "stdout",
     "output_type": "stream",
     "text": [
      "You're a duck\n",
      "You're a duck\n",
      "You're a goose\n"
     ]
    }
   ],
   "source": [
    "for bird in [\"duck\", \"duck\", \"goose\"]:\n",
    "    print(\"You're a %s\" % bird)"
   ]
  },
  {
   "cell_type": "markdown",
   "metadata": {},
   "source": [
    "### Task queues\n",
    "Imagine we have to schedule some actions to be performed in the future. This happens all the time when you press keys on your keyboard -- what actually happens is that a request to do something (like say copy some text) is put onto a queue. \n",
    "\n",
    "When the OS is ready to do something about that request it \"pops\" the request off and does some action. Lists are the natural data structure for this.\n",
    "\n",
    "This \"pattern\" where a queue is used to hold tasks that might come in asynchronously (e.g. requests from a browser to a web server) and process them in a sensible order (e.g. the order they arrived in) is extremely common.\n",
    "\n",
    "<img src=\"imgs/keyboard.jpg\">\n",
    "*[Image credit: Jeroen Bennink via flickr.com CC-BY 2.0]*\n"
   ]
  },
  {
   "cell_type": "code",
   "execution_count": 36,
   "metadata": {},
   "outputs": [
    {
     "name": "stdout",
     "output_type": "stream",
     "text": [
      "cd imgs\n",
      "\r\n",
      "C:\\Users\\jhw___000\\Dropbox\\cs1p-2017\\week_4\\lecture_a\\imgs> dir\n",
      " Volume in drive C is OS\r\n",
      " Volume Serial Number is F2AC-1EA1\r\n",
      "\r\n",
      " Directory of C:\\Users\\jhw___000\\Dropbox\\cs1p-2017\\week_4\\lecture_a\r\n",
      "\r\n",
      "09/10/2017  11:11    <DIR>          .\r\n",
      "09/10/2017  11:11    <DIR>          ..\r\n",
      "07/09/2017  11:56    <DIR>          .ipynb_checkpoints\r\n",
      "07/09/2017  11:56    <DIR>          imgs\r\n",
      "09/10/2017  11:10             6,434 spotipycaching.py\r\n",
      "21/09/2016  09:00             7,032 spotipycaching.pyc\r\n",
      "09/10/2017  11:11            66,853 week_4_a.ipynb\r\n",
      "09/10/2017  11:10    <DIR>          __pycache__\r\n",
      "               3 File(s)         80,319 bytes\r\n",
      "               5 Dir(s)  56,179,118,080 bytes free\r\n",
      "\r\n",
      "C:\\Users\\jhw___000\\Dropbox\\cs1p-2017\\week_4\\lecture_a> cd ..\n",
      "\r\n",
      "C:\\Users\\jhw___000\\Dropbox\\cs1p-2017\\week_4> "
     ]
    }
   ],
   "source": [
    "import subprocess\n",
    "\n",
    "queue = []  # list of things to do\n",
    "queue.append([\"cd\", \"imgs\"])\n",
    "queue.append([\"dir\"])\n",
    "queue.append([\"cd\", \"..\"])\n",
    "\n",
    "# now we service those requests\n",
    "while len(queue) > 0:\n",
    "    # take the first task off the queue\n",
    "    next_task = queue.pop(0)\n",
    "    print(str(\" \".join(next_task)))\n",
    "    # some slight hackery to make this work on windows\n",
    "    print(subprocess.check_output([\"cmd\", \"/k\"] + next_task).decode(), end=' ')"
   ]
  },
  {
   "cell_type": "markdown",
   "metadata": {},
   "source": [
    "### Data stack\n",
    "**Stacks** are data structures which can have elements **pushed** onto them and **popped** off. \n",
    "\n",
    "The last element pushed is the first one popped (like stacking sheets of paper -- the first one you lift off the table (\"pop\") is the last one you put down (\"push\")). \n",
    "\n",
    "This is often a very convenient way of storing temporary results, if you need to be able to go back to a temporary calculation later. \n",
    "\n",
    "Ye olde HP calculators used to use this structure to do computations; which meant you never had to worry about brackets or precedence, but you did have to learn to write expressions down in **Reverse Polish Notation**.\n",
    "\n",
    "<img src=\"imgs/hp35.jpg\">\n",
    "*[Image credit: Seth Morabito via flickr.com CC-BY-SA 2.0]*\n",
    "\n",
    "\n",
    "    4 + (9 * 10 + 3 * 10) * 100\n",
    "    \n",
    "    becomes\n",
    "    \n",
    "    9 10 * 3 10 * + 100 * 4 +\n",
    "    \n",
    "    [push 9 and 10] \n",
    "    [pop two elements and multiply them, push the result] \n",
    "    [push 3] \n",
    "    [pop two elements, add and push result] \n",
    "    [push 500] \n",
    "    [pop two elements and multiply them, push the result] \n",
    "    [push 4] \n",
    "    [pop two elements, add and push result] \n",
    "        \n"
   ]
  },
  {
   "cell_type": "code",
   "execution_count": null,
   "metadata": {
    "collapsed": true
   },
   "outputs": [],
   "source": [
    "def add(stack):\n",
    "    # pop two values, add and push the result\n",
    "    stack.append(stack.pop() + stack.pop())\n",
    "\n",
    "\n",
    "def mul(stack):\n",
    "    # pop two values, multiply and push the result\n",
    "    stack.append(stack.pop() * stack.pop())\n",
    "\n",
    "\n",
    "# empty stack\n",
    "stack = []\n",
    "\n",
    "# push is called append in Python!\n",
    "stack.append(9)  # 9\n",
    "stack.append(10)  # 10\n",
    "mul(stack)  # *\n",
    "stack.append(3)  # 3\n",
    "stack.append(10)  # 10\n",
    "mul(stack)  # *\n",
    "add(stack)  # +\n",
    "stack.append(100)  # 100\n",
    "mul(stack)  # *\n",
    "stack.append(4)  # 4\n",
    "add(stack)  # +\n",
    "\n",
    "# print the output\n",
    "print(stack.pop())"
   ]
  },
  {
   "cell_type": "markdown",
   "metadata": {},
   "source": [
    "### Spreadsheet-like tables\n",
    "A spreadsheet or 2D table is a common way of representing data. A table can be seen as a list of rows, each of which is a list of elements, one per column. This representation is a *list-of-lists*, one list nested inside the other.\n"
   ]
  },
  {
   "cell_type": "code",
   "execution_count": 14,
   "metadata": {},
   "outputs": [
    {
     "name": "stdout",
     "output_type": "stream",
     "text": [
      "Month        Sales        UnitCost     Tax          Gross\n",
      "Jun          205          0.96         0.2          236.16\n",
      "Jul          193          0.94         0.2          217.704\n",
      "Aug          141          1.02         0.2          172.584\n",
      "Sep          290          0.88         0.2          306.24\n"
     ]
    }
   ],
   "source": [
    "# a simple list\n",
    "columns = [\"Month\", \"Sales\", \"UnitCost\", \"Tax\"]\n",
    "\n",
    "# a list of lists\n",
    "sheet = [[\"Jun\", 205, 0.96, 0.2], \n",
    "         [\"Jul\", 193, 0.94, 0.2],\n",
    "         [\"Aug\", 141, 1.02, 0.2], \n",
    "         [\"Sep\", 290, 0.88, 0.2]]\n",
    "\n",
    "for col in columns:\n",
    "    # ljust left justifies text to 12 characters -- i.e. it makes\n",
    "    # each column exactly the same width\n",
    "    print(col.ljust(12), end=' ')\n",
    "\n",
    "# we will calculate this row from the existing data\n",
    "print(\"Gross\")\n",
    "\n",
    "for row in sheet:\n",
    "    for col in row:\n",
    "        print(str(col).ljust(12), end=' ')\n",
    "    # compute the gross receipts given the current months' figures\n",
    "    print(row[columns.index(\"Sales\")] * row[columns.index(\"UnitCost\")] *\n",
    "          (1 + row[columns.index(\"Tax\")]))\n",
    "\n",
    "    # When we see dictionaries we will see a much more efficient way of doing this\n",
    "    # We could do this, but then we hard code the position of the columns!\n",
    "    # print row[1] * row[2] * (1+row[3])"
   ]
  },
  {
   "cell_type": "markdown",
   "metadata": {},
   "source": [
    "-----\n",
    "\n",
    "# Lists in Python\n",
    "\n",
    "#### Dynamically sized\n",
    "Python lists are dynamically sized: this means you can add and remove elements as you wish, without having to declare the size of the list in advance."
   ]
  },
  {
   "cell_type": "code",
   "execution_count": 15,
   "metadata": {},
   "outputs": [
    {
     "name": "stdout",
     "output_type": "stream",
     "text": [
      "[1, 2, 3, 4]\n"
     ]
    }
   ],
   "source": [
    "a = [1, 2, 3]\n",
    "a.append(4)  # we can just append values as we want\n",
    "print(a)"
   ]
  },
  {
   "cell_type": "markdown",
   "metadata": {},
   "source": [
    "#### Dynamically typed \n",
    "Like all built in Python collection types, lists don't care about what type their constituent elements are, so you can have lists of numbers, strings, other lists, or any Python data type."
   ]
  },
  {
   "cell_type": "code",
   "execution_count": 16,
   "metadata": {},
   "outputs": [
    {
     "name": "stdout",
     "output_type": "stream",
     "text": [
      "[1, 2, 3]\n",
      "['one', 'two', 'three']\n",
      "[[1, 2, 3], ['one', 'two', 'three']]\n"
     ]
    }
   ],
   "source": [
    "int_list = [1, 2, 3]\n",
    "string_list = [\"one\", \"two\", \"three\"]\n",
    "\n",
    "# note that it's fine for a list to hold more lists\n",
    "# or any other collection type\n",
    "list_of_lists = [int_list, string_list]\n",
    "\n",
    "print(int_list)\n",
    "print(string_list)\n",
    "print(list_of_lists)"
   ]
  },
  {
   "cell_type": "markdown",
   "metadata": {},
   "source": [
    "*Note that you can freely **mix** types within a single list!*. In Python, data types are associated with individual values (e.g. `\"three\"` has type `string`) and collection types hold collections of values, each with their own indivdual type.\n",
    "\n",
    "We don't have, for example, a special \"list-of-string\" type in Python -- you can mix in strings into any list."
   ]
  },
  {
   "cell_type": "code",
   "execution_count": 17,
   "metadata": {},
   "outputs": [
    {
     "name": "stdout",
     "output_type": "stream",
     "text": [
      "[1, 2, 'three', 'four', 5, [1, 2, 3]]\n"
     ]
    }
   ],
   "source": [
    "mixed_list = [1, 2, \"three\", \"four\", 5, int_list]\n",
    "print(mixed_list)"
   ]
  },
  {
   "cell_type": "markdown",
   "metadata": {},
   "source": [
    "This is a consequence of Python's duck typing model, which does not impose any checks on the type of values. A list is just a sequence of any values."
   ]
  },
  {
   "cell_type": "markdown",
   "metadata": {},
   "source": [
    "## Syntax\n",
    "Lists have a **literal syntax** (this means you can directly create a list in a single step in Python). \n",
    "\n",
    "Just put values between square brackets `[ ]` and separate with commas:"
   ]
  },
  {
   "cell_type": "code",
   "execution_count": 38,
   "metadata": {
    "collapsed": true
   },
   "outputs": [],
   "source": [
    "single_element_list = [1]\n",
    "valid_list = [5, 6, 7, 8]\n",
    "string_list = [\"first\", \"last\"]\n",
    "\n",
    "# note that we can put lists inside lists using this syntax\n",
    "nested_list = [1, [2, [3]], 4]\n",
    "\n",
    "# we might write the card hand a\n",
    "# ace-of-hearts, ace-of-clubs, king-of-clubs, king-of-spades\n",
    "# like this, as a list of four pairs\n",
    "two_pair = [[\"a\", \"hearts\"], \n",
    "             [\"a\", \"clubs\"], \n",
    "             [\"k\", \"clubs\"],\n",
    "             [\"k\", \"spades\"]]\n",
    "\n",
    "empty_list = []  # a list can have nothing at all in it"
   ]
  },
  {
   "cell_type": "markdown",
   "metadata": {},
   "source": [
    "## Length\n",
    "The length of a list -- the number of values it contains --  can be returned using `len()`. `len()` actually works for **any** sequence type, e.g. for strings."
   ]
  },
  {
   "cell_type": "code",
   "execution_count": 19,
   "metadata": {},
   "outputs": [
    {
     "name": "stdout",
     "output_type": "stream",
     "text": [
      "[] 0\n",
      "[1] 1\n",
      "[1, 2, 3] 3\n"
     ]
    }
   ],
   "source": [
    "a = []\n",
    "print(a, len(a))\n",
    "b = [1]\n",
    "print(b, len(b))\n",
    "c = [1,2,3]\n",
    "print(c, len(c))"
   ]
  },
  {
   "cell_type": "code",
   "execution_count": 20,
   "metadata": {},
   "outputs": [
    {
     "name": "stdout",
     "output_type": "stream",
     "text": [
      "[[1, 2, 3]] 1\n"
     ]
    }
   ],
   "source": [
    "## tricky: this list has one element -- which is itself a list\n",
    "d = [[1,2,3]]\n",
    "print(d, len(d))"
   ]
  },
  {
   "cell_type": "markdown",
   "metadata": {},
   "source": [
    "## Indexing\n",
    "To access a single elements of a list, we use square brackets after the list. This is called **indexing**."
   ]
  },
  {
   "cell_type": "code",
   "execution_count": 39,
   "metadata": {},
   "outputs": [
    {
     "name": "stdout",
     "output_type": "stream",
     "text": [
      "air\n",
      "water\n"
     ]
    }
   ],
   "source": [
    "elements = [\"air\", \"earth\", \"fire\", \"water\"]\n",
    "print(elements[0])  # first element of a\n",
    "print(elements[3])  # last element of a"
   ]
  },
  {
   "cell_type": "markdown",
   "metadata": {},
   "source": [
    "#### 0-based indexing\n",
    "Python indices lists beginning at 0 (not 1!), so the first element of a list is indexed by [0]  and the last element is (len(list)-1)."
   ]
  },
  {
   "cell_type": "code",
   "execution_count": 22,
   "metadata": {},
   "outputs": [
    {
     "ename": "IndexError",
     "evalue": "list index out of range",
     "output_type": "error",
     "traceback": [
      "\u001b[0;31m---------------------------------------------------------------------------\u001b[0m",
      "\u001b[0;31mIndexError\u001b[0m                                Traceback (most recent call last)",
      "\u001b[0;32m<ipython-input-22-7cb4872f0724>\u001b[0m in \u001b[0;36m<module>\u001b[0;34m()\u001b[0m\n\u001b[0;32m----> 1\u001b[0;31m \u001b[1;32mprint\u001b[0m \u001b[0melements\u001b[0m\u001b[1;33m[\u001b[0m\u001b[1;36m4\u001b[0m\u001b[1;33m]\u001b[0m \u001b[1;31m# this is an error at runtime -- there are only 4 elements!\u001b[0m\u001b[1;33m\u001b[0m\u001b[0m\n\u001b[0m",
      "\u001b[0;31mIndexError\u001b[0m: list index out of range"
     ]
    }
   ],
   "source": [
    "print(elements[4]) # this is an error at runtime -- there are only 4 elements!"
   ]
  },
  {
   "cell_type": "markdown",
   "metadata": {},
   "source": [
    "## Chained indices\n",
    "If we have a list-of-lists, we can just stick more index operators on the end. This just means index the first list (this produces another list) and then index the result of the first indexing operation.\n",
    "    \n",
    "    "
   ]
  },
  {
   "cell_type": "code",
   "execution_count": 6,
   "metadata": {},
   "outputs": [
    {
     "name": "stdout",
     "output_type": "stream",
     "text": [
      "1 2 4\n"
     ]
    }
   ],
   "source": [
    "l = [[1,2,3], \n",
    "     [4,5,6], \n",
    "     [7,8,9]]\n",
    "\n",
    "print(l[0][0], l[0][1], l[1][0])"
   ]
  },
  {
   "cell_type": "code",
   "execution_count": 8,
   "metadata": {},
   "outputs": [
    {
     "name": "stdout",
     "output_type": "stream",
     "text": [
      "2\n"
     ]
    }
   ],
   "source": [
    "# This would be the same as doing\n",
    "# l[0][1] is just the same as\n",
    "row = l[0]\n",
    "elt = row[1]\n",
    "print(elt)"
   ]
  },
  {
   "cell_type": "markdown",
   "metadata": {},
   "source": [
    "Note that it's completely fine to have any other operation after the indexing operator:"
   ]
  },
  {
   "cell_type": "code",
   "execution_count": 25,
   "metadata": {},
   "outputs": [
    {
     "name": "stdout",
     "output_type": "stream",
     "text": [
      "3\n"
     ]
    }
   ],
   "source": [
    "# count the number of occurences of 1\n",
    "print(l[0].count(1))"
   ]
  },
  {
   "cell_type": "markdown",
   "metadata": {},
   "source": [
    "## Negative-indices\n",
    "If you use a negative index, Python treats it as counting backwards from the end of the list. For example `elements[-1]` means the last element in the list; `elements[-2]` means the second-to-last, and so on.\n"
   ]
  },
  {
   "cell_type": "code",
   "execution_count": 41,
   "metadata": {},
   "outputs": [
    {
     "name": "stdout",
     "output_type": "stream",
     "text": [
      "water\n",
      "fire\n"
     ]
    }
   ],
   "source": [
    "print(elements[-1]) # you might think this would be an error... but it isn't!\n",
    "print(elements[-2])"
   ]
  },
  {
   "cell_type": "markdown",
   "metadata": {},
   "source": [
    "## Slicing\n",
    "\n",
    "As well as **indexing** which extracts a specific element, Python lets you **slice** sequence types like lists. This makes it very easy to pick out subsections of a list. Slicing \"chops out\" a subsequence from a sequence. It works for lists, strings, arrays and many other sequence types.\n",
    "\n",
    "Slicing uses the syntax:\n",
    "\n",
    "    my_list[start:end]\n",
    "\n",
    "and will return all elements starting at `start` and ending at **but not including** `end`."
   ]
  },
  {
   "cell_type": "code",
   "execution_count": 9,
   "metadata": {},
   "outputs": [
    {
     "name": "stdout",
     "output_type": "stream",
     "text": [
      "a [0, 1, 2, 3, 4, 5, 6, 7, 8, 9, 10, 11, 12, 13, 14, 15, 16, 17, 18, 19]\n"
     ]
    }
   ],
   "source": [
    "a = list(range(20))   # range creates a list of numbers 0..19\n",
    "\n",
    "print(\"a\", a)"
   ]
  },
  {
   "cell_type": "code",
   "execution_count": 43,
   "metadata": {},
   "outputs": [
    {
     "name": "stdout",
     "output_type": "stream",
     "text": [
      "0:5  [0, 1, 2, 3, 4]\n",
      ":5  [0, 1, 2, 3, 4]\n"
     ]
    }
   ],
   "source": [
    "print(\"0:5 \", a[0:5])   # creates a new list with \n",
    "                        # first five elements of a\n",
    "    \n",
    "# We can just omit the start\n",
    "# it will default to 0\n",
    "print(\":5 \", a[:5])     # creates a new list \n",
    "                        # with first five elements of a"
   ]
  },
  {
   "cell_type": "code",
   "execution_count": null,
   "metadata": {
    "collapsed": true
   },
   "outputs": [],
   "source": [
    "print(\"5:10\", a[5:10])  # 6th to 11th element"
   ]
  },
  {
   "cell_type": "code",
   "execution_count": 10,
   "metadata": {},
   "outputs": [
    {
     "name": "stdout",
     "output_type": "stream",
     "text": [
      ":10 [10, 11, 12, 13, 14, 15, 16, 17, 18, 19]\n"
     ]
    }
   ],
   "source": [
    "print(\":10\", a[10:])  # After the tenth element"
   ]
  },
  {
   "cell_type": "code",
   "execution_count": 44,
   "metadata": {},
   "outputs": [
    {
     "name": "stdout",
     "output_type": "stream",
     "text": [
      ":-5  [0, 1, 2, 3, 4, 5, 6, 7, 8, 9, 10, 11, 12, 13, 14]\n"
     ]
    }
   ],
   "source": [
    "print(\":-5 \", a[:-5])   # omitting the first index means the same as zero; \n",
    "               # negative numbers work exactly as in indexing\n",
    "               # this takes everything except the last five elements\n",
    "        "
   ]
  },
  {
   "cell_type": "code",
   "execution_count": 46,
   "metadata": {},
   "outputs": [
    {
     "name": "stdout",
     "output_type": "stream",
     "text": [
      "-5:  [15, 16, 17, 18, 19]\n"
     ]
    }
   ],
   "source": [
    "print(\"-5: \", a[-5:])    # omitting the last index means until the end\n",
    "               # this takes the last five elements only"
   ]
  },
  {
   "cell_type": "markdown",
   "metadata": {},
   "source": [
    "## Advanced slicing\n",
    "You can specify **three-element** slices in Python:\n",
    "   \n",
    "       my_list[a:b:c]\n",
    "\n",
    "which means take the elements from `a:b` (as before), **taking only every `c`th element**"
   ]
  },
  {
   "cell_type": "code",
   "execution_count": 48,
   "metadata": {},
   "outputs": [
    {
     "name": "stdout",
     "output_type": "stream",
     "text": [
      "0:10 [0, 1, 2, 3, 4, 5, 6, 7, 8, 9]\n",
      "0:10:1 [0, 1, 2, 3, 4, 5, 6, 7, 8, 9]\n",
      "0:10:2 [0, 2, 4, 6, 8]\n",
      "0:10:20 [0]\n",
      "::3 [0, 3, 6, 9, 12, 15, 18]\n"
     ]
    }
   ],
   "source": [
    "a = list(range(20))   # range creates a list of numbers 0..19\n",
    "\n",
    "print(\"0:10\", a[0:10])   # simple 2 element slice\n",
    "print(\"0:10:1\", a[0:10:1]) # exactly the same as a[0:10]\n",
    "print(\"0:10:2\", a[0:10:2]) # every second element of a[0:10]\n",
    "print(\"0:10:20\", a[0:10:20]) # every twentieth element of a[0:10]; \n",
    "print(\"::3\", a[::3]) # every third element of a\n",
    "# note that the count starts at zero, so we will always get the first element"
   ]
  },
  {
   "cell_type": "markdown",
   "metadata": {},
   "source": [
    "#### Slicing backwards\n",
    "If the step is negative, we will step **backwards** through the list. This is exactly how the `range()` function worked in defining `for` loops."
   ]
  },
  {
   "cell_type": "code",
   "execution_count": 57,
   "metadata": {},
   "outputs": [
    {
     "name": "stdout",
     "output_type": "stream",
     "text": [
      "[10, 9, 8, 7, 6, 5, 4, 3, 2, 1]\n",
      "[10, 8, 6, 4, 2]\n",
      "[19, 18, 17, 16, 15, 14, 13, 12, 11, 10, 9, 8, 7, 6, 5, 4, 3, 2, 1, 0]\n"
     ]
    }
   ],
   "source": [
    "a = list(range(20))\n",
    "\n",
    "print(a[10:0:-1]) # every element of a[0:10] in reverse order\n",
    "print(a[10:0:-2]) # every second element of a[0:10] in reverse order.\n",
    "\n",
    "## shorthand to reverse a list\n",
    "print(a[::-1])   # the whole list, in reverse order"
   ]
  },
  {
   "cell_type": "markdown",
   "metadata": {},
   "source": [
    "### Item and slice assignment\n",
    "\n",
    "We can assign directly to list elements. This has an indexed list on the LHS and any value on the RHS\n",
    "\n",
    "    list[index] = value\n",
    "    \n",
    "    "
   ]
  },
  {
   "cell_type": "code",
   "execution_count": 2,
   "metadata": {},
   "outputs": [
    {
     "name": "stdout",
     "output_type": "stream",
     "text": [
      "['Wonderful', 2, 3]\n"
     ]
    }
   ],
   "source": [
    "l = [1,2,3]\n",
    "l[0] = \"Wonderful\"\n",
    "print(l)"
   ]
  },
  {
   "cell_type": "markdown",
   "metadata": {},
   "source": [
    "This also works with slices, as long as the LHS and RHS have a\n",
    "matching number of elements.\n",
    "\n",
    "    mylist[a:b] = otherlist"
   ]
  },
  {
   "cell_type": "code",
   "execution_count": 3,
   "metadata": {},
   "outputs": [
    {
     "name": "stdout",
     "output_type": "stream",
     "text": [
      "['seven', 'nine', 3]\n"
     ]
    }
   ],
   "source": [
    "# you can assign to slices -- as long as they have the same size on both\n",
    "# the left and right hand sides\n",
    "l[0:2] = [\"seven\", \"nine\"]\n",
    "print(l)"
   ]
  },
  {
   "cell_type": "code",
   "execution_count": 11,
   "metadata": {},
   "outputs": [
    {
     "name": "stdout",
     "output_type": "stream",
     "text": [
      "['a', 'b', [7, 8, 9]]\n"
     ]
    }
   ],
   "source": [
    "# any sequence will do\n",
    "# does not have to be a list on both sides\n",
    "l[0:2] = \"ab\"\n",
    "print(l)"
   ]
  },
  {
   "cell_type": "code",
   "execution_count": 4,
   "metadata": {},
   "outputs": [
    {
     "name": "stdout",
     "output_type": "stream",
     "text": [
      "[1, 2, 'D', 'E', 5]\n"
     ]
    }
   ],
   "source": [
    "l1 = [1,2,3,4,5]\n",
    "l2 = [\"A\", \"B\", \"C\", \"D\", \"E\"]\n",
    "l1[2:4] = l2[3:5]\n",
    "print(l1)"
   ]
  },
  {
   "cell_type": "code",
   "execution_count": 12,
   "metadata": {},
   "outputs": [
    {
     "name": "stdout",
     "output_type": "stream",
     "text": [
      "[0, 1, 0, 3, 0, 5, 0, 7, 0, 9, 0, 11, 0, 13, 0, 15, 0, 17, 0, 19]\n"
     ]
    }
   ],
   "source": [
    "# I did not actually know this would work, but it does\n",
    "x = list(range(20))\n",
    "# assign 0 to every even element\n",
    "x[::2] = [0] * 10\n",
    "print(x)"
   ]
  },
  {
   "cell_type": "markdown",
   "metadata": {},
   "source": [
    "## Iterating\n",
    "One of the most common uses of a sequence data type is to do something to every element in order. For example, to sum all the numbers in a list, or to add an apostrophe to every string in a list.\n",
    "\n",
    "In Python, we use the `for` loop to iterate over lists\n",
    "\n",
    "    for element in my_list:\n",
    "        some_fn(element)\n",
    "        "
   ]
  },
  {
   "cell_type": "code",
   "execution_count": 2,
   "metadata": {},
   "outputs": [
    {
     "name": "stdout",
     "output_type": "stream",
     "text": [
      "earth\n",
      "fire\n",
      "water\n",
      "wood\n",
      "metal\n"
     ]
    }
   ],
   "source": [
    "# simple use of for loop\n",
    "chinese_elements = ['earth', 'fire', 'water', 'wood', 'metal']\n",
    "def print_all(my_list):\n",
    "    for elt in my_list:\n",
    "        print(elt)\n",
    "        \n",
    "print_all(chinese_elements)"
   ]
  },
  {
   "cell_type": "code",
   "execution_count": 76,
   "metadata": {},
   "outputs": [
    {
     "name": "stdout",
     "output_type": "stream",
     "text": [
      "13\n"
     ]
    }
   ],
   "source": [
    "# add together all of the elements in a list\n",
    "def sum_list(my_list):\n",
    "    total = 0\n",
    "    for elt in my_list:\n",
    "        total += elt\n",
    "    return total\n",
    "\n",
    "\n",
    "print(sum_list([1, 1, 10, 1]))"
   ]
  },
  {
   "cell_type": "code",
   "execution_count": null,
   "metadata": {
    "collapsed": true
   },
   "outputs": [],
   "source": [
    "# actually, Python already has sum() built in because it is so often used\n",
    "print(sum([1,1,1,1]))"
   ]
  },
  {
   "cell_type": "markdown",
   "metadata": {},
   "source": [
    "A very common problem is to do something to every element to a list and create a *new list* of the elements being transformed in some way. One way to do this is by creating an empty list and appending the transformed elements to it:\n"
   ]
  },
  {
   "cell_type": "code",
   "execution_count": 78,
   "metadata": {
    "collapsed": true
   },
   "outputs": [],
   "source": [
    "## multiply each element of a list by a constant\n",
    "def mul_list(x, a):\n",
    "    new_list = []  # a shiny, new empty list\n",
    "    for n in x:\n",
    "        new_list.append(n * a)  # add the transformed elements\n",
    "    return new_list"
   ]
  },
  {
   "cell_type": "code",
   "execution_count": 79,
   "metadata": {},
   "outputs": [
    {
     "name": "stdout",
     "output_type": "stream",
     "text": [
      "[2, 4, 6]\n"
     ]
    }
   ],
   "source": [
    "print(mul_list([1, 2, 3], 2))"
   ]
  },
  {
   "cell_type": "markdown",
   "metadata": {},
   "source": [
    "This works fine, but we'll see a much cleaner way of doing this type of operation when we cover **list comprehensions** later in the term."
   ]
  },
  {
   "cell_type": "markdown",
   "metadata": {},
   "source": [
    "### Counted loops\n",
    "It's possible to use a **counted loop** to iterate through the elements of a list, where we have an **index** and increment it to go through the elements. However, this is much more clumsy than the `for x in l:` syntax and should be avoided where possible.\n",
    "\n",
    "Always prefer to use:\n",
    "    \n",
    "    for elt in list:\n",
    "        # do something to elt\n",
    "        \n",
    "instead of the counted loop alternative\n",
    "\n",
    "    for i in range(len(list)):\n",
    "        # do something to list[i]\n",
    "        "
   ]
  },
  {
   "cell_type": "code",
   "execution_count": 48,
   "metadata": {},
   "outputs": [
    {
     "name": "stdout",
     "output_type": "stream",
     "text": [
      "0 earth\n",
      "1 fire\n",
      "2 water\n",
      "3 wood\n",
      "4 metal\n"
     ]
    }
   ],
   "source": [
    "# the use of range() with len() works\n",
    "# for any sequence type\n",
    "for i in range(len(chinese_elements)):\n",
    "    print(i, chinese_elements[i])"
   ]
  },
  {
   "cell_type": "markdown",
   "metadata": {},
   "source": [
    "### Enumerate\n",
    "Sometimes it is useful to both get the elements of a list and their index. This is particularly handy if you want to index two lists at the same time. The handy `enumerate()` function makes that easy:\n"
   ]
  },
  {
   "cell_type": "code",
   "execution_count": 3,
   "metadata": {
    "scrolled": false
   },
   "outputs": [
    {
     "name": "stdout",
     "output_type": "stream",
     "text": [
      "0 earth hydrogen\n",
      "1 fire helium\n",
      "2 water lithium\n",
      "3 wood beryllium\n",
      "4 metal boron\n"
     ]
    }
   ],
   "source": [
    "chemical_elements = [\"hydrogen\", \"helium\", \"lithium\", \n",
    "                     \"beryllium\", \"boron\"]\n",
    "for i, elt in enumerate(chinese_elements):\n",
    "    print(i, elt, chemical_elements[i])"
   ]
  },
  {
   "cell_type": "markdown",
   "metadata": {},
   "source": [
    "# List operations\n",
    "\n",
    "We can do many things with lists:\n",
    "* index and slice `l[0]` `l[0:5]`\n",
    "* join `list_a + list_b`\n",
    "* add elements  `list_a.append(\"one\")`\n",
    "* remove elements `list_a.remove(\"one\")` or `del list_a[0]`\n",
    "* sort  `sorted(list_a)`\n",
    "* test for membership `elt in list_a`\n",
    "* find the index of elements `list_a.find(\"one\")`\n",
    "* copy them `list_a.copy()`\n",
    "\n",
    "## Joining\n",
    "The `+` operator is **overloaded** for use with lists (or in fact any sequence). This means that using `+` on lists will join them together. Note that `+` does **not** add each elements of a lists to another; it joins two lists into a new one.\n",
    "\n",
    "Joining of sequences is called **concatenation** in computer science; the `+` operator is sometimes called the \"concatenation operator\" when used on lists."
   ]
  },
  {
   "cell_type": "code",
   "execution_count": 29,
   "metadata": {},
   "outputs": [
    {
     "name": "stdout",
     "output_type": "stream",
     "text": [
      "['earth', 'fire', 'water', 'wood', 'metal']\n"
     ]
    }
   ],
   "source": [
    "chinese_elements = ['earth', 'fire', 'water'] + [\"wood\", \"metal\"]\n",
    "print(chinese_elements)"
   ]
  },
  {
   "cell_type": "code",
   "execution_count": 30,
   "metadata": {},
   "outputs": [
    {
     "name": "stdout",
     "output_type": "stream",
     "text": [
      "[1, 2, 3, 1, 2, 3, 1, 2, 3]\n"
     ]
    }
   ],
   "source": [
    "a = [1, 2, 3]\n",
    "\n",
    "print(a + a + a)  # we can concatenate many lists"
   ]
  },
  {
   "cell_type": "markdown",
   "metadata": {},
   "source": [
    "#### The * operator on lists\n",
    "Somewhat less usefully, the `*` operator is also overloaded; it repeats a list multiple times. The left operand must be a list and the right operand must be an integer:\n"
   ]
  },
  {
   "cell_type": "code",
   "execution_count": 31,
   "metadata": {},
   "outputs": [
    {
     "name": "stdout",
     "output_type": "stream",
     "text": [
      "[1, 2, 3, 1, 2, 3, 1, 2, 3]\n",
      "[1, 2, 3]\n",
      "[]\n"
     ]
    }
   ],
   "source": [
    "print(a*3)   # same as a + a + a\n",
    "print(a*1)   # one repetition, same as a[:]\n",
    "print(a*0)   # empty list -- note that it is quite ok to have an empty list"
   ]
  },
  {
   "cell_type": "markdown",
   "metadata": {},
   "source": [
    "## Adding and removing\n",
    "As well as creating new lists, lists can be modified **in place**. **This is a major difference from types we have seen so far**. We can add new elements to a list with `.append()`"
   ]
  },
  {
   "cell_type": "code",
   "execution_count": 63,
   "metadata": {},
   "outputs": [
    {
     "name": "stdout",
     "output_type": "stream",
     "text": [
      "[1, 2, 3]\n"
     ]
    }
   ],
   "source": [
    "l = []\n",
    "l.append(1)\n",
    "l.append(2)\n",
    "l.append(3)\n",
    "print(l)"
   ]
  },
  {
   "cell_type": "markdown",
   "metadata": {},
   "source": [
    "This doesn't make a new list. It changes the elements of the existing list. This is a very important difference."
   ]
  },
  {
   "cell_type": "markdown",
   "metadata": {},
   "source": [
    "#####  Append is not +"
   ]
  },
  {
   "cell_type": "code",
   "execution_count": 5,
   "metadata": {},
   "outputs": [
    {
     "name": "stdout",
     "output_type": "stream",
     "text": [
      "b [1, 2, 3, 1, 2, 3]\n",
      "c [[1, 2, 3], [1, 2, 3]]\n"
     ]
    }
   ],
   "source": [
    "a = [1,2,3]\n",
    "b = a+a\n",
    "print(\"b\", b)\n",
    "\n",
    "c = []\n",
    "c.append(a)\n",
    "c.append(a)\n",
    "print(\"c\", c)"
   ]
  },
  {
   "cell_type": "markdown",
   "metadata": {},
   "source": [
    "We can insert elements at any position using `list.insert(index, element)`"
   ]
  },
  {
   "cell_type": "code",
   "execution_count": 17,
   "metadata": {},
   "outputs": [
    {
     "name": "stdout",
     "output_type": "stream",
     "text": [
      "['a half', 'one', 'one and a half', 'two']\n"
     ]
    }
   ],
   "source": [
    "l = [\"one\", \"two\"]\n",
    "\n",
    "# the argument to insert\n",
    "# says to insert *just before* the\n",
    "# element that is currently\n",
    "# in that position\n",
    "l.insert(1, \"one and a half\")\n",
    "# insert at start\n",
    "l.insert(0, \"a half\")   \n",
    "print(l)\n"
   ]
  },
  {
   "cell_type": "markdown",
   "metadata": {},
   "source": [
    "### Popping: lists like stacks\n",
    "If we want to treat a list like a stack, we can \"pop\" the elements off using .pop(). Note that this **removes** the last element and returns it."
   ]
  },
  {
   "cell_type": "code",
   "execution_count": 64,
   "metadata": {},
   "outputs": [
    {
     "name": "stdout",
     "output_type": "stream",
     "text": [
      "[1, 2, 3]\n",
      "3 [1, 2]\n",
      "2 [1]\n",
      "1 []\n"
     ]
    }
   ],
   "source": [
    "print(l)\n",
    "print(l.pop(), l)\n",
    "print(l.pop(), l)\n",
    "print(l.pop(), l)"
   ]
  },
  {
   "cell_type": "markdown",
   "metadata": {},
   "source": [
    "#### Popping off the front\n",
    "If we want to use a list like a queue, we can tell `pop()` to pop elements off the start of the list instead of the end."
   ]
  },
  {
   "cell_type": "code",
   "execution_count": 65,
   "metadata": {},
   "outputs": [
    {
     "name": "stdout",
     "output_type": "stream",
     "text": [
      "1 [2, 3]\n",
      "2 [3]\n",
      "3 []\n"
     ]
    }
   ],
   "source": [
    "l = [1,2,3]\n",
    "print(l.pop(0), l)   # now we pop from the start\n",
    "print(l.pop(0), l)   # now we pop from the start\n",
    "print(l.pop(0), l)   # now we pop from the start"
   ]
  },
  {
   "cell_type": "markdown",
   "metadata": {},
   "source": [
    "### Deleting by value\n",
    "We can remove elements with a specific value using `.remove(val)`. This will:\n",
    "* search the list to find `val`\n",
    "* remove it from the list\n",
    "\n",
    "Each call to `remove` will only remove *one* occurrence of `val`. "
   ]
  },
  {
   "cell_type": "code",
   "execution_count": 26,
   "metadata": {},
   "outputs": [
    {
     "name": "stdout",
     "output_type": "stream",
     "text": [
      "['alpha', 'charlie', 'bravo']\n",
      "['alpha', 'charlie']\n"
     ]
    }
   ],
   "source": [
    "l = [\"alpha\", \"bravo\", \"charlie\", \"bravo\"]\n",
    "l.remove(\"bravo\")\n",
    "print(l)\n",
    "l.remove(\"bravo\")\n",
    "print(l)\n"
   ]
  },
  {
   "cell_type": "code",
   "execution_count": 27,
   "metadata": {},
   "outputs": [
    {
     "ename": "ValueError",
     "evalue": "list.remove(x): x not in list",
     "output_type": "error",
     "traceback": [
      "\u001b[1;31m---------------------------------------------------------------------------\u001b[0m",
      "\u001b[1;31mValueError\u001b[0m                                Traceback (most recent call last)",
      "\u001b[1;32m<ipython-input-27-5d76f6f81765>\u001b[0m in \u001b[0;36m<module>\u001b[1;34m()\u001b[0m\n\u001b[1;32m----> 1\u001b[1;33m \u001b[0ml\u001b[0m\u001b[1;33m.\u001b[0m\u001b[0mremove\u001b[0m\u001b[1;33m(\u001b[0m\u001b[1;34m\"bravo\"\u001b[0m\u001b[1;33m)\u001b[0m\u001b[1;33m\u001b[0m\u001b[0m\n\u001b[0m\u001b[0;32m      2\u001b[0m \u001b[0mprint\u001b[0m\u001b[1;33m(\u001b[0m\u001b[0ml\u001b[0m\u001b[1;33m)\u001b[0m\u001b[1;33m\u001b[0m\u001b[0m\n",
      "\u001b[1;31mValueError\u001b[0m: list.remove(x): x not in list"
     ]
    }
   ],
   "source": [
    "l.remove(\"bravo\")\n",
    "print(l)"
   ]
  },
  {
   "cell_type": "markdown",
   "metadata": {},
   "source": [
    "### Deleting at index\n",
    "We can remove elements using the `del` operator (note that `del` is an **operator**, not a function). We must specify where in the list we want to remove the element from."
   ]
  },
  {
   "cell_type": "code",
   "execution_count": 28,
   "metadata": {},
   "outputs": [
    {
     "name": "stdout",
     "output_type": "stream",
     "text": [
      "[1, 3]\n",
      "[1]\n"
     ]
    }
   ],
   "source": [
    "l = [1,2,3]\n",
    "del l[1]   # remove the second element\n",
    "print(l)\n",
    "del l[1]\n",
    "print(l)"
   ]
  },
  {
   "cell_type": "markdown",
   "metadata": {},
   "source": [
    "Removing is generally slower than using `del` because it requires a **linear search** through the list to find elements that match."
   ]
  },
  {
   "cell_type": "markdown",
   "metadata": {},
   "source": []
  },
  {
   "cell_type": "markdown",
   "metadata": {},
   "source": [
    "## WARNING: Do not modify a list while iterating over it\n",
    "If you try and modify a list while iterating over it, you can cause some very unexpected errors:"
   ]
  },
  {
   "cell_type": "code",
   "execution_count": 29,
   "metadata": {},
   "outputs": [
    {
     "name": "stdout",
     "output_type": "stream",
     "text": [
      "[2, 3, 1, 3, 2, 5, 2, 2]\n"
     ]
    }
   ],
   "source": [
    "num_list = [2,2,3,2,1,2,3,2,2,2,5,2,2,2,2]\n",
    "for i,num in enumerate(num_list):\n",
    "    if num==2:\n",
    "        # NO!\n",
    "        del num_list[i]\n",
    "print(num_list)"
   ]
  },
  {
   "cell_type": "markdown",
   "metadata": {},
   "source": [
    "### Mutability\n",
    "Note that we have actually changed the lists using `.append()` and `del`. The property of a data structure being changeable is called **mutability** (the ability to **mutate** or change). This mutability of `list`s has important consequences, which we'll discuss below."
   ]
  },
  {
   "cell_type": "markdown",
   "metadata": {},
   "source": [
    "## Membership test\n",
    "We can see if an element is present in a sequence using the `in` operator. This returns a Boolean value which will be True if the value on the right is in the sequence on the left of `in`."
   ]
  },
  {
   "cell_type": "code",
   "execution_count": 1,
   "metadata": {},
   "outputs": [
    {
     "ename": "NameError",
     "evalue": "name 'chinese_elements' is not defined",
     "output_type": "error",
     "traceback": [
      "\u001b[0;31m---------------------------------------------------------------------------\u001b[0m",
      "\u001b[0;31mNameError\u001b[0m                                 Traceback (most recent call last)",
      "\u001b[0;32m<ipython-input-1-49a20044e28c>\u001b[0m in \u001b[0;36m<module>\u001b[0;34m()\u001b[0m\n\u001b[0;32m----> 1\u001b[0;31m \u001b[0mprint\u001b[0m\u001b[0;34m(\u001b[0m\u001b[0;34m\"earth\"\u001b[0m \u001b[0;32min\u001b[0m \u001b[0mchinese_elements\u001b[0m\u001b[0;34m)\u001b[0m\u001b[0;34m\u001b[0m\u001b[0m\n\u001b[0m\u001b[1;32m      2\u001b[0m \u001b[0mprint\u001b[0m\u001b[0;34m(\u001b[0m\u001b[0;34m\"helium\"\u001b[0m \u001b[0;32min\u001b[0m \u001b[0mchinese_elements\u001b[0m\u001b[0;34m)\u001b[0m\u001b[0;34m\u001b[0m\u001b[0m\n",
      "\u001b[0;31mNameError\u001b[0m: name 'chinese_elements' is not defined"
     ]
    }
   ],
   "source": [
    "print(\"earth\" in chinese_elements)\n",
    "print(\"helium\" in chinese_elements)"
   ]
  },
  {
   "cell_type": "code",
   "execution_count": 69,
   "metadata": {},
   "outputs": [
    {
     "name": "stdout",
     "output_type": "stream",
     "text": [
      "True\n"
     ]
    }
   ],
   "source": [
    "print(1 in [1,2,3]) # ok"
   ]
  },
  {
   "cell_type": "code",
   "execution_count": 70,
   "metadata": {},
   "outputs": [
    {
     "name": "stdout",
     "output_type": "stream",
     "text": [
      "False\n"
     ]
    }
   ],
   "source": [
    "print(1 in [[1,2,3]]) # not true: the element on the right is a list of lists"
   ]
  },
  {
   "cell_type": "code",
   "execution_count": 71,
   "metadata": {},
   "outputs": [
    {
     "name": "stdout",
     "output_type": "stream",
     "text": [
      "1 is in [1, 2, 3]\n",
      "10 is not in [1, 2, 3]\n"
     ]
    }
   ],
   "source": [
    "my_list = [1,2,3]\n",
    "\n",
    "# define a function to test if an element is inside a sequence\n",
    "def print_if_in(elt, l):    \n",
    "    if elt in l:\n",
    "        print(\"%s is in %s\" % (elt,l))\n",
    "    else:\n",
    "        print(\"%s is not in %s\" % (elt, l))\n",
    "        \n",
    "print_if_in(1, my_list)\n",
    "print_if_in(10, my_list)"
   ]
  },
  {
   "cell_type": "markdown",
   "metadata": {},
   "source": [
    "## Finding elements\n",
    "We can find which index an element is at using `index()`, which takes a value and returns the *first* index where that element appears:"
   ]
  },
  {
   "cell_type": "code",
   "execution_count": 72,
   "metadata": {
    "scrolled": true
   },
   "outputs": [
    {
     "ename": "NameError",
     "evalue": "name 'chinese_elements' is not defined",
     "output_type": "error",
     "traceback": [
      "\u001b[1;31m---------------------------------------------------------------------------\u001b[0m",
      "\u001b[1;31mNameError\u001b[0m                                 Traceback (most recent call last)",
      "\u001b[1;32m<ipython-input-72-bba53171d86d>\u001b[0m in \u001b[0;36m<module>\u001b[1;34m()\u001b[0m\n\u001b[1;32m----> 1\u001b[1;33m \u001b[0mprint\u001b[0m\u001b[1;33m(\u001b[0m\u001b[1;34m\"Fire is at index\"\u001b[0m\u001b[1;33m,\u001b[0m \u001b[0mchinese_elements\u001b[0m\u001b[1;33m.\u001b[0m\u001b[0mindex\u001b[0m\u001b[1;33m(\u001b[0m\u001b[1;34m\"fire\"\u001b[0m\u001b[1;33m)\u001b[0m\u001b[1;33m)\u001b[0m\u001b[1;33m\u001b[0m\u001b[0m\n\u001b[0m",
      "\u001b[1;31mNameError\u001b[0m: name 'chinese_elements' is not defined"
     ]
    }
   ],
   "source": [
    "print(\"Fire is at index\", chinese_elements.index(\"fire\"))"
   ]
  },
  {
   "cell_type": "markdown",
   "metadata": {},
   "source": [
    "It will cause an error if you attempt to find the index of an element that is not in a list."
   ]
  },
  {
   "cell_type": "code",
   "execution_count": 54,
   "metadata": {},
   "outputs": [
    {
     "ename": "NameError",
     "evalue": "name 'chinese_elements' is not defined",
     "output_type": "error",
     "traceback": [
      "\u001b[1;31m---------------------------------------------------------------------------\u001b[0m",
      "\u001b[1;31mNameError\u001b[0m                                 Traceback (most recent call last)",
      "\u001b[1;32m<ipython-input-54-719bd351b335>\u001b[0m in \u001b[0;36m<module>\u001b[1;34m()\u001b[0m\n\u001b[0;32m      1\u001b[0m \u001b[1;31m# this will cause an exception, since helium ain't there!\u001b[0m\u001b[1;33m\u001b[0m\u001b[1;33m\u001b[0m\u001b[0m\n\u001b[1;32m----> 2\u001b[1;33m \u001b[1;32mif\u001b[0m \u001b[1;34m\"helium\"\u001b[0m \u001b[1;32min\u001b[0m \u001b[0mchinese_elements\u001b[0m\u001b[1;33m:\u001b[0m\u001b[1;33m\u001b[0m\u001b[0m\n\u001b[0m\u001b[0;32m      3\u001b[0m     \u001b[0mprint\u001b[0m\u001b[1;33m(\u001b[0m\u001b[1;34m\"Helium is at index\"\u001b[0m\u001b[1;33m,\u001b[0m \u001b[0mchinese_elements\u001b[0m\u001b[1;33m.\u001b[0m\u001b[0mindex\u001b[0m\u001b[1;33m(\u001b[0m\u001b[1;34m\"helium\"\u001b[0m\u001b[1;33m)\u001b[0m\u001b[1;33m)\u001b[0m\u001b[1;33m\u001b[0m\u001b[0m\n",
      "\u001b[1;31mNameError\u001b[0m: name 'chinese_elements' is not defined"
     ]
    }
   ],
   "source": [
    "# this will cause an exception, since helium ain't there!\n",
    "if \"helium\" in chinese_elements:\n",
    "    print(\"Helium is at index\", chinese_elements.index(\"helium\"))"
   ]
  },
  {
   "cell_type": "markdown",
   "metadata": {},
   "source": [
    "We can also count how many times an element appears in a list using `list.count(value)`"
   ]
  },
  {
   "cell_type": "code",
   "execution_count": 73,
   "metadata": {},
   "outputs": [
    {
     "name": "stdout",
     "output_type": "stream",
     "text": [
      "There are 4 apples\n",
      "There are 2 pears\n",
      "There are 1 oranges\n",
      "There are 0 kumquats\n"
     ]
    }
   ],
   "source": [
    "fruits = [\"apple\", \"apple\", \"apple\", \"pear\", \"orange\", \"pear\", \"apple\"]\n",
    "\n",
    "for name in [\"apple\", \"pear\", \"orange\", \"kumquat\"]:\n",
    "    print(\"There are %d %ss\" % (fruits.count(name), name))"
   ]
  },
  {
   "cell_type": "markdown",
   "metadata": {},
   "source": [
    "## Sorting, reversing and shuffling\n",
    "### Sorting\n",
    "Many sequences can be **ordered** according to some attribute; a list of numbers can be ordered according to their magnitude, for example. A list of strings can be ordered by the lexicographically (alphabetic) ordering.\n",
    "\n",
    "Python provides very efficient sorting functionality to sort sequences into order. Sorting sequences is one of the essential operations in computer science. It is used very extensively.\n",
    "\n",
    "There are two ways to sort: **in-place** which changes the list directly; or by **copying** which creates a new list with the sorted elements in it.\n",
    "\n",
    "`list.sort()` sorts the elements of a list in-place. `sorted(seq)` returns a new sequences with the elements in order and leaves the original unchanged."
   ]
  },
  {
   "cell_type": "code",
   "execution_count": 83,
   "metadata": {},
   "outputs": [
    {
     "name": "stdout",
     "output_type": "stream",
     "text": [
      "['a', 'l', 'm', 'o', 's', 't']\n"
     ]
    }
   ],
   "source": [
    "anagram = [\"s\", \"m\", \"t\", \"o\", \"a\", \"l\"]\n",
    "anagram.sort()\n",
    "print(anagram)"
   ]
  },
  {
   "cell_type": "code",
   "execution_count": 84,
   "metadata": {},
   "outputs": [
    {
     "name": "stdout",
     "output_type": "stream",
     "text": [
      "['s', 'm', 't', 'o', 'a', 'l']\n",
      "['a', 'l', 'm', 'o', 's', 't']\n"
     ]
    }
   ],
   "source": [
    "anagram = [\"s\", 'm', \"t\", \"o\", \"a\", \"l\"]\n",
    "sorted_anagram = sorted(anagram)\n",
    "print(anagram)          # this will not have changed\n",
    "print(sorted_anagram)   # this will be the sorted version"
   ]
  },
  {
   "cell_type": "markdown",
   "metadata": {},
   "source": [
    "### The order of lists\n",
    "Sorting uses whatever the result of the comparison operators (<,>,=) would be. Any type you can compare can be sorted. And lists are defined to be ordered according to their first element. So sorting a list of lists has a well-defined and useful effect"
   ]
  },
  {
   "cell_type": "code",
   "execution_count": 55,
   "metadata": {},
   "outputs": [
    {
     "name": "stdout",
     "output_type": "stream",
     "text": [
      "[[1, 'vegetable'], [3, 'prawn'], [5, 'pork'], [7, 'beef'], [11, 'tofu'], [13, 'chicken']]\n"
     ]
    }
   ],
   "source": [
    "menu_items = [[5,\"pork\"], [7,\"beef\"], \n",
    "              [13, \"chicken\"], [11, \"tofu\"], \n",
    "              [3, \"prawn\"], [1, \"vegetable\"]]\n",
    "print(sorted(menu_items))"
   ]
  },
  {
   "cell_type": "markdown",
   "metadata": {},
   "source": [
    "## Shuffling\n",
    "Another useful operation on lists is **random shuffling**. This is often important in games (e.g. shuffling a deck of cards) and in statistical models (to estimate the distribution of data). The Python module `random` provides a `shuffle()` method:"
   ]
  },
  {
   "cell_type": "code",
   "execution_count": 86,
   "metadata": {},
   "outputs": [
    {
     "name": "stdout",
     "output_type": "stream",
     "text": [
      "[5, 9, 'queen', 'king', 6, 2, 'ace', 'jack', 3, 10, 7, 8, 4]\n"
     ]
    }
   ],
   "source": [
    "l = [2, 3, 4, 5, 6, 7, 8, 9, 10, \"jack\", \"king\", \"queen\", \"ace\"]\n",
    "\n",
    "import random  # make shuffle available\n",
    "\n",
    "# NB shuffle works **in-place**, like .sort() does\n",
    "random.shuffle(l)\n",
    "print(l)"
   ]
  },
  {
   "cell_type": "code",
   "execution_count": 87,
   "metadata": {},
   "outputs": [
    {
     "name": "stdout",
     "output_type": "stream",
     "text": [
      "[6, 5, 'queen', 8, 9, 'ace', 4, 10, 7, 'jack', 3, 'king', 2]\n"
     ]
    }
   ],
   "source": [
    "random.shuffle(l)\n",
    "print(l)"
   ]
  },
  {
   "cell_type": "markdown",
   "metadata": {},
   "source": [
    "## Copying and references\n",
    "Let's return to the idea of **mutability**. In Python, simple types like numbers and strings are **immutable** (they cannot be changed after they have been created)."
   ]
  },
  {
   "cell_type": "code",
   "execution_count": 57,
   "metadata": {},
   "outputs": [
    {
     "name": "stdout",
     "output_type": "stream",
     "text": [
      "a= 32\n",
      "b= 33\n",
      "\n",
      "c= hello\n",
      "d= hello world\n"
     ]
    }
   ],
   "source": [
    "## integers\n",
    "a = 32\n",
    "b = a\n",
    "b = b + 1\n",
    "print(\"a=\",a)\n",
    "print(\"b=\", b)\n",
    "print()\n",
    "\n",
    "## strings\n",
    "c = \"hello\"\n",
    "d = c\n",
    "d += \" world\"\n",
    "print(\"c=\",c)\n",
    "print(\"d=\", d)"
   ]
  },
  {
   "cell_type": "markdown",
   "metadata": {},
   "source": [
    "But lists are **mutable**; they can be changed after they have been created.\n",
    "The list itself lives off in some bit of memory -- variables just **point at the** list.  They are **references** to the list that has been created.\n",
    "\n",
    "If multiple variables point at one single list then making a change to the list will appear for every variable that refers to it!"
   ]
  },
  {
   "cell_type": "code",
   "execution_count": 88,
   "metadata": {},
   "outputs": [
    {
     "name": "stdout",
     "output_type": "stream",
     "text": [
      "a= [1, 2, 3, '!']\n",
      "b= [1, 2, 3, '!']\n"
     ]
    }
   ],
   "source": [
    "a = [1,2,3]\n",
    "b = a\n",
    "b.append(\"!\")\n",
    "\n",
    "# note: both a and b will be [1,2,3,\"!\"]\n",
    "# because they both refer to the *same* list\n",
    "print(\"a=\",a)\n",
    "print(\"b=\",b)"
   ]
  },
  {
   "cell_type": "markdown",
   "metadata": {
    "collapsed": true
   },
   "source": [
    "## Side effects of mutability\n",
    "This can have subtle side effects:"
   ]
  },
  {
   "cell_type": "code",
   "execution_count": 89,
   "metadata": {},
   "outputs": [
    {
     "name": "stdout",
     "output_type": "stream",
     "text": [
      "[[0], [0], [0], [0], [0], [0], [0], [0], [0], [0]]\n"
     ]
    }
   ],
   "source": [
    "# x is the list of [0] repeated 10 times\n",
    "x = [[0]] * 10\n",
    "print(x)"
   ]
  },
  {
   "cell_type": "code",
   "execution_count": 90,
   "metadata": {},
   "outputs": [
    {
     "name": "stdout",
     "output_type": "stream",
     "text": [
      "[[1], [1], [1], [1], [1], [1], [1], [1], [1], [1]]\n"
     ]
    }
   ],
   "source": [
    "y = x\n",
    "# this means to take the first element of the \n",
    "# first element of y and set it to 1\n",
    "y[0][0] = 1\n",
    "\n",
    "# what happens to x?\n",
    "print(x)"
   ]
  },
  {
   "cell_type": "markdown",
   "metadata": {},
   "source": [
    "### Copying\n",
    "If you want to work a list without affecting existing variables which refer to it, you need to make a **copy** of the list. \n",
    "\n",
    "This is true for all data structures in Python (it's true for numbers and strings too, but there is no way to modify them, so no need to ever copy them).\n",
    "\n",
    "**Handy note: slicing a list returns a new list with the same elements.**\n",
    "\n",
    "Thus, the syntax [:] (a slice taking the whole list) can be used to copy a list:"
   ]
  },
  {
   "cell_type": "code",
   "execution_count": 91,
   "metadata": {},
   "outputs": [
    {
     "name": "stdout",
     "output_type": "stream",
     "text": [
      "a= [1, 2, 3]\n",
      "b= [1, 2, 3, '!']\n"
     ]
    }
   ],
   "source": [
    "a = [1,2,3]\n",
    "b = a[:]          # create a new list with the same entries as are in a\n",
    "b.append(\"!\")\n",
    "\n",
    "# Now, a and b refer to *different* lists\n",
    "print(\"a=\",a)\n",
    "print(\"b=\",b)"
   ]
  },
  {
   "cell_type": "markdown",
   "metadata": {},
   "source": [
    "You can test two lists for **equality**, which tests if they have the same elements:"
   ]
  },
  {
   "cell_type": "code",
   "execution_count": 62,
   "metadata": {},
   "outputs": [
    {
     "name": "stdout",
     "output_type": "stream",
     "text": [
      "False\n"
     ]
    }
   ],
   "source": [
    "a = [1,2,3]\n",
    "b = [1,2,3]\n",
    "print(a==b)"
   ]
  },
  {
   "cell_type": "markdown",
   "metadata": {},
   "source": [
    "But if you want to test if a list is a **copy** of another, you can use the `is` operator. This tests if two variables refer to the same value, not if their elements are equal. \n",
    "\n",
    "**Make sure you understand this difference!**"
   ]
  },
  {
   "cell_type": "code",
   "execution_count": 63,
   "metadata": {},
   "outputs": [
    {
     "name": "stdout",
     "output_type": "stream",
     "text": [
      "a==b True\n",
      "a==c True\n",
      "a is b True\n",
      "a is c False\n"
     ]
    }
   ],
   "source": [
    "a = [1,2,3]\n",
    "b = a      # A *reference* to a\n",
    "c = a[:]   # A *copy* of a\n",
    "\n",
    "print(\"a==b\", a==b)\n",
    "print(\"a==c\", a==c)\n",
    "print(\"a is b\", a is b)\n",
    "print(\"a is c\", a is c)"
   ]
  },
  {
   "cell_type": "code",
   "execution_count": 64,
   "metadata": {},
   "outputs": [
    {
     "name": "stdout",
     "output_type": "stream",
     "text": [
      "[1, 2, 3, 'sentinel']\n",
      "[1, 2, 3, 'sentinel']\n",
      "[1, 2, 3]\n"
     ]
    }
   ],
   "source": [
    "# This means that if we changed b, the value of a would change as well. \n",
    "# But has no effect on c, which is a separate list\n",
    "b.append(\"sentinel\")\n",
    "print(a)\n",
    "print(b) \n",
    "print(c)"
   ]
  },
  {
   "cell_type": "markdown",
   "metadata": {},
   "source": [
    "### Operators\n",
    "Operators like `+` (concatenate) return new lists and do **not** modify lists in place:"
   ]
  },
  {
   "cell_type": "code",
   "execution_count": 65,
   "metadata": {},
   "outputs": [
    {
     "name": "stdout",
     "output_type": "stream",
     "text": [
      "[1, 2, 3]\n",
      "[4, 5, 6]\n",
      "[1, 2, 3, 4, 5, 6, '!']\n"
     ]
    }
   ],
   "source": [
    "a = [1,2,3]\n",
    "b = [4,5,6]\n",
    "c = a + b         # c is now a new list which has the elements of a and b\n",
    "c.append(\"!\") \n",
    "print(a)\n",
    "print(b)\n",
    "print(c)"
   ]
  },
  {
   "cell_type": "markdown",
   "metadata": {},
   "source": [
    "### Mutable vs immutable operations\n",
    "In Python, there is a simple rule:\n",
    "* If a function (e.g. `a.sort()`) changes a data structure **in place** (i.e. **mutates** it), it always returns `None`\n",
    "* If it does not change the original data structure, then it **creates an entirely new data structure** (e.g. `sorted(a)`), fills it with elements from the original list and returns the new data structure.\n",
    "* Operators like +, * etc. always return new lists, and don't modify lists in place.\n",
    "\n",
    "You should follow this convention in any code that you write!\n"
   ]
  },
  {
   "cell_type": "markdown",
   "metadata": {},
   "source": [
    "-----\n",
    "## Tuples\n",
    "Sometimes it is useful to have sequences which are **immutable**; they cannot change after creation. There are several use cases for this, one important case we will see when we cover *dictionaries*.\n",
    "\n",
    "Python provides **tuples** to fill this role. The **literal syntax** is just like for lists, except that round brackets `(` and `)` are used:\n"
   ]
  },
  {
   "cell_type": "code",
   "execution_count": 67,
   "metadata": {
    "collapsed": true
   },
   "outputs": [],
   "source": [
    "a_tuple = (1,2,3) # this is a tuple (round brackets)\n",
    "a_list = [1,2,3]  # this is a list (square brackets)"
   ]
  },
  {
   "cell_type": "code",
   "execution_count": 68,
   "metadata": {},
   "outputs": [
    {
     "name": "stdout",
     "output_type": "stream",
     "text": [
      "[5, 2, 3]\n"
     ]
    }
   ],
   "source": [
    "a_list[0] = 5 # fine, lists can be mutated\n",
    "print(a_list)"
   ]
  },
  {
   "cell_type": "code",
   "execution_count": 69,
   "metadata": {},
   "outputs": [
    {
     "ename": "TypeError",
     "evalue": "'tuple' object does not support item assignment",
     "output_type": "error",
     "traceback": [
      "\u001b[0;31m---------------------------------------------------------------------------\u001b[0m",
      "\u001b[0;31mTypeError\u001b[0m                                 Traceback (most recent call last)",
      "\u001b[0;32m<ipython-input-69-a6f03dbea220>\u001b[0m in \u001b[0;36m<module>\u001b[0;34m()\u001b[0m\n\u001b[0;32m----> 1\u001b[0;31m \u001b[0ma_tuple\u001b[0m\u001b[1;33m[\u001b[0m\u001b[1;36m0\u001b[0m\u001b[1;33m]\u001b[0m \u001b[1;33m=\u001b[0m \u001b[1;36m5\u001b[0m \u001b[1;31m# this will be an error, because tuples cannot be modified\u001b[0m\u001b[1;33m\u001b[0m\u001b[0m\n\u001b[0m",
      "\u001b[0;31mTypeError\u001b[0m: 'tuple' object does not support item assignment"
     ]
    }
   ],
   "source": [
    "a_tuple[0] = 5 # this will be an error, because tuples cannot be mutated"
   ]
  },
  {
   "cell_type": "markdown",
   "metadata": {},
   "source": [
    "You can create a new tuple from a list (or any other sequence type) using `tuple()`,\n",
    "and since tuples are sequence types themselves, you can convert tuples to lists using `list()`\n"
   ]
  },
  {
   "cell_type": "code",
   "execution_count": 93,
   "metadata": {},
   "outputs": [
    {
     "name": "stdout",
     "output_type": "stream",
     "text": [
      "[1, 2, 3] (1, 2, 3) [1, 2, 3]\n"
     ]
    }
   ],
   "source": [
    "a = [1,2,3]\n",
    "b = tuple(a)  # new tuple with same values as a\n",
    "c = list(b)   # new list with same values as b\n",
    "print(a,b,c)"
   ]
  },
  {
   "cell_type": "markdown",
   "metadata": {},
   "source": [
    "Converting a list to a tuple \"freezes\" it and it, as the tuple version can no longer be modified."
   ]
  },
  {
   "cell_type": "code",
   "execution_count": 94,
   "metadata": {},
   "outputs": [
    {
     "ename": "TypeError",
     "evalue": "'tuple' object does not support item assignment",
     "output_type": "error",
     "traceback": [
      "\u001b[1;31m---------------------------------------------------------------------------\u001b[0m",
      "\u001b[1;31mTypeError\u001b[0m                                 Traceback (most recent call last)",
      "\u001b[1;32m<ipython-input-94-9f4553dce280>\u001b[0m in \u001b[0;36m<module>\u001b[1;34m()\u001b[0m\n\u001b[1;32m----> 1\u001b[1;33m \u001b[0mb\u001b[0m\u001b[1;33m[\u001b[0m\u001b[1;36m0\u001b[0m\u001b[1;33m]\u001b[0m \u001b[1;33m=\u001b[0m \u001b[1;36m1\u001b[0m \u001b[1;31m# error, b is frozen\u001b[0m\u001b[1;33m\u001b[0m\u001b[0m\n\u001b[0m",
      "\u001b[1;31mTypeError\u001b[0m: 'tuple' object does not support item assignment"
     ]
    }
   ],
   "source": [
    "b[0] = 10 # error, b is frozen"
   ]
  },
  {
   "cell_type": "code",
   "execution_count": 95,
   "metadata": {},
   "outputs": [
    {
     "name": "stdout",
     "output_type": "stream",
     "text": [
      "[10, 2, 3] (1, 2, 3)\n"
     ]
    }
   ],
   "source": [
    "a[0] = 10 # fine\n",
    "print(a, b)"
   ]
  },
  {
   "cell_type": "markdown",
   "metadata": {},
   "source": [
    "The round brackets are there just to avoid ambiguity, and you can often leave them off:"
   ]
  },
  {
   "cell_type": "code",
   "execution_count": 59,
   "metadata": {},
   "outputs": [
    {
     "name": "stdout",
     "output_type": "stream",
     "text": [
      "(1, 2, 3)\n",
      "1 2 3\n",
      "(1, 2, 3)\n"
     ]
    }
   ],
   "source": [
    "a = 1,2,3\n",
    "print(a)\n",
    "\n",
    "# this doesn't generate a tuple\n",
    "# because commas mean \"separate arguments\" inside\n",
    "# a call. \n",
    "print(1,2,3)\n",
    "\n",
    "# we need the brackets to make it unambiguous that we want to print a tuple\n",
    "print((1,2,3))"
   ]
  },
  {
   "cell_type": "markdown",
   "metadata": {},
   "source": [
    "### Converting to lists\n",
    "Any sequence can be converted to a list using `list()`"
   ]
  },
  {
   "cell_type": "code",
   "execution_count": 60,
   "metadata": {},
   "outputs": [
    {
     "data": {
      "text/plain": [
       "['s', 't', 'r', 'i', 'n', 'g']"
      ]
     },
     "execution_count": 60,
     "metadata": {},
     "output_type": "execute_result"
    }
   ],
   "source": [
    "list('string')"
   ]
  },
  {
   "cell_type": "markdown",
   "metadata": {},
   "source": [
    "There's a built in function `reversed()` which reverses a sequence. For good reasons, it returns an **generator**, a data type which we haven't seen yet. But we can easily convert it to a list with `list()`"
   ]
  },
  {
   "cell_type": "code",
   "execution_count": 61,
   "metadata": {},
   "outputs": [
    {
     "name": "stdout",
     "output_type": "stream",
     "text": [
      "<list_reverseiterator object at 0x000002707B7262B0>\n",
      "['rd', 'wa', 'for']\n"
     ]
    }
   ],
   "source": [
    "forward = [\"for\", \"wa\", \"rd\"]\n",
    "backward = reversed(forward)\n",
    "print(backward) # what is this?!\n",
    "print(list(backward))"
   ]
  },
  {
   "cell_type": "markdown",
   "metadata": {},
   "source": [
    "## Multiple return arguments and  unpacking\n",
    "We saw that Python can return **mutiple values from a function** using syntax like:\n",
    "\n",
    "    def two_names():\n",
    "        return \"First\", \"Last\"\n",
    "        \n",
    "What's actually happening is that the `return a,b,c` syntax is creating a new **tuple** and returning it. "
   ]
  },
  {
   "cell_type": "code",
   "execution_count": 19,
   "metadata": {},
   "outputs": [
    {
     "name": "stdout",
     "output_type": "stream",
     "text": [
      "('First', 'Last')\n"
     ]
    }
   ],
   "source": [
    "def two_names():\n",
    "    return \"First\", \"Last\"\n",
    "print(two_names())"
   ]
  },
  {
   "cell_type": "code",
   "execution_count": 20,
   "metadata": {},
   "outputs": [
    {
     "name": "stdout",
     "output_type": "stream",
     "text": [
      "First\n",
      "Last\n"
     ]
    }
   ],
   "source": [
    "# here we **unpack** into two variables\n",
    "first, last = two_names()\n",
    "print(first)\n",
    "print(last)"
   ]
  },
  {
   "cell_type": "code",
   "execution_count": 98,
   "metadata": {},
   "outputs": [
    {
     "name": "stdout",
     "output_type": "stream",
     "text": [
      "('First', 'Last')\n"
     ]
    }
   ],
   "source": [
    "# here we keep the return value as a single tuple\n",
    "ret_val = two_names()\n",
    "print(ret_val)"
   ]
  },
  {
   "cell_type": "markdown",
   "metadata": {},
   "source": [
    "### Unpacking\n",
    "This **unpacking** syntax, where we can write\n",
    "\n",
    "    a,b,c = (1,2,3)\n",
    "    \n",
    "or more generally:\n",
    "\n",
    "    var_1, var_2, ... = some_tuple\n",
    "        \n",
    "works for any sequence type. But there must be the same number of variables on the left hand side as there are in the sequence!"
   ]
  },
  {
   "cell_type": "code",
   "execution_count": 99,
   "metadata": {},
   "outputs": [
    {
     "name": "stdout",
     "output_type": "stream",
     "text": [
      "500\n",
      "1000\n"
     ]
    }
   ],
   "source": [
    "a, b = [500, 1000]\n",
    "print(a)\n",
    "print(b)"
   ]
  },
  {
   "cell_type": "code",
   "execution_count": 100,
   "metadata": {},
   "outputs": [
    {
     "ename": "ValueError",
     "evalue": "too many values to unpack (expected 2)",
     "output_type": "error",
     "traceback": [
      "\u001b[1;31m---------------------------------------------------------------------------\u001b[0m",
      "\u001b[1;31mValueError\u001b[0m                                Traceback (most recent call last)",
      "\u001b[1;32m<ipython-input-100-16704fda1d94>\u001b[0m in \u001b[0;36m<module>\u001b[1;34m()\u001b[0m\n\u001b[1;32m----> 1\u001b[1;33m \u001b[0ma\u001b[0m\u001b[1;33m,\u001b[0m \u001b[0mb\u001b[0m \u001b[1;33m=\u001b[0m \u001b[0mlist\u001b[0m\u001b[1;33m(\u001b[0m\u001b[0mrange\u001b[0m\u001b[1;33m(\u001b[0m\u001b[1;36m20\u001b[0m\u001b[1;33m)\u001b[0m\u001b[1;33m)\u001b[0m \u001b[1;31m# create a list of numbers 0..19\u001b[0m\u001b[1;33m\u001b[0m\u001b[0m\n\u001b[0m\u001b[0;32m      2\u001b[0m \u001b[0mprint\u001b[0m\u001b[1;33m(\u001b[0m\u001b[0ma\u001b[0m\u001b[1;33m,\u001b[0m\u001b[0mb\u001b[0m\u001b[1;33m)\u001b[0m\u001b[1;33m\u001b[0m\u001b[0m\n",
      "\u001b[1;31mValueError\u001b[0m: too many values to unpack (expected 2)"
     ]
    }
   ],
   "source": [
    "a, b = list(range(20)) # create a list of numbers 0..19\n",
    "print(a,b)"
   ]
  },
  {
   "cell_type": "markdown",
   "metadata": {},
   "source": [
    "# Finally\n",
    "Please send me feedback via YACRS. You have one tweet worth of text!\n",
    "\n",
    "-----"
   ]
  },
  {
   "cell_type": "markdown",
   "metadata": {
    "collapsed": true
   },
   "source": [
    "## Week Review\n",
    "\n",
    "* Lists are a data structure for **sequences**.\n",
    "* They can hold any type of data -- anything that can go in a variable can go in a list.\n",
    "* You can write a list in code using comma separated values within square brackets `[1,2,3]`.\n",
    "* You can get the length of a list using `len`\n",
    "* You can join lists with `+`\n",
    "* They can be changed after they have been created with functions like `.append()` and `del`\n",
    "* `del` removes elements by *index*, `.remove()` will remove an element by *value*.\n",
    "* Slices `[start:end]` allow you to chop out sections of lists (e.g. `l[5:8]`), and in the two colon form `[start:end:step]` also allow you to reverse lists and/or take every *nth* item.\n",
    "* Iterating over lists is the most common control structure in Python `for x in l:`\n",
    "* `in` will tell you if an element is in a list; \n",
    "* `.index()` will tell you where an element is in a list.\n",
    "* `.sort()` and `sorted()` can sort a list for you. The `key` parameter lets you choose how to transform list items before they are compared for sorting.\n",
    "* Lists are mutable. They can be changed after creation.\n",
    "* The fact that you can change them after they have been created is handy, but you must be careful when multiple variables refer to one list.\n",
    "* Tuples are like lists, but are immutable. They cannot be changed after creation.\n",
    "* Returning multiple values, and parallel assignment, and really using tuples."
   ]
  },
  {
   "cell_type": "markdown",
   "metadata": {},
   "source": [
    "## Syntax review [from learnxinyminutes.com]"
   ]
  },
  {
   "cell_type": "code",
   "execution_count": null,
   "metadata": {
    "collapsed": true
   },
   "outputs": [],
   "source": [
    "# Lists store sequences\n",
    "li = []\n",
    "# You can start with a prefilled list\n",
    "other_li = [4, 5, 6]\n",
    "\n",
    "# Add stuff to the end of a list with append\n",
    "li.append(1)    # li is now [1]\n",
    "li.append(2)    # li is now [1, 2]\n",
    "li.append(4)    # li is now [1, 2, 4]\n",
    "li.append(3)    # li is now [1, 2, 4, 3]\n",
    "# Remove from the end with pop\n",
    "li.pop()        # => 3 and li is now [1, 2, 4]\n",
    "# Let's put it back\n",
    "li.append(3)    # li is now [1, 2, 4, 3] again.\n",
    "\n",
    "# Access a list like you would any array\n",
    "li[0]  # => 1\n",
    "# Assign new values to indexes that have already been initialized with =\n",
    "li[0] = 42\n",
    "li[0]  # => 42\n",
    "li[0] = 1  # Note: setting it back to the original value\n",
    "# Look at the last element\n",
    "li[-1]  # => 3\n",
    "\n",
    "# Looking out of bounds is an IndexError\n",
    "li[4]  # Raises an IndexError\n",
    "\n",
    "# You can look at ranges with slice syntax.\n",
    "# (It's a closed/open range for you mathy types.)\n",
    "li[1:3]  # => [2, 4]\n",
    "# Omit the beginning\n",
    "li[2:]  # => [4, 3]\n",
    "# Omit the end\n",
    "li[:3]  # => [1, 2, 4]\n",
    "# Select every second entry\n",
    "li[::2]   # =>[1, 4]\n",
    "# Reverse a copy of the list\n",
    "li[::-1]   # => [3, 4, 2, 1]\n",
    "# Use any combination of these to make advanced slices\n",
    "# li[start:end:step]\n",
    "\n",
    "# Remove arbitrary elements from a list with \"del\"\n",
    "del li[2]   # li is now [1, 2, 3]\n",
    "\n",
    "# You can add lists\n",
    "li + other_li   # => [1, 2, 3, 4, 5, 6]\n",
    "# Note: values for li and for other_li are not modified.\n",
    "\n",
    "# Concatenate lists with \"extend()\"\n",
    "li.extend(other_li)   # Now li is [1, 2, 3, 4, 5, 6]\n",
    "\n",
    "# Remove first occurrence of a value\n",
    "li.remove(2)  # li is now [1, 3, 4, 5, 6]\n",
    "li.remove(2)  # Raises a ValueError as 2 is not in the list\n",
    "\n",
    "# Insert an element at a specific index\n",
    "li.insert(1, 2)  # li is now [1, 2, 3, 4, 5, 6] again\n",
    "\n",
    "# Get the index of the first item found\n",
    "li.index(2)  # => 1\n",
    "li.index(7)  # Raises a ValueError as 7 is not in the list\n",
    "\n",
    "# Check for existence in a list with \"in\"\n",
    "1 in li   # => True\n",
    "\n",
    "# Examine the length with \"len()\"\n",
    "len(li)   # => 6\n",
    "\n",
    "\n",
    "# Tuples are like lists but are immutable.\n",
    "tup = (1, 2, 3)\n",
    "tup[0]   # => 1\n",
    "tup[0] = 3  # Raises a TypeError\n",
    "\n",
    "# You can do all those list thingies on tuples too\n",
    "len(tup)   # => 3\n",
    "tup + (4, 5, 6)   # => (1, 2, 3, 4, 5, 6)\n",
    "tup[:2]   # => (1, 2)\n",
    "2 in tup   # => True\n",
    "\n",
    "# You can unpack tuples (or lists) into variables\n",
    "a, b, c = (1, 2, 3)     # a is now 1, b is now 2 and c is now 3\n",
    "d, e, f = 4, 5, 6       # you can leave out the parentheses\n",
    "# Tuples are created by default if you leave out the parentheses\n",
    "g = 4, 5, 6             # => (4, 5, 6)\n",
    "# Now look how easy it is to swap two values\n",
    "e, d = d, e     # d is now 5 and e is now 4"
   ]
  }
 ],
 "metadata": {
  "kernelspec": {
   "display_name": "Python 3",
   "language": "python",
   "name": "python3"
  },
  "language_info": {
   "codemirror_mode": {
    "name": "ipython",
    "version": 3
   },
   "file_extension": ".py",
   "mimetype": "text/x-python",
   "name": "python",
   "nbconvert_exporter": "python",
   "pygments_lexer": "ipython3",
   "version": "3.6.1"
  }
 },
 "nbformat": 4,
 "nbformat_minor": 1
}
