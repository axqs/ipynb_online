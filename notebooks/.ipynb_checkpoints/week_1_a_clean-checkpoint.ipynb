{
 "cells": [
  {
   "cell_type": "markdown",
   "metadata": {},
   "source": [
    "# Week 1 : Lecture A \n",
    " ## Elements: Statements, expressions, variables and types\n",
    " ##### CS1P - University of Glasgow - John H. Williamson - 2017 - Python 3.x"
   ]
  },
  {
   "cell_type": "markdown",
   "metadata": {},
   "source": [
    "## Go to learn.gla.ac.uk/yacrs\n",
    "### join Session 299\n",
    "### Wait for the questions to start!"
   ]
  },
  {
   "cell_type": "markdown",
   "metadata": {},
   "source": [
    "## Python\n",
    "Python is an interpreted language. It does not compile code directly to machine code in one go. Instead it interprets one step at a time.\n",
    "\n",
    "This gives great flexibility in terms of what Python can do, but it means that many checks that programs will behave sensibly cannot be done until code actually runs.\n",
    "\n",
    "As we will see, Python is dynamically typed. This means it does not check that variables or values have appropriate types for operations until those operations actually happen. Python will happily try to add a number to a string if you do this:"
   ]
  },
  {
   "cell_type": "code",
   "execution_count": 35,
   "metadata": {},
   "outputs": [
    {
     "name": "stdout",
     "output_type": "stream",
     "text": [
      "This will happen\n"
     ]
    },
    {
     "ename": "TypeError",
     "evalue": "unsupported operand type(s) for +: 'int' and 'str'",
     "output_type": "error",
     "traceback": [
      "\u001b[1;31m---------------------------------------------------------------------------\u001b[0m",
      "\u001b[1;31mTypeError\u001b[0m                                 Traceback (most recent call last)",
      "\u001b[1;32m<ipython-input-35-60558a294182>\u001b[0m in \u001b[0;36m<module>\u001b[1;34m()\u001b[0m\n\u001b[0;32m      1\u001b[0m \u001b[0mprint\u001b[0m\u001b[1;33m(\u001b[0m\u001b[1;34m\"This will happen\"\u001b[0m\u001b[1;33m)\u001b[0m\u001b[1;33m\u001b[0m\u001b[0m\n\u001b[1;32m----> 2\u001b[1;33m \u001b[1;36m2\u001b[0m \u001b[1;33m+\u001b[0m \u001b[1;34m\"two\"\u001b[0m\u001b[1;33m\u001b[0m\u001b[0m\n\u001b[0m\u001b[0;32m      3\u001b[0m \u001b[0mprint\u001b[0m\u001b[1;33m(\u001b[0m\u001b[1;34m\"This will not happen\"\u001b[0m\u001b[1;33m)\u001b[0m\u001b[1;33m\u001b[0m\u001b[0m\n",
      "\u001b[1;31mTypeError\u001b[0m: unsupported operand type(s) for +: 'int' and 'str'"
     ]
    }
   ],
   "source": [
    "print(\"This will happen\")\n",
    "2 + \"two\"\n",
    "print(\"This will not happen\")"
   ]
  },
  {
   "cell_type": "markdown",
   "metadata": {},
   "source": [
    "    \n",
    "and only when Python gets to that point of the program can an error be raised. Again, this offers enormous flexibility and means that code can be kept free of superfluous type definitions. However, Python will not check that you are using the right kind of values until code actually runs.\n",
    "\n",
    "### Errors\n",
    "Python errors are essentially all **runtime errors** -- they can only occur when the relevant part of code is running. The only exception are **syntax errors** which you will see if you enter code that is not valid Python code (e.g. brackets mismatched, wrong indentation, opened but not closed quotes). \n",
    "\n",
    "The actual Python execution process is a little more complicated, but the details aren't important for CS1P."
   ]
  },
  {
   "cell_type": "code",
   "execution_count": 37,
   "metadata": {},
   "outputs": [
    {
     "ename": "SyntaxError",
     "evalue": "invalid syntax (<ipython-input-37-3b8a58819946>, line 2)",
     "output_type": "error",
     "traceback": [
      "\u001b[1;36m  File \u001b[1;32m\"<ipython-input-37-3b8a58819946>\"\u001b[1;36m, line \u001b[1;32m2\u001b[0m\n\u001b[1;33m    this isn't python so it will generate a syntax error if I run it\u001b[0m\n\u001b[1;37m           ^\u001b[0m\n\u001b[1;31mSyntaxError\u001b[0m\u001b[1;31m:\u001b[0m invalid syntax\n"
     ]
    }
   ],
   "source": [
    "print(\"Hello CS1P\")\n",
    "this isn't python so it will generate a syntax error if I run it"
   ]
  },
  {
   "cell_type": "markdown",
   "metadata": {},
   "source": [
    "## Comments\n",
    "Comments are universal in programming languages. They allow the programmer to insert their own annotations inline with the code.\n",
    "\n",
    "In Python, comments begin with a hash symbol `#` and continute until the end of a line. Python ignores everything after the `#` until the line ends."
   ]
  },
  {
   "cell_type": "code",
   "execution_count": 38,
   "metadata": {},
   "outputs": [
    {
     "name": "stdout",
     "output_type": "stream",
     "text": [
      "Welcome to CS1P\n"
     ]
    }
   ],
   "source": [
    "print(\"Welcome to CS1P\")  # this bit is ignored -- I can write whatever I want"
   ]
  },
  {
   "cell_type": "markdown",
   "metadata": {},
   "source": [
    "## Uses of comments\n",
    "There are some common uses of comments:\n",
    "\n",
    "### To document code. \n",
    "Comments should explain what code does **if it isn't obvious**.\n",
    "\n",
    "Don't write comments like:\n",
    "\n",
    "    # x increases by 1\n",
    "    x = x + 1\n",
    "    \n",
    "but do write commments like:\n",
    "\n",
    "    # find the extant user who is most likely to have \n",
    "    # this item\n",
    "    return sorted([u['p_has'] for u in users if u['exists'])\n",
    "    \n",
    "### To explain potential problems\n",
    "Code sometimes has hidden assumptions. To make it easier for someone maintaing the code, document these assumptions (ideally these should be API documentation, but sometimes this doesn't make sense)\n",
    "\n",
    "    # we have assumed there is at least one user here\n",
    "    # this will break otherwise!\n",
    "    return users[0]\n",
    "        \n",
    "    \n",
    "### To **temporarily** disable code\n",
    "If you want to \"turn off\" some code while debugging or testing, you can \"comment it out\":\n",
    "\n",
    "    # print \"this message will never be printed :(\"\n",
    "    print \"but this one will\"\n",
    "    \n",
    "**Always** clean up commented out code later! Never leave commented code around once you have finished testing. It pollutes the code base and makes it hard to read code.\n",
    "\n",
    "For \"real\" programming you would use a version control system to manage changes to a codebase."
   ]
  },
  {
   "cell_type": "markdown",
   "metadata": {},
   "source": [
    "----\n",
    "\n",
    "## Go to learn.gla.ac.uk/yacrs\n",
    "### join Session 299\n",
    "### Wait for the questions to start!\n",
    "---\n",
    "\n",
    "### <font color=\"green\">[credit]</font>"
   ]
  },
  {
   "cell_type": "markdown",
   "metadata": {},
   "source": [
    "## 1"
   ]
  },
  {
   "cell_type": "markdown",
   "metadata": {},
   "source": [
    "What is the value of `this_weight` after executing this Python code:\n",
    "   \n",
    "       weight = 50\n",
    "       weight = \"imhotep\"\n",
    "       this_weight = weight\n",
    "       weight = \"invisible\"\n",
    "-------------------------------\n",
    "       a. This is an error.\n",
    "       b. 50\n",
    "       c. \"imhotep\"\n",
    "       d. \"invisible\"       \n",
    "       e. Impossible to tell, Imhotep is invisible.\n",
    "       "
   ]
  },
  {
   "cell_type": "markdown",
   "metadata": {},
   "source": [
    "## 2  "
   ]
  },
  {
   "cell_type": "markdown",
   "metadata": {},
   "source": [
    "In `high_score = high_score + 100`, what is `high_score + 100`?\n",
    "\n",
    "---------------------\n",
    "\n",
    "        a. an expression;\n",
    "        b. a statement;\n",
    "        c. a variable;\n",
    "        d. an assignment;    \n",
    "        e. invalid, you cannot refer to high_score \n",
    "            twice in a line."
   ]
  },
  {
   "cell_type": "markdown",
   "metadata": {},
   "source": [
    "## 3"
   ]
  },
  {
   "cell_type": "markdown",
   "metadata": {},
   "source": [
    "Approximately how many bees does it take to lift the Golden Gate bridge?\n",
    "\n",
    "--------------------------------\n",
    "\n",
    "        a. 8 trillion\n",
    "        b. 50,000    \n",
    "        c. 15 quintillion\n",
    "        d. 500 million\n",
    "        e. one very strong bee"
   ]
  },
  {
   "cell_type": "markdown",
   "metadata": {},
   "source": [
    "## 4"
   ]
  },
  {
   "cell_type": "markdown",
   "metadata": {},
   "source": [
    "What does the expression `\"henry\" * 8` evaluate to in Python?\n",
    "\n",
    "----------------------------\n",
    "\n",
    "        a. \"henry VIII\"\n",
    "        b. Eight times the value of the variable henry\n",
    "        c. \"henryhenryhenryhenryhenryhenryhenryhenry\"\n",
    "        d. It is a syntax error\n",
    "        e. It is a type mismatch error\n",
    "        "
   ]
  },
  {
   "cell_type": "markdown",
   "metadata": {},
   "source": [
    "## 5"
   ]
  },
  {
   "cell_type": "markdown",
   "metadata": {},
   "source": [
    "## Expressions\n",
    "**Expressions** are sequences of code that produce (or **return**) a value. For example, these are all expressions:"
   ]
  },
  {
   "cell_type": "code",
   "execution_count": 39,
   "metadata": {},
   "outputs": [
    {
     "data": {
      "text/plain": [
       "364.25"
      ]
     },
     "execution_count": 39,
     "metadata": {},
     "output_type": "execute_result"
    }
   ],
   "source": [
    "5\n",
    "2 + 3\n",
    "\"a sensible string\"\n",
    "94 / 8 * 31"
   ]
  },
  {
   "cell_type": "markdown",
   "metadata": {},
   "source": [
    "The value of the last expression is automatically printed by the notebook when you run the cell."
   ]
  },
  {
   "cell_type": "markdown",
   "metadata": {},
   "source": [
    "## Statements\n",
    "Statements are sequences of code that **do** something. For example, which perform iteration or assign values to variables. The following are all statements:"
   ]
  },
  {
   "cell_type": "code",
   "execution_count": null,
   "metadata": {},
   "outputs": [],
   "source": [
    "x = 4\n",
    "x = x + 1\n",
    "if x==5: print(\"x is definitely 5\")\n",
    "while x>=0:         \n",
    "    x = x - 1"
   ]
  },
  {
   "cell_type": "markdown",
   "metadata": {},
   "source": [
    "## Assignment statements\n",
    "A statement that binds a value to a name is called an **assigment statement**. This creates or updates **a variable**. \n",
    "\n",
    "An assignment has a **left hand side** (before the =) and a **right hand side** (after the =).\n",
    "\n",
    "    speed_limit = 70\n",
    "    [lhs]       = [rhs]\n",
    "    \n",
    "Any expression can be in **rhs**. The **lhs** must refer to a variable that can be bound *[Caveat: the rule is actually more complicated than this. We'll clarify later]*. In the simplest case, this will just be a name like `speed_limit`.\n",
    "\n"
   ]
  },
  {
   "cell_type": "markdown",
   "metadata": {},
   "source": [
    "Expressions occur as **parts** of statements, such as on the right hand side of an assignment:\n",
    "\n",
    "     statement\n",
    "    |---------|\n",
    "     x = x + 5\n",
    "         |----| expression\n",
    "    \n",
    "     statement\n",
    "    |-------------------|\n",
    "    if    fn(32 * age)>0:\n",
    "          |------------| expression\n",
    "    \n",
    "          "
   ]
  },
  {
   "cell_type": "markdown",
   "metadata": {},
   "source": [
    "## Programs as sequences of statements\n",
    "A Python program is a sequence of statements. Each statement performs an action.\n",
    "Expressions can form parts of statements; for example, the right-hand side of an assignment of a variable **must** be an expression. [The same is true of a parameter to a function call, which we will see in more detail later.]\n",
    "\n",
    "An expression on its own is a valid statement in Python."
   ]
  },
  {
   "cell_type": "code",
   "execution_count": null,
   "metadata": {},
   "outputs": [],
   "source": [
    "# valid, 50 is an expression\n",
    "age = 50 \n",
    "\n",
    "# valid, age + 1 is an expression\n",
    "age = age + 1\n",
    "\n",
    "print(age)\n",
    "\n",
    "# valid, \"hungry\" is a valid expression\n",
    "mood_state = \"hungry\""
   ]
  },
  {
   "cell_type": "code",
   "execution_count": null,
   "metadata": {},
   "outputs": [],
   "source": [
    "# invalid, if: is a statement\n",
    "new_age = if age>50: 50"
   ]
  },
  {
   "cell_type": "markdown",
   "metadata": {},
   "source": [
    "## Types in expressions\n",
    "Like other programming languages you may have seen, Python has a bunch of standard **data types**. This includes:\n",
    "* strings - `\"hello\"` and `'there'`. [Strings can be surrounded by double quotes `\"` or single quotes `'` in Python -- whichever is more convenient.]\n",
    "* integers - `64`\n",
    "* floating-point numbers - `0.5`\n",
    "* booleans - `True` and `False` (**note the capitalisation in Python!**)\n",
    "\n",
    "as well various collection types like:\n",
    "\n",
    "* lists -`[1,2,3,4]`\n",
    "* tuples - `(1,2,3,4)` (like lists but cannot be modified)\n",
    "* dictionaries - `{age:50, mood_state:\"hungry\"}`"
   ]
  },
  {
   "cell_type": "markdown",
   "metadata": {},
   "source": [
    "One very key difference from languages such as C, Java and C# is that Python is **dynamically typed**, not **statically typed**. The key consqeuence of this is that:\n",
    "\n",
    "### <center> <font color=\"red\"> values have types, not variables </font> </center>\n",
    "\n",
    "You may have seen languages where the type of a variable must be **declared** before it is used, and it can then only hold values of that declared type:\n",
    "\n",
    "    // A C-like language\n",
    "    int age;\n",
    "    age = 5;\n",
    "    \n",
    "    String mood_state;\n",
    "    mood_state = \"angry\";\n",
    "        \n",
    "and statements like\n",
    "\n",
    "    mood_state = 5;\n",
    "\n",
    "would be an error.\n",
    "\n",
    "**This is not the case in Python!** Values have types, and a variable is simply a *binding* of a name to a value. \n",
    "\n",
    "### Static typing\n",
    "The **static typing** model has variables as \"slots\" of different shapes, which, once created, only that type will fit into.\n",
    "<img src=\"imgs/graph_slots.merm.png\" width=\"100%\">\n",
    "\n",
    "### Dynamic typing\n",
    "The **dynamic typing** model has values that know their own type, and live on their own as complete objects somewhere in memory. Assigning them to a variable just tells the interpreter to refer to that object with the given name.\n",
    "<img src=\"imgs/graph_value.merm.png\"  width=\"100%\">\n"
   ]
  },
  {
   "cell_type": "markdown",
   "metadata": {},
   "source": [
    "The process of binding a name to a value is called **assignment**. Assignment is notated with a single `=` sign in Python. Variables are **not** declared in advance of use. Assigning instantly binds a name to a value.\n"
   ]
  },
  {
   "cell_type": "code",
   "execution_count": 40,
   "metadata": {
    "collapsed": true
   },
   "outputs": [],
   "source": [
    "# assigns the string hungry to mood_state\n",
    "mood_state = \"hungry\"\n",
    "\n",
    "# this is fine\n",
    "mood_state = \"very angry\"\n",
    "\n",
    "# this is also fine; mood_state has no concept of \n",
    "# what value it refers to\n",
    "mood_state = 20\n",
    "\n",
    "# this is also fine; mood_state can hold any value\n",
    "mood_state = [\"like\", \"totally\", \"fine\"]"
   ]
  },
  {
   "cell_type": "code",
   "execution_count": 41,
   "metadata": {},
   "outputs": [
    {
     "name": "stdout",
     "output_type": "stream",
     "text": [
      "['like', 'totally', 'fine']\n"
     ]
    }
   ],
   "source": [
    "print(mood_state)"
   ]
  },
  {
   "cell_type": "code",
   "execution_count": 42,
   "metadata": {},
   "outputs": [
    {
     "name": "stdout",
     "output_type": "stream",
     "text": [
      "calm ['like', 'totally', 'fine']\n"
     ]
    }
   ],
   "source": [
    "# now mood_state_copy refers to the same thing as mood_state \n",
    "mood_state_copy = mood_state\n",
    "\n",
    "# reassigns mood_state; this binds mood_state to a new value\n",
    "mood_state = \"calm\"\n",
    "\n",
    "## note that mood_state_copy is unchanged; it is still\n",
    "## bound to the value that mood_state had when mood_state_copy was last assigned\n",
    "print(mood_state, mood_state_copy)"
   ]
  },
  {
   "cell_type": "markdown",
   "metadata": {},
   "source": [
    "## Reflection\n",
    "Python supports **reflection**, which just means investigating properties of values at run-time. For example, we can see what type a value has using `type()`."
   ]
  },
  {
   "cell_type": "code",
   "execution_count": 44,
   "metadata": {},
   "outputs": [
    {
     "name": "stdout",
     "output_type": "stream",
     "text": [
      "<class 'int'>\n"
     ]
    }
   ],
   "source": [
    "print(type(5))\n",
    "      "
   ]
  },
  {
   "cell_type": "code",
   "execution_count": 45,
   "metadata": {},
   "outputs": [
    {
     "name": "stdout",
     "output_type": "stream",
     "text": [
      "<class 'str'>\n",
      "<class 'list'>\n"
     ]
    }
   ],
   "source": [
    "print(type(\"hello\"))\n",
    "x = [1,2,3,4]\n",
    "print(type(x))"
   ]
  },
  {
   "cell_type": "markdown",
   "metadata": {},
   "source": [
    "We can also see **attributes** that values have using `dir()`. The output will be pretty overwhelming at this stage, but the key point is that a type like `int` **knows how to do its own operations**; a number like 5 carries around a reference to a bit of code that will do addition when it is the operand of `+`, and a string like \"5\" carries around a reference to a different bit of code that will do concatenation when it is an operand of `+`.\n"
   ]
  },
  {
   "cell_type": "code",
   "execution_count": 46,
   "metadata": {},
   "outputs": [
    {
     "name": "stdout",
     "output_type": "stream",
     "text": [
      "['__abs__', '__add__', '__and__', '__bool__', '__ceil__', '__class__', '__delattr__', '__dir__', '__divmod__', '__doc__', '__eq__', '__float__', '__floor__', '__floordiv__', '__format__', '__ge__', '__getattribute__', '__getnewargs__', '__gt__', '__hash__', '__index__', '__init__', '__init_subclass__', '__int__', '__invert__', '__le__', '__lshift__', '__lt__', '__mod__', '__mul__', '__ne__', '__neg__', '__new__', '__or__', '__pos__', '__pow__', '__radd__', '__rand__', '__rdivmod__', '__reduce__', '__reduce_ex__', '__repr__', '__rfloordiv__', '__rlshift__', '__rmod__', '__rmul__', '__ror__', '__round__', '__rpow__', '__rrshift__', '__rshift__', '__rsub__', '__rtruediv__', '__rxor__', '__setattr__', '__sizeof__', '__str__', '__sub__', '__subclasshook__', '__truediv__', '__trunc__', '__xor__', 'bit_length', 'conjugate', 'denominator', 'from_bytes', 'imag', 'numerator', 'real', 'to_bytes']\n"
     ]
    }
   ],
   "source": [
    "print(dir(5))"
   ]
  },
  {
   "cell_type": "markdown",
   "metadata": {},
   "source": [
    "## Syntactic sugar\n",
    "\n",
    "`a * b` is a nice way to express the multiplication of numbers. \"Under the hood\" Python actually translates this to `a.__mul__(b)`; i.e. it calls a function called `__mul__` on the value a with the argument b.\n"
   ]
  },
  {
   "cell_type": "code",
   "execution_count": null,
   "metadata": {},
   "outputs": [],
   "source": [
    "a = 10\n",
    "b = 100"
   ]
  },
  {
   "cell_type": "code",
   "execution_count": null,
   "metadata": {},
   "outputs": [],
   "source": [
    "print(a + b)\n",
    "print(a.__add__(b))"
   ]
  },
  {
   "cell_type": "code",
   "execution_count": null,
   "metadata": {},
   "outputs": [],
   "source": [
    "print(a * b)\n",
    "print(a.__mul__(b))"
   ]
  },
  {
   "cell_type": "markdown",
   "metadata": {},
   "source": [
    "### Typing\n",
    "How does Python know what to do when it gets an operator? For example, compare:"
   ]
  },
  {
   "cell_type": "code",
   "execution_count": 47,
   "metadata": {},
   "outputs": [
    {
     "name": "stdout",
     "output_type": "stream",
     "text": [
      "100 firstlast\n"
     ]
    }
   ],
   "source": [
    "## plus is used on numbers\n",
    "age = 50 + 50\n",
    "\n",
    "## plus is used on strings\n",
    "name = \"first\" + \"last\"\n",
    "\n",
    "print(age, name)"
   ]
  },
  {
   "cell_type": "code",
   "execution_count": 48,
   "metadata": {},
   "outputs": [
    {
     "ename": "TypeError",
     "evalue": "must be str, not int",
     "output_type": "error",
     "traceback": [
      "\u001b[1;31m---------------------------------------------------------------------------\u001b[0m",
      "\u001b[1;31mTypeError\u001b[0m                                 Traceback (most recent call last)",
      "\u001b[1;32m<ipython-input-48-174f3d016944>\u001b[0m in \u001b[0;36m<module>\u001b[1;34m()\u001b[0m\n\u001b[0;32m      1\u001b[0m \u001b[1;31m## This is not allowed though:\u001b[0m\u001b[1;33m\u001b[0m\u001b[1;33m\u001b[0m\u001b[0m\n\u001b[0;32m      2\u001b[0m \u001b[1;31m## plus used on strings and numbers\u001b[0m\u001b[1;33m\u001b[0m\u001b[1;33m\u001b[0m\u001b[0m\n\u001b[1;32m----> 3\u001b[1;33m \u001b[1;34m\"henry\"\u001b[0m \u001b[1;33m+\u001b[0m \u001b[1;36m8\u001b[0m\u001b[1;33m\u001b[0m\u001b[0m\n\u001b[0m",
      "\u001b[1;31mTypeError\u001b[0m: must be str, not int"
     ]
    }
   ],
   "source": [
    "## This is not allowed though: \n",
    "## plus used on strings and numbers\n",
    "\"henry\" + 8"
   ]
  },
  {
   "cell_type": "markdown",
   "metadata": {},
   "source": [
    "## Duck typing\n",
    "Python is dynamically typed, as we have seen. More specifically, Python's typing model is called **duck typing** because if a value walks like a duck and quacks like a duck -- it is a duck.\n",
    "<img src=\"imgs/duck.jpg\">\n",
    "*[Image credit: Looli CC-BY-NC 2.0]*\n",
    "\n",
    "This means that Python avoids explicitly checking the type of values. Internally, it doesn't, for example do things like:\n",
    "\n",
    "    def add(x,y):\n",
    "    \n",
    "        if type(x)==int and type(y)==int:\n",
    "            return int_add(x,y)\n",
    "            \n",
    "        if type(x)==float and type(y)==float:\n",
    "            return float_add(x,y)\n",
    "            \n",
    "        if type(x)==string and type(y)==string:\n",
    "            return string_add(x,y)\n",
    "        \n",
    "Python trusts that you will send values that do what you, the programmer, say they will.  If you don't do that, it simply doesn't run."
   ]
  },
  {
   "cell_type": "markdown",
   "metadata": {},
   "source": [
    "## Operators, operands, operations\n",
    "**Operators** are elements of expressions that do some operation (for example, add two numbers). They take **operands**, which are the values they operate upon. \n",
    "\n",
    "<img src=\"graph_operator.merm.png\">\n",
    "\n",
    "Python operators are **infix** if they have two operands (appear between operands) and **prefix** if they have one operand (appears before the operand).\n",
    "\n",
    "* One operand: **unary operator: prefix**.\n",
    "* Two operands: **binary operator: infix**.\n",
    "\n",
    "Note that an operator like `-` can perform different operations depending on where it appears -- in between two operands, it is subtraction; before a number it is negation.\n",
    "\n",
    "### Operator examples\n",
    "       8 + 9\n",
    "        operands: 8, 9\n",
    "        operator: + [binary]\n",
    "        operation: addition\n",
    "        \n",
    "      \"first\" + \"last\"\n",
    "          operands: \"first\", \"lasst\"\n",
    "          operator: + [binary]\n",
    "          operation: concatenation (string joining)\n",
    "          \n",
    "      8 - 9\n",
    "          operands: 8, 9\n",
    "          operator: - [binary]\n",
    "          operation: subtraction\n",
    "          \n",
    "      -9\n",
    "          operands: 9\n",
    "          operator: - [unary]\n",
    "          operation: negation\n",
    "          \n",
    "      2 ** 8\n",
    "          operands: 2,8\n",
    "          operator: ** [binary]\n",
    "          operation: exponentiation\n",
    "          \n",
    "      is_alive and is_kicking\n",
    "         operands: is_alive, is_kicking\n",
    "         operator: and [binary]\n",
    "         operation: logical/boolean and\n",
    "          \n",
    "      word & 0xff\n",
    "          operands: bit_mask, 0x100\n",
    "          operator: & [binary]\n",
    "          operation: bitwise and\n",
    "    \n"
   ]
  },
  {
   "cell_type": "markdown",
   "metadata": {},
   "source": [
    "## Standard Python operators\n",
    "\n",
    "These are all valid operators in Python:\n",
    "\n",
    "    lambda                  Lambda expression\n",
    "    or                      Boolean OR\n",
    "    and                     Boolean AND\n",
    "    not x                   Boolean NOT\n",
    "    in, not in              Membership tests\n",
    "    is, is not              Identity tests\n",
    "    <, <=, >, >=, !=, ==    Comparisons\n",
    "    |                       Bitwise OR\n",
    "    ^                       Bitwise XOR\n",
    "    &                       Bitwise AND\n",
    "    <<, >>                  Bitwise Shifts\n",
    "    +, -                    Addition and subtraction\n",
    "    *, /, %                 Multiplication, Division and Remainder\n",
    "    +x, -x                  Positive, Negative\n",
    "    ~x                      Bitwise NOT\n",
    "    **                      Exponentiation\n",
    "    x.attribute             Attribute reference\n",
    "    x[index]                Indexing\n",
    "    x[index:index]          Slicing\n",
    "    f(arguments ...)        Function call\n",
    "    (expressions, ...)      Binding or tuple display\n",
    "    [expressions, ...]      List display\n",
    "    {key:datum, ...}        Dictionary display\n",
    "    \n",
    "    \n",
    "Many of these you will not have seen before, but the key arithmetic operators are in the middle of the table.  "
   ]
  },
  {
   "cell_type": "markdown",
   "metadata": {},
   "source": [
    "### Precedence\n",
    "Python follows essentially the normal precedence rules from school algebra (PEMDAS -- parenthesis, exponentiation, multiplication, division, addition, subtraction). \n",
    "\n",
    "But there are quite a number of extra operators provided with Python. All operators have a precedence, which is the order the appear in the table above. *Operators with equal precedence (like +, -) are ordered from left to right*.\n",
    "\n",
    "An operator with higher precedence is said to **bind tighter** than one with lower precedence, because it \"binds\" onto its operands more tightly. Multiplication, for example, binds tighter than addition."
   ]
  },
  {
   "cell_type": "code",
   "execution_count": 50,
   "metadata": {},
   "outputs": [
    {
     "data": {
      "text/plain": [
       "30"
      ]
     },
     "execution_count": 50,
     "metadata": {},
     "output_type": "execute_result"
    }
   ],
   "source": [
    " 10 + 4 * 5\n",
    "# 5 is \"bound tighter\" to 4 than to 10\n",
    "    "
   ]
  },
  {
   "cell_type": "code",
   "execution_count": 51,
   "metadata": {},
   "outputs": [
    {
     "data": {
      "text/plain": [
       "2494"
      ]
     },
     "execution_count": 51,
     "metadata": {},
     "output_type": "execute_result"
    }
   ],
   "source": [
    "25 * 10**2 + 1 - 7    "
   ]
  },
  {
   "cell_type": "markdown",
   "metadata": {},
   "source": [
    "### ( x + 1 ) * 2\n",
    "Putting an expression in parenthesis (round brackets) forces Python to evaluate the expression inside the brackets before applying any further operators. This can be used to override the default precedence:"
   ]
  },
  {
   "cell_type": "code",
   "execution_count": 52,
   "metadata": {},
   "outputs": [
    {
     "name": "stdout",
     "output_type": "stream",
     "text": [
      "7\n",
      "9\n",
      "65\n"
     ]
    }
   ],
   "source": [
    "print(1 + 2 * 3)       # = 1 + 6 = 7\n",
    "print((1+2) * 3)       # = 3 * 3 = 9\n",
    "print((((1+2)*3)+4)*5) # = 65; we can nest parentheses as we deep as we wish"
   ]
  },
  {
   "cell_type": "markdown",
   "metadata": {},
   "source": [
    "### Using parentheses\n",
    "If you're in any doubt about the order in which operators will act, then use parentheses to be unambiguous. Everything within parenthesis is evaluated **before any other operation** which applies to it.\n",
    "\n",
    "    x + 2 * y         # compute 2*y, adds x\n",
    "    (x + 2) * y       # computes x+2, multiplies by y\n",
    "    ((((x*4)+5)*6)+8) # computes x*4, adds 5\n",
    "                      # multiplies by 6, adds 8\n"
   ]
  },
  {
   "cell_type": "code",
   "execution_count": 53,
   "metadata": {},
   "outputs": [
    {
     "name": "stdout",
     "output_type": "stream",
     "text": [
      "301\n"
     ]
    }
   ],
   "source": [
    "# I don't remember the order these will be applied in\n",
    "# [don't worry, you don't need to know what these operators do at this point!]\n",
    "print(21 & 15 << 4 ^ 317)"
   ]
  },
  {
   "cell_type": "code",
   "execution_count": 54,
   "metadata": {},
   "outputs": [
    {
     "name": "stdout",
     "output_type": "stream",
     "text": [
      "365\n"
     ]
    }
   ],
   "source": [
    "# this is much clearer (and wasn't the default order!)\n",
    "print(((21 & 15) << 4)  ^ 317)"
   ]
  },
  {
   "cell_type": "markdown",
   "metadata": {},
   "source": [
    "### Overloaded operators\n",
    "It's important to distinguish the symbols used for operators (like `+, -, *`) from the **operations** they apply. In Python,\n",
    "one operator symbol can have many meanings, depending on what value (operand) it is applied to. For example:\n",
    "\n",
    "    2 + 3\n",
    "    >>> 6\n",
    "    \n",
    "    \"first\" + \"last\"\n",
    "    >>> firstlast\n",
    "    \n",
    "In the first case, the `+` symbol meant *integer addition*. In the second case, `+` meant *string concatenation* (joining). Python looks at the types of the operands and decides what operation to apply when it sees an operator symbol. If there is no set of matching types, an error occurs.\n",
    "\n",
    "You can see this if you try to make a malformed expression:"
   ]
  },
  {
   "cell_type": "code",
   "execution_count": null,
   "metadata": {},
   "outputs": [],
   "source": [
    "# this won't work -- you can't add strings and integers\n",
    "5 + \"string\""
   ]
  },
  {
   "cell_type": "markdown",
   "metadata": {},
   "source": [
    "### The operation done depends on the operator **and** the type of the  operands."
   ]
  },
  {
   "cell_type": "markdown",
   "metadata": {},
   "source": [
    "# Some common operators\n",
    "### Equality\n",
    "\n",
    "We can test values for equality using `==` (note the double equals!). \n",
    "**In Python, `==` means \"test if equal\" and `=` means assign.**"
   ]
  },
  {
   "cell_type": "code",
   "execution_count": 55,
   "metadata": {},
   "outputs": [
    {
     "name": "stdout",
     "output_type": "stream",
     "text": [
      "True\n",
      "False\n"
     ]
    }
   ],
   "source": [
    "print(\"same\" == \"same\")\n",
    "print(\"same\" == \"different\")"
   ]
  },
  {
   "cell_type": "markdown",
   "metadata": {},
   "source": [
    "#### Equality and assignment\n",
    "\n",
    "Don't confuse these:\n",
    "\n",
    "* `=` means assign to variable. Read as \"becomes\". \n",
    "\n",
    "`x=5` : \"x becomes 5\"\n",
    "* `==` means compare value for equality. Read as \"equals\".\n",
    "\n",
    "`x==5` : \"x equals 5?\"\n",
    "\n",
    "They look similar but are absolutely not interchangeable!\n"
   ]
  },
  {
   "cell_type": "markdown",
   "metadata": {},
   "source": [
    "### Not equal to\n",
    "!= is the opposite of =="
   ]
  },
  {
   "cell_type": "code",
   "execution_count": 56,
   "metadata": {},
   "outputs": [
    {
     "name": "stdout",
     "output_type": "stream",
     "text": [
      "False\n",
      "True\n",
      "False\n"
     ]
    }
   ],
   "source": [
    "print(\"same\" != \"same\")\n",
    "print(\"same\" != \"different\")\n",
    "print(not(\"same\" == \"same\"))"
   ]
  },
  {
   "cell_type": "markdown",
   "metadata": {},
   "source": [
    "### Ordering comparisons\n",
    "The standard operators `>` (greater than) `>=` (greater than or equal to) `<` (less than) `<=` (less than or equal to) allow you to compare the ordering of values."
   ]
  },
  {
   "cell_type": "code",
   "execution_count": 57,
   "metadata": {},
   "outputs": [
    {
     "name": "stdout",
     "output_type": "stream",
     "text": [
      "False\n",
      "False\n",
      "True\n"
     ]
    }
   ],
   "source": [
    "print(5>6)\n",
    "print(6<5)\n",
    "print(6>=6)"
   ]
  },
  {
   "cell_type": "markdown",
   "metadata": {},
   "source": [
    "They also work for strings, in which case Python will compare the strings in **lexicographic** (dictionary order)."
   ]
  },
  {
   "cell_type": "code",
   "execution_count": 58,
   "metadata": {},
   "outputs": [
    {
     "name": "stdout",
     "output_type": "stream",
     "text": [
      "True\n",
      "True\n",
      "False\n"
     ]
    }
   ],
   "source": [
    "print(\"Aardvark\" < \"Zebra\")\n",
    "print(\"aaa\" < \"aab\")\n",
    "print(\"aaa\" < \"aaa\") # aaa is *equal* to aaa, so cannot be < than"
   ]
  },
  {
   "cell_type": "markdown",
   "metadata": {},
   "source": [
    "## Comparisions only work between comparable types\n",
    "Be very careful to compare values of the same type. Python will usually not let you do things like compare a number to a string, but there are exceptions."
   ]
  },
  {
   "cell_type": "code",
   "execution_count": 59,
   "metadata": {},
   "outputs": [
    {
     "ename": "TypeError",
     "evalue": "'>' not supported between instances of 'str' and 'int'",
     "output_type": "error",
     "traceback": [
      "\u001b[1;31m---------------------------------------------------------------------------\u001b[0m",
      "\u001b[1;31mTypeError\u001b[0m                                 Traceback (most recent call last)",
      "\u001b[1;32m<ipython-input-59-d4c3b40309a8>\u001b[0m in \u001b[0;36m<module>\u001b[1;34m()\u001b[0m\n\u001b[1;32m----> 1\u001b[1;33m \u001b[0mprint\u001b[0m\u001b[1;33m(\u001b[0m\u001b[1;34m\"yes\"\u001b[0m \u001b[1;33m>\u001b[0m \u001b[1;36m6\u001b[0m\u001b[1;33m)\u001b[0m\u001b[1;33m\u001b[0m\u001b[0m\n\u001b[0m",
      "\u001b[1;31mTypeError\u001b[0m: '>' not supported between instances of 'str' and 'int'"
     ]
    }
   ],
   "source": [
    "print(\"yes\" > 6)"
   ]
  },
  {
   "cell_type": "code",
   "execution_count": 60,
   "metadata": {},
   "outputs": [
    {
     "ename": "TypeError",
     "evalue": "'>' not supported between instances of 'str' and 'bool'",
     "output_type": "error",
     "traceback": [
      "\u001b[1;31m---------------------------------------------------------------------------\u001b[0m",
      "\u001b[1;31mTypeError\u001b[0m                                 Traceback (most recent call last)",
      "\u001b[1;32m<ipython-input-60-fb80b0213c4e>\u001b[0m in \u001b[0;36m<module>\u001b[1;34m()\u001b[0m\n\u001b[0;32m      1\u001b[0m \u001b[1;31m# what does this even mean?!\u001b[0m\u001b[1;33m\u001b[0m\u001b[1;33m\u001b[0m\u001b[0m\n\u001b[1;32m----> 2\u001b[1;33m \u001b[0mprint\u001b[0m\u001b[1;33m(\u001b[0m\u001b[1;34m\"no\"\u001b[0m \u001b[1;33m>\u001b[0m \u001b[1;32mFalse\u001b[0m\u001b[1;33m)\u001b[0m\u001b[1;33m\u001b[0m\u001b[0m\n\u001b[0m",
      "\u001b[1;31mTypeError\u001b[0m: '>' not supported between instances of 'str' and 'bool'"
     ]
    }
   ],
   "source": [
    "# what does this even mean?!\n",
    "print(\"no\" > False)"
   ]
  },
  {
   "cell_type": "code",
   "execution_count": 61,
   "metadata": {},
   "outputs": [
    {
     "name": "stdout",
     "output_type": "stream",
     "text": [
      "False\n"
     ]
    }
   ],
   "source": [
    "print(5>5.5) # comparing integers and floating point is fine\n",
    "#  the type is different, but they are comparable"
   ]
  },
  {
   "cell_type": "markdown",
   "metadata": {},
   "source": [
    "### Arithmetic operators\n",
    "We have the standard arithmetic operators `+, -, *, /`.\n",
    "\n",
    "There are a couple of other useful ones as well: \n",
    "* `**`, which is exponentation. `2**8` is `256`\n",
    "* '%', which is modulus (remainder). 15 % 4 is 3.\n",
    "* '//', which is **integer division**. 5/2 is 2.5, but 5//2 is 2\n",
    "\n",
    "For strings, only `+` and `*` work (and `%` which we will see later). `+` joins two strings and `*` repeats a string (not often useful!)\n"
   ]
  },
  {
   "cell_type": "code",
   "execution_count": 62,
   "metadata": {},
   "outputs": [
    {
     "data": {
      "text/plain": [
       "0"
      ]
     },
     "execution_count": 62,
     "metadata": {},
     "output_type": "execute_result"
    }
   ],
   "source": [
    "4 // 5"
   ]
  },
  {
   "cell_type": "code",
   "execution_count": 63,
   "metadata": {},
   "outputs": [
    {
     "name": "stdout",
     "output_type": "stream",
     "text": [
      "0.8\n"
     ]
    }
   ],
   "source": [
    "print(4/5)"
   ]
  },
  {
   "cell_type": "code",
   "execution_count": 64,
   "metadata": {},
   "outputs": [
    {
     "name": "stdout",
     "output_type": "stream",
     "text": [
      "The song went: And the beat goes on... And the beat goes on... And the beat goes on... And the beat goes on... And the beat goes on... And the beat goes on... And the beat goes on... And the beat goes on... And the beat goes on... And the beat goes on... \n"
     ]
    }
   ],
   "source": [
    "print(\"The song went: \"+ \"And the beat goes on... \"  * 10)\n"
   ]
  },
  {
   "cell_type": "markdown",
   "metadata": {},
   "source": [
    "### Boolean operators\n",
    "Any expression that evaluates to a **boolean result** (either True or False), can be manipulated using the `and` `or` and `not` operators. \n",
    "* `not` flips the operand following from True to False or vice versa\n",
    "* `and` is True if both operands are True\n",
    "* `or` is True if either operand is True.\n"
   ]
  },
  {
   "cell_type": "code",
   "execution_count": 65,
   "metadata": {},
   "outputs": [],
   "source": [
    "wind = 50\n",
    "time = 22\n",
    "\n",
    "stormy = wind > 20\n",
    "night = time > 19\n",
    "dark = night\n",
    "light = not dark"
   ]
  },
  {
   "cell_type": "code",
   "execution_count": 67,
   "metadata": {},
   "outputs": [
    {
     "name": "stdout",
     "output_type": "stream",
     "text": [
      "True\n",
      "False\n",
      "True\n",
      "True\n"
     ]
    }
   ],
   "source": [
    "print((dark and night) or False)\n",
    "print(dark and light)\n",
    "print(dark or light)\n",
    "print(stormy and (dark or night))"
   ]
  },
  {
   "cell_type": "markdown",
   "metadata": {},
   "source": [
    "## Assignment operators\n",
    "As well as plain old `=` (meaning \"assign right hand side to left hand side\"), we have convenience operators in Python to update the value of variables.\n",
    "\n",
    "For example:\n",
    "\n",
    "    x_pos = x_pos + font_kerning\n",
    "    \n",
    "can be written as\n",
    "    \n",
    "    x_pos += font_kerning\n",
    "    \n",
    "This reduces the amount of repetition in the code, and makes it clearer that we are updating a variable, rather than giving it a totally new value.    \n",
    "        \n",
    "In this case `+=` means *evaluate the right hand side and add it to x_pos*.  The standard arithmetic operators all have assignment operators:\n",
    "\n",
    "    +=\n",
    "    -=\n",
    "    *=\n",
    "    /=\n",
    "    %=\n",
    "    **=   [I have never seen this one used!]\n",
    "    \n",
    "    \n",
    "    "
   ]
  },
  {
   "cell_type": "code",
   "execution_count": 68,
   "metadata": {},
   "outputs": [
    {
     "name": "stdout",
     "output_type": "stream",
     "text": [
      "12\n"
     ]
    }
   ],
   "source": [
    "b = 2\n",
    "b += 2  \n",
    "b *= 3\n",
    "print(b)"
   ]
  },
  {
   "cell_type": "markdown",
   "metadata": {},
   "source": [
    "## Identifiers\n",
    "**Identifiers** are names that we can give to variables, functions and packages in Python. There are specific rules that have to be followed:\n",
    "\n",
    "* Identifiers must start with a letter or _ (underscore)\n",
    "* They must consist only of letters, numbers or underscores\n",
    "* They must not be the same as any reserved keywords\n",
    "\n",
    "There are a small number of reserved keywords in Python, like `if, while, for, return` and a few others. Your variables cannot have these as names.\n",
    "\n",
    "These rules ensure that you can't call a variable `a*b` and then be confused when `a*b` does not multiply `a` and `b` together. \n",
    "\n",
    "Python is case sensitive, and the case of identifiers matters! `var` does *not* refer to the same variable as `VAR` or `vAr`."
   ]
  },
  {
   "cell_type": "code",
   "execution_count": 69,
   "metadata": {},
   "outputs": [],
   "source": [
    "## valid identifiers\n",
    "x = 1\n",
    "_name_ = 1\n",
    "this_var = 1\n",
    "x1 = 1\n",
    "NAME = 1\n",
    "_return = 1 \n",
    "gpio_32_18_1 = 1\n",
    "___ = 1   # please don't use this!"
   ]
  },
  {
   "cell_type": "code",
   "execution_count": 70,
   "metadata": {},
   "outputs": [
    {
     "ename": "SyntaxError",
     "evalue": "invalid syntax (<ipython-input-70-cea0341da158>, line 2)",
     "output_type": "error",
     "traceback": [
      "\u001b[1;36m  File \u001b[1;32m\"<ipython-input-70-cea0341da158>\"\u001b[1;36m, line \u001b[1;32m2\u001b[0m\n\u001b[1;33m    and = 5  # and is reserved\u001b[0m\n\u001b[1;37m      ^\u001b[0m\n\u001b[1;31mSyntaxError\u001b[0m\u001b[1;31m:\u001b[0m invalid syntax\n"
     ]
    }
   ],
   "source": [
    "## invalid identifiers\n",
    "and = 5  # and is reserved"
   ]
  },
  {
   "cell_type": "code",
   "execution_count": 73,
   "metadata": {},
   "outputs": [],
   "source": [
    "return3 = 3 # return is reserved too"
   ]
  },
  {
   "cell_type": "markdown",
   "metadata": {},
   "source": [
    "## Parallel assignment\n",
    "Python has a nice facilty that allows you to assign multiple values in a single line of code. Simply separate the values on both sides of the equals with commas:\n"
   ]
  },
  {
   "cell_type": "code",
   "execution_count": null,
   "metadata": {},
   "outputs": [],
   "source": [
    "a, b = 1, 2\n",
    "print(a, b)"
   ]
  },
  {
   "cell_type": "markdown",
   "metadata": {},
   "source": [
    "### Swapping variable values\n",
    "One common use of this is to swap the values of two variables; because Python will process a single assignment all at once, we can swap variables with"
   ]
  },
  {
   "cell_type": "code",
   "execution_count": null,
   "metadata": {},
   "outputs": [],
   "source": [
    "a, b = \"asphalt\", \"boots\"\n",
    "print(a,b)\n",
    "\n",
    "## Note: this swaps a and b in one go\n",
    "b, a = a, b\n",
    "print(a,b)\n",
    "\n",
    "## This is **not** the same and does **not** work!\n",
    "b = a\n",
    "a = b\n",
    "print(a,b)"
   ]
  },
  {
   "cell_type": "markdown",
   "metadata": {},
   "source": [
    "## Simple input and output\n",
    "We've already seen this in examples, but we can print any value using `print`. If we put multiple comma separated values, each value is printed out with a space separating them. "
   ]
  },
  {
   "cell_type": "code",
   "execution_count": 74,
   "metadata": {},
   "outputs": [
    {
     "name": "stdout",
     "output_type": "stream",
     "text": [
      "hello\n",
      "5\n",
      "a 2 five\n"
     ]
    }
   ],
   "source": [
    "print(\"hello\")\n",
    "print(5)\n",
    "print(\"a\", 2, \"five\")"
   ]
  },
  {
   "cell_type": "markdown",
   "metadata": {},
   "source": [
    "### Newlines\n",
    "`print` puts a newline character at the end of each statement. If you want to omit this, you can put specify that the end of the string should have no newline, using `end=''`. This lets you split a single output line over several lines of code."
   ]
  },
  {
   "cell_type": "code",
   "execution_count": 75,
   "metadata": {},
   "outputs": [
    {
     "name": "stdout",
     "output_type": "stream",
     "text": [
      "hellothere"
     ]
    }
   ],
   "source": [
    "## using end=''\n",
    "print(\"hello\",end='')\n",
    "print(\"there\",end='')"
   ]
  },
  {
   "cell_type": "markdown",
   "metadata": {
    "collapsed": true
   },
   "source": [
    "### Input\n",
    "Similarly, `input()` will read one line of text from the keyboard. It always returns a string value.\n",
    "`input()` can take a string which it displays as a prompt.\n"
   ]
  },
  {
   "cell_type": "code",
   "execution_count": 76,
   "metadata": {},
   "outputs": [
    {
     "name": "stdout",
     "output_type": "stream",
     "text": [
      "What year is this? 2014\n",
      "It's  2014  Richard\n"
     ]
    }
   ],
   "source": [
    "year = input(\"What year is this? \")\n",
    "print(\"It's \", year, \" Richard\")"
   ]
  },
  {
   "cell_type": "markdown",
   "metadata": {},
   "source": [
    "## Type conversion\n",
    "But what if we wanted to find the next year? We could add one to the value:"
   ]
  },
  {
   "cell_type": "code",
   "execution_count": 77,
   "metadata": {},
   "outputs": [
    {
     "name": "stdout",
     "output_type": "stream",
     "text": [
      "What year is this? 2017\n"
     ]
    },
    {
     "ename": "TypeError",
     "evalue": "must be str, not int",
     "output_type": "error",
     "traceback": [
      "\u001b[1;31m---------------------------------------------------------------------------\u001b[0m",
      "\u001b[1;31mTypeError\u001b[0m                                 Traceback (most recent call last)",
      "\u001b[1;32m<ipython-input-77-f4d6bae031b0>\u001b[0m in \u001b[0;36m<module>\u001b[1;34m()\u001b[0m\n\u001b[0;32m      1\u001b[0m \u001b[1;31m## This is an error!\u001b[0m\u001b[1;33m\u001b[0m\u001b[1;33m\u001b[0m\u001b[0m\n\u001b[0;32m      2\u001b[0m \u001b[0myear\u001b[0m \u001b[1;33m=\u001b[0m \u001b[0minput\u001b[0m\u001b[1;33m(\u001b[0m\u001b[1;34m\"What year is this? \"\u001b[0m\u001b[1;33m)\u001b[0m\u001b[1;33m\u001b[0m\u001b[0m\n\u001b[1;32m----> 3\u001b[1;33m \u001b[0mprint\u001b[0m\u001b[1;33m(\u001b[0m\u001b[1;34m\"It will soon be\"\u001b[0m\u001b[1;33m,\u001b[0m \u001b[0myear\u001b[0m\u001b[1;33m+\u001b[0m\u001b[1;36m1\u001b[0m\u001b[1;33m)\u001b[0m\u001b[1;33m\u001b[0m\u001b[0m\n\u001b[0m",
      "\u001b[1;31mTypeError\u001b[0m: must be str, not int"
     ]
    }
   ],
   "source": [
    "## This is an error!\n",
    "year = input(\"What year is this? \")\n",
    "print(\"It will soon be\", year+1)"
   ]
  },
  {
   "cell_type": "markdown",
   "metadata": {},
   "source": [
    "But `input()` gave us a string and we can't add integers to strings. We can, however, **convert** a string to an integer, or to a float, and vice versa.\n",
    "\n",
    "### Converting types\n",
    "In Python, basic functions that do type conversions are:\n",
    "* `int(x)` convert x to an integer\n",
    "* `float(x)` convert x to a floating-point number\n",
    "* `str(x)` convert x to a string\n",
    "\n",
    "*[there are also functions like `list()`, `tuple()` etc. that we will see later]*\n",
    "\n",
    "Note that these functions **do not** alter the original value -- they create completely new values and set them according to the value you gave them. They can take strings, but can also take integers, floats or other number values."
   ]
  },
  {
   "cell_type": "code",
   "execution_count": 78,
   "metadata": {},
   "outputs": [
    {
     "data": {
      "text/plain": [
       "2018"
      ]
     },
     "execution_count": 78,
     "metadata": {},
     "output_type": "execute_result"
    }
   ],
   "source": [
    "int(\"2017\") + 1"
   ]
  },
  {
   "cell_type": "markdown",
   "metadata": {},
   "source": [
    "### Errors\n",
    "It is an error to pass a string not interpretable as a number to the conversion functions."
   ]
  },
  {
   "cell_type": "code",
   "execution_count": 79,
   "metadata": {},
   "outputs": [
    {
     "name": "stdout",
     "output_type": "stream",
     "text": [
      "2016 <class 'int'>\n",
      "2016.0 <class 'float'>\n",
      "2016 <class 'str'>\n"
     ]
    }
   ],
   "source": [
    "print(int(\"2016\"), type(int(\"2016\")))\n",
    "print(float(\"2016\"), type(float(\"2016\")))\n",
    "print(str(2016), type(str(2016)))"
   ]
  },
  {
   "cell_type": "code",
   "execution_count": 80,
   "metadata": {},
   "outputs": [
    {
     "ename": "ValueError",
     "evalue": "invalid literal for int() with base 10: '01413306g657'",
     "output_type": "error",
     "traceback": [
      "\u001b[1;31m---------------------------------------------------------------------------\u001b[0m",
      "\u001b[1;31mValueError\u001b[0m                                Traceback (most recent call last)",
      "\u001b[1;32m<ipython-input-80-40cb5e441900>\u001b[0m in \u001b[0;36m<module>\u001b[1;34m()\u001b[0m\n\u001b[0;32m      1\u001b[0m \u001b[1;31m# does your telephone number have a g in it?\u001b[0m\u001b[1;33m\u001b[0m\u001b[1;33m\u001b[0m\u001b[0m\n\u001b[1;32m----> 2\u001b[1;33m \u001b[0mprint\u001b[0m\u001b[1;33m(\u001b[0m\u001b[0mint\u001b[0m\u001b[1;33m(\u001b[0m\u001b[1;34m\"01413306g657\"\u001b[0m\u001b[1;33m)\u001b[0m\u001b[1;33m)\u001b[0m\u001b[1;33m\u001b[0m\u001b[0m\n\u001b[0m",
      "\u001b[1;31mValueError\u001b[0m: invalid literal for int() with base 10: '01413306g657'"
     ]
    }
   ],
   "source": [
    "# does your telephone number have a g in it?\n",
    "print(int(\"01413306g657\"))"
   ]
  },
  {
   "cell_type": "code",
   "execution_count": null,
   "metadata": {},
   "outputs": [],
   "source": [
    "# int can take letters, if you are using a different base \n",
    "# (e.g. hexadecimal)\n",
    "# 0xDEADBEEF in hex is 3735928559 in decimal\n",
    "print(int(\"deadbeef\", base=16))"
   ]
  },
  {
   "cell_type": "markdown",
   "metadata": {},
   "source": [
    "## Formatted printing\n",
    "We often want to insert values into strings; for example, to calculate a result and place that into a message we print:"
   ]
  },
  {
   "cell_type": "code",
   "execution_count": null,
   "metadata": {},
   "outputs": [],
   "source": [
    "active_users = 31\n",
    "max_user_sessions = 12\n",
    "print(\"Total maximum user sessions at the moment is %d sessions.\" \n",
    "      % (active_users*max_user_sessions))"
   ]
  },
  {
   "cell_type": "markdown",
   "metadata": {},
   "source": [
    "Here, we used the % operator on a string and a sequence of values (there was only one in this case). The important thing is that the string has special character sequences in it which tell the % operator how to insert the values on the right hand side of the expression.\n",
    "\n",
    "    [string] % (value_1, value_2, value_3)\n",
    "\n",
    "Each of these special sequences begins %, and the character after tells us what to insert there:\n",
    "* `%d` means an integer\n",
    "* `%f` means a floating point number\n",
    "* `%s` means a string\n",
    "* `%%` means just put a percent here (otherwise the interpreter would assume % was indicating a value to be inserted).\n",
    "\n",
    "[there are others as well, but these are the key ones for now]\n",
    "\n",
    "**There must be exactly as many values on the right hand side as there are % sequences in the string.**\n"
   ]
  },
  {
   "cell_type": "code",
   "execution_count": null,
   "metadata": {},
   "outputs": [],
   "source": [
    "# we can omit the brackets only if we have one value to insert\n",
    "print(\"The maximum speed was %f knots\" % 20.5)\n",
    "\n",
    "print(\"%s moved behind %s at %d o'clock\" % \n",
    "      (\"Jupiter\", \"the Moon\", 8))\n",
    "\n",
    "print(\"%s: %dm -- %dm  -- %dm\" % \n",
    "      (\"echosounder_log\", 60, 15, 12))\n",
    "\n",
    "# note the use of the double % here\n",
    "print(\"Engines operating at %d%%\" % (80))"
   ]
  },
  {
   "cell_type": "code",
   "execution_count": null,
   "metadata": {},
   "outputs": [],
   "source": [
    "### Error: too few formatting strings\n",
    "print(\"My name is %s\" % (\"First\", \"Last\"))"
   ]
  },
  {
   "cell_type": "code",
   "execution_count": null,
   "metadata": {},
   "outputs": [],
   "source": [
    "### Error: too many formatting strings\n",
    "print(\"My name is %s %s %s\" % (\"First\", \"Last\"))"
   ]
  },
  {
   "cell_type": "code",
   "execution_count": null,
   "metadata": {},
   "outputs": [],
   "source": [
    "### Error: told Python we'd give it an integer, gave it a string instead\n",
    "print(\"My name is %d\" % (\"First\"))"
   ]
  },
  {
   "cell_type": "markdown",
   "metadata": {},
   "source": [
    "# <font color=\"green\"> Feedback\n",
    "What concerns you so far in CS1P (something missing, something unclear)? What questions do you have? You have 140 characters (1 Tweet length).\n",
    "\n",
    "----"
   ]
  },
  {
   "cell_type": "code",
   "execution_count": null,
   "metadata": {
    "collapsed": true
   },
   "outputs": [],
   "source": []
  },
  {
   "cell_type": "markdown",
   "metadata": {},
   "source": [
    "## Book and labs\n",
    "Attend your lab next week, in your assigned group. **Attendance will be taken**.  If you don't have an assigned group, see the Teaching Office in Lilybank Gardens ASAP.\n",
    "\n",
    "Consider looking through the course text to bolster this material:"
   ]
  },
  {
   "cell_type": "markdown",
   "metadata": {},
   "source": [
    "<img src=\"imgs/think_cs.jpg\">"
   ]
  },
  {
   "cell_type": "markdown",
   "metadata": {},
   "source": [
    "## Syntax review [from learnxinyminutes.com]"
   ]
  },
  {
   "cell_type": "code",
   "execution_count": null,
   "metadata": {},
   "outputs": [],
   "source": [
    "\n",
    "####################################################\n",
    "## 1. Primitive Datatypes and Operators\n",
    "####################################################\n",
    "\n",
    "# You have numbers\n",
    "3  # => 3\n",
    "\n",
    "# Math is what you would expect\n",
    "1 + 1   # => 2\n",
    "8 - 1   # => 7\n",
    "10 * 2  # => 20\n",
    "35 / 5  # => 7.0\n",
    "\n",
    "# Result of integer division truncated down both for positive and negative.\n",
    "5 // 3       # => 1\n",
    "5.0 // 3.0   # => 1.0 # works on floats too\n",
    "-5 // 3      # => -2\n",
    "-5.0 // 3.0  # => -2.0\n",
    "\n",
    "# The result of division is always a float\n",
    "10.0 / 3  # => 3.3333333333333335\n",
    "\n",
    "# Modulo operation\n",
    "7 % 3  # => 1\n",
    "\n",
    "# Exponentiation (x**y, x to the yth power)\n",
    "2**3  # => 8\n",
    "\n",
    "# Enforce precedence with parentheses\n",
    "(1 + 3) * 2  # => 8\n",
    "\n",
    "# Boolean values are primitives (Note: the capitalization)\n",
    "True\n",
    "False\n",
    "\n",
    "# negate with not\n",
    "not True   # => False\n",
    "not False  # => True\n",
    "\n",
    "# Boolean Operators\n",
    "# Note \"and\" and \"or\" are case-sensitive\n",
    "True and False  # => False\n",
    "False or True   # => True\n",
    "\n",
    "# Note using Bool operators with ints\n",
    "# False is 0 and True is 1\n",
    "# Don't mix up with bool(ints) and bitwise and/or (&,|)\n",
    "0 and 2     # => 0\n",
    "-5 or 0     # => -5\n",
    "0 == False  # => True\n",
    "2 == True   # => False\n",
    "1 == True   # => True\n",
    "-5 != False != True #=> True\n",
    "\n",
    "# Equality is ==\n",
    "1 == 1  # => True\n",
    "2 == 1  # => False\n",
    "\n",
    "# Inequality is !=\n",
    "1 != 1  # => False\n",
    "2 != 1  # => True\n",
    "\n",
    "# More comparisons\n",
    "1 < 10  # => True\n",
    "1 > 10  # => False\n",
    "2 <= 2  # => True\n",
    "2 >= 2  # => True\n",
    "\n",
    "# Comparisons can be chained!\n",
    "1 < 2 < 3  # => True\n",
    "2 < 3 < 2  # => False\n",
    "\n",
    "# Strings are created with \" or '\n",
    "\"This is a string.\"\n",
    "'This is also a string.'\n",
    "\n",
    "# Strings can be added too! But try not to do this.\n",
    "\"Hello \" + \"world!\"  # => \"Hello world!\"\n",
    "# String literals (but not variables) can be concatenated without using '+'\n",
    "\"Hello \" \"world!\"    # => \"Hello world!\"\n",
    "\n",
    "# A string can be treated like a list of characters\n",
    "\"This is a string\"[0]  # => 'T'\n",
    "# You can find the length of a string\n",
    "len(\"This is a string\")  # => 16\n",
    "\n",
    "\n",
    "# If your Python 3 code also needs to run on Python 2.5 and below, you can also\n",
    "# still use the old style of formatting:\n",
    "\"%s can be %s the %s way\" % (\"Strings\", \"interpolated\", \"old\")  # => \"Strings can be interpolated the old way\"\n",
    "\n",
    "\n",
    "# Python has a print function\n",
    "print(\"I'm Python. Nice to meet you!\")  # => I'm Python. Nice to meet you!\n",
    "\n",
    "# By default the print function also prints out a newline at the end.\n",
    "# Use the optional argument end to change the end string.\n",
    "print(\"Hello, World\", end=\"!\")  # => Hello, World!\n",
    "\n",
    "# Simple way to get input data from console\n",
    "input_string_var = input(\"Enter some data: \") # Returns the data as a string\n",
    "# Note: In earlier versions of Python, input() method was named as raw_input()\n",
    "\n",
    "# There are no declarations, only assignments.\n",
    "# Convention is to use lower_case_with_underscores\n",
    "some_var = 5\n",
    "some_var  # => 5\n",
    "\n",
    "# Accessing a previously unassigned variable is an exception.\n",
    "# See Control Flow to learn more about exception handling.\n",
    "some_unknown_var  # Raises a NameError\n"
   ]
  },
  {
   "cell_type": "code",
   "execution_count": null,
   "metadata": {},
   "outputs": [],
   "source": []
  }
 ],
 "metadata": {
  "kernelspec": {
   "display_name": "Python 3",
   "language": "python",
   "name": "python3"
  },
  "language_info": {
   "codemirror_mode": {
    "name": "ipython",
    "version": 3
   },
   "file_extension": ".py",
   "mimetype": "text/x-python",
   "name": "python",
   "nbconvert_exporter": "python",
   "pygments_lexer": "ipython3",
   "version": "3.7.0"
  }
 },
 "nbformat": 4,
 "nbformat_minor": 1
}
