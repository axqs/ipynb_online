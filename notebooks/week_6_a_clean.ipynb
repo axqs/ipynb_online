{
 "cells": [
  {
   "cell_type": "markdown",
   "metadata": {},
   "source": [
    "# Week 6 : Lecture A \n",
    " ## Data structures: Strings\n",
    " ##### CS1P - University of Glasgow - John H. Williamson - 2017/2018 Python 3.x"
   ]
  },
  {
   "cell_type": "markdown",
   "metadata": {},
   "source": [
    "\n",
    "## Strings\n",
    "We've already used strings extensively. But they are so useful for so many tasks, that we're going to spend some time covering interesting ways in which they can be used. And we'll see *regular expressions*, which are a **very** powerful way to manipulate strings.\n",
    "\n",
    "### Text\n",
    "Much of what we do with computer system is to do with text. It's so prevalent that it seems almost silly to point this out.\n",
    "\n",
    "Strings are the data structure to represent text. And that means that the operations we might want to perform on text are operations we need to be able to do to strings. This includes, among many others:\n",
    "\n",
    "* breaking text into chunks (e.g. split by lines)\n",
    "* joining together text (e.g. merging documents into a single one)\n",
    "* searching for text (e.g. finding all occurences of `<img`)\n",
    "* substituting text (e.g. replacing all occurences of \"Trump\" with \"Drumpf\")\n",
    "* formatting text (e.g. word wrapping a long piece of text)\n",
    "* string interpolation (e.g. inserting variable values into strings)\n",
    "* encrypting and decrypting (e.g. so that eavesdroppers cannot read it)"
   ]
  },
  {
   "cell_type": "markdown",
   "metadata": {},
   "source": [
    "### Universal data type\n",
    "The \"universal\" go-to data type is a string. *Every* useful language has some form of strings. Strings are usually supported at a very basic operating system level; there may even be special processor instructions for strings (e.g. on x86). \n",
    "\n",
    "And every kind of data structure can be written into a string. We can *serialize* data into strings, and *deserialize* it back out. The `pickle` module we saw earlier really converts any value into a string. That's the tricky bit, writing a string to a file is easy."
   ]
  },
  {
   "cell_type": "code",
   "execution_count": 2,
   "metadata": {},
   "outputs": [
    {
     "name": "stdout",
     "output_type": "stream",
     "text": [
      "['---', ['string', 'serialised'], 5, 6] <class 'list'>\n"
     ]
    }
   ],
   "source": [
    "x = [\"---\", [\"string\", \"serialised\"], 5, 6]\n",
    "print(x, type(x))"
   ]
  },
  {
   "cell_type": "code",
   "execution_count": 3,
   "metadata": {},
   "outputs": [
    {
     "name": "stdout",
     "output_type": "stream",
     "text": [
      "['---', ['string', 'serialised'], 5, 6] <class 'str'>\n"
     ]
    }
   ],
   "source": [
    "# convert x to a string\n",
    "y = str(x)\n",
    "print(y, type(y))"
   ]
  },
  {
   "cell_type": "code",
   "execution_count": 4,
   "metadata": {},
   "outputs": [
    {
     "name": "stdout",
     "output_type": "stream",
     "text": [
      "['---', ['string', 'serialised'], 5, 6] <class 'list'>\n"
     ]
    }
   ],
   "source": [
    "# convert a string back into raw Python values\n",
    "# in practice, we would never use eval(). Later we will see data\n",
    "# formats like JSON which are much more suitable for this purpose.\n",
    "x2 = eval(y)\n",
    "print(x2, type(x2))"
   ]
  },
  {
   "cell_type": "markdown",
   "metadata": {},
   "source": [
    "### I/O\n",
    "Strings can be read and written from files. They can be pushed into network packets and sent over the Internet. They can be printed to a console or displayed on a user interface. They are a common language for communication within computer systems. \n",
    "\n",
    "Computer systems don't even agree on common formats for integers (big-endian vs. little-endian) or floating-point numbers, never mind more complex data structures. But they *do* agree (for the most part) about how strings should be stored."
   ]
  },
  {
   "cell_type": "markdown",
   "metadata": {},
   "source": [
    "-----\n",
    "### What are strings?\n",
    "\n",
    "<img src=\"imgs/string.jpg\">\n",
    "*[Image credit:  Christopher Sessums via flickr.com CC-BY-SA 3.0]*\n",
    "\n",
    "\n",
    "A string is a sequence of characters. A character is just a length-1 string. A string is a compound data type; and because it has an order, it is a **sequence** data type.\n",
    "\n",
    "    \"string\" = \"s\" \"t\" \"r\" \"i\" \"n\" \"g\"\n",
    "\n",
    "Operations like iterating, indexing, slicing, length getting and concatenating that we saw with lists work as well with strings. These are not special list operations, but operations which work on a wide range of sequence types."
   ]
  },
  {
   "cell_type": "code",
   "execution_count": 1,
   "metadata": {},
   "outputs": [
    {
     "name": "stdout",
     "output_type": "stream",
     "text": [
      "h\n",
      "hypot\n",
      "th\n",
      "hypothesis: true\n",
      "hypothesishypothesis\n",
      "10\n",
      "h y p o t h e s i s \n",
      "True\n"
     ]
    }
   ],
   "source": [
    "string = \"hypothesis\"\n",
    "print(string[0]) # index\n",
    "print(string[:5]) # slice\n",
    "print(string[4:6]) # slice\n",
    "print(string + \": true\") # concatenate\n",
    "print(string*2) # repeat\n",
    "print(len(string)) # length\n",
    "for char in string:   # iterate\n",
    "    print(char, end=' ')\n",
    "print()    \n",
    "print(\"h\" in \"hypothesis\") # membership"
   ]
  },
  {
   "cell_type": "markdown",
   "metadata": {},
   "source": [
    "## Subsequence match\n",
    "Note that there is special behaviour for in with strings that does not work for lists or other sequences:"
   ]
  },
  {
   "cell_type": "code",
   "execution_count": 2,
   "metadata": {},
   "outputs": [
    {
     "name": "stdout",
     "output_type": "stream",
     "text": [
      "True\n"
     ]
    }
   ],
   "source": [
    "print(\"hyp\" in \"hypothesis\") # sub-sequence membership test (special to strings!)"
   ]
  },
  {
   "cell_type": "markdown",
   "metadata": {},
   "source": [
    "## Equality and ordering\n",
    "Two strings are equal if they have the same characters. Strings are ordered lexicographically, i.e. in dictionary order."
   ]
  },
  {
   "cell_type": "code",
   "execution_count": 3,
   "metadata": {},
   "outputs": [
    {
     "name": "stdout",
     "output_type": "stream",
     "text": [
      "abc==abc True\n",
      "abc==def False\n",
      "Aardvark<Zebra True\n",
      "Aardvark<Aarhus True\n"
     ]
    }
   ],
   "source": [
    "## equality and ordering\n",
    "abc2 = \"a\" + \"b\" + \"c\"\n",
    "print(\"abc==abc\", \"abc\" == abc2)  # True\n",
    "print(\"abc==def\", \"abc\" == \"def\") # False\n",
    "print(\"Aardvark<Zebra\", \"Aardvark\" < \"Zebra\") # True\n",
    "print(\"Aardvark<Aarhus\", \"Aardvark\" < \"Aarhus\") # True"
   ]
  },
  {
   "cell_type": "code",
   "execution_count": 4,
   "metadata": {},
   "outputs": [
    {
     "name": "stdout",
     "output_type": "stream",
     "text": [
      "10<AB True\n",
      "ab<AB False\n",
      "ab==AB False\n"
     ]
    }
   ],
   "source": [
    "# but watch out for ordering traps (we'll see why this\n",
    "# is like this in a minute)\n",
    "print(\"10<AB\", \"10\" < \"AB\") # True!\n",
    "print(\"ab<AB\", \"ab\" < \"AB\") # False!\n",
    "print(\"ab==AB\", \"ab\" == \"AB\") # False!"
   ]
  },
  {
   "cell_type": "markdown",
   "metadata": {},
   "source": [
    "### Immutability\n",
    "However, strings are **immutable**. They cannot be altered after they have been created. \n",
    "\n",
    "Unlike lists, where we have operations like `append`, `pop`, `del` and can assign to specific indices, this doesn't work for strings. Strings are closer to tuples than to lists in this regard."
   ]
  },
  {
   "cell_type": "code",
   "execution_count": 5,
   "metadata": {},
   "outputs": [
    {
     "ename": "TypeError",
     "evalue": "'str' object does not support item assignment",
     "output_type": "error",
     "traceback": [
      "\u001b[1;31m---------------------------------------------------------------------------\u001b[0m",
      "\u001b[1;31mTypeError\u001b[0m                                 Traceback (most recent call last)",
      "\u001b[1;32m<ipython-input-5-02655e27f639>\u001b[0m in \u001b[0;36m<module>\u001b[1;34m()\u001b[0m\n\u001b[0;32m      1\u001b[0m \u001b[1;31m# error, cannot modify a string\u001b[0m\u001b[1;33m\u001b[0m\u001b[1;33m\u001b[0m\u001b[0m\n\u001b[0;32m      2\u001b[0m \u001b[0mstring\u001b[0m \u001b[1;33m=\u001b[0m \u001b[1;34m\"helooetheere\"\u001b[0m\u001b[1;33m\u001b[0m\u001b[0m\n\u001b[1;32m----> 3\u001b[1;33m \u001b[0mstring\u001b[0m\u001b[1;33m[\u001b[0m\u001b[1;36m5\u001b[0m\u001b[1;33m]\u001b[0m \u001b[1;33m=\u001b[0m \u001b[1;34m'-'\u001b[0m\u001b[1;33m\u001b[0m\u001b[0m\n\u001b[0m",
      "\u001b[1;31mTypeError\u001b[0m: 'str' object does not support item assignment"
     ]
    }
   ],
   "source": [
    "# error, cannot modify a string\n",
    "string = \"helooetheere\"\n",
    "string[5] = '-'"
   ]
  },
  {
   "cell_type": "markdown",
   "metadata": {},
   "source": [
    "### Copying\n",
    "All string operations like slicing, indexing, etc. all just return **new** strings with characters *copied* in from the original string. Strings **cannot** be modified after they have been created. \n"
   ]
  },
  {
   "cell_type": "code",
   "execution_count": 6,
   "metadata": {},
   "outputs": [
    {
     "name": "stdout",
     "output_type": "stream",
     "text": [
      "True\n"
     ]
    }
   ],
   "source": [
    "a = \"hello\"\n",
    "b = \"hello\"\n",
    "# these actually refer to exactly the same string\n",
    "# note that `is` tests if two things are the same value\n",
    "# not if they are equal in value\n",
    "print(a is b)"
   ]
  },
  {
   "cell_type": "code",
   "execution_count": 7,
   "metadata": {},
   "outputs": [
    {
     "name": "stdout",
     "output_type": "stream",
     "text": [
      "False\n",
      "helloo hello\n"
     ]
    }
   ],
   "source": [
    "a += \"o\" # note: DOES NOT MODIFY a! Creates a new string and stores it in a\n",
    "# any operator or function will (must!) allocate a new string and copy in\n",
    "# characters as needed\n",
    "print(a is b)\n",
    "print(a,b)"
   ]
  },
  {
   "cell_type": "markdown",
   "metadata": {},
   "source": [
    "-------\n",
    "\n",
    "\n",
    "### Character encodings\n",
    "Internally, strings are really sequences of integers. Each character has a numerical **code**. \n",
    "\n",
    "<img src=\"imgs/string.merm.png\">\n",
    "\n",
    "The encoding of characters can be quite complex, particuarly when \"foreign\" (i.e. non-American!) characters are involved; this is a problem dealt with by **Unicode**.\n",
    "\n",
    "Unicode lets us do useful things like:\n",
    "\n",
    "* ¡uʍop ǝpᴉsdn spɹoʍ ǝʇᴉɹʍ uɐɔ ǝʍ\n",
    "* 侢 侣 侤 侥 侦 侧!\n",
    "* 😍 🤖 🎤 💩 ☣ 🕵 \n",
    "\n",
    "### ASCII\n",
    "For the moment, we will consider characters to be given integer values between 0-127 -- these are **ASCII codes**.\n",
    "\n",
    "Strings in Python are actually Unicode, with an encoding called UTF-8, which is compatible with this ASCII. Unicode is a complex and important topic, but we won't delve into the details. For now, we will only consider strings which contain ASCII characters, having codes in the range 0-127. \n",
    "\n",
    "We can convert an character to its integer value using `ord()` (**order**) and convert an integer code back to a character using `chr()`. (**character**)"
   ]
  },
  {
   "cell_type": "code",
   "execution_count": 8,
   "metadata": {},
   "outputs": [
    {
     "name": "stdout",
     "output_type": "stream",
     "text": [
      "A: 65\n",
      "B: 66\n",
      "65 : A\n",
      "66 : B\n"
     ]
    }
   ],
   "source": [
    "print(\"A:\", ord('A'))\n",
    "print(\"B:\", ord('B'))\n",
    "print(65,\":\", chr(65))\n",
    "print(66,\":\", chr(66))"
   ]
  },
  {
   "cell_type": "code",
   "execution_count": 11,
   "metadata": {},
   "outputs": [
    {
     "name": "stdout",
     "output_type": "stream",
     "text": [
      "  0 \u0000\t  1 \u0001\t  2 \u0002\t  3 \u0003\t  4 \u0004\t  5 \u0005\t  6 \u0006\t  7 \u0007\t\n",
      "  8 \b\t  9 \t\t 10 \n",
      "\t 14 \u000e\t 15 \u000f\t\n",
      " 16 \u0010\t 17 \u0011\t 18 \u0012\t 19 \u0013\t 20 \u0014\t 21 \u0015\t 22 \u0016\t 23 \u0017\t\n",
      " 24 \u0018\t 25 \u0019\t 26 \u001a\t 27 \u001b\t 28 \u001c",
      "\t 29 \u001d",
      "\t 30 \u001e",
      "\t 31 \u001f\t\n",
      " 32  \t 33 !\t 34 \"\t 35 #\t 36 $\t 37 %\t 38 &\t 39 '\t\n",
      " 40 (\t 41 )\t 42 *\t 43 +\t 44 ,\t 45 -\t 46 .\t 47 /\t\n",
      " 48 0\t 49 1\t 50 2\t 51 3\t 52 4\t 53 5\t 54 6\t 55 7\t\n",
      " 56 8\t 57 9\t 58 :\t 59 ;\t 60 <\t 61 =\t 62 >\t 63 ?\t\n",
      " 64 @\t 65 A\t 66 B\t 67 C\t 68 D\t 69 E\t 70 F\t 71 G\t\n",
      " 72 H\t 73 I\t 74 J\t 75 K\t 76 L\t 77 M\t 78 N\t 79 O\t\n",
      " 80 P\t 81 Q\t 82 R\t 83 S\t 84 T\t 85 U\t 86 V\t 87 W\t\n",
      " 88 X\t 89 Y\t 90 Z\t 91 [\t 92 \\\t 93 ]\t 94 ^\t 95 _\t\n",
      " 96 `\t 97 a\t 98 b\t 99 c\t100 d\t101 e\t102 f\t103 g\t\n",
      "104 h\t105 i\t106 j\t107 k\t108 l\t109 m\t110 n\t111 o\t\n",
      "112 p\t113 q\t114 r\t115 s\t116 t\t117 u\t118 v\t119 w\t\n",
      "120 x\t121 y\t122 z\t123 {\t124 |\t125 }\t126 ~\t127 \t\n"
     ]
    }
   ],
   "source": [
    "# print all ASCII characters and their codes\n",
    "# 16 x 8 = 128\n",
    "code = 0\n",
    "for j in range(16):\n",
    "    for i in range(8):                \n",
    "        print(\"%3d\"%code, chr(code), end=\"\\t\")\n",
    "        code = code + 1\n",
    "    print()"
   ]
  },
  {
   "cell_type": "markdown",
   "metadata": {},
   "source": [
    "For example, all of the UPPERCASE characters have codes 32 below the corresponding lowercase characters. So you could lowercase a string like this (**assuming it was only uppercase letters in the first place!**)"
   ]
  },
  {
   "cell_type": "code",
   "execution_count": 7,
   "metadata": {},
   "outputs": [
    {
     "name": "stdout",
     "output_type": "stream",
     "text": [
      "SHOUTING shouting\n"
     ]
    }
   ],
   "source": [
    "upper = \"SHOUTING\"\n",
    "lower = \"\"\n",
    "for ch in upper:\n",
    "    # convert to integer, add 32, back to a character\n",
    "    lower += chr(ord(ch)+32)\n",
    "print(upper, lower)"
   ]
  },
  {
   "cell_type": "markdown",
   "metadata": {},
   "source": [
    "We can also look at other Unicode characters, like emojis; these have character codes much larger than 127."
   ]
  },
  {
   "cell_type": "code",
   "execution_count": 12,
   "metadata": {},
   "outputs": [
    {
     "name": "stdout",
     "output_type": "stream",
     "text": [
      "1f601 😁\t1f602 😂\t1f603 😃\t1f604 😄\t1f605 😅\t1f606 😆\t1f607 😇\t1f608 😈\t\n",
      "1f609 😉\t1f60a 😊\t1f60b 😋\t1f60c 😌\t1f60d 😍\t1f60e 😎\t1f60f 😏\t1f610 😐\t\n",
      "1f611 😑\t1f612 😒\t1f613 😓\t1f614 😔\t1f615 😕\t1f616 😖\t1f617 😗\t1f618 😘\t\n",
      "1f619 😙\t1f61a 😚\t1f61b 😛\t1f61c 😜\t1f61d 😝\t1f61e 😞\t1f61f 😟\t1f620 😠\t\n",
      "1f621 😡\t1f622 😢\t1f623 😣\t1f624 😤\t1f625 😥\t1f626 😦\t1f627 😧\t1f628 😨\t\n",
      "1f629 😩\t1f62a 😪\t1f62b 😫\t1f62c 😬\t1f62d 😭\t1f62e 😮\t1f62f 😯\t1f630 😰\t\n",
      "1f631 😱\t1f632 😲\t1f633 😳\t1f634 😴\t1f635 😵\t1f636 😶\t1f637 😷\t1f638 😸\t\n",
      "1f639 😹\t1f63a 😺\t1f63b 😻\t1f63c 😼\t1f63d 😽\t1f63e 😾\t1f63f 😿\t1f640 🙀\t\n",
      "1f641 🙁\t1f642 🙂\t1f643 🙃\t1f644 🙄\t1f645 🙅\t1f646 🙆\t1f647 🙇\t1f648 🙈\t\n",
      "1f649 🙉\t1f64a 🙊\t1f64b 🙋\t1f64c 🙌\t1f64d 🙍\t1f64e 🙎\t1f64f 🙏\t1f650 🙐\t\n",
      "1f651 🙑\t1f652 🙒\t1f653 🙓\t1f654 🙔\t1f655 🙕\t1f656 🙖\t1f657 🙗\t1f658 🙘\t\n",
      "1f659 🙙\t1f65a 🙚\t1f65b 🙛\t1f65c 🙜\t1f65d 🙝\t1f65e 🙞\t1f65f 🙟\t1f660 🙠\t\n",
      "1f661 🙡\t1f662 🙢\t1f663 🙣\t1f664 🙤\t1f665 🙥\t1f666 🙦\t1f667 🙧\t1f668 🙨\t\n",
      "1f669 🙩\t1f66a 🙪\t1f66b 🙫\t1f66c 🙬\t1f66d 🙭\t1f66e 🙮\t1f66f 🙯\t1f670 🙰\t\n",
      "1f671 🙱\t1f672 🙲\t1f673 🙳\t1f674 🙴\t1f675 🙵\t1f676 🙶\t1f677 🙷\t1f678 🙸\t\n",
      "1f679 🙹\t1f67a 🙺\t1f67b 🙻\t1f67c 🙼\t1f67d 🙽\t1f67e 🙾\t1f67f 🙿\t1f680 🚀\t\n",
      "1f681 🚁\t1f682 🚂\t1f683 🚃\t1f684 🚄\t1f685 🚅\t1f686 🚆\t1f687 🚇\t1f688 🚈\t\n",
      "1f689 🚉\t1f68a 🚊\t1f68b 🚋\t1f68c 🚌\t1f68d 🚍\t1f68e 🚎\t1f68f 🚏\t1f690 🚐\t\n",
      "1f691 🚑\t1f692 🚒\t1f693 🚓\t1f694 🚔\t1f695 🚕\t1f696 🚖\t1f697 🚗\t1f698 🚘\t\n",
      "1f699 🚙\t1f69a 🚚\t1f69b 🚛\t1f69c 🚜\t1f69d 🚝\t1f69e 🚞\t1f69f 🚟\t1f6a0 🚠\t\n",
      "1f6a1 🚡\t1f6a2 🚢\t1f6a3 🚣\t1f6a4 🚤\t1f6a5 🚥\t1f6a6 🚦\t1f6a7 🚧\t1f6a8 🚨\t\n",
      "1f6a9 🚩\t1f6aa 🚪\t1f6ab 🚫\t1f6ac 🚬\t1f6ad 🚭\t1f6ae 🚮\t1f6af 🚯\t1f6b0 🚰\t\n",
      "1f6b1 🚱\t1f6b2 🚲\t1f6b3 🚳\t1f6b4 🚴\t1f6b5 🚵\t1f6b6 🚶\t1f6b7 🚷\t1f6b8 🚸\t\n",
      "1f6b9 🚹\t1f6ba 🚺\t1f6bb 🚻\t1f6bc 🚼\t1f6bd 🚽\t1f6be 🚾\t1f6bf 🚿\t1f6c0 🛀\t\n",
      "1f6c1 🛁\t1f6c2 🛂\t1f6c3 🛃\t1f6c4 🛄\t1f6c5 🛅\t1f6c6 🛆\t1f6c7 🛇\t1f6c8 🛈\t\n",
      "1f6c9 🛉\t1f6ca 🛊\t1f6cb 🛋\t1f6cc 🛌\t1f6cd 🛍\t1f6ce 🛎\t1f6cf 🛏\t1f6d0 🛐\t\n",
      "1f6d1 🛑\t1f6d2 🛒\t1f6d3 🛓\t1f6d4 🛔\t1f6d5 🛕\t1f6d6 🛖\t1f6d7 🛗\t1f6d8 🛘\t\n",
      "1f6d9 🛙\t1f6da 🛚\t1f6db 🛛\t1f6dc 🛜\t1f6dd 🛝\t1f6de 🛞\t1f6df 🛟\t1f6e0 🛠\t\n",
      "1f6e1 🛡\t1f6e2 🛢\t1f6e3 🛣\t1f6e4 🛤\t1f6e5 🛥\t1f6e6 🛦\t1f6e7 🛧\t1f6e8 🛨\t\n",
      "1f6e9 🛩\t1f6ea 🛪\t1f6eb 🛫\t1f6ec 🛬\t1f6ed 🛭\t1f6ee 🛮\t1f6ef 🛯\t1f6f0 🛰\t\n",
      "1f6f1 🛱\t1f6f2 🛲\t1f6f3 🛳\t1f6f4 🛴\t1f6f5 🛵\t1f6f6 🛶\t1f6f7 🛷\t1f6f8 🛸\t\n",
      "1f6f9 🛹\t1f6fa 🛺\t1f6fb 🛻\t1f6fc 🛼\t1f6fd 🛽\t1f6fe 🛾\t1f6ff 🛿\t1f700 🜀\t\n"
     ]
    }
   ],
   "source": [
    "# print all some emojis characters and their codes\n",
    "# 16 x 8 = 128\n",
    "code = 0\n",
    "for j in range(32):\n",
    "    for i in range(8):   \n",
    "        # emojis start at offset 0x1f601, or 128513 in decimal\n",
    "        smiley =code+0x1f601 \n",
    "        print(\"%5x\"%(smiley), chr(code+0x1f601), end='\\t')\n",
    "        code = code + 1\n",
    "    print()"
   ]
  },
  {
   "cell_type": "markdown",
   "metadata": {},
   "source": [
    "### Special codes\n",
    "Only codes between 32 and 127 appear as \"printable\" characters. These include things like letters, numbers and punctuation (*printable* or *graphic* characters). The codes below 32 include *special* or *control* characters, like TAB, newline, carriage return, backspace and some pretty weird control characters left over from old-fashioned teletype devices.\n",
    "\n",
    "What computers looked like when ASCII was standardised:\n",
    "<img src=\"imgs/teletype.jpg\">\n",
    "*[Image credit: By Jamie - Flickr: Telex machine TTY, CC BY 2.0, https://commons.wikimedia.org/w/index.php?curid=19282428]*\n",
    "\n",
    "Most of the time we don't need to worry about this, but there are some useful *whitespace* characters.\n",
    "\n",
    "### Whitespace\n",
    "Whitespace is any spacing character which has no visible appearance. The most common ones are:\n",
    "* ` `: space (character 32)\n",
    "* `\\n`: newline (character 10)\n",
    "* `\\r`: carriage return (character 13)\n",
    "* `\\t`: tab (character 9)\n",
    "\n",
    "Note that we can write these characters in strings using the special backslash \\ notation. Python will replace any occurence of \\n with the actual character 10 in a string."
   ]
  },
  {
   "cell_type": "code",
   "execution_count": 2,
   "metadata": {},
   "outputs": [
    {
     "name": "stdout",
     "output_type": "stream",
     "text": [
      "Hi\n",
      "are\n",
      "you\n",
      "ice?\n"
     ]
    }
   ],
   "source": [
    "print(\"Hi\\nare\\nyou\\nice?\")"
   ]
  },
  {
   "cell_type": "code",
   "execution_count": 14,
   "metadata": {},
   "outputs": [
    {
     "name": "stdout",
     "output_type": "stream",
     "text": [
      "Before tab\tAfter tab\n",
      "Before tab\tAfter tab\n"
     ]
    }
   ],
   "source": [
    "print(\"Before tab\\tAfter tab\")\n",
    "print(\"Before tab\"+chr(9)+\"After tab\")"
   ]
  },
  {
   "cell_type": "markdown",
   "metadata": {},
   "source": [
    "We can write any character directly in a string using `\\xnn` where `nn` is the *hex* (base 16) code of the character we want. "
   ]
  },
  {
   "cell_type": "code",
   "execution_count": 44,
   "metadata": {},
   "outputs": [
    {
     "name": "stdout",
     "output_type": "stream",
     "text": [
      "Before tab\tAfter tab\n",
      "After newlineA\n"
     ]
    }
   ],
   "source": [
    "print(\"Before tab\\x09After tab\\x0aAfter newline\\x41\")"
   ]
  },
  {
   "cell_type": "markdown",
   "metadata": {},
   "source": [
    "If we want Python to ignore any backslash special codes, we can put an `r` in front of the string (a **raw string**). Otherwise, to get a backslash (the \"escape\" character) to appear, it will have to be doubled."
   ]
  },
  {
   "cell_type": "code",
   "execution_count": 45,
   "metadata": {},
   "outputs": [
    {
     "name": "stdout",
     "output_type": "stream",
     "text": [
      "This\n",
      " has\n",
      " newlines\n",
      "This\\n does not have\\n newlines\n",
      "This\\n does not have\\n newlines\n"
     ]
    }
   ],
   "source": [
    "print(\"This\\n has\\n newlines\")\n",
    "# note \\\\ means a literal \\ appears\n",
    "print(\"This\\\\n does not have\\\\n newlines\")\n",
    "\n",
    "# note the r in front -- for raw string\n",
    "print(r\"This\\n does not have\\n newlines\")"
   ]
  },
  {
   "cell_type": "markdown",
   "metadata": {},
   "source": [
    "### Splitting and joining\n",
    "We very often have data that is a string representing a sequence of values, separated by some character. For example, you can export an Excel spreadsheet as a CSV (*comma separated value*) file, which is plain text. It has one row per line, and each column is separated with a comma.\n",
    "\n",
    "    YCG,Canada,49.296389,-117.6325\n",
    "    YCH,Canada,47.007778,-65.449167\n",
    "    YCL,Canada,47.990833,-66.330278\n",
    "    YCO,Canada,67.816667,-115.143889\n",
    "    YCT,Canada,52.075001,-111.445278\n",
    "    YCW,Canada,49.152779,-121.9388\n",
    "    \n",
    "CSV is a very simple and very widely used way of storing and transferring data.\n",
    "\n",
    "We can use the `split()` function to split a string with **delimiters** (like commas) and return a list of strings. Because splitting by spaces is very common, if you don't tell `split()` what the delimiter is, it will split on any *whitespace* character."
   ]
  },
  {
   "cell_type": "code",
   "execution_count": 15,
   "metadata": {},
   "outputs": [
    {
     "name": "stdout",
     "output_type": "stream",
     "text": [
      "['these', 'are', 'some', 'space', 'separated', 'words']\n"
     ]
    }
   ],
   "source": [
    "words = \"these are some space separated words\".split()\n",
    "print(words)"
   ]
  },
  {
   "cell_type": "code",
   "execution_count": 47,
   "metadata": {},
   "outputs": [
    {
     "name": "stdout",
     "output_type": "stream",
     "text": [
      "['5', ' 7', '  31', ' 8']\n"
     ]
    }
   ],
   "source": [
    "numbers = \"5, 7,  31, 8\"\n",
    "print(numbers.split(\",\")) # note that the whitespace is *not* removed!"
   ]
  },
  {
   "cell_type": "markdown",
   "metadata": {},
   "source": [
    "### Multi-character delimiters\n",
    "Delimiters do not have to be single characters."
   ]
  },
  {
   "cell_type": "code",
   "execution_count": 48,
   "metadata": {},
   "outputs": [
    {
     "name": "stdout",
     "output_type": "stream",
     "text": [
      "['Helium', '2', 'He']\n"
     ]
    }
   ],
   "source": [
    "multi_char_delimiter = \"Helium <==> 2 <==> He\"\n",
    "print(multi_char_delimiter.split(' <==> '))"
   ]
  },
  {
   "cell_type": "markdown",
   "metadata": {},
   "source": [
    "#### Splitting lines\n",
    "We can split lines apart using `.split(\"\\n\")`, or the convenience function `.splitlines()`"
   ]
  },
  {
   "cell_type": "code",
   "execution_count": null,
   "metadata": {
    "collapsed": true
   },
   "outputs": [],
   "source": [
    "multi = \"\"\"A multiline string\n",
    "will have line\n",
    "breaks within it\"\"\""
   ]
  },
  {
   "cell_type": "code",
   "execution_count": 26,
   "metadata": {},
   "outputs": [
    {
     "name": "stdout",
     "output_type": "stream",
     "text": [
      "['A multiline string', 'will have line', 'breaks within it']\n"
     ]
    }
   ],
   "source": [
    "print(multi.split(\"\\n\"))"
   ]
  },
  {
   "cell_type": "code",
   "execution_count": 27,
   "metadata": {},
   "outputs": [
    {
     "name": "stdout",
     "output_type": "stream",
     "text": [
      "['A multiline string', 'will have line', 'breaks within it']\n"
     ]
    }
   ],
   "source": [
    "print(multi.splitlines())"
   ]
  },
  {
   "cell_type": "markdown",
   "metadata": {},
   "source": [
    "However, most of the time that we work with multiline strings is when reading from files (or file-like objects) and the splitting usually done already (e.g. with `readlines()` or `for line in f`)."
   ]
  },
  {
   "cell_type": "markdown",
   "metadata": {},
   "source": [
    "## Efficient concatenation\n",
    "\n",
    "You can concatenate strings with +. But each use of + allocates a totally new string. This uses up memory quickly, and can slow things down a lot. The interpreter has to copy the string each time + is used. \n",
    "\n",
    "Joining one character at a time is very expensive:\n",
    "\n",
    "    \"\" + \"c\" = \"c\"\n",
    "    \"c\" + \"o\" = \"co\"\n",
    "    \"co\" + \"n\" = \"con\"\n",
    "    \"con\" + \"c\" = \"conc\"\n",
    "    \"conc\" + \"a\" = \"conca\"\n",
    "    \"conca\" + \"t\" = \"concat\"\n",
    "\n",
    "If you use + to join 1000 strings, **999 intermediate strings have to be allocated and copied.** Ouch.\n",
    "\n",
    "The *efficient way* to join lots of strings together is to use `join()`. `join()` takes a sequence (list, tuple, etc.) and a separator, and concatenates each element of the sequence with the separator in between. The separator can be the empty string, a single character or any other string. \n",
    "\n",
    "It is *much better* performance-wise to put the strings into a mutable data structure like a list, and the join the whole list at once.\n",
    "\n",
    "`join()` is the complement of `split()`.\n",
    "\n",
    "### join syntax\n",
    "`join` has an unusual syntax. It is a string method, and takes a seqeuence. So to join together three strings without any space the syntax is:"
   ]
  },
  {
   "cell_type": "code",
   "execution_count": 22,
   "metadata": {},
   "outputs": [
    {
     "name": "stdout",
     "output_type": "stream",
     "text": [
      "alphabravocharlie\n"
     ]
    }
   ],
   "source": [
    "# read: join the following list with no separator\n",
    "print(\"\".join([\"alpha\", \"bravo\", \"charlie\"]))"
   ]
  },
  {
   "cell_type": "markdown",
   "metadata": {
    "collapsed": true
   },
   "source": [
    "To put a dash between, it would be like this:"
   ]
  },
  {
   "cell_type": "code",
   "execution_count": 23,
   "metadata": {},
   "outputs": [
    {
     "name": "stdout",
     "output_type": "stream",
     "text": [
      "alpha-bravo-charlie\n"
     ]
    }
   ],
   "source": [
    "# read: join the following list with a dash between each element\n",
    "print(\"-\".join([\"alpha\", \"bravo\", \"charlie\"]))"
   ]
  },
  {
   "cell_type": "code",
   "execution_count": 24,
   "metadata": {},
   "outputs": [
    {
     "name": "stdout",
     "output_type": "stream",
     "text": [
      "alpha\n",
      "bravo\n",
      "charlie\n"
     ]
    }
   ],
   "source": [
    "# each element on its own line\n",
    "print(\"\\n\".join([\"alpha\", \"bravo\", \"charlie\"]))"
   ]
  },
  {
   "cell_type": "markdown",
   "metadata": {},
   "source": [
    "or any other string"
   ]
  },
  {
   "cell_type": "code",
   "execution_count": 25,
   "metadata": {},
   "outputs": [
    {
     "name": "stdout",
     "output_type": "stream",
     "text": [
      "alpha<-WORD->bravo<-WORD->charlie\n"
     ]
    }
   ],
   "source": [
    "print(\"<-WORD->\".join([\"alpha\", \"bravo\", \"charlie\"]))"
   ]
  },
  {
   "cell_type": "markdown",
   "metadata": {},
   "source": [
    "Note that `join` only puts the separator *in between* the elements of the sequence. This is a very useful behaviour and is annoying to get right with a loop."
   ]
  },
  {
   "cell_type": "markdown",
   "metadata": {},
   "source": [
    "## Speed of joining\n",
    "For long sequences, `join` is **much** faster than repeatedly calling +, because it only allocates the big string once (instead of copying strings hundreds or thousands of times in intermediate computations)."
   ]
  },
  {
   "cell_type": "code",
   "execution_count": 49,
   "metadata": {},
   "outputs": [
    {
     "name": "stdout",
     "output_type": "stream",
     "text": [
      "['999990', '999991', '999992', '999993', '999994', '999995', '999996', '999997', '999998', '999999']\n"
     ]
    }
   ],
   "source": [
    "# 1 milllllllion strings\n",
    "number_names = [str(i) for i in range(1000000)]\n",
    "print(number_names[-10:]) # first ten elements"
   ]
  },
  {
   "cell_type": "code",
   "execution_count": 50,
   "metadata": {},
   "outputs": [
    {
     "name": "stdout",
     "output_type": "stream",
     "text": [
      "1.71 s ± 150 ms per loop (mean ± std. dev. of 7 runs, 1 loop each)\n"
     ]
    }
   ],
   "source": [
    "%%timeit # timeit is cool -- it will time the execution time of this cell.\n",
    "concat = \"\"\n",
    "for string in number_names:\n",
    "    concat += string"
   ]
  },
  {
   "cell_type": "code",
   "execution_count": 51,
   "metadata": {},
   "outputs": [
    {
     "name": "stdout",
     "output_type": "stream",
     "text": [
      "14.9 ms ± 282 µs per loop (mean ± std. dev. of 7 runs, 100 loops each)\n"
     ]
    }
   ],
   "source": [
    "%%timeit\n",
    "y = \"\".join(number_names)"
   ]
  },
  {
   "cell_type": "markdown",
   "metadata": {},
   "source": [
    "## On the case\n",
    "Latin-derived languages have two cases of characters: upper and lower. We can convert the case of strings easily. Non-alphabetic characters are unharmed:"
   ]
  },
  {
   "cell_type": "code",
   "execution_count": 30,
   "metadata": {},
   "outputs": [
    {
     "name": "stdout",
     "output_type": "stream",
     "text": [
      "My cApS lOCK is bRokEN. CaLL 101 SoS!\n",
      "my caps lock is broken. call 101 sos!\n",
      "MY CAPS LOCK IS BROKEN. CALL 101 SOS!\n",
      "My caps lock is broken. call 101 sos!\n",
      "My Caps Lock Is Broken. Call 101 Sos!\n",
      "mY CaPs Lock IS BrOKen. cAll 101 sOs!\n"
     ]
    }
   ],
   "source": [
    "mad_caps = \"My cApS lOCK is bRokEN. CaLL 101 SoS!\"\n",
    "print(mad_caps)\n",
    "print(mad_caps.lower()) # to lower case\n",
    "print(mad_caps.upper()) # to upper case\n",
    "print(mad_caps.capitalize()) # Capitalize first letter\n",
    "print(mad_caps.title()) # Title Case (Capitalize First Letter Of Each Word)\n",
    "print(mad_caps.swapcase()) # when was this ever useful!?"
   ]
  },
  {
   "cell_type": "markdown",
   "metadata": {},
   "source": [
    "Case conversion is very useful when you want to search for strings in a case-insensitive way. Just lower case (or upper case) the query string and the document string, and do the search; all characters are then guaranteed to be the same case. "
   ]
  },
  {
   "cell_type": "markdown",
   "metadata": {
    "collapsed": true
   },
   "source": [
    "## Padding: Filling and justifiying\n",
    "We often need to line up string so that they have a constant width. For example, to make data appear nicely in columns. This looks bad:"
   ]
  },
  {
   "cell_type": "code",
   "execution_count": 16,
   "metadata": {},
   "outputs": [
    {
     "name": "stdout",
     "output_type": "stream",
     "text": [
      "Aiport Country Lat Lon \n",
      "YCG Canada 49.296389 -117.6325 \n",
      "LRL Togo 9.767333 1.09125 \n",
      "LFW Togo 6.165611 1.254511 \n"
     ]
    }
   ],
   "source": [
    "columns = [\"Aiport\", \"Country\", \"Lat\", \"Lon\"]\n",
    "data = [[\"YCG\",\"Canada\",\"49.296389\",\"-117.6325\"],\n",
    "        [\"LRL\",\"Togo\",\"9.767333\",\"1.09125\"],\n",
    "        [\"LFW\",\"Togo\",\"6.165611\",\"1.254511\"]]\n",
    "\n",
    "for col in columns:\n",
    "    print(col, end=' ')\n",
    "print()    \n",
    "for row in data:\n",
    "    for entry in row:\n",
    "        print(entry, end=' ')\n",
    "    print()"
   ]
  },
  {
   "cell_type": "markdown",
   "metadata": {},
   "source": [
    "We can justify text to the left, right or center, so that it fits into fixed length chunks using `.ljust()`, `.rjust()` and `.center()`. \n",
    "\n",
    "Note that this will *pad* the string to make it fit into the column size, but will *not* truncate it."
   ]
  },
  {
   "cell_type": "code",
   "execution_count": 32,
   "metadata": {},
   "outputs": [
    {
     "name": "stdout",
     "output_type": "stream",
     "text": [
      "Aiport     Country    Lat        Lon       \n",
      "YCG        Canada     49.296389  -117.6325 \n",
      "LRL        Togo       9.767333   1.09125   \n",
      "LFW        Togo       6.165611   1.254511  \n"
     ]
    }
   ],
   "source": [
    "for col in columns:\n",
    "    print(col.ljust(10), end=' ')\n",
    "print()    \n",
    "for row in data:\n",
    "    for entry in row:\n",
    "        print(entry.ljust(10), end=' ')\n",
    "    print()"
   ]
  },
  {
   "cell_type": "code",
   "execution_count": 17,
   "metadata": {},
   "outputs": [
    {
     "name": "stdout",
     "output_type": "stream",
     "text": [
      "Aipo Coun Lat  Lon  \n",
      "YCG  Cana 49.2 -117 \n",
      "LRL  Togo 9.76 1.09 \n",
      "LFW  Togo 6.16 1.25 \n"
     ]
    }
   ],
   "source": [
    "# to truncate, just use slices\n",
    "# note: a slice extending beyond the end of a sequence is fine\n",
    "# it is *not* an error to do \"abc\"[:5] -- this will take up to\n",
    "# the first five characters\n",
    "for col in columns:\n",
    "    print(col[:4].ljust(4), end=' ')\n",
    "print()    \n",
    "\n",
    "for row in data:\n",
    "    for entry in row:\n",
    "        print(entry[:4].ljust(4), end=' ')\n",
    "    print()"
   ]
  },
  {
   "cell_type": "markdown",
   "metadata": {},
   "source": [
    "## Interpolation\n",
    "We saw basic formatting with %, which allows us to substitute values into strings. This substitution is known as **string interpolation**; values are interpolated into the string."
   ]
  },
  {
   "cell_type": "markdown",
   "metadata": {
    "collapsed": true
   },
   "source": [
    "* `%f` float\n",
    "* `%e` float, scientific notation\n",
    "* `%d` integer, decimal\n",
    "* `%s` string\n",
    "* `%x` integer, hex\n",
    "\n",
    "(there are many others, but they are rarely used. Only `%d`, `%s` and `%f` are widely used)"
   ]
  },
  {
   "cell_type": "code",
   "execution_count": 21,
   "metadata": {},
   "outputs": [
    {
     "name": "stdout",
     "output_type": "stream",
     "text": [
      "215.000000 2.150000e+02 215 d7 D7 215\n"
     ]
    }
   ],
   "source": [
    "x = 215\n",
    "print(\"%f %e %d %x %X %s\" % (x,x,x,x,x,x))"
   ]
  },
  {
   "cell_type": "markdown",
   "metadata": {},
   "source": [
    "#### Formatting numbers\n",
    "When formatting numbers, we often want to be able to specify the *precision* of the number (or the length of a string).\n",
    "\n",
    "There is quite a sophisticated set of codes that can be used to customize the interpolation. \n",
    "\n",
    "Most usefully, a number can be placed between the % and the formatting character to specify the minimum number of characters the value should take up. This is identical to what `lfill()` does (and yes, it is possible to get the `rfill()` and `center()` behaviours too)."
   ]
  },
  {
   "cell_type": "code",
   "execution_count": 35,
   "metadata": {},
   "outputs": [
    {
     "name": "stdout",
     "output_type": "stream",
     "text": [
      "Barn Barn     Barn             Barn\n",
      "2    2        2                2\n"
     ]
    }
   ],
   "source": [
    "x = \"Barn\"\n",
    "y = 2\n",
    "print(\"%s %4s %8s %16s\" % (x,x,x,x))\n",
    "print(\"%d %4d %8d %16d\" % (y,y,y,y))"
   ]
  },
  {
   "cell_type": "markdown",
   "metadata": {},
   "source": [
    "We can also put a . (decimal point) in the number to specify the number of digits after a floating point number to include -- or the maximum number of characters to use for a string."
   ]
  },
  {
   "cell_type": "code",
   "execution_count": 36,
   "metadata": {},
   "outputs": [
    {
     "name": "stdout",
     "output_type": "stream",
     "text": [
      "F Flex Flexible\n",
      "2 0002 00000002\n",
      "3.141593 3.1 3.1416 3.1415926535897931\n"
     ]
    }
   ],
   "source": [
    "x = \"Flexible\"\n",
    "y = 2\n",
    "pi = 3.141592653589793\n",
    "# String: here . means maximum string length\n",
    "print(\"%.1s %.4s %.8s\" % (x,x,x))\n",
    "\n",
    "# Decimal: here . means fill with leading zeros to given length\n",
    "print(\"%.d %.4d %.8d\" % (y,y,y))\n",
    "\n",
    "# Float: here . means truncate the number after the decimal\n",
    "# to the given number of digits\n",
    "print(\"%f %.1f %.4f %.16f\" % (pi,pi,pi,pi))"
   ]
  },
  {
   "cell_type": "markdown",
   "metadata": {},
   "source": [
    "These formatting commands or similar equivalents are available in other languages (e.g. C, Java)."
   ]
  },
  {
   "cell_type": "markdown",
   "metadata": {
    "collapsed": true
   },
   "source": [
    "# Matching\n",
    "Being able to *find* strings within other strings is an essential part of string manipulations. From web search, Word's find-and-replace and command line tools like `grep`, being able to test whether text matches a search pattern is a vital task.\n",
    "\n",
    "## Matching strings\n",
    "We know how to find if a (sub)string is inside another string using `in`"
   ]
  },
  {
   "cell_type": "code",
   "execution_count": 53,
   "metadata": {},
   "outputs": [
    {
     "name": "stdout",
     "output_type": "stream",
     "text": [
      "True\n",
      "True\n",
      "True\n",
      "False\n"
     ]
    }
   ],
   "source": [
    "print(\"ican\" in \"pelicans\")\n",
    "print(\"\" in \"pelicans\") # the empty string is in everything\n",
    "print(\"pelicans\" in \"pelicans\") # note: inclusive of the whole string!\n",
    "print(\"icant\" in \"pelicans\")"
   ]
  },
  {
   "cell_type": "markdown",
   "metadata": {},
   "source": [
    "We also have `startswith()` and `endswith()` to test the special cases where a string appears at the start or end of a string"
   ]
  },
  {
   "cell_type": "code",
   "execution_count": 54,
   "metadata": {},
   "outputs": [
    {
     "name": "stdout",
     "output_type": "stream",
     "text": [
      "True\n",
      "True\n",
      "False\n"
     ]
    }
   ],
   "source": [
    "print(\"pelican\".startswith(\"p\"))\n",
    "print(\"pelican\".startswith(\"peli\"))\n",
    "print(\"pelican\".startswith(\"q\"))"
   ]
  },
  {
   "cell_type": "code",
   "execution_count": 55,
   "metadata": {},
   "outputs": [
    {
     "name": "stdout",
     "output_type": "stream",
     "text": [
      "True\n",
      "False\n"
     ]
    }
   ],
   "source": [
    "print(\"pelican\".endswith(\"can\"))\n",
    "print(\"pelican\".endswith(\"peli\"))"
   ]
  },
  {
   "cell_type": "markdown",
   "metadata": {},
   "source": [
    "If  a string is present inside another, we can find out **where** using `index()`. Note that `index()` throws an error if the string searched for *doesn't appear* in the other string. The returned index is the index of the character that the substring starts on."
   ]
  },
  {
   "cell_type": "code",
   "execution_count": 22,
   "metadata": {},
   "outputs": [
    {
     "name": "stdout",
     "output_type": "stream",
     "text": [
      "3\n"
     ]
    }
   ],
   "source": [
    "print(\"pelican\".index(\"ican\"))"
   ]
  },
  {
   "cell_type": "code",
   "execution_count": 23,
   "metadata": {},
   "outputs": [
    {
     "ename": "ValueError",
     "evalue": "substring not found",
     "output_type": "error",
     "traceback": [
      "\u001b[1;31m---------------------------------------------------------------------------\u001b[0m",
      "\u001b[1;31mValueError\u001b[0m                                Traceback (most recent call last)",
      "\u001b[1;32m<ipython-input-23-62fa13a062ce>\u001b[0m in \u001b[0;36m<module>\u001b[1;34m()\u001b[0m\n\u001b[0;32m      1\u001b[0m \u001b[1;31m# no luck - this will cause an exception \"substring not found\"\u001b[0m\u001b[1;33m\u001b[0m\u001b[1;33m\u001b[0m\u001b[0m\n\u001b[1;32m----> 2\u001b[1;33m \u001b[0mprint\u001b[0m\u001b[1;33m(\u001b[0m\u001b[1;34m\"pelican\"\u001b[0m\u001b[1;33m.\u001b[0m\u001b[0mindex\u001b[0m\u001b[1;33m(\u001b[0m\u001b[1;34m\"icant\"\u001b[0m\u001b[1;33m)\u001b[0m\u001b[1;33m)\u001b[0m\u001b[1;33m\u001b[0m\u001b[0m\n\u001b[0m",
      "\u001b[1;31mValueError\u001b[0m: substring not found"
     ]
    }
   ],
   "source": [
    "# no luck - this will cause an exception \"substring not found\"\n",
    "print(\"pelican\".index(\"icant\"))"
   ]
  },
  {
   "cell_type": "markdown",
   "metadata": {},
   "source": [
    "Just like `index()` for lists, a second parameter can be used to specify an index from where to start searching. This can be used to find all occurences of a search string inside another string, by finding each index and then starting the next search from the character afterwards (e.g. like using Ctrl-F in a browser).\n",
    "\n",
    "### Find\n",
    "`find()` find does the same as index() but returns -1 on failure to match, instead of causing an error."
   ]
  },
  {
   "cell_type": "code",
   "execution_count": 58,
   "metadata": {},
   "outputs": [
    {
     "name": "stdout",
     "output_type": "stream",
     "text": [
      "-1\n",
      "3\n"
     ]
    }
   ],
   "source": [
    "## find does the same as index() but returns -1 on failure instead of causing an error\n",
    "print(\"pelican\".find(\"icant\"))\n",
    "print(\"pelican\".find(\"ican\"))"
   ]
  },
  {
   "cell_type": "markdown",
   "metadata": {},
   "source": [
    "## Search and replace\n",
    "We can perform literal search and replace on a string using `.replace()`. This replaces **every** occurence of a given substring with a replacement substring."
   ]
  },
  {
   "cell_type": "code",
   "execution_count": 59,
   "metadata": {},
   "outputs": [
    {
     "name": "stdout",
     "output_type": "stream",
     "text": [
      "pelican\n"
     ]
    }
   ],
   "source": [
    "x = \"pelican\"\n",
    "print(x)"
   ]
  },
  {
   "cell_type": "code",
   "execution_count": 60,
   "metadata": {},
   "outputs": [
    {
     "name": "stdout",
     "output_type": "stream",
     "text": [
      "pelicat\n"
     ]
    }
   ],
   "source": [
    "x = x.replace(\"n\", \"t\") # single character replace\n",
    "print(x)"
   ]
  },
  {
   "cell_type": "code",
   "execution_count": 61,
   "metadata": {},
   "outputs": [
    {
     "name": "stdout",
     "output_type": "stream",
     "text": [
      "delicat\n"
     ]
    }
   ],
   "source": [
    "x = x.replace(\"pel\", \"del\") # can be any two strings\n",
    "print(x)"
   ]
  },
  {
   "cell_type": "code",
   "execution_count": 62,
   "metadata": {},
   "outputs": [
    {
     "name": "stdout",
     "output_type": "stream",
     "text": [
      "delicately\n"
     ]
    }
   ],
   "source": [
    "x = x.replace(\"t\", \"tely\") # don't have to be the same length\n",
    "print(x)"
   ]
  },
  {
   "cell_type": "code",
   "execution_count": 63,
   "metadata": {},
   "outputs": [
    {
     "name": "stdout",
     "output_type": "stream",
     "text": [
      "dately\n"
     ]
    }
   ],
   "source": [
    "x = x.replace(\"elic\", \"\") # can remove all occurences of a substring\n",
    "print(x)"
   ]
  },
  {
   "cell_type": "code",
   "execution_count": 64,
   "metadata": {},
   "outputs": [
    {
     "name": "stdout",
     "output_type": "stream",
     "text": [
      " | d | a | t | e | l | y | \n"
     ]
    }
   ],
   "source": [
    "x = x.replace(\"\", \" | \") # put the given string between every existing character\n",
    "print(x)"
   ]
  },
  {
   "cell_type": "markdown",
   "metadata": {},
   "source": [
    "-----------\n",
    "\n",
    "## Pattern matching\n",
    "But what if we wanted to match things less precisely? If we didn't want just exact matches, but wanted to find strings that followed a certain pattern or template?\n",
    "\n",
    "**Regular expressions** are an extremely powerful tool for doing this. They are sophisticated tools, and we will only scratch the surface. Regular expressions are an entire sub-language, which is widely available as part of most common programming languages or their standard libraries. They are also part of many command line utilities (`grep`, `sed`, etc.) and part of any \"serious\" text editor (`vim`, `emacs`, `notepad++`, `sublime`, `atom`, etc.).\n",
    "\n",
    "<img src=\"https://imgs.xkcd.com/comics/regular_expressions.png\">\n",
    "\n",
    "Regular expressions have a syntax that can be obscure, but is very compact. They are powerful, so it is also easy to abuse them. But, for many cases, they are the tool of choice to solve text processing problems. \n",
    "\n",
    "### Regular expression patterns\n",
    "A regular expression pattern is just a string, which uses **special characters** to represent ways in which the pattern can vary. Regular expression matching functions take a regular expression pattern and can match that against a string.\n",
    "\n",
    "In the most basic case, a regular expression matching can just look for a literal string, just as `.find()` does:"
   ]
  },
  {
   "cell_type": "code",
   "execution_count": 24,
   "metadata": {},
   "outputs": [
    {
     "name": "stdout",
     "output_type": "stream",
     "text": [
      "['ican']\n"
     ]
    }
   ],
   "source": [
    "import re # import the Regular Expression module\n",
    "print(re.findall(\"ican\", \"pelican\"))"
   ]
  },
  {
   "cell_type": "markdown",
   "metadata": {},
   "source": [
    "### Crossword matching\n",
    "<img src=\"imgs/British_crossword.png\">\n",
    "*[Image credit: Public domain]*\n",
    "\n",
    "**Impress your grandparents!**\n",
    "Say you have a partial solution to a crossword: `c_tl___`. How could you find all the words that match that partial solution?\n",
    "\n",
    "## A placeholder: .\n",
    "\n",
    "We can write a `.` (period, dot) in a regular expression to mean \"any character can go here\". Let's use the list of words from `words.txt` and solve this problem.\n",
    "\n",
    "There is a function `re.match(pattern, string)` that determines if the given pattern matches a given string, *with the pattern required to be present at the very start of the string.*"
   ]
  },
  {
   "cell_type": "code",
   "execution_count": 25,
   "metadata": {},
   "outputs": [
    {
     "name": "stdout",
     "output_type": "stream",
     "text": [
      "cutlass\n",
      "cutlasses\n",
      "cutlers\n",
      "cutlery\n",
      "cutlets\n"
     ]
    }
   ],
   "source": [
    "with open(\"words.txt\") as f:\n",
    "    for line in f:\n",
    "        word = line.strip() # strip that newline!\n",
    "        if re.match('c.tl...', word):\n",
    "            print(word)"
   ]
  },
  {
   "cell_type": "markdown",
   "metadata": {},
   "source": [
    "## Anchors: $ and ^\n",
    "This works, but `match()` will match any string that matches the pattern at the start, regardless of what comes next. This include `cutlasses`, even though it has extra characters at the end. \n",
    "\n",
    "We can use the special characters `^` (caret) and `$` (dollar) to mean `start of string` and `end of string`. For example, $ forces the pattern to only match if the string ends where the `$` is. These characters are called `anchors` because they anchor the pattern to the start or end of a string. (`^` isn't useful with `re.match()` but it is useful with other regular expression functions)."
   ]
  },
  {
   "cell_type": "code",
   "execution_count": 28,
   "metadata": {},
   "outputs": [
    {
     "name": "stdout",
     "output_type": "stream",
     "text": [
      "cutlass\n",
      "cutlers\n",
      "cutlery\n",
      "cutlets\n"
     ]
    }
   ],
   "source": [
    "# let's write this as a function to save some repetition\n",
    "def match_words(pattern):\n",
    "    with open(\"words.txt\") as f:\n",
    "        for line in f:\n",
    "            word = line.strip() \n",
    "            if re.match(pattern, word):\n",
    "                print(word)\n",
    "                \n",
    "match_words('c.tl...$')"
   ]
  },
  {
   "cell_type": "markdown",
   "metadata": {},
   "source": [
    "## Escaping\n",
    "What if we wanted to actually match a `$` or a literal `.`? We can always **escape** a special character to make it behave as if it were not special. Backslash \\ is the escape character. It makes the following character work as if it were not special.\n"
   ]
  },
  {
   "cell_type": "code",
   "execution_count": 3,
   "metadata": {},
   "outputs": [
    {
     "ename": "NameError",
     "evalue": "name 're' is not defined",
     "output_type": "error",
     "traceback": [
      "\u001b[0;31m---------------------------------------------------------------------------\u001b[0m",
      "\u001b[0;31mNameError\u001b[0m                                 Traceback (most recent call last)",
      "\u001b[0;32m<ipython-input-3-6229ba4a2bb2>\u001b[0m in \u001b[0;36m<module>\u001b[0;34m()\u001b[0m\n\u001b[1;32m      1\u001b[0m \u001b[0;31m# does not match -- because the $ is taken to mean the anchor\u001b[0m\u001b[0;34m\u001b[0m\u001b[0;34m\u001b[0m\u001b[0m\n\u001b[0;32m----> 2\u001b[0;31m \u001b[0mprint\u001b[0m\u001b[0;34m(\u001b[0m\u001b[0mre\u001b[0m\u001b[0;34m.\u001b[0m\u001b[0mmatch\u001b[0m\u001b[0;34m(\u001b[0m\u001b[0;34m'200$'\u001b[0m\u001b[0;34m,\u001b[0m \u001b[0;34m'200$'\u001b[0m\u001b[0;34m)\u001b[0m\u001b[0;34m)\u001b[0m\u001b[0;34m\u001b[0m\u001b[0m\n\u001b[0m\u001b[1;32m      3\u001b[0m \u001b[0;34m\u001b[0m\u001b[0m\n\u001b[1;32m      4\u001b[0m \u001b[0;31m# now we escape the $ and it behaves as the literal character $\u001b[0m\u001b[0;34m\u001b[0m\u001b[0;34m\u001b[0m\u001b[0m\n\u001b[1;32m      5\u001b[0m \u001b[0;31m# it matches correctly\u001b[0m\u001b[0;34m\u001b[0m\u001b[0;34m\u001b[0m\u001b[0m\n",
      "\u001b[0;31mNameError\u001b[0m: name 're' is not defined"
     ]
    }
   ],
   "source": [
    "# does not match -- because the $ is taken to mean the anchor\n",
    "print(re.match('200$', '200$'))\n",
    "\n",
    "# now we escape the $ and it behaves as the literal character $\n",
    "# it matches correctly\n",
    "print(re.match('200\\$', '200$'))"
   ]
  },
  {
   "cell_type": "markdown",
   "metadata": {},
   "source": [
    "**However, \\ still has its effect of making characters like \\n into newlines.** This can be a pain, and raw strings (with an `r` in front) are often used to avoid this."
   ]
  },
  {
   "cell_type": "code",
   "execution_count": 54,
   "metadata": {},
   "outputs": [
    {
     "name": "stdout",
     "output_type": "stream",
     "text": [
      "<_sre.SRE_Match object at 0x000000000AB5B8B8>\n"
     ]
    }
   ],
   "source": [
    "# note the r: no chance the \\ does something unexpected\n",
    "print(re.match(r'200\\$', '200$'))"
   ]
  },
  {
   "cell_type": "markdown",
   "metadata": {},
   "source": [
    "### Character classes\n",
    "We can restrict a placeholder to a set of possible characters, instead of just any character. \n",
    "\n",
    "To do this, we put all the possible characters we want to match inside square brackers `[]`. We can also specify consecutive range of characters, like `a-z` or `0-9`\n",
    "\n",
    "### *The whole square bracketed set of characters applies to one character.*"
   ]
  },
  {
   "cell_type": "code",
   "execution_count": 30,
   "metadata": {},
   "outputs": [
    {
     "name": "stdout",
     "output_type": "stream",
     "text": [
      "pneumatic\n",
      "pneumatically\n",
      "pneumonia\n",
      "pneumonic\n",
      "ptarmigan\n",
      "pterodactyl\n",
      "ptolemaic\n",
      "ptolemy\n",
      "ptomaine\n"
     ]
    }
   ],
   "source": [
    "match_words(\"p[nt][aeiou]\")"
   ]
  },
  {
   "cell_type": "code",
   "execution_count": 58,
   "metadata": {},
   "outputs": [
    {
     "name": "stdout",
     "output_type": "stream",
     "text": [
      "<_sre.SRE_Match object at 0x000000000AB5BAC0>\n",
      "None\n",
      "<_sre.SRE_Match object at 0x000000000AB5BAC0>\n"
     ]
    }
   ],
   "source": [
    "# using a range of characters\n",
    "print(re.match('[a-z].$', \"as\")) # match\n",
    "print(re.match('[a-z].$', \"0s\")) # no match\n",
    "# note that it is case sensitive\n",
    "print(re.match('[A-Z].$', \"AS\")) # no match"
   ]
  },
  {
   "cell_type": "markdown",
   "metadata": {},
   "source": [
    "### Inverted character classes\n",
    "We can also invert a character class to say match **any character except these ones**. To do this, we put a ^ (caret) as the very first character in the square brackets:"
   ]
  },
  {
   "cell_type": "code",
   "execution_count": 59,
   "metadata": {},
   "outputs": [
    {
     "name": "stdout",
     "output_type": "stream",
     "text": [
      "flycatcher\n",
      "flycatchers\n",
      "flyleaf\n",
      "flynn\n",
      "flyway\n",
      "flyways\n",
      "flyweight\n",
      "flywheel\n",
      "flywheels\n"
     ]
    }
   ],
   "source": [
    "# a word beginning with f then three **non-vowels**\n",
    "match_words(\"f[^aeiou][^aeiou][^aeiou]\")"
   ]
  },
  {
   "cell_type": "markdown",
   "metadata": {},
   "source": [
    "## Built-in character classes\n",
    "Some classes are so commonly used there are special codes for them:\n",
    "\n",
    "    \\d \tMatch any digit: character in the range 0 - 9 [0-9]\n",
    "    \\D \tMatch any nondigit: character NOT in the range 0 - 9 [^0-9]\n",
    "    \\s \tMatch any whitespace characters (space, tab etc.).\n",
    "    \\S \tMatch any character NOT whitespace (space, tab).\n",
    "    \\w \tMatch any alphanumeric character: in the range 0 - 9, A - Z, a - z and punctuation \n",
    "    \\W     Match any character not in \\w"
   ]
  },
  {
   "cell_type": "markdown",
   "metadata": {},
   "source": [
    "## Repeat characters\n",
    "We can also tell the matcher to allow characters to **repeat**. The two most common ways of doing that are postfixing an expression element (e.g. a character or a character class) with :\n",
    "* a `*` (repeat zero or more times)\n",
    "* a `+` (repeat at least once or more times)\n",
    "* a `?` (appears zero or one times)\n",
    "* a `{n}` (appears exactly n times)"
   ]
  },
  {
   "cell_type": "code",
   "execution_count": 60,
   "metadata": {},
   "outputs": [
    {
     "name": "stdout",
     "output_type": "stream",
     "text": [
      "fireboat\n",
      "firelight\n",
      "firmament\n",
      "firmest\n",
      "first\n"
     ]
    }
   ],
   "source": [
    "# all words that begin fir and end with t\n",
    "match_words(\"fir.*t$\")"
   ]
  },
  {
   "cell_type": "code",
   "execution_count": 61,
   "metadata": {},
   "outputs": [
    {
     "name": "stdout",
     "output_type": "stream",
     "text": [
      "feltham\n",
      "firsthand\n",
      "fotheringhay\n"
     ]
    }
   ],
   "source": [
    "# all words that have f<something>t<something>ha<something>\n",
    "match_words(\"f.*t.*ha.*\")"
   ]
  },
  {
   "cell_type": "code",
   "execution_count": 62,
   "metadata": {},
   "outputs": [
    {
     "name": "stdout",
     "output_type": "stream",
     "text": [
      "necessarily\n",
      "necessary\n",
      "necessitously\n",
      "necessity\n"
     ]
    }
   ],
   "source": [
    "# match nec<zero or more vowels><one or more s><something>y\n",
    "match_words(\"nec[aeiou]*s+.*y\")"
   ]
  },
  {
   "cell_type": "code",
   "execution_count": 63,
   "metadata": {},
   "outputs": [
    {
     "name": "stdout",
     "output_type": "stream",
     "text": [
      "flycatcher\n",
      "flycatchers\n",
      "flyleaf\n",
      "flynn\n",
      "flyway\n",
      "flyways\n",
      "flyweight\n",
      "flywheel\n",
      "flywheels\n"
     ]
    }
   ],
   "source": [
    "# same as the f followed by three non-vowels example\n",
    "# note the way the repeat character binds to the previous expression, which might not\n",
    "# be a single character in the pattern!\n",
    "match_words(\"f[^aeiou]{3}\")"
   ]
  },
  {
   "cell_type": "code",
   "execution_count": 64,
   "metadata": {},
   "outputs": [
    {
     "name": "stdout",
     "output_type": "stream",
     "text": [
      "13131 True\n",
      "3133103b True\n",
      "31hello False\n",
      "o88 False\n",
      "7B True\n"
     ]
    }
   ],
   "source": [
    "# match a sequence of digits, possibly followed by one letter\n",
    "# Note that we can just jam in multiple ranges in the character class \n",
    "# inside the square brackets\n",
    "options = [\"13131\", \"3133103b\", \"31hello\", \"o88\", \"7B\"]\n",
    "\n",
    "for option in options:\n",
    "    print(option, re.match(\"[0-9]+[A-Za-z]?$\", option) is not None)"
   ]
  },
  {
   "cell_type": "markdown",
   "metadata": {},
   "source": [
    "### Groups\n",
    "We can group multiple elements in a regular expression together. To do this, we put the \"subexpression\" in brackets. So:\n",
    "\n",
    "    f(lip)+$\n",
    "    \n",
    "means anything with an `f`, followed by one or more `lip`, then the end of string. It will match:\n",
    "\n",
    "    flip\n",
    "    fliplip\n",
    "    flipliplip\n",
    "    \n",
    "but not:\n",
    "\n",
    "    flipli\n",
    "    fliplp\n",
    "    \n",
    "Any regular expression components can go in these brackets.    \n",
    "\n",
    "**Any repeat operator following will apply to the whole group -- everything in the group works as if it were just one character**"
   ]
  },
  {
   "cell_type": "code",
   "execution_count": 32,
   "metadata": {},
   "outputs": [
    {
     "name": "stdout",
     "output_type": "stream",
     "text": [
      "flip                 True\n",
      "fliplip              True\n",
      "flipliplip           True\n",
      "flipli               False\n",
      "flipl                False\n",
      "fliplipliplop        False\n"
     ]
    }
   ],
   "source": [
    "tests = [\"flip\", \"fliplip\", \"flipliplip\", \"flipli\", \"flipl\", \"fliplipliplop\"]\n",
    "\n",
    "# match a pattern against a list of tests\n",
    "def match_against(tests, pattern):\n",
    "    for st in tests:\n",
    "        print(st.ljust(20), re.match(pattern, st) is not None)\n",
    "        \n",
    "match_against(tests, \"f(lip)+$\")"
   ]
  },
  {
   "cell_type": "markdown",
   "metadata": {},
   "source": [
    "### Alternatives\n",
    "We can use this grouping functionality to make an intelligent kind of \"or\". Imagine we wanted to match any of `Mrs.` or `Ms.` or `Miss.`. How could we write that as a regular expression?\n",
    "\n",
    "| is an operator which means \"one of the options on either side of the |\". The pattern can be a *grouped expression*.\n",
    "\n",
    "So this pattern would work:\n",
    "\n",
    "    (Mrs\\.)|(Ms\\.)|(Miss\\.)\n",
    "    \n",
    "or this one:\n",
    "\n",
    "    M(rs)|(s)|(iss)\\.\n",
    "    \n"
   ]
  },
  {
   "cell_type": "code",
   "execution_count": 33,
   "metadata": {},
   "outputs": [
    {
     "name": "stdout",
     "output_type": "stream",
     "text": [
      "Mrs. Purple          True\n",
      "Miss. White          True\n",
      "Ms. Yellow           True\n",
      "Dr. Blue             False\n",
      "Mr. Red              False\n"
     ]
    }
   ],
   "source": [
    "names = [\"Mrs. Purple\", \"Miss. White\", \"Ms. Yellow\", \"Dr. Blue\", \"Mr. Red\"]\n",
    "\n",
    "match_against(names, \"(Mrs\\.)|(Miss\\.)|(Ms\\.)\")"
   ]
  },
  {
   "cell_type": "markdown",
   "metadata": {},
   "source": [
    "  \n",
    "Any regular expression element can be alternated with |:\n",
    "\n",
    "    [a-z]|[A-Z] same as [a-zA-Z]\n",
    "    b|g  matches b or g, same as [bg]\n",
    "    (b[aeiou]+k)|(d[aeiou]+t) matches both book and duet\n",
    "    \n",
    "But grouped subexpressions are the most useful thing to alternate -- usually character classes can capture most other patterns."
   ]
  },
  {
   "cell_type": "code",
   "execution_count": 68,
   "metadata": {},
   "outputs": [
    {
     "name": "stdout",
     "output_type": "stream",
     "text": [
      "beak\n",
      "book\n",
      "diet\n",
      "dot\n",
      "duet\n"
     ]
    }
   ],
   "source": [
    "match_words(\"((b[aeiou]+k)|(d[aeiou]+t))$\")"
   ]
  },
  {
   "cell_type": "markdown",
   "metadata": {},
   "source": [
    "### Captures and extraction\n",
    "As well as being able to do interesting alternation, every time a group is used, a regular expression matcher *captures* the contents of a group. This is how regular expressions can be used to extract specific text.\n",
    "\n",
    "Every capture is numbered, counting the number of ( from the left. So if I wanted to capture someone's title and their name following their title:\n",
    "\n",
    "    (Mr|Mrs|Dr|Ms|Miss|Sir|Lord|Dame)\\. (\\w*)\n",
    "\n",
    "Then the title would be in capture 0 and their name would be in capture 1.\n",
    "\n",
    "`re.match()` lets us get at those groups, by calling `.groups()` on the return value."
   ]
  },
  {
   "cell_type": "code",
   "execution_count": 69,
   "metadata": {},
   "outputs": [
    {
     "name": "stdout",
     "output_type": "stream",
     "text": [
      "Mrs. Purple          True\n",
      "Miss. White          True\n",
      "Ms. Yellow           True\n",
      "Dr. Blue             True\n",
      "Mr. Red              True\n",
      "Lord. Black          True\n"
     ]
    }
   ],
   "source": [
    "names = [\"Mrs. Purple\", \"Miss. White\", \"Ms. Yellow\", \"Dr. Blue\", \"Mr. Red\", \"Lord. Black\"]\n",
    "# simple matching\n",
    "match_against(names, \"(Mr|Mrs|Dr|Ms|Miss|Sir|Lord|Dame)\\. (\\w*)\")"
   ]
  },
  {
   "cell_type": "code",
   "execution_count": 70,
   "metadata": {},
   "outputs": [
    {
     "name": "stdout",
     "output_type": "stream",
     "text": [
      "Mrs. Purple          ('Mrs', 'Purple')\n",
      "Miss. White          ('Miss', 'White')\n",
      "Ms. Yellow           ('Ms', 'Yellow')\n",
      "Dr. Blue             ('Dr', 'Blue')\n",
      "Mr. Red              ('Mr', 'Red')\n",
      "Lord. Black          ('Lord', 'Black')\n"
     ]
    }
   ],
   "source": [
    "names = [\"Mrs. Purple\", \"Miss. White\", \"Ms. Yellow\", \"Dr. Blue\", \"Mr. Red\", \"Lord. Black\"]\n",
    "# now we actually use the captures\n",
    "def print_groups(tests, pattern):\n",
    "    for test in tests:\n",
    "        print(test.ljust(20), end=' ')\n",
    "        match = re.match(pattern, test)\n",
    "        if match is not None:\n",
    "            print(match.groups()) # groups gets a list of the captures\n",
    "print_groups(names, \"(Mr|Mrs|Dr|Ms|Miss|Sir|Lord|Dame)\\. (\\w*)\")"
   ]
  },
  {
   "cell_type": "markdown",
   "metadata": {},
   "source": [
    "### Substitution\n",
    "We can also do regular expression find and replace. This lets us find text matching a pattern and replace it:\n",
    "\n",
    "`re.sub` performs this operation:"
   ]
  },
  {
   "cell_type": "code",
   "execution_count": 71,
   "metadata": {},
   "outputs": [
    {
     "name": "stdout",
     "output_type": "stream",
     "text": [
      "Mrs. Purple          => <title> Purple\n",
      "Miss. White          => <title> White\n",
      "Ms. Yellow           => <title> Yellow\n",
      "Dr. Blue             => <title> Blue\n",
      "Mr. Red              => <title> Red\n",
      "Lord. Black          => <title> Black\n"
     ]
    }
   ],
   "source": [
    "def sub_list(tests, pattern, replacement):\n",
    "    for test in tests:\n",
    "        print(test.ljust(20), \"=>\", end=' ')\n",
    "        subst = re.sub(pattern,  replacement, test)\n",
    "        print(subst)\n",
    "        \n",
    "sub_list(names, \"(Mr|Mrs|Dr|Ms|Miss|Sir|Lord|Dame)\\.\", \"<title>\")"
   ]
  },
  {
   "cell_type": "markdown",
   "metadata": {},
   "source": [
    "## Back references\n",
    "We can refer to the value of any previous captured group using the notation `\\<n>` where `<n>` is an integer specifying the index of the group (+1: \\0 means the whole string, so \\1 is the first capture). This works in substitutions:\n"
   ]
  },
  {
   "cell_type": "code",
   "execution_count": 72,
   "metadata": {},
   "outputs": [
    {
     "name": "stdout",
     "output_type": "stream",
     "text": [
      "Mrs. Purple          => {'title': 'Mrs', 'name': 'Purple'}\n",
      "Miss. White          => {'title': 'Miss', 'name': 'White'}\n",
      "Ms. Yellow           => {'title': 'Ms', 'name': 'Yellow'}\n",
      "Dr. Blue             => {'title': 'Dr', 'name': 'Blue'}\n",
      "Mr. Red              => {'title': 'Mr', 'name': 'Red'}\n",
      "Lord. Black          => {'title': 'Lord', 'name': 'Black'}\n"
     ]
    }
   ],
   "source": [
    "def sub_list(tests, pattern, replacement):\n",
    "    for test in tests:\n",
    "        print(test.ljust(20), \"=>\", end=' ')\n",
    "        subst = re.sub(pattern,  replacement, test)\n",
    "        print(subst)\n",
    "# the \\1 refers to the title and the \\2 refers to the name\n",
    "sub_list(names, \"(Mr|Mrs|Dr|Ms|Miss|Sir|Lord|Dame)\\. (\\w*)\", \n",
    "         r\"{'title': '\\1', 'name': '\\2'}\")"
   ]
  },
  {
   "cell_type": "markdown",
   "metadata": {},
   "source": [
    "Back references actually work in the matching part as well, and allow us to force a previously match value to be used again."
   ]
  },
  {
   "cell_type": "code",
   "execution_count": 73,
   "metadata": {},
   "outputs": [
    {
     "name": "stdout",
     "output_type": "stream",
     "text": [
      "veer\n",
      "veered\n",
      "veering\n",
      "veers\n",
      "voodoo\n"
     ]
    }
   ],
   "source": [
    "# match everything that has a v, followed by two of the **same** vowel\n",
    "match_words(r\"v([aeiou])\\1\")"
   ]
  },
  {
   "cell_type": "markdown",
   "metadata": {},
   "source": [
    "### Matching versus finding\n",
    "* `re.match()` finds a pattern at the start of a string.\n",
    "* `re.search()` find the first pattern in a string (like match, but the pattern does not have to match at the start of the string).\n",
    "* `re.findall()` can find **multiple** matches in a string, and returns them in a list"
   ]
  },
  {
   "cell_type": "code",
   "execution_count": 74,
   "metadata": {},
   "outputs": [
    {
     "name": "stdout",
     "output_type": "stream",
     "text": [
      "('Mrs', 'Purple')\n",
      "('Mrs', 'Purple')\n"
     ]
    }
   ],
   "source": [
    "# one massive string\n",
    "names = \"\"\"Mrs. Purple, Miss. White, Ms. Yellow, Dr. Blue, Mr. Red, Lord. Black\"\"\"\n",
    "# just matched the first one\n",
    "print(re.match(\"(Mr|Mrs|Dr|Ms|Miss|Sir|Lord|Dame)\\. (\\w*)\", names).groups())\n",
    "# search does the same thing here\n",
    "print(re.search(\"(Mr|Mrs|Dr|Ms|Miss|Sir|Lord|Dame)\\. (\\w*)\", names).groups())"
   ]
  },
  {
   "cell_type": "code",
   "execution_count": 75,
   "metadata": {},
   "outputs": [
    {
     "name": "stdout",
     "output_type": "stream",
     "text": [
      "None\n",
      "('Mrs', 'Purple')\n"
     ]
    }
   ],
   "source": [
    "names = \"\"\"some stuff Mrs. Purple, Miss. White, Ms. Yellow, Dr. Blue, Mr. Red, Lord. Black\"\"\"\n",
    "# will *not* match, because of some stuff at the start\n",
    "print(re.match(\"(Mr|Mrs|Dr|Ms|Miss|Sir|Lord|Dame)\\. (\\w*)\", names))\n",
    "# search still finds the first match\n",
    "print(re.search(\"(Mr|Mrs|Dr|Ms|Miss|Sir|Lord|Dame)\\. (\\w*)\", names).groups())"
   ]
  },
  {
   "cell_type": "code",
   "execution_count": 76,
   "metadata": {},
   "outputs": [
    {
     "name": "stdout",
     "output_type": "stream",
     "text": [
      "('Mrs', 'Purple')\n",
      "('Miss', 'White')\n",
      "('Ms', 'Yellow')\n",
      "('Dr', 'Blue')\n",
      "('Mr', 'Red')\n",
      "('Lord', 'Black')\n"
     ]
    }
   ],
   "source": [
    "### using findall\n",
    "all_matches = re.findall(\"(Mr|Mrs|Dr|Ms|Miss|Sir|Lord|Dame)\\. (\\w*)\", names)\n",
    "# this will just be a list of the groups found\n",
    "for match in all_matches:\n",
    "    print(match)"
   ]
  },
  {
   "cell_type": "markdown",
   "metadata": {
    "collapsed": true
   },
   "source": [
    "### Confused about regular expressions?\n",
    "Try practicing on https://regex101.com/\n",
    "It's very helpful."
   ]
  },
  {
   "cell_type": "markdown",
   "metadata": {},
   "source": [
    "## Finally\n",
    "Feedback on CS1P, please.\n",
    "\n"
   ]
  },
  {
   "cell_type": "code",
   "execution_count": null,
   "metadata": {
    "collapsed": true
   },
   "outputs": [],
   "source": [
    "## Syntax review (from learnxinyminutes.com)"
   ]
  },
  {
   "cell_type": "code",
   "execution_count": null,
   "metadata": {
    "collapsed": true
   },
   "outputs": [],
   "source": [
    "# Strings are created with \" or '\n",
    "\"This is a string.\"\n",
    "'This is also a string.'\n",
    "\n",
    "# Strings can be added too!\n",
    "\"Hello \" + \"world!\"  # => \"Hello world!\"\n",
    "# Strings can be added without using '+'\n",
    "\"Hello \" \"world!\"  # => \"Hello world!\"\n",
    "\n",
    "# ... or multiplied\n",
    "\"Hello\" * 3  # => \"HelloHelloHello\"\n",
    "\n",
    "# A string can be treated like a list of characters\n",
    "\"This is a string\"[0]  # => 'T'\n",
    "\n",
    "# You can find the length of a string\n",
    "len(\"This is a string\")  # => 16\n",
    "\n",
    "#String formatting with %\n",
    "#Even though the % string operator will be deprecated on Python 3.1 and removed\n",
    "#later at some time, it may still be good to know how it works.\n",
    "x = 'apple'\n",
    "y = 'lemon'\n",
    "z = \"The items in the basket are %s and %s\" % (x,y)"
   ]
  },
  {
   "cell_type": "markdown",
   "metadata": {},
   "source": [
    "##### Regular expressions\n",
    "See http://www.rexegg.com/regex-quickstart.html for a complete guide."
   ]
  },
  {
   "cell_type": "markdown",
   "metadata": {
    "collapsed": true
   },
   "source": [
    "## Week review\n",
    "## Week Review\n",
    "\n",
    "* Strings are sequences of characters.\n",
    "* A character is a length 1 string.\n",
    "* Every character has a numerical code.\n",
    "* ASCII codes range from 0-127 and cover \"standard\" (unaccented, Arabic/Latin) numbers, letters and punctuation.\n",
    "* `chr()` converts integers to characters, and `ord()` converts characters to integers.\n",
    "* Strings can be split into a list of elements with `string.split()`\n",
    "* A list of strings can be joined together using `\"sep\".join(list)`\n",
    "* Trailing whitespace can be removed with `strip()`\n",
    "* In Python, strings are **immutable**.\n",
    "* We can justify strings easily using `ljust()`, `rjust()` and `center()`\n",
    "* We can test for substrings using `in`\n",
    "* We can find the location of substrings using `index()`\n",
    "* We can substitute substrings using `replace()`\n",
    "* We can change the case of text using `upper()`, `lower()` and `capitalize()`.\n",
    "* We can format strings using `%` to substitute in values. \n",
    "#### Regular expressions\n",
    "* Regular expressions allows to match using flexible templates.\n",
    "* Regexs use special characters to specify matching templates.\n",
    "* Any special character can be **escaped** by preceding with a `\\ ` to make it behave as a regular character.\n",
    "* . means match any character (\"c.tl.ss\" matches \"cutlass\")\n",
    "* We can allow character to be repeated using * (zero or more), + (one or more) and ? (zero or one) `\"gl.*ow\"` matches anything beginning `gl` and ending in `ow`, including `glow` and `glasgow`\n",
    "* `$` and `^` allow us to force a pattern to match at the end or beginning of a string, respectively.\n",
    "* We can use **character classes** to represent a set of characters that can be matched. `[abc]` matches a,b or c.\n",
    "* A range of consecutive characters in a character class using `-` and we can invert a character class using `^` (meaning anything *but* any of these)\n",
    "* We can group characters together using `()`\n",
    "* We can alternate groups using `|` meaning \"or\" `(cat)|(dog)` means match either `cat` or `dog`\n",
    "* We can capture groups to extract information from a match.\n",
    "* We can use capture groups to perform very flexible substitutions."
   ]
  }
 ],
 "metadata": {
  "kernelspec": {
   "display_name": "Python 3",
   "language": "python",
   "name": "python3"
  },
  "language_info": {
   "codemirror_mode": {
    "name": "ipython",
    "version": 3
   },
   "file_extension": ".py",
   "mimetype": "text/x-python",
   "name": "python",
   "nbconvert_exporter": "python",
   "pygments_lexer": "ipython3",
   "version": "3.6.1"
  }
 },
 "nbformat": 4,
 "nbformat_minor": 1
}
