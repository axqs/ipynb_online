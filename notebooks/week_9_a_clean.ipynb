{
 "cells": [
  {
   "cell_type": "markdown",
   "metadata": {},
   "source": [
    "# Week 9 : Lecture A \n",
    " ## Functional: Comprehensions, closures and lambda\n",
    " ##### CS1P - University of Glasgow - John H. Williamson - 2017/2018 - Python 3.x"
   ]
  },
  {
   "cell_type": "markdown",
   "metadata": {},
   "source": [
    "# Functional approaches\n",
    "## Spreadsheets\n",
    "The way in which most people (i.e. not programmers) deal with \"complex\" computations on data\n",
    "<img src=\"imgs/spreadsheet.png\">\n",
    "Spreadsheets are **functional**; you write expressions in terms of the values of other cells, and the result of evaluating those expressions populate the result cells.\n",
    "\n",
    "Every cell is a direct mapping of the value of other cells on the spreadsheet. Expression cells update as the sheet changes; there is no **hidden** data in the background."
   ]
  },
  {
   "cell_type": "markdown",
   "metadata": {},
   "source": [
    "## Functional programming\n",
    "Functional programming does not mean using functions in programming :) Rather, it restricts programming to operations which work as mathematical functions do: i.e. a map from one set to another:\n",
    "\n",
    "$$ y = f(x)$$\n",
    "\n",
    "A *pure* functional program is simply lots of such functions joined together\n",
    "\n",
    "$$ o = f(g(h(x_1), k(h(x_2)), i(x_3)) $$\n",
    "\n",
    "the $x_i$ are inputs, and unlike \"high school\" functions they don't have to act on numbers, but can act on any type at all, and they can have any number of arguments.\n",
    "\n",
    "### Why bother? \n",
    "This seems much less flexible than using for loops and writing things into dictionaries and all the usual things we expect to do when programming. So why restrict ourselves to this very limited form of programs? Is this even enough to do anything useful?"
   ]
  },
  {
   "cell_type": "markdown",
   "metadata": {},
   "source": [
    "### Side effects and mutability\n",
    "We have seen throughout the course the complexity that can arise when we have **mutable** data structures. We have can get into serious trouble when we have multiple references to a single mutable data structure and can cause \"spooky action at a distance\" -- a change somewhere in the code can cause side-effects in some completely different and apparently unconnected part."
   ]
  },
  {
   "cell_type": "markdown",
   "metadata": {},
   "source": [
    "And ordinary variables are essentially a big, mutable dictionary which is already in the \"background\" (this is almost exactly how Python variables are actually implemented). "
   ]
  },
  {
   "cell_type": "code",
   "execution_count": null,
   "metadata": {
    "collapsed": true
   },
   "outputs": [],
   "source": [
    "# the currently bound local variables\n",
    "x = 20\n",
    "test = \"string\"\n",
    "# locals() returns us the local variables as a dictionary\n",
    "print(locals()[\"x\"])\n",
    "print(locals()[\"test\"])\n",
    "\n",
    "# we can write to it as well...\n",
    "# this is the same as writing \n",
    "# test = \"side-effect\"\n",
    "locals()[\"test\"] = \"side-effect\"\n",
    "print(test)"
   ]
  },
  {
   "cell_type": "markdown",
   "metadata": {},
   "source": [
    "**This implies that the problems of mutability extend to just using ordinary variables!**"
   ]
  },
  {
   "cell_type": "markdown",
   "metadata": {
    "collapsed": true
   },
   "source": [
    "## Immutable data structures\n",
    "A purely functional language **only** has immutable data structures. Everything is fixed when it is created and nothing can be modified. Languages like Clojure, ML and Haskell have data structures of this type.\n",
    "\n",
    "*This is just a powerful as any other form of computation.*\n",
    "\n",
    "However, it can be an interesting challenge to formulate problems in this structure, and there can be performance issues: for example, appending an element to a list **must** involve copying the original list.\n",
    "\n",
    "But in this world, all of the problems with multiple variables refering to the same value go away; we never have *aliasing* issues like this:\n"
   ]
  },
  {
   "cell_type": "code",
   "execution_count": null,
   "metadata": {
    "collapsed": true
   },
   "outputs": [],
   "source": [
    "a = [1,2,3]\n",
    "b = a\n",
    "del a[1]\n",
    "print(b) # b got changed!"
   ]
  },
  {
   "cell_type": "markdown",
   "metadata": {},
   "source": [
    "## Flow model of computation\n",
    "Because this lets us be sure that each step of a program can be independent of the next, we can reason about the code as a **flow of data through a graph**. One node process data (a function) and passes it to the next.\n",
    "\n",
    "The heavy lifting tools in deep learning (Theano, TensorFlow, Caffe), complex visual editing tools (like the node editors of Blender etc.) and the backbones of big data processing (Hadoop, Spark, MapReduce) etc. work in this way. \n",
    "\n",
    "By transforming the program into a data flow graph, the nodes can be split up across cores, processors, servers, in a cluster or in the cloud. The art of \"big data\" is really being able to write code as functional graphs.\n",
    "\n",
    "<img src=\"imgs/blendernodes.png\">\n"
   ]
  },
  {
   "cell_type": "markdown",
   "metadata": {},
   "source": [
    "### Why?\n",
    "#### Non-functional\n",
    "<img src=\"imgs/bad_wiring.jpg\">\n",
    "#### Functional\n",
    "<img src=\"imgs/good_wiring.jpg\" width=\"400px\">\n",
    "\n",
    "### Functional programming is arguable a more elegant approach to programming\n",
    "\n",
    "## Faster: Optimization\n",
    "The simple form of functional programs, and the certainty with which **dependencies** can be traced makes it possible to implement sophisticated automatic optimisations.\n",
    "\n",
    "    f(g(x), h(g(x), g(x))\n",
    "    \n",
    "    -> y=g(x), f(y, h(y,y))\n",
    "    \n",
    "This kind of transform is only guaranteed to be correct if we can be absolutely sure that `g(x)` has no side effects."
   ]
  },
  {
   "cell_type": "markdown",
   "metadata": {},
   "source": [
    "### Functional: no side affects, result is good"
   ]
  },
  {
   "cell_type": "code",
   "execution_count": null,
   "metadata": {
    "collapsed": true
   },
   "outputs": [],
   "source": [
    "def f(x, y):\n",
    "    return [x]+y\n",
    "\n",
    "def g(x):\n",
    "    return x**2\n",
    "\n",
    "def h(x,y):\n",
    "    return [y-1, x+1]\n",
    "\n",
    "x = 3\n",
    "print(f(g(x), h(g(x), g(x))))"
   ]
  },
  {
   "cell_type": "code",
   "execution_count": null,
   "metadata": {
    "collapsed": true
   },
   "outputs": [],
   "source": [
    "# this is fine\n",
    "y = g(x)\n",
    "print(f(y, h(y, y)))"
   ]
  },
  {
   "cell_type": "markdown",
   "metadata": {},
   "source": [
    "### Non-functional: side effect, result is wrong"
   ]
  },
  {
   "cell_type": "code",
   "execution_count": null,
   "metadata": {
    "collapsed": true
   },
   "outputs": [],
   "source": [
    "def f(x, y):\n",
    "    return [x]+y\n",
    "\n",
    "def g(x):\n",
    "    global t\n",
    "    t += x\n",
    "    return t**2\n",
    "\n",
    "def h(x,y):\n",
    "    return [y-1,x+1]\n",
    "\n",
    "t = 0\n",
    "x = 3\n",
    "print(f(g(x), h(g(x), g(x))))"
   ]
  },
  {
   "cell_type": "code",
   "execution_count": null,
   "metadata": {
    "collapsed": true
   },
   "outputs": [],
   "source": [
    "# this is not fine; this does something different than the line above\n",
    "t = 0\n",
    "y = g(x)\n",
    "print(f(y, h(y, y)))"
   ]
  },
  {
   "cell_type": "markdown",
   "metadata": {},
   "source": [
    "An optimising compiler for  functional code can make **much** stronger assumptions about the interlinking of code. This allows aggressive optimisations -- which might completely reorganise the flow of execution -- to be made safely."
   ]
  },
  {
   "cell_type": "markdown",
   "metadata": {},
   "source": [
    "\n",
    "##  Better: GPUs and parallelisation\n",
    "Because there are no side effects, a functional program can often be cleanly broken up into guaranteed non-intefering segments. **These can be run in parallel**. \n",
    "\n",
    "GPUs, for example, are by far the most computationally powerful part of any modern computer system. But their power is acheived through thousands of cores which all compute at the same time. Data from one core can never depend upon another (otherwise cores would have to wait for each other). In other words, each core must compute some independent **function** of a fixed input.\n",
    "\n",
    "<img src=\"imgs/shader_demo.png\">\n",
    "*[Image credit: https://www.shadertoy.com/view/llK3Dy]*\n",
    "\n",
    "GPU programming is essentially functional programming. For example, to write an image effect as a shader, you have to write a function that will be applied to each pixel independently. It can have no side effects which might change the state of other pixels.\n",
    "\n",
    "Likewise, processing huge databases requires massive **concurrency**. Concurrency is very (very!) hard to get correct unless programs can be broken up into sections which have *no* interdependcies; i.e. no side-effects.\n"
   ]
  },
  {
   "cell_type": "markdown",
   "metadata": {},
   "source": [
    "## Stronger: Correctness\n",
    "If we know that there can **never** be side-effects, it is much easier to reason about correctness. In fact, for certain kind of operations, it is possible to **prove** (in the mathematical sense) that an implementation will do the right thing.\n",
    "\n",
    "<img src=\"imgs/rocket.jpg\">\n",
    "*[Image credit: NASA, public domain]*\n",
    "\n",
    "If you are building rocket controllers or pacemakers or train signals, a guarantee of correctness may be worth more than a simple or flexible implementation."
   ]
  },
  {
   "cell_type": "markdown",
   "metadata": {},
   "source": [
    "# Functional Python\n",
    "Python is not a functional language, but many functional constructs can be used. The **discipline** of functional programming is a potent mindset in approaching problems. It may not be convenient or practical to use a purely functional approach, but taking a functional approach for at least some of the implementation can make coding much cleaner and more robust.\n",
    "\n",
    "The key thing to remember is that we work by transforming data in \"passes\"; each pass is a function, and our whole program is just a sequence of functions."
   ]
  },
  {
   "cell_type": "markdown",
   "metadata": {},
   "source": [
    "## Elegant functional programming\n",
    "Python (along with Haskell and some other modern languages) has a very elegant way of implementing functional transformations. These are called **comprehensions** and they allow us to specify a transformation from one compound data type to another in terms of operations on each element.\n",
    "\n",
    "Comprehensions are functional; they represent a \"straight through\" transformation and can have no side-effects whatsoever. Comprehensions cannot make in-place changes to the data types they are working on.\n",
    "\n",
    "\n",
    "**Most importantly, comprehensions are short and easy to read. They precisely and cleanly represent lots of things we might want to do.**. They are also very efficient (because of the strong assumptions Python can make about what they are going to do), often much faster than explicit loops. \n"
   ]
  },
  {
   "cell_type": "code",
   "execution_count": null,
   "metadata": {
    "collapsed": true
   },
   "outputs": [],
   "source": [
    "# consider this definition: it transforms a list by \n",
    "# doubling each element\n",
    "\n",
    "def double(l):\n",
    "    new_l =[]\n",
    "    for x in l:\n",
    "        new_l.append(x*2)\n",
    "    return new_l\n",
    "\n",
    "print(double([1,2,3,4]))"
   ]
  },
  {
   "cell_type": "markdown",
   "metadata": {},
   "source": [
    "### Comprehensions\n",
    "In maths, we would write this transformation as:\n",
    "$$\\{2 x\\  |\\  x \\in \\{1,2,3,4\\}\\}$$\n",
    "(the set of values defined by `2*x` for each `x` in the set `{1,2,3,4}`). This is called set builder notation.\n",
    "\n",
    "We can write the same equivalent code almost directly in Python. The syntax is\n",
    "\n",
    "    [expression for var in seq]\n",
    "\n",
    "Comprehensions allows us to use a variant of this notation to quickly write **transformations** of lists, where we apply an operation to every element of a list. This operation is sometimes called **map** (because it maps each value in a list to another value).\n",
    "For example:\n",
    "  "
   ]
  },
  {
   "cell_type": "code",
   "execution_count": 2,
   "metadata": {},
   "outputs": [
    {
     "name": "stdout",
     "output_type": "stream",
     "text": [
      "[2, 4, 6, 8]\n"
     ]
    }
   ],
   "source": [
    "nums = [1,2,3,4]\n",
    "\n",
    "# double nums \n",
    "print([(i*2) for i in nums])"
   ]
  },
  {
   "cell_type": "markdown",
   "metadata": {},
   "source": [
    "$$\\{(x,x)\\  |\\  x \\in \\{1,2,3,4\\}\\}$$"
   ]
  },
  {
   "cell_type": "code",
   "execution_count": 3,
   "metadata": {},
   "outputs": [
    {
     "name": "stdout",
     "output_type": "stream",
     "text": [
      "[[1, 1], [2, 2], [3, 3], [4, 4]]\n"
     ]
    }
   ],
   "source": [
    "# repeat each element twice\n",
    "print([[i,i] for i in nums])"
   ]
  },
  {
   "cell_type": "code",
   "execution_count": 22,
   "metadata": {},
   "outputs": [
    {
     "data": {
      "text/plain": [
       "[5, 10, 15, 20]"
      ]
     },
     "execution_count": 22,
     "metadata": {},
     "output_type": "execute_result"
    }
   ],
   "source": [
    "def scale_by(nums, n):\n",
    "    return [i*n for i in nums]\n",
    "\n",
    "scale_by([1,2,3,4],5)"
   ]
  },
  {
   "cell_type": "markdown",
   "metadata": {},
   "source": [
    "We have a for loop, with an loop variable, and a sequence we are iterating over. We just put the whole expression inside square brackets: this means \"do all these operations\" and collect the results back into a list.\n",
    "\n",
    "**This is called a list comprehension.**"
   ]
  },
  {
   "cell_type": "markdown",
   "metadata": {},
   "source": [
    "Many operations can be written as comprehensions: for example taking a list of points and finding the list of x-coordinates and the list of y-coordinates:"
   ]
  },
  {
   "cell_type": "code",
   "execution_count": 23,
   "metadata": {},
   "outputs": [
    {
     "name": "stdout",
     "output_type": "stream",
     "text": [
      "[(0, 1), (2, 2), (-1, 6), (7, 8)]\n",
      "[[0, 2, -1, 7], [1, 2, 6, 8]]\n"
     ]
    }
   ],
   "source": [
    "# select the first or seconds element of a list of pairs\n",
    "pairs = [(0,1), (2,2), (-1, 6), (7,8)]\n",
    "print(pairs)\n",
    "print([[pair[0] for pair in pairs], [pair[1] for pair in pairs]])"
   ]
  },
  {
   "cell_type": "markdown",
   "metadata": {},
   "source": [
    "### When to use a comprehension\n",
    "If you have code which looks like:\n",
    "\n",
    "    l = []\n",
    "    for elt in some_list:\n",
    "        <some operations on elt>\n",
    "        l.append(result)\n",
    "        \n",
    "you can often write it *much* more clearly as a comprehension."
   ]
  },
  {
   "cell_type": "code",
   "execution_count": 25,
   "metadata": {},
   "outputs": [
    {
     "name": "stdout",
     "output_type": "stream",
     "text": [
      "100 loops, best of 3: 13.8 ms per loop\n"
     ]
    }
   ],
   "source": [
    "%%timeit\n",
    "## and it is faster\n",
    "[i*2 for i in range(200000)]"
   ]
  },
  {
   "cell_type": "code",
   "execution_count": 26,
   "metadata": {},
   "outputs": [
    {
     "name": "stdout",
     "output_type": "stream",
     "text": [
      "10 loops, best of 3: 23.7 ms per loop\n"
     ]
    }
   ],
   "source": [
    "%%timeit\n",
    "# slower\n",
    "l = []\n",
    "for i in range(200000):        \n",
    "    l.append(i*2)"
   ]
  },
  {
   "cell_type": "markdown",
   "metadata": {},
   "source": [
    "### Nested comprehensions: multiple `for` statements\n",
    "Just as we can nest `for` loops, we can have multiple for statements in a comprehension. However, except in very simple cases, it's usually a bad idea to have multiple for statements in a comprehension, because the logic gets hard to follow."
   ]
  },
  {
   "cell_type": "code",
   "execution_count": 7,
   "metadata": {},
   "outputs": [
    {
     "name": "stdout",
     "output_type": "stream",
     "text": [
      "[(1, 0, 0), (2, 0, 0), (2, 1, 2), (3, 0, 0), (3, 1, 3), (3, 2, 6), (4, 0, 0), (4, 1, 4), (4, 2, 8), (4, 3, 12)]\n",
      "[(1, 0, 0), (2, 0, 0), (2, 1, 2), (3, 0, 0), (3, 1, 3), (3, 2, 6), (4, 0, 0), (4, 1, 4), (4, 2, 8), (4, 3, 12)]\n"
     ]
    }
   ],
   "source": [
    "## we can have multiple fors\n",
    "nums = [0,1,2,3,4]\n",
    "print([(i,j,i*j) for i in nums for j in range(i)])\n",
    "\n",
    "## This is the same as\n",
    "l = []\n",
    "for i in nums:\n",
    "    for j in range(i):        \n",
    "            l.append((i,j,i*j))\n",
    "print(l)"
   ]
  },
  {
   "cell_type": "markdown",
   "metadata": {},
   "source": [
    "## Filtering: if tests\n",
    "As well as **mapping** an operation onto elements of a sequence,\n",
    "we can also **filter** elements. This allows us to conditionally remove elements which fail some test.\n",
    "\n",
    "Again, in mathematical notation we might write:\n",
    "\n",
    "$$\\{2 x\\  |\\  x \\in \\mathbb{Z}, 0 < x < 10 \\land x\\  \\text{odd}\\}$$\n",
    "The condition on the end here $$0 < x < 10 \\land x\\  \\text{odd}$$ is a filter; it only \"lets through\" odd integers in the range [0,10). \n",
    "\n",
    "Between **map** and **filter** we have a very powerful set of primitives."
   ]
  },
  {
   "cell_type": "code",
   "execution_count": 3,
   "metadata": {},
   "outputs": [
    {
     "name": "stdout",
     "output_type": "stream",
     "text": [
      "['yellow', 'red', 'orange', 'violet', 'indigo', 'green']\n"
     ]
    }
   ],
   "source": [
    "colors = [\"yellow\", \"red\", \"blue\", \"orange\", \"violet\",\n",
    "          \"indigo\", \"green\"]\n",
    "\n",
    "# remove colors which have \"u\" in them -- i.e. keep those without \"u\"\n",
    "print([c for c in colors if \"u\" not in c])"
   ]
  },
  {
   "cell_type": "code",
   "execution_count": 30,
   "metadata": {},
   "outputs": [
    {
     "name": "stdout",
     "output_type": "stream",
     "text": [
      "[2, 6, 10, 14, 18, 22, 26, 30, 34, 38]\n"
     ]
    }
   ],
   "source": [
    "# print twice every odd number\n",
    "print([x*2 for x in range(20) if x%2!=0])"
   ]
  },
  {
   "cell_type": "code",
   "execution_count": 31,
   "metadata": {},
   "outputs": [
    {
     "name": "stdout",
     "output_type": "stream",
     "text": [
      "['E', 'O', 'E', 'O', 'A', 'E', 'I', 'O', 'E', 'I', 'I', 'O', 'E', 'E']\n"
     ]
    }
   ],
   "source": [
    "# note that we can combine multiple for and if tests\n",
    "# print the uppercase version of all the vowels \n",
    "# from all the colors that don't have any \"u\"s in them\n",
    "print([char.upper() for c in colors for char in c \n",
    "       if \"u\" not in c if char in 'aeiou'])"
   ]
  },
  {
   "cell_type": "markdown",
   "metadata": {},
   "source": [
    "We can even (very inefficiently) compute prime numbers:"
   ]
  },
  {
   "cell_type": "code",
   "execution_count": 32,
   "metadata": {},
   "outputs": [
    {
     "name": "stdout",
     "output_type": "stream",
     "text": [
      "[2, 3, 5, 7, 11, 13, 17, 19, 23, 29, 31, 37, 41, 43, 47, 53, 59, 61, 67, 71, 73, 79, 83, 89, 97, 101, 103, 107, 109, 113, 127, 131, 137, 139, 149, 151, 157, 163, 167, 173, 179, 181, 191, 193, 197, 199, 211, 223, 227, 229, 233, 239, 241, 251, 257, 263, 269, 271, 277, 281, 283, 293, 307, 311, 313, 317, 331, 337, 347, 349, 353, 359, 367, 373, 379, 383, 389, 397, 401, 409, 419, 421, 431, 433, 439, 443, 449, 457, 461, 463, 467, 479, 487, 491, 499]\n"
     ]
    }
   ],
   "source": [
    "# n**0.5+1 means up until the (square root of n) + 1\n",
    "print([n for n in range(2, 500) if \n",
    "     all([n % d != 0 for d in range(2, int(n**0.5+1))])])"
   ]
  },
  {
   "cell_type": "markdown",
   "metadata": {},
   "source": [
    "### Dictionary comprehensions\n",
    "We can generate dictionaries in exactly the same way. However, we must provide both a key and  value for each element in the `for` loop.\n",
    "\n",
    "We use curly brackets, and the first element must be of the form `<key>:<value>`. The key and the value can be any expression, though the key must evaluate to an immutable, hashable value.\n"
   ]
  },
  {
   "cell_type": "code",
   "execution_count": 4,
   "metadata": {},
   "outputs": [
    {
     "name": "stdout",
     "output_type": "stream",
     "text": [
      "{'y': 'yellow', 'r': 'red', 'b': 'blue', 'o': 'orange', 'v': 'violet', 'i': 'indigo', 'g': 'green'}\n",
      "indigo\n",
      "red\n"
     ]
    }
   ],
   "source": [
    "# map first letter of a color to the full name\n",
    "abbrev_colors = {color[0]:color for color in colors}\n",
    "print(abbrev_colors)\n",
    "print(abbrev_colors['i'])\n",
    "print(abbrev_colors['r'])"
   ]
  },
  {
   "cell_type": "code",
   "execution_count": 5,
   "metadata": {},
   "outputs": [
    {
     "name": "stdout",
     "output_type": "stream",
     "text": [
      "{'y': 'yellow', 'r': 'red', 'b': 'blue', 'o': 'orange', 'v': 'violet', 'i': 'indigo', 'g': 'green'}\n"
     ]
    }
   ],
   "source": [
    "print(abbrev_colors)"
   ]
  },
  {
   "cell_type": "code",
   "execution_count": 6,
   "metadata": {},
   "outputs": [
    {
     "name": "stdout",
     "output_type": "stream",
     "text": [
      "{'y': 'yellow', 'r': 'red', 'b': 'blue', 'o': 'orange', 'v': 'violet', 'i': 'indigo', 'g': 'green'}\n",
      "{'yellow': 'y', 'red': 'r', 'blue': 'b', 'orange': 'o', 'violet': 'v', 'indigo': 'i', 'green': 'g'}\n"
     ]
    }
   ],
   "source": [
    "# switch the keys and values of a dictionary\n",
    "inverted = {v:k for k,v in abbrev_colors.items()}\n",
    "print(abbrev_colors)\n",
    "print(inverted)"
   ]
  },
  {
   "cell_type": "markdown",
   "metadata": {},
   "source": [
    "## What can't you do in a comprehension?\n",
    "Comprehensions are powerful, but they are more limited than the full features of Python code. The restrictions that are made allow comprehensions to be fast and have a very simple syntax.\n",
    "\n",
    "*In a comprehension, there can be:*\n",
    "* No indefinite iteration (no `while` style loops, only `for`)\n",
    "* No `break` or `continue` or `return` (no \"unplanned\" exits)\n",
    "* No assignment to variables\n",
    "* No non-expression statements (no `del` for example)\n",
    "* Exactly one output -- we will always get one list or one dictionary back.\n",
    "\n",
    "A comprehension makes a guarantee that the loop will run a *fixed number of times* (which can be determined in advance of the comprehension running), and that *no variables* will change during the execution **except** for the loop variables themselves. \n",
    "\n",
    "#### Comprehensions are functional.\n",
    "\n",
    "They process a sequence of data without any side effects. The expression at the start defines the operation to be applied to each element of a sequence."
   ]
  },
  {
   "cell_type": "markdown",
   "metadata": {},
   "source": [
    "------\n",
    "\n",
    "## First-class functions and closures\n",
    "### Passing functions around\n",
    "Python has first-class functions. They can:\n",
    "* be put into variables\n",
    "* stored in compound data structures\n",
    "* passed to other functions\n",
    "* be returned from other functions\n",
    "\n",
    "We saw that passing functions around makes *event-based programming* easy to implement, and we can use that to set callbacks. \n",
    "\n",
    "Putting functions into compound data structures like dictionaries is a very nice way of mapping from \"commands\" to the code which executes those commands, as in the lab exercise with the text adventure game.\n",
    "\n",
    "The last of these, **returning** from other functions has some very useful applications.\n",
    "\n",
    "### Attaching data to functions: closures"
   ]
  },
  {
   "cell_type": "markdown",
   "metadata": {},
   "source": [
    "We can have **local** variables and **global variables**. But global variables are visible to everything; they are completely public. Local variables are \"safer\" because they can only be seen by that specific function. \n",
    "\n",
    "*But* their values don't persist from call to call. They get reset every time the function is called, and we get a new blank local scope. **Closures** let us have a private set of variables for one function, which do stick around from call to call.\n",
    "\n",
    "All we need to do refer to variables which are created in an **outer scope**, and that function will then carry about the variables it referred to in the outer scope. A simple example:"
   ]
  },
  {
   "cell_type": "code",
   "execution_count": 10,
   "metadata": {},
   "outputs": [
    {
     "name": "stdout",
     "output_type": "stream",
     "text": [
      "4*2 8\n",
      "4*3 12\n",
      "4*2 8\n",
      "2*2*3 12\n"
     ]
    }
   ],
   "source": [
    "def make_multiplier(n):\n",
    "    def multiply(x):\n",
    "        # note that the n here refers to the n\n",
    "        # set *when make_multiplier was called*\n",
    "        # n is \"remembered\"\n",
    "        return x * n\n",
    "    # we return the *function* we just defined\n",
    "    return multiply\n",
    "\n",
    "doubler = make_multiplier(2)\n",
    "print(\"4*2\", doubler(4))\n",
    "\n",
    "tripler = make_multiplier(3)\n",
    "print(\"4*3\", tripler(4))\n",
    "\n",
    "print(\"4*2\", doubler(4))\n",
    "\n",
    "print(\"2*2*3\", doubler(tripler(2)))"
   ]
  },
  {
   "cell_type": "markdown",
   "metadata": {},
   "source": [
    "What happened here?\n",
    "* The value of `n` is **bound** each time `make_multiplier()` is called;\n",
    "* the definition of multiply, which is *inside* `make_multiplier()` then captures that binding (\"closes over\" it),\n",
    "* and then this version of multiply with this binding is returned.\n",
    "\n",
    "Note that we have created a **new, different** version of `multiply()` each time we call `make_multiplier()`. It has manufactured a new function for us."
   ]
  },
  {
   "cell_type": "markdown",
   "metadata": {},
   "source": [
    "Now we can write functions that do **partial application**; that is they bind *some* of their parameters at one time, and bind the remainder later. "
   ]
  },
  {
   "cell_type": "code",
   "execution_count": 11,
   "metadata": {},
   "outputs": [
    {
     "name": "stdout",
     "output_type": "stream",
     "text": [
      "The Giant said 'The things I tell you will not be wrong.' very slowly.\n"
     ]
    }
   ],
   "source": [
    "def part_a(a):\n",
    "    def part_b(b):\n",
    "        def part_c(c):\n",
    "            return \"%s said '%s' %s\" % (a,b,c)\n",
    "        return part_c\n",
    "    return part_b\n",
    "\n",
    "a = part_a\n",
    "a = a(\"The Giant\")\n",
    "a = a(\"The things I tell you will not be wrong.\")\n",
    "a = a(\"very slowly.\")\n",
    "print(a)"
   ]
  },
  {
   "cell_type": "markdown",
   "metadata": {},
   "source": [
    "If we want to write to a variable in an outer scope, we must specify that we are going to do so, in the same way that we had mark `global` variables that we wanted to be writable from within a function.\n",
    "\n",
    "The syntax to do this is `nonlocal`, which marks a variable as being a writable (mutable) variable from an outer scope.\n"
   ]
  },
  {
   "cell_type": "code",
   "execution_count": 14,
   "metadata": {},
   "outputs": [
    {
     "name": "stdout",
     "output_type": "stream",
     "text": [
      "ctr1() 1\n",
      "ctr1() 2\n",
      "ctr1() 3\n",
      "\n",
      "ctr2() 1\n",
      "ctr2() 2\n",
      "\n",
      "ctr1() 4\n",
      "ctr1() 5\n"
     ]
    }
   ],
   "source": [
    "def make_counter():\n",
    "    # note that ctr gets a new value every time\n",
    "    # that make_counter() is called\n",
    "    ctr = 0\n",
    "    def inc():\n",
    "        # we have to specify that we want to be able \n",
    "        # to access ctr for writing\n",
    "        nonlocal ctr\n",
    "        ctr += 1\n",
    "        return ctr\n",
    "    return inc\n",
    "\n",
    "# make two *separate* counters\n",
    "ctr1 = make_counter()\n",
    "ctr2 = make_counter()\n",
    "# show that they are in fact separate\n",
    "print(\"ctr1()\", ctr1())\n",
    "print(\"ctr1()\",ctr1())\n",
    "print(\"ctr1()\",ctr1())\n",
    "print()\n",
    "print(\"ctr2()\",ctr2())\n",
    "print(\"ctr2()\",ctr2())\n",
    "print()\n",
    "print(\"ctr1()\",ctr1())\n",
    "print(\"ctr1()\",ctr1())"
   ]
  },
  {
   "cell_type": "markdown",
   "metadata": {},
   "source": [
    "### Attaching data to functions\n",
    "Now we can attach data to functions. For example, consider the sorting list-of-lists problem:\n"
   ]
  },
  {
   "cell_type": "code",
   "execution_count": 15,
   "metadata": {
    "collapsed": true
   },
   "outputs": [],
   "source": [
    "shopping = [[1, \"mutton\", 2.99], [2, \"cheese\", 3.50], [4, \"soap\", 1.25],\n",
    "            [5, \"gravel\", 24.99]]"
   ]
  },
  {
   "cell_type": "code",
   "execution_count": 16,
   "metadata": {},
   "outputs": [
    {
     "name": "stdout",
     "output_type": "stream",
     "text": [
      "[[1, 'mutton', 2.99], [2, 'cheese', 3.5], [4, 'soap', 1.25], [5, 'gravel', 24.99]]\n",
      "[[2, 'cheese', 3.5], [5, 'gravel', 24.99], [1, 'mutton', 2.99], [4, 'soap', 1.25]]\n",
      "[[4, 'soap', 1.25], [1, 'mutton', 2.99], [2, 'cheese', 3.5], [5, 'gravel', 24.99]]\n"
     ]
    }
   ],
   "source": [
    "def make_key(k):\n",
    "    def key(l):\n",
    "        return l[k]\n",
    "    return key\n",
    "\n",
    "# now we have a \"factory\" that makes\n",
    "# new functions with one of the parameters already bound\n",
    "k1 = make_key(0)\n",
    "k2 = make_key(1)\n",
    "k3 = make_key(2)\n",
    "\n",
    "# we can pass this as the key\n",
    "print(sorted(shopping, key=k1))\n",
    "print(sorted(shopping, key=k2))\n",
    "print(sorted(shopping, key=k3))"
   ]
  },
  {
   "cell_type": "markdown",
   "metadata": {},
   "source": [
    "## Higher-order functions: reduce, map and filter\n",
    "A **higher-order** function is just a function that operates on functions.\n",
    "\n",
    "There are three \"standard\" higher-order functions:\n",
    "\n",
    "* **map** which applies a function to each element of a sequence, like `[2*x for x in l]`\n",
    "* **filter** which selects element where a test is True, like `[x if x%2==0]`\n",
    "* **apply** which applies a function to a *sequence* of arguments, like fn(*args)\n",
    "\n",
    "* **reduce** `reduce(fn, seq)` which applies fn to the first two elements of seq, then applies fn to that result and the next element of seq, and so on.\n",
    "\n",
    "\n",
    "Of these we haven't seen **reduce** or **apply** yet."
   ]
  },
  {
   "cell_type": "code",
   "execution_count": 2,
   "metadata": {
    "collapsed": true
   },
   "outputs": [],
   "source": [
    "from functools import reduce\n",
    "\n",
    "\n",
    "def mul(x, y):\n",
    "    return x * y\n",
    "\n"
   ]
  },
  {
   "cell_type": "markdown",
   "metadata": {},
   "source": [
    "## reduce\n",
    "`reduce` applies **only** to two argument functions, like `mul(x,y)`. \n",
    "\n",
    "Reduce:\n",
    "* takes the first two elements of a sequence and applies the function\n",
    "* then it takes that result, and applies the function to the result and the next element of the sequence\n",
    "* then it takes *that* result, and applies the function to the result and the next element of the sequence\n",
    "\n",
    "\n",
    "So below, `reduce` does the following:\n",
    "    \n",
    "    mul(1, 2)   -> 2\n",
    "    mul(2, 3)   -> 6\n",
    "    mul(6, 4)   -> 24\n",
    "    mul(24, 5)  -> 120\n",
    "    -> 120\n",
    "    \n",
    "or you could see it as doing\n",
    "\n",
    "    mul(1, mul(2, mul(3, mul(4, 5)))))\n",
    "    "
   ]
  },
  {
   "cell_type": "code",
   "execution_count": 6,
   "metadata": {},
   "outputs": [
    {
     "name": "stdout",
     "output_type": "stream",
     "text": [
      "120\n"
     ]
    }
   ],
   "source": [
    "print(reduce(mul, [1, 2, 3, 4, 5]))"
   ]
  },
  {
   "cell_type": "code",
   "execution_count": 7,
   "metadata": {},
   "outputs": [
    {
     "name": "stdout",
     "output_type": "stream",
     "text": [
      "one-two-three-four\n"
     ]
    }
   ],
   "source": [
    "def concat(x,y):\n",
    "    return x+\"-\"+y\n",
    "\n",
    "# we can implement join like functionality using reduce\n",
    "print(reduce(concat, [\"one\", \"two\", \"three\", \"four\"]))"
   ]
  },
  {
   "cell_type": "code",
   "execution_count": 8,
   "metadata": {
    "collapsed": true
   },
   "outputs": [],
   "source": [
    "# this is how reduce is implemented\n",
    "def myreduce(fn, args):\n",
    "    if len(args)>2:        \n",
    "        result = args[0] \n",
    "        for arg in args[1:]:\n",
    "            result = fn(result, arg)\n",
    "        return result\n",
    "    return None"
   ]
  },
  {
   "cell_type": "code",
   "execution_count": 9,
   "metadata": {},
   "outputs": [
    {
     "name": "stdout",
     "output_type": "stream",
     "text": [
      "one-two-three-four\n"
     ]
    }
   ],
   "source": [
    "print(myreduce(concat, [\"one\", \"two\", \"three\", \"four\"]))"
   ]
  },
  {
   "cell_type": "markdown",
   "metadata": {},
   "source": [
    "## zip\n",
    "There is one other very useful function when working functionally. `zip` takes a list of sequences, and returns a sequence of the tuples drawn from those sequences.\n",
    "\n",
    "In other words, it *peels* one element at a time off multiple sequences, and returns a tuple of those elements.\n",
    "\n",
    "It is very useful in combination with parallel assignment to iterate over several sequences at the same time.\n",
    "\n",
    "For example, consider this:"
   ]
  },
  {
   "cell_type": "code",
   "execution_count": 42,
   "metadata": {},
   "outputs": [
    {
     "name": "stdout",
     "output_type": "stream",
     "text": [
      "1 a\n",
      "2 b\n",
      "3 c\n",
      "4 d\n"
     ]
    }
   ],
   "source": [
    "x = [1,2,3,4]\n",
    "y = [\"a\", \"b\", \"c\", \"d\"]\n",
    "\n",
    "for i in range(len(x)):\n",
    "    print(x[i], y[i])"
   ]
  },
  {
   "cell_type": "markdown",
   "metadata": {},
   "source": [
    "`zip` lets you write this much more directly:"
   ]
  },
  {
   "cell_type": "code",
   "execution_count": 43,
   "metadata": {},
   "outputs": [
    {
     "name": "stdout",
     "output_type": "stream",
     "text": [
      "1 a\n",
      "2 b\n",
      "3 c\n",
      "4 d\n"
     ]
    }
   ],
   "source": [
    "for xi, yi in zip(x,y):\n",
    "    print(xi, yi)"
   ]
  },
  {
   "cell_type": "code",
   "execution_count": 45,
   "metadata": {},
   "outputs": [
    {
     "name": "stdout",
     "output_type": "stream",
     "text": [
      "1 a 4\n",
      "2 b 3\n",
      "3 c 2\n",
      "4 d 1\n"
     ]
    }
   ],
   "source": [
    "# zip can take any number of sequences\n",
    "for xi, yi, zi in zip(x,y,x[::-1]):\n",
    "    print(xi, yi, zi)"
   ]
  },
  {
   "cell_type": "code",
   "execution_count": 46,
   "metadata": {},
   "outputs": [
    {
     "name": "stdout",
     "output_type": "stream",
     "text": [
      "[1, 2, 3, 4]\n",
      "['a', 'b', 'c', 'd']\n",
      "[(1, 'a'), (2, 'b'), (3, 'c'), (4, 'd')]\n"
     ]
    }
   ],
   "source": [
    "print(x)\n",
    "print(y)\n",
    "print(list(zip(x,y)))"
   ]
  },
  {
   "cell_type": "markdown",
   "metadata": {},
   "source": [
    "# Lambda: anonymous functions\n",
    "Python has what are (oddly) called **lambda expressions**. These are *just* anonymous functions, and nothing more.\n",
    "\n",
    "Their only advantage is that they can be written in-line with an expression, instead of requiring a separate `def` block. This doesn't seem that important, but it is often really handy."
   ]
  },
  {
   "cell_type": "code",
   "execution_count": 46,
   "metadata": {},
   "outputs": [
    {
     "name": "stdout",
     "output_type": "stream",
     "text": [
      "5\n",
      "5\n"
     ]
    }
   ],
   "source": [
    "def add_def(a,b):\n",
    "    return a + b\n",
    "\n",
    "# this is *exactly* the same as above\n",
    "# it creates the function, then stores it in a variable\n",
    "# note that the parameters are given as a comma separated list after\n",
    "# the lambda\n",
    "add_lambda = lambda a,b: a+b\n",
    "\n",
    "print(add_def(2,3))\n",
    "print(add_lambda(2,3))"
   ]
  },
  {
   "cell_type": "markdown",
   "metadata": {},
   "source": [
    "## lambda parameters\n",
    "`lambda` is just a way of writing functions without giving them a name. It is used because it allows writing functions *within* an expression.\n",
    "\n",
    "There still has to be a parameter list, which is given before a `:` The \"body\" of the `lambda` must be an expression."
   ]
  },
  {
   "cell_type": "code",
   "execution_count": 49,
   "metadata": {
    "collapsed": true
   },
   "outputs": [],
   "source": [
    "def f(x,y):\n",
    "    return x * y \n",
    "\n",
    "def g(x):\n",
    "    return [x,x]\n",
    "\n",
    "def h():\n",
    "    return \"LAMBDA\"\n",
    "\n",
    "# this is exactly equivalent to this:\n",
    "f = lambda x, y: x * y    \n",
    "g = lambda x: [x,x]\n",
    "h = lambda: \"LAMBDA\""
   ]
  },
  {
   "cell_type": "markdown",
   "metadata": {},
   "source": []
  },
  {
   "cell_type": "markdown",
   "metadata": {},
   "source": [
    "The major use here is things like callbacks; if you have a bunch of buttons that need to do similar things, it can be annoying to have to write a whole bunch of `def`s."
   ]
  },
  {
   "cell_type": "code",
   "execution_count": 48,
   "metadata": {
    "collapsed": true
   },
   "outputs": [],
   "source": [
    "## Button example\n",
    "import ipywidgets as widgets\n",
    "from IPython.display import display"
   ]
  },
  {
   "cell_type": "code",
   "execution_count": 49,
   "metadata": {},
   "outputs": [
    {
     "name": "stdout",
     "output_type": "stream",
     "text": [
      "Don't hit me\n",
      "It hurts!\n"
     ]
    }
   ],
   "source": [
    "def callback_1(s):\n",
    "    print(\"Don't hit me\")\n",
    "\n",
    "def callback_2(s):\n",
    "    print(\"It hurts!\")\n",
    "\n",
    "button_1 = widgets.Button(description='Hit me!')\n",
    "button_1.on_click(callback_1)\n",
    "button_2 = widgets.Button(description='Hit me too!')\n",
    "button_2.on_click(callback_2)\n",
    "\n",
    "display(widgets.HBox([button_1, button_2]))"
   ]
  },
  {
   "cell_type": "code",
   "execution_count": 50,
   "metadata": {},
   "outputs": [
    {
     "name": "stdout",
     "output_type": "stream",
     "text": [
      "Don't hit me\n",
      "It hurts!\n",
      "Ouch, you're right!\n"
     ]
    }
   ],
   "source": [
    "# annoying\n",
    "def mprint(s):\n",
    "    print(s)\n",
    "    \n",
    "responses = [(\"Hit me!\", \"Don't hit me\"), \n",
    "             (\"Hit me too!\", \"It hurts!\"),\n",
    "                (\"Try hitting me.\", \"Ouch, you're right!\")]\n",
    "\n",
    "def make_button(description, msg):\n",
    "    b = widgets.Button(description=description)\n",
    "    # also annoying; why can't it be set when the button is created!\n",
    "    b.on_click(lambda x:mprint(msg))\n",
    "    return b\n",
    "    \n",
    "buttons = [make_button(desc, msg) for desc,msg in responses]    \n",
    "display(widgets.HBox(buttons))"
   ]
  },
  {
   "cell_type": "markdown",
   "metadata": {
    "collapsed": true
   },
   "source": [
    "Other uses, like in the list-of-list sorting problem, are really just shorthand:"
   ]
  },
  {
   "cell_type": "code",
   "execution_count": 51,
   "metadata": {},
   "outputs": [
    {
     "name": "stdout",
     "output_type": "stream",
     "text": [
      "[[1, 'mutton', 2.99], [2, 'cheese', 3.5], [4, 'soap', 1.25], [5, 'gravel', 24.99]]\n",
      "[[2, 'cheese', 3.5], [5, 'gravel', 24.99], [1, 'mutton', 2.99], [4, 'soap', 1.25]]\n",
      "[[4, 'soap', 1.25], [1, 'mutton', 2.99], [2, 'cheese', 3.5], [5, 'gravel', 24.99]]\n"
     ]
    }
   ],
   "source": [
    "print(sorted(shopping, key=lambda x:x[0]))\n",
    "print(sorted(shopping, key=lambda x:x[1]))\n",
    "print(sorted(shopping, key=lambda x:x[2]))"
   ]
  },
  {
   "cell_type": "markdown",
   "metadata": {},
   "source": [
    "### Deferred execution\n",
    "Sometimes `lambda` is used to defer or postpone execution. Imagine I wanted to print out a message based on a key. I want to use different functions based on the key, so I can't just store the output as a string and then `print` it.\n",
    "\n",
    "I might try:"
   ]
  },
  {
   "cell_type": "code",
   "execution_count": 66,
   "metadata": {},
   "outputs": [
    {
     "name": "stdout",
     "output_type": "stream",
     "text": [
      "hello\n"
     ]
    },
    {
     "data": {
      "text/html": [
       "<h1>Alright, get lost then!</h1>"
      ],
      "text/plain": [
       "<IPython.core.display.HTML object>"
      ]
     },
     "metadata": {},
     "output_type": "display_data"
    }
   ],
   "source": [
    "from IPython.display import display, HTML\n",
    "messages = {\"hi\":print(\"hello\"), \"bye\":display(HTML(\"<h1>Alright, get lost then!</h1>\"))}"
   ]
  },
  {
   "cell_type": "code",
   "execution_count": 67,
   "metadata": {
    "collapsed": true
   },
   "outputs": [],
   "source": [
    "messages[\"hi\"]"
   ]
  },
  {
   "cell_type": "markdown",
   "metadata": {},
   "source": [
    "This doesn't do what we want. It executes the `print` immediately, and there is no way to get the message from the dictionary later."
   ]
  },
  {
   "cell_type": "markdown",
   "metadata": {},
   "source": [
    "`lambda` can wrap it in a unction, so that the execution won't happen until later"
   ]
  },
  {
   "cell_type": "code",
   "execution_count": 68,
   "metadata": {
    "collapsed": true
   },
   "outputs": [],
   "source": [
    "messages = {\"hi\":lambda: print(\"hello\"), \n",
    "            \"bye\":lambda: display(HTML(\"<h1>Alright, get lost then!</h1>\"))}"
   ]
  },
  {
   "cell_type": "code",
   "execution_count": 69,
   "metadata": {},
   "outputs": [
    {
     "data": {
      "text/html": [
       "<h1>Alright, get lost then!</h1>"
      ],
      "text/plain": [
       "<IPython.core.display.HTML object>"
      ]
     },
     "metadata": {},
     "output_type": "display_data"
    }
   ],
   "source": [
    "messages[\"bye\"]()   # must use parentheses to invoke the call"
   ]
  },
  {
   "cell_type": "code",
   "execution_count": 65,
   "metadata": {},
   "outputs": [
    {
     "data": {
      "text/html": [
       "<h1>Alright, get lost then!</h1>"
      ],
      "text/plain": [
       "<IPython.core.display.HTML object>"
      ]
     },
     "metadata": {},
     "output_type": "display_data"
    }
   ],
   "source": [
    "messages[\"bye\"]()   # must use parentheses to invoke the call"
   ]
  },
  {
   "cell_type": "markdown",
   "metadata": {},
   "source": [
    "## Recursive solutions\n",
    "### Pure functional solutions\n",
    "Why do functional approaches use recursion? Because we *cannot* modify variables; thus we could never maintain a counter (for loop) or change a condition (while loop). The *only* thing we can ever do to change the flow of execution is call another function. \n",
    "\n",
    "#### This is why functional languages emphasise recursion; true functional programming can only have recursion!\n",
    "\n",
    "If that function is the same function we are currently in **but with different values bound to the parameters** then we have a way of doing repetition within a functional framework."
   ]
  },
  {
   "cell_type": "markdown",
   "metadata": {},
   "source": [
    "### Max\n",
    "For example, we might need to find the maximum value of a list. But we can't use variables to keep track of the maximum, because that would require mutability.\n",
    "\n",
    "Instead, we can write it like this:"
   ]
  },
  {
   "cell_type": "code",
   "execution_count": 70,
   "metadata": {},
   "outputs": [
    {
     "data": {
      "text/plain": [
       "10000000"
      ]
     },
     "execution_count": 70,
     "metadata": {},
     "output_type": "execute_result"
    }
   ],
   "source": [
    "x = [5, 20, 103, 5903, 1102, 24, 1, 63, 44, -1000, 2000000]\n",
    "\n",
    "\n",
    "def rmax(x, max_found=None):\n",
    "    # nothing left, use the max_found\n",
    "    if len(x) == 0:\n",
    "        return max_found\n",
    "\n",
    "    # take off the first element, check the remainder of the list\n",
    "    if x[0] > max_found:\n",
    "        # bind max_found to x[0]\n",
    "        return rmax(x[1:], x[0])\n",
    "    else:\n",
    "        # leave max_found unchanged\n",
    "        return rmax(x[1:], max_found)\n",
    "\n",
    "\n",
    "rmax(x, 10000000)"
   ]
  },
  {
   "cell_type": "code",
   "execution_count": 72,
   "metadata": {},
   "outputs": [
    {
     "data": {
      "text/plain": [
       "6265"
      ]
     },
     "execution_count": 72,
     "metadata": {},
     "output_type": "execute_result"
    }
   ],
   "source": [
    "x = [5, 20, 103, 5903, 1102, 24, 1, 63, 44, -1000]\n",
    "\n",
    "\n",
    "def rsum(x):\n",
    "    if len(x) == 1:\n",
    "        return x[0]\n",
    "    return x[0] + rsum(x[1:])\n",
    "\n",
    "\n",
    "rsum(x)"
   ]
  },
  {
   "cell_type": "markdown",
   "metadata": {},
   "source": [
    "### A tree\n",
    "The **tree** is a structure for which recursive solutions are a very natural fit. It is easy to represent a tree using a list of lists; for example, a binary tree (one which has at most two branches at every stage) can be written as pairs, where each element of the pair can also be a pair:\n",
    "\n"
   ]
  },
  {
   "cell_type": "code",
   "execution_count": 74,
   "metadata": {
    "collapsed": true
   },
   "outputs": [],
   "source": [
    "tree = [[[\"a\", \"b\"], [\"c\", [\"d\", \"e\"]]], [\"h\", \"i\"]]"
   ]
  },
  {
   "cell_type": "code",
   "execution_count": 75,
   "metadata": {},
   "outputs": [
    {
     "data": {
      "image/png": "[encoded data removed]",
      "text/plain": [
       "<matplotlib.figure.Figure at 0x2409c37b550>"
      ]
     },
     "metadata": {},
     "output_type": "display_data"
    }
   ],
   "source": [
    "%matplotlib inline\n",
    "import matplotlib.pyplot as plt\n",
    "\n",
    "\n",
    "def plot_tree(tree, px=0, py=0, w=1.0, h=0.1):\n",
    "    if type(tree) == type([]):\n",
    "        plot_tree(tree[0], px - w / 2, py - h, w / 2)\n",
    "        plot_tree(tree[1], px + w / 2, py - h, w / 2)\n",
    "        plt.plot([px, px + w / 2], [py, py - h], \"k\", alpha=0.3, lw=2)\n",
    "        plt.plot([px, px - w / 2], [py, py - h], \"k\", alpha=0.3, lw=2)\n",
    "    else:\n",
    "        plt.text(px, py - 0.01, tree, fontsize=24, color=\"k\")\n",
    "    plt.axis(\"off\")\n",
    "\n",
    "\n",
    "plot_tree(tree)"
   ]
  },
  {
   "cell_type": "code",
   "execution_count": 76,
   "metadata": {},
   "outputs": [
    {
     "name": "stdout",
     "output_type": "stream",
     "text": [
      "abcdehi\n"
     ]
    }
   ],
   "source": [
    "def print_tree(t):\n",
    "    if type(t)==type([]): \n",
    "        return  print_tree(t[0]) + print_tree(t[1])\n",
    "    else:\n",
    "        return t\n",
    "    \n",
    "print(print_tree(tree))"
   ]
  },
  {
   "cell_type": "code",
   "execution_count": 77,
   "metadata": {},
   "outputs": [
    {
     "data": {
      "text/plain": [
       "True"
      ]
     },
     "execution_count": 77,
     "metadata": {},
     "output_type": "execute_result"
    }
   ],
   "source": [
    "def member_tree(elt, t):\n",
    "    if type(t)==type([]): \n",
    "        return  member_tree(elt, t[0]) or member_tree(elt, t[1])\n",
    "    else:\n",
    "        return elt==t\n",
    "    \n",
    "member_tree(\"a\", tree)"
   ]
  },
  {
   "cell_type": "markdown",
   "metadata": {},
   "source": [
    "## Finally \n",
    "Send me your feedback via YACRS, please."
   ]
  },
  {
   "cell_type": "markdown",
   "metadata": {},
   "source": [
    "## Week review\n",
    "* A functional approach is side-effect free\n",
    "* This means **no setting of variables**\n",
    "* List comprehensions allow an expression to be applied to every element of a sequence\n",
    "* If tests in comprehensions can filter out certain values\n",
    "* Comprehensions can be nested\n",
    "* List comprehensions cannot have side effects\n",
    "* Dictionary comprehensions work in the same way, but must specify a key and a value\n",
    "* Functions are first-class and can be passed around\n",
    "* Higher-order functions are functions that operate on functions\n",
    "* map, reduce, filter, apply and zip are very useful in functional approaches.\n",
    "* map and filter are just comprehension operations (`for` and `if`)\n",
    "* apply is just using `fn(*args)`\n",
    "* lambda allows anonymous functions to be defined\n",
    "* it is very useful in defining callbacks\n",
    "* closures allow functions to carry around data\n",
    "* nonlocal variables must be marked as such to write to them from within an inner scope\n",
    "* Recursive solutions are the only way to repeat operations in a purely functional way\n",
    "* Recursion is very useful for operations on tree-like structures"
   ]
  },
  {
   "cell_type": "markdown",
   "metadata": {},
   "source": [
    "## Syntax review"
   ]
  },
  {
   "cell_type": "code",
   "execution_count": null,
   "metadata": {
    "collapsed": true
   },
   "outputs": [],
   "source": [
    "# There are also anonymous functions\n",
    "(lambda x: x > 2)(3)   # => True\n",
    "(lambda x, y: x ** 2 + y ** 2)(2, 1) # => 5\n",
    "\n",
    "\n",
    "[x for x in [3, 4, 5, 6, 7] if x > 5]   # => [6, 7]\n",
    "\n",
    "# We can use list comprehensions for nice maps and filters\n",
    "[add_10(i) for i in [1, 2, 3]]  # => [11, 12, 13]\n",
    "[x for x in [3, 4, 5, 6, 7] if x > 5]   # => [6, 7]\n",
    "\n",
    "# You can construct set and dict comprehensions as well.\n",
    "{x for x in 'abcddeef' if x in 'abc'}  # => {'d', 'e', 'f'}\n",
    "{x: x**2 for x in range(5)}  # => {0: 0, 1: 1, 2: 4, 3: 9, 4: 16}"
   ]
  }
 ],
 "metadata": {
  "celltoolbar": "Tags",
  "kernelspec": {
   "display_name": "Python 3",
   "language": "python",
   "name": "python3"
  },
  "language_info": {
   "codemirror_mode": {
    "name": "ipython",
    "version": 3
   },
   "file_extension": ".py",
   "mimetype": "text/x-python",
   "name": "python",
   "nbconvert_exporter": "python",
   "pygments_lexer": "ipython3",
   "version": "3.6.1"
  }
 },
 "nbformat": 4,
 "nbformat_minor": 1
}
