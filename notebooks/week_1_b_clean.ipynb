{
 "cells": [
  {
   "cell_type": "markdown",
   "metadata": {},
   "source": [
    "# Week 1 : Lecture B \n",
    " ## Elements: Statements, expressions, variables and types\n",
    " ##### CS1P - University of Glasgow - John H. Williamson - 2017 - Python 3.x"
   ]
  },
  {
   "cell_type": "markdown",
   "metadata": {},
   "source": [
    "# Postbag Questions"
   ]
  },
  {
   "cell_type": "markdown",
   "metadata": {},
   "source": [
    "## YACRS Q1 was wrong\n",
    "> Why was the answer to qn 1 50?"
   ]
  },
  {
   "cell_type": "code",
   "execution_count": null,
   "metadata": {},
   "outputs": [],
   "source": [
    "weight = 50\n",
    "weight = \"imhotep\"\n",
    "this_weight = weight\n",
    "weight = \"invisible\""
   ]
  },
  {
   "cell_type": "code",
   "execution_count": null,
   "metadata": {},
   "outputs": [],
   "source": [
    "print(this_weight)"
   ]
  },
  {
   "cell_type": "markdown",
   "metadata": {},
   "source": [
    "It wasn't. It was `\"imhotep\"` -- I read the wrong answer from my answer sheet without reading the question again. "
   ]
  },
  {
   "cell_type": "markdown",
   "metadata": {},
   "source": [
    "### Should I do the labs in advance?\n",
    ">I started working on the lab exercises, but then I realized it is probably something I should do in the lab, is that a big issue? Can I do lab exercises beforehand?\n",
    "\n",
    "Yes. It is strongly encouraged to work on the labs before hand and make a good stab at it before the lab. You need to attend the lab, at the very least to show the tutor what you have done. But you can do everything in advance if you are able to. You may find this difficult for later labs and you might need the help of your tutor or your peers.\n",
    "\n",
    "### Precedence\n",
    ">Does Python treat multiplication and division with equal precedence?\n",
    "\n",
    "Yes. When operators have equal precedence, the evaluation rule from left to right:"
   ]
  },
  {
   "cell_type": "code",
   "execution_count": 9,
   "metadata": {},
   "outputs": [
    {
     "name": "stdout",
     "output_type": "stream",
     "text": [
      "0.6\n",
      "0.6\n"
     ]
    }
   ],
   "source": [
    "print(2 / 2 * 3 / 5) \n",
    "print((((2 / 2) * 3) / 5)) # same as this"
   ]
  },
  {
   "cell_type": "code",
   "execution_count": 10,
   "metadata": {},
   "outputs": [
    {
     "name": "stdout",
     "output_type": "stream",
     "text": [
      "0.06666666666666667\n"
     ]
    }
   ],
   "source": [
    "print(2 / (2 * 3) / 5)  "
   ]
  },
  {
   "cell_type": "markdown",
   "metadata": {},
   "source": [
    "## Pace\n",
    "> Will we be going at 100 miles an hour every day?\n",
    "\n",
    "Yes. Well, it will probably *seem* slower as we go along because the concepts will become more familiar. "
   ]
  },
  {
   "cell_type": "markdown",
   "metadata": {},
   "source": [
    "## Poll\n",
    "Is CS1P (based on Friday):\n",
    "\n",
    "* a. **way** too fast -- my brain melted.\n",
    "* b. too fast -- I struggled to keep up, but I got something out of it.\n",
    "* c. tolerably fast -- I missed a few things but it was OK for most of it.\n",
    "* d. just right -- this is a pace I feel comfortable at\n",
    "* e. a bit slow -- we could have packed a bit more in \n",
    "* f. too slow -- the lecture could have covered much more\n",
    "* g. **way** too slow -- this is trivial.\n",
    "* h. I do not experience time as mortals do.\n"
   ]
  },
  {
   "cell_type": "markdown",
   "metadata": {},
   "source": [
    "## Diagrams in Jupyter\n",
    "> Diagrams are not showing up on Jupyter for me, I don’t know why\n",
    "\n",
    "Hmm. I'm not sure either. I've re-archived the lecture and updated it on Moodle, just in case the diagrams weren't picked up in the first round. I've slightly changed the way the lectures are generated this year, so this might have been the issue. It should be resolved now.\n"
   ]
  },
  {
   "cell_type": "markdown",
   "metadata": {},
   "source": [
    "## Lab sectors\n",
    "Please make sure you sit in your allocated colour sectors in the lab groups. If you don't know your sector, there is a handy chart by the door in 715, which lists the group number. Your tutor will likely miss you if you do not do this.\n",
    "\n",
    "If you don't have an assigned lab group yet, please go to the Teaching Office in Lilybank Gardens (enter via the Sir Alwyn Williams Building) and speak to Helen Border."
   ]
  },
  {
   "cell_type": "markdown",
   "metadata": {
    "collapsed": true
   },
   "source": [
    "----\n",
    "\n",
    "## Go to learn.gla.ac.uk/yacrs\n",
    "### join Session 299\n",
    "### Wait for the questions to start!\n",
    "---"
   ]
  },
  {
   "cell_type": "markdown",
   "metadata": {},
   "source": []
  },
  {
   "cell_type": "markdown",
   "metadata": {},
   "source": [
    "## Week Review\n",
    "\n",
    "* Python interprets programs\n",
    "* Programs are sequences of statements\n",
    "* Expressions have a value; statements do things\n",
    "* Operators operate on operands\n",
    "* Operators have precedence, which determines how tightly they bind to operands.\n",
    "* The effect of an operator depends on its operand: The same operator symbol can do different things to different types.\n",
    "* Values have types.\n",
    "* Assignment simply bind names to values.\n",
    "* Variables do not have types.\n",
    "* Variable names must be valid identifiers.\n",
    "* Reflection lets us inspect values at runtime.\n",
    "* Parallel assignment lets us assign multiple values in a single line\n",
    "* We can write out text with print.\n",
    "* We can read in text with input()\n",
    "* We can format strings with %."
   ]
  },
  {
   "cell_type": "markdown",
   "metadata": {},
   "source": [
    "## Code criticism sections\n",
    "Each week we'll look critically appraise code and see how it can be written better. Developing the ability to do this is the difference between being a hack-job code monkey and a professional software developer.\n",
    "\n",
    "You need to be able to recognise the difference between good and bad code to be able to write good code. And in your professional life, if you become a software engineer, you will need to engage in **code reviews**, where other programmers will review your code and you will review theirs. You need to write good code, not just working code. \n",
    "\n",
    "Being able to articulate what feels wrong with the way code is expressed takes time, but I'll try to accelerate you along that path."
   ]
  },
  {
   "cell_type": "markdown",
   "metadata": {},
   "source": [
    "## Code criticism: no magic constants\n",
    "What is wrong with this code? It works perfectly:"
   ]
  },
  {
   "cell_type": "markdown",
   "metadata": {},
   "source": [
    "    import matplotlib.pyplot as plt\n",
    "    %matplotlib notebook\n",
    "\n",
    "    ## Plot the trajectory of a bouncing ball with an an initial throw to the right\n",
    "    x = 0\n",
    "    y = 20\n",
    "    dx = 0.5\n",
    "    dy = 0\n",
    "\n",
    "    # run for 1000 timesteps\n",
    "    for t in range(1000):\n",
    "        # update position\n",
    "        x = x + dx * 0.1\n",
    "        y = y + dy * 0.1\n",
    "\n",
    "        # update veloctiy\n",
    "        dy = dy - 0.2 * 0.1\n",
    "        dx = dx * 0.999\n",
    "        dy = dy * 0.999\n",
    "        plt.xlim(0,20)\n",
    "        plt.ylim(0,40)\n",
    "        # bounce\n",
    "        if y<0:\n",
    "            dy = -dy * 0.7\n",
    "            dx = dx * 0.7\n",
    "            y = -y\n",
    "            plt.plot(x,y,'k.', markersize=50)        \n",
    "        else:\n",
    "            plt.plot(x,y, 'r.',  markersize=50)\n",
    "        plt.gcf().canvas.draw()\n",
    "\n"
   ]
  },
  {
   "cell_type": "markdown",
   "metadata": {
    "heading_collapsed": true
   },
   "source": [
    "## Comments\n",
    "Use the YACRS text feature to enter a comment on what you see as being wrong with this code. You have 140 characters.\n",
    "### Results\n",
    "-----\n",
    "          #\n",
    "          #\n",
    "          #\n",
    "          \n",
    "-----"
   ]
  },
  {
   "cell_type": "markdown",
   "metadata": {},
   "source": [
    "# Answer"
   ]
  },
  {
   "cell_type": "markdown",
   "metadata": {},
   "source": [
    "**If reading this doesn't make you physically uncomfortable, then you still to develop skills in criticising code!**"
   ]
  },
  {
   "cell_type": "markdown",
   "metadata": {},
   "source": [
    "This code is much better:"
   ]
  },
  {
   "cell_type": "markdown",
   "metadata": {},
   "source": [
    "    plt.figure()\n",
    "\n",
    "    start_x, start_y = 0, 20\n",
    "    x_velocity, y_velocity = 0.5, 0\n",
    "    timesteps = 1000\n",
    "\n",
    "    dt = 0.1\n",
    "    gravity = 0.2\n",
    "    damping = 0.999\n",
    "    floor_damping = 0.7\n",
    "    floor_y = 0\n",
    "\n",
    "    ball_size = 50\n",
    "    x_max = 20\n",
    "    y_max = 50\n",
    "\n",
    "    x,y = start_x, start_y\n",
    "    dx,dy = x_velocity, y_velocity\n",
    "\n",
    "    for t in range(timesteps):\n",
    "        x = x + dx * dt\n",
    "        y = y + dy * dt\n",
    "        dy = dy - gravity * dt\n",
    "        dx = dx * damping\n",
    "        dy = dy * damping\n",
    "\n",
    "        plt.xlim(0,x_max)\n",
    "        plt.ylim(0,y_max)\n",
    "        if y<floor_y:\n",
    "            dy = -dy * floor_damping\n",
    "            dx =  dx * floor_damping     \n",
    "            y += 1\n",
    "            plt.plot(x,y,'k.', markersize=ball_size)\n",
    "        else:\n",
    "            plt.plot(x,y, 'r.', markersize=ball_size)\n",
    "        plt.gcf().canvas.draw()"
   ]
  },
  {
   "cell_type": "markdown",
   "metadata": {},
   "source": [
    "## No nudity\n",
    "The principle here is that we should seek to avoid \"magic constants\" in code; these are sometimes called **bare numbers** because they are not dressed with an explanation. Code is much harder to understand if unexplained numbers appear in it. The reader has to guess what those numbers are supposed to represent. \n",
    "\n",
    "### Readability and changeability\n",
    "It is also makes it much harder to change code later. Imagine if you had to change the number of colors a program could use from 8 to 16 -- you can't search-and-replace `8` in your code with `16` without affecting other parts of the code that happen to use `8` for something else!\n",
    "\n",
    "* Avoid any bare numbers in your code, except when for very simple cases. \n",
    "* Use constants. In Python, these are variables set to a value and not changed afterwards.\n",
    "* If you're counting the number of something (e.g. number of possible colours), use the form `n_[name]`, like `n_colors`, or `n_processing_steps`.\n",
    "* The key point: A constant's name should explain what it means.\n",
    "* It is quite normal to have several constants with the same value; **the constant name explains its purpose, not the value it contains**.\n",
    "\n",
    "    \n",
    "        # this is fine; n_separators and n_lines are used for different things\n",
    "        # even though they have the same value\n",
    "        n_separators = 32\n",
    "        n_line = 32\n",
    "        \n",
    "Do **not** use constants like this\n",
    "\n",
    "    # thirtytwo is used in two different ways\n",
    "    # and it refers to the number not the purpose!\n",
    "    thirtytwo = 32\n",
    "    print(\" \"*thirtytwo)\n",
    "    \n",
    "    for i in range(thirtytwo):\n",
    "        name = input(\"Name %d\" %i)\n",
    "\n",
    "        \n",
    "* Think about how someone reading your code would like a constant to be named to minimise confusion. Be precise and concise.\n",
    "* Don't go crazy. If you have to access the first and second element of a pair, write `pair[0]` and `pair[1]`, not `pair[FIRST]`, `pair[SECOND]`."
   ]
  },
  {
   "cell_type": "markdown",
   "metadata": {},
   "source": [
    "# Discussion"
   ]
  },
  {
   "cell_type": "markdown",
   "metadata": {},
   "source": [
    "Discussion sections work like this:\n",
    "* I present some code and a multiple choice question.\n",
    "* You think about it and decide on an answer on your own.\n",
    "* You vote.\n",
    "----\n",
    "* Then, you discuss in groups of two or three.\n",
    "* This is an opportunity for you to convince your group of your answer (or be convinced by them)\n",
    "* You vote again, this time with the group answer. \n",
    "* Everyone should vote again (not once per group). \n",
    "* If you still disagree with the group answer, vote what you believe.\n",
    "---\n",
    "* We look at the answer"
   ]
  },
  {
   "cell_type": "markdown",
   "metadata": {},
   "source": [
    "## Q1 Constants [MRQ]"
   ]
  },
  {
   "cell_type": "code",
   "execution_count": null,
   "metadata": {},
   "outputs": [],
   "source": [
    "# work out how much force in Newtons is supported by each ankle\n",
    "# given a person's height in inches and BMI\n",
    "\n",
    "inches = 72\n",
    "bmi = 26\n",
    "\n",
    "m = inches * 2.54 / 100.0\n",
    "weight = bmi * (m**2)\n",
    "weight_per_ankle = bmi / 2.0\n",
    "force_per_ankle = weight_per_ankle * 9.81\n",
    "print(force_per_ankle, \"Newtons\")"
   ]
  },
  {
   "cell_type": "markdown",
   "metadata": {},
   "source": [
    "**Question** Which of these numbers should become constants? You can choose any combination of options (or none at all).\n",
    "\n",
    "    a. cm_per_inch = 2.54\n",
    "    b. square = 2\n",
    "    c. ankles_per_human = 2.0\n",
    "    d. gravity = 9.81"
   ]
  },
  {
   "cell_type": "markdown",
   "metadata": {},
   "source": [
    "## Q2 Types [MCQ]"
   ]
  },
  {
   "cell_type": "code",
   "execution_count": 11,
   "metadata": {},
   "outputs": [],
   "source": [
    "x = \"x\"\n",
    "y = \"y\"\n",
    "z = x + y\n",
    "c = 5\n",
    "mz = z * c + z"
   ]
  },
  {
   "cell_type": "code",
   "execution_count": 12,
   "metadata": {},
   "outputs": [
    {
     "name": "stdout",
     "output_type": "stream",
     "text": [
      "<class 'int'> <class 'str'>\n"
     ]
    }
   ],
   "source": [
    "print(type(c), type(mz))"
   ]
  },
  {
   "cell_type": "markdown",
   "metadata": {},
   "source": [
    "**Question:** What would `print(type(c), type(mz))` print? Choose *one* answer."
   ]
  },
  {
   "cell_type": "markdown",
   "metadata": {},
   "source": [
    "    a. <class 'int'> <class 'int'>\n",
    "    b. <class 'int'> <class 'str'>\n",
    "    c. <class 'str'> <class 'str'>\n",
    "    d. This code will produce an error.    "
   ]
  },
  {
   "cell_type": "code",
   "execution_count": null,
   "metadata": {},
   "outputs": [],
   "source": [
    "print(type(c), type(mz))"
   ]
  },
  {
   "cell_type": "markdown",
   "metadata": {},
   "source": [
    "## Q3 Statements and expressions [MCR]"
   ]
  },
  {
   "cell_type": "markdown",
   "metadata": {},
   "source": [
    "Which of the following are expressions? "
   ]
  },
  {
   "cell_type": "markdown",
   "metadata": {},
   "source": [
    "    a. x = x + 1\n",
    "    b. (x * 5) + 71\n",
    "    c. if x>5:\n",
    "    d. \"str\" + \"ung\"\n",
    "    e. 8"
   ]
  },
  {
   "cell_type": "markdown",
   "metadata": {},
   "source": [
    "----\n",
    "# Finally\n",
    "Watch the video on Youtube **before** Friday. The link is on Moodle."
   ]
  }
 ],
 "metadata": {
  "celltoolbar": "Tags",
  "kernelspec": {
   "display_name": "Python 3",
   "language": "python",
   "name": "python3"
  },
  "language_info": {
   "codemirror_mode": {
    "name": "ipython",
    "version": 3
   },
   "file_extension": ".py",
   "mimetype": "text/x-python",
   "name": "python",
   "nbconvert_exporter": "python",
   "pygments_lexer": "ipython3",
   "version": "3.6.1"
  }
 },
 "nbformat": 4,
 "nbformat_minor": 1
}
