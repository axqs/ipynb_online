{
 "cells": [
  {
   "cell_type": "markdown",
   "metadata": {},
   "source": [
    "# Week 3 : Lecture A \n",
    " ## Abstraction: Functions, parameters, arguments and scope\n",
    " ##### CS1P - University of Glasgow - John H. Williamson - 2017/2018 Python 3.x"
   ]
  },
  {
   "cell_type": "markdown",
   "metadata": {},
   "source": [
    "## Elegance\n",
    "The central virtue of a computer scientist"
   ]
  },
  {
   "cell_type": "markdown",
   "metadata": {},
   "source": [
    "#### What we strive not to do\n",
    "<img src=\"imgs/bodge.jpg\">\n",
    "*[Photo credit: Liz West CC-BY-2.0]*\n",
    "\n",
    "A good bit of code is **elegant** -- elegance is an easy to recognise but hard to pin down concept. Code should be clean, simple and obvious. We want to avoid repetition, complicated structures or lots of fiddly special cases.\n",
    "\n",
    "Elegance is often ingenious, but not a flashy display of cleverness. *Too clever* code is often hard to understand and work with. An elegant solution is one that is simple, obvious, and *broken up into logical parts.* **A simple solution is usually much harder to find than a complicated one**.\n",
    "\n",
    "<img src=\"imgs/egg.jpg\">\n",
    "*[Photo credit: Jack Haskell CC-BY-NC 2.0]*"
   ]
  },
  {
   "cell_type": "markdown",
   "metadata": {},
   "source": [
    "---\n",
    "## Functions\n",
    "Like most languages, Python has **functions** which achieve three goals:\n",
    "* breaks problems down into small, manageable chunks;\n",
    "* allows problems to be **parameterised**, i.e. to have parts that can **vary in a controlled way**.\n",
    "* isolate variables used in one part of a program from another.\n",
    "\n",
    "This allows **abstraction**; finding a general form of problem that means it takes much less work to apply it to a new domain.\n",
    "\n",
    "Programs are broken down into collections of functions. One function calls another, and that function calls another, and so on. This breaks things up into neat, manageable chunks and makes it feasible to write sophisticated programs.\n"
   ]
  },
  {
   "cell_type": "markdown",
   "metadata": {},
   "source": [
    "<img src=\"imgs/bill_g.jpg\">\n",
    "\n",
    "### The skill of a great programmer is being to be able to work very hard at being lazy.\n",
    "Of course, we mean lazy in the sense of eliminating drudgery -- boring, repetive tasks. And this \"laziness\" is acheived by **generalisation**. That is, analysing a problem and distilling it down to the elements that are fixed and unchanging, and the elements which change to fit variations of a problem.\n",
    "\n",
    "Judging how to *generalise effectively* is probably the most important skill a programmer can learn. Too little generality, and you will write long, complicated, hard to maintain, inflexible code. Too much generality, and you end up with complex and hard to read code which is hard to apply to real problems."
   ]
  },
  {
   "cell_type": "markdown",
   "metadata": {},
   "source": [
    "## Functions -- calling and returning\n",
    "A function is a block of code -- a sequence of statements. Functions are **called**, which runs the statements in order. Functions often **return** a value; this allows the code that made the call to the function to receive feedback like the result of a calculation.\n",
    "\n",
    "**Calling** means to transfer the flow of execution to the function. Control will be returned to the calling code after the function finishes.\n",
    "\n",
    "In Python, functions are defined with `def`, called using parentheses `()` and \n",
    "use the `return` *keyword* to return values back to the calling code:\n",
    "\n"
   ]
  },
  {
   "cell_type": "code",
   "execution_count": 1,
   "metadata": {},
   "outputs": [
    {
     "name": "stdout",
     "output_type": "stream",
     "text": [
      "hello\n"
     ]
    }
   ],
   "source": [
    "## note the syntax: def <identifier>():\n",
    "def hello():\n",
    "    # we return values by putting them after a return statement\n",
    "    return \"hello\"\n",
    "    \n",
    "    \n",
    "# we *call* hello by putting the brackets () afterwards\n",
    "# note that the return value is substituted in place of the call\n",
    "# the function called as soon as the () are encountered in the \n",
    "# evaluation of the expression\n",
    "print(hello())"
   ]
  },
  {
   "cell_type": "code",
   "execution_count": 2,
   "metadata": {},
   "outputs": [
    {
     "name": "stdout",
     "output_type": "stream",
     "text": [
      "hello there\n"
     ]
    }
   ],
   "source": [
    "# hello() evaluates to a string, which we can append to\n",
    "# note that the return value is substituted for the function call\n",
    "print(hello() + \" there\")"
   ]
  },
  {
   "cell_type": "markdown",
   "metadata": {},
   "source": [
    "## Functions: what are they good for?\n",
    "\n",
    "Why do we use functions? Why not write code as a big long sequence of commands like this:\n",
    "\n",
    "    sum = 0\n",
    "    sum = sum + val_1[0]\n",
    "    sum = sum + val_1[1]\n",
    "    sum = sum + val_1[2]\n",
    "    mean_1 = sum / 3\n",
    "    print mean_1\n",
    "    sum = 0\n",
    "    sum = sum + val_2[0]\n",
    "    sum = sum + val_2[1]\n",
    "    sum = sum + val_2[2]\n",
    "    mean_2 = sum / 3\n",
    "    print mean_2\n",
    "        \n",
    "\n",
    "Functions let us do several things:\n",
    "\n",
    "* *Split code up into manageable chunks*.\n",
    "\n",
    "**Code is for reading** and humans have limitations. Humans can't remember the whole program at once if it is thousands of lines long. Chunking is essential.\n",
    "\n",
    "* *Remove repetition*. \n",
    "\n",
    "Repeated code is always a warning something is wrong. When you repeat code: you make it harder and longer to read; you introduce the risk of subtle errors when code is not repeated *exactly*; you waste your own time. Just use a function instead.\n",
    "\n",
    "* *Reason about behaviour*. \n",
    "\n",
    "If we divide code into small chunks, each of which is simple enough that we can understand it completely, then we can be much more confident about how a program will work. Simple, short functions are at the heart of elegant programming.\n",
    "\n",
    "* *Generalise problems*. \n",
    "\n",
    "We often want to solve problems which are not quite repetitions, but follow a common pattern. For example, we might want to compute the mean, median or mode of a sequence of values, instead of just the mean as the above. We can use parameterisation to create general patterns where the parameters \"fill in the blanks\". We want to avoid having to craft special-cases, and instead reuse simple, general forms.\n",
    "\n",
    "* *Share code*.\n",
    "\n",
    "*Libraries* are essentially banks of pre-written functions which you can use. Packaging up code into functions makes it possible for many programs to share common functionality. This can reduce repetition on a grand scale. For example, no one writes code to find how long a string is in Python, because Python already provides a function to do that: `len()`\n",
    "\n",
    "* *Control effects*. \n",
    "\n",
    "Functions, as we will see, have their own private working areas to do computations. This can be used to isolate computations from each and makes it easier to be sure that code does what you think. By reducing dependence, we can reduce **fragility**.\n",
    "\n",
    "<img src=\"imgs/bad_wiring.jpg\">\n",
    "*[Image credit: flosofl via flickr.com CC-BY-NC 2.0]*\n",
    "\n",
    "### A function version\n",
    "\n",
    "    # works for any sequence of x\n",
    "    def sum(x):\n",
    "        sum = 0\n",
    "        for elt in x:\n",
    "            sum += elt\n",
    "        return sum\n",
    "        \n",
    "    def mean(x):\n",
    "        return sum(x) / len(x)\n",
    "\n"
   ]
  },
  {
   "cell_type": "markdown",
   "metadata": {},
   "source": [
    "## Calling and returning\n",
    "Calling a function temporarily transfers control to the function. When it returns, control is passed back to the calling code. \n",
    "\n",
    "    def function():\n",
    "        print \"this is a fun-ction!\"\n",
    "        \n",
    "    function()\n",
    "\n",
    "We can represent this in graphical form. Here we show the \"main\" starting code with the name **main**.\n",
    "<img src=\"imgs/function.merm.png\" width=\"800px\">\n",
    "The right-going arrows indicate calls, and the left-going indicate returns.\n",
    "\n",
    "### Return statement\n",
    "Whenever `return` is encountered, control is transferred back to the calling code. This can be half way through a function; the rest won't be executed. If there is no `return`, the function will return at the end of the function block."
   ]
  },
  {
   "cell_type": "code",
   "execution_count": 3,
   "metadata": {},
   "outputs": [
    {
     "name": "stdout",
     "output_type": "stream",
     "text": [
      "This will be printed\n"
     ]
    }
   ],
   "source": [
    "def return_test():\n",
    "    print(\"This will be printed\")\n",
    "    return # back to the caller we go!\n",
    "    print(\"But this cannot be\")\n",
    "    \n",
    "return_test()"
   ]
  },
  {
   "cell_type": "markdown",
   "metadata": {},
   "source": [
    "Usually you would only want to do that if some condition is met (using `if`). But, as with `break`, having many return statements in one function can make it hard to trace the flow of execution."
   ]
  },
  {
   "cell_type": "markdown",
   "metadata": {},
   "source": [
    "#### Call stack\n",
    "Python maintains a **stack** of calls, so it always knows where to return to, even if a function calls another function and it calls another function and so on. When you call a function, it puts the point to return to on the stack. When that function eventually returns, it pops off the return point and execution jumps back to where it left off.\n",
    "\n",
    "Consider this example:\n",
    "\n",
    "    def get_name():\n",
    "        return \"Name\"\n",
    "        \n",
    "    def print_name(name):\n",
    "        print(name)\n",
    "    \n",
    "    def print_all_names():\n",
    "        name = get_name()\n",
    "        print_name(name)\n",
    "    \n",
    "<img src=\"imgs/print_example.merm.png\" width=\"900px\">    "
   ]
  },
  {
   "cell_type": "markdown",
   "metadata": {},
   "source": [
    "## Parameterisation\n",
    "\n",
    "This use of functions allows us to collect together statements into meaningful \"chunks\". But we often want to be able to allow some parts of these chunks to **vary** in interesting ways. \n",
    "\n",
    "To do this we **parameterise** a function. This means it receives variables from the code that called it. This makes functions vastly more powerful; we can develop \"skeleton key\" code and fill in the details to specialise to a particular problem.\n",
    "\n",
    "Let's look at a simple example:"
   ]
  },
  {
   "cell_type": "code",
   "execution_count": 3,
   "metadata": {},
   "outputs": [
    {
     "name": "stdout",
     "output_type": "stream",
     "text": [
      "3\n",
      "5\n"
     ]
    }
   ],
   "source": [
    "def add_one(x):\n",
    "    # note that x becomes whatever was in the brackets when I called it\n",
    "    return x+1\n",
    "    \n",
    "print(add_one(2))\n",
    "print(add_one(4))"
   ]
  },
  {
   "cell_type": "code",
   "execution_count": 5,
   "metadata": {},
   "outputs": [
    {
     "name": "stdout",
     "output_type": "stream",
     "text": [
      "201\n"
     ]
    }
   ],
   "source": [
    "y = 200\n",
    "print(add_one(y))"
   ]
  },
  {
   "cell_type": "markdown",
   "metadata": {},
   "source": [
    "What happens is that `x` (the **parameter**) is a new variable which is assigned to the value given in the call (the **argument**). "
   ]
  },
  {
   "cell_type": "markdown",
   "metadata": {},
   "source": [
    "## Parameters and arguments\n",
    "**Parameters** are the variables you receive inside a function:\n",
    "\n",
    "    def fn(a,b): # a and b are parameters\n",
    "        return a+b\n",
    "    \n",
    "**Arguments** are the values you send to a function by calling it:\n",
    "\n",
    "    fn(2,4)   # 2 and 4 are arguments\n",
    "    fn(x,y)   # x and y are arguments"
   ]
  },
  {
   "cell_type": "markdown",
   "metadata": {},
   "source": [
    "**Note that `y` is not affected by calling add_one(); `x` is assigned the value that `y` has, and `y` itself is unchanged.** The value  `x+1` is returned. "
   ]
  },
  {
   "cell_type": "code",
   "execution_count": null,
   "metadata": {
    "collapsed": true
   },
   "outputs": [],
   "source": [
    "y = 200\n",
    "print(add_one(y))\n",
    "print(y)"
   ]
  },
  {
   "cell_type": "markdown",
   "metadata": {},
   "source": [
    "If we wanted to update y we would need to explicitly say that we wanted to store the result in `y`:"
   ]
  },
  {
   "cell_type": "code",
   "execution_count": 9,
   "metadata": {},
   "outputs": [
    {
     "name": "stdout",
     "output_type": "stream",
     "text": [
      "204\n"
     ]
    }
   ],
   "source": [
    "# read as: y becomes add_one(y)\n",
    "y = add_one(y)\n",
    "print(y)"
   ]
  },
  {
   "cell_type": "markdown",
   "metadata": {},
   "source": [
    "Even if we modify the parameter variable inside the function, the argument variable is unchanged. \n",
    "\n"
   ]
  },
  {
   "cell_type": "code",
   "execution_count": 10,
   "metadata": {},
   "outputs": [
    {
     "name": "stdout",
     "output_type": "stream",
     "text": [
      "201\n",
      "200\n"
     ]
    }
   ],
   "source": [
    "def add_one(x):\n",
    "    x = x + 1  # this doesn't affect the caller's value\n",
    "    return x\n",
    "\n",
    "\n",
    "y = 200\n",
    "print(add_one(y))\n",
    "print(y)"
   ]
  },
  {
   "cell_type": "markdown",
   "metadata": {},
   "source": [
    "### Caveat\n",
    "*Be aware, when we see types like lists in more detail, we will see that for some data types, we can actually alter their value inside a function!*"
   ]
  },
  {
   "cell_type": "markdown",
   "metadata": {},
   "source": [
    "## Multiple parameters\n",
    "Functions can have many parameters. Each parameter is a new variable that is assigned to the value given when the function is called."
   ]
  },
  {
   "cell_type": "code",
   "execution_count": 12,
   "metadata": {},
   "outputs": [
    {
     "data": {
      "text/plain": [
       "'hello, world'"
      ]
     },
     "execution_count": 12,
     "metadata": {},
     "output_type": "execute_result"
    }
   ],
   "source": [
    "# we can have multiple parameters\n",
    "def join_string(a, b, c):\n",
    "    return a + b + c\n",
    "\n",
    "\n",
    "join_string(\"hello\", \", \", \"world\")"
   ]
  },
  {
   "cell_type": "markdown",
   "metadata": {},
   "source": [
    "Each parameter needs to have a matching argument when the function is called."
   ]
  },
  {
   "cell_type": "code",
   "execution_count": 13,
   "metadata": {},
   "outputs": [
    {
     "ename": "TypeError",
     "evalue": "join_string() missing 1 required positional argument: 'c'",
     "output_type": "error",
     "traceback": [
      "\u001b[1;31m---------------------------------------------------------------------------\u001b[0m",
      "\u001b[1;31mTypeError\u001b[0m                                 Traceback (most recent call last)",
      "\u001b[1;32m<ipython-input-13-1a28e512c663>\u001b[0m in \u001b[0;36m<module>\u001b[1;34m()\u001b[0m\n\u001b[1;32m----> 1\u001b[1;33m \u001b[0mjoin_string\u001b[0m\u001b[1;33m(\u001b[0m\u001b[1;34m\"hello\"\u001b[0m\u001b[1;33m,\u001b[0m \u001b[1;34m\"world\"\u001b[0m\u001b[1;33m)\u001b[0m \u001b[1;31m# only two arguments; what would c be?\u001b[0m\u001b[1;33m\u001b[0m\u001b[0m\n\u001b[0m",
      "\u001b[1;31mTypeError\u001b[0m: join_string() missing 1 required positional argument: 'c'"
     ]
    }
   ],
   "source": [
    "join_string(\"hello\", \"world\") # only two arguments; what would c be?"
   ]
  },
  {
   "cell_type": "markdown",
   "metadata": {},
   "source": [
    "### Too many parameters\n",
    "Functions should have as many parameters as they need to specify their behaviour. \n",
    "\n",
    "But a function with lots (say more than 5-10) parameters becomes very unwieldy. If this happens, think how you can cut down the number of parameters by splitting up the function or restructuring the problem.\n",
    "\n",
    "It's much less bad to have many parameters if many of the parameters are **optional** as we will see below, especially if only a few of them are ever used at one time.\n",
    "\n",
    "When we cover dictionaries, we will see a way of passing lots of named parameters to functions without making the whole thing clumsy.\n"
   ]
  },
  {
   "cell_type": "code",
   "execution_count": null,
   "metadata": {
    "collapsed": true
   },
   "outputs": [],
   "source": [
    "# This is a monster of a function!\n",
    "def render_image(fname, x_res, y_res, bit_depth, color_model, scene_name,\n",
    "                light_model, surface_model, camera_model, projection_matrix,\n",
    "                modelview_matrix, radiometric_model):\n",
    "    \n",
    "        pass"
   ]
  },
  {
   "cell_type": "markdown",
   "metadata": {},
   "source": [
    "In Python, some parameters can be made **optional**. That is, you can give parameters **default** values that will be used if a parameter is missing:\n"
   ]
  },
  {
   "cell_type": "code",
   "execution_count": 14,
   "metadata": {},
   "outputs": [
    {
     "name": "stdout",
     "output_type": "stream",
     "text": [
      "x=5\n",
      "y=1\n",
      "6\n",
      "\n",
      "x=5\n",
      "y=5\n",
      "10\n"
     ]
    }
   ],
   "source": [
    "## This syntax means: use the value of x, which **must** be passed,\n",
    "## and use the value of y **if it is there**; if not, assign the value 1\n",
    "def add(x, y=1):\n",
    "    print(\"x=%d\" % x)\n",
    "    print(\"y=%d\" % y)\n",
    "    return x + y\n",
    "\n",
    "\n",
    "# one argument call; y will take on the default value\n",
    "print(add(5))\n",
    "print()\n",
    "# two argument call; y will take on the value 5\n",
    "print(add(5, 5))"
   ]
  },
  {
   "cell_type": "markdown",
   "metadata": {},
   "source": [
    "Optional parameters must come *after* all mandatory parameters (those without defaults):\n",
    "\n",
    "    ## fine\n",
    "    def add_one(x, y=1):\n",
    "        return x+y\n",
    "        \n",
    "    ## WRONG! optional parameters must come last in the parameter list\n",
    "    def add_one(y=1, x):\n",
    "        return x+y"
   ]
  },
  {
   "cell_type": "markdown",
   "metadata": {},
   "source": [
    "## Positional arguments\n",
    "Traditionally, programming languages used only the position (order) of parameters to match arguments to parameters. Such arguments are called **positional arguments** because they are matched according to position."
   ]
  },
  {
   "cell_type": "code",
   "execution_count": 15,
   "metadata": {},
   "outputs": [
    {
     "name": "stdout",
     "output_type": "stream",
     "text": [
      "4.0\n"
     ]
    }
   ],
   "source": [
    "def divide(num, denom):\n",
    "    return num/denom\n",
    "\n",
    "print(divide(4,1))       # will make num=4, denom=1, \n",
    "# because that's the order in the function"
   ]
  },
  {
   "cell_type": "markdown",
   "metadata": {},
   "source": [
    "### Naming parameters\n",
    "This is fine for a small number of parameters (1 or 2), but it can be very easy to get confused and send the arguments in the wrong order.    \n",
    "\n",
    "In Python, you can explicitly name the parameters you want to match. **This allows you to write the arguments in any order you want**, and it can make code much easier to read.\n",
    "\n",
    "For more than two or three parameters, naming is a good idea."
   ]
  },
  {
   "cell_type": "code",
   "execution_count": 11,
   "metadata": {},
   "outputs": [
    {
     "name": "stdout",
     "output_type": "stream",
     "text": [
      "4\n",
      "4\n",
      "0\n"
     ]
    }
   ],
   "source": [
    "# the same as before, but easier to understand\n",
    "print(divide(num=4, denom=1))\n",
    "\n",
    "# the same operation, but the argument order can be arranged\n",
    "# because we explicitly named the parameters we wanted to match\n",
    "print(divide(denom=1, num=4))\n",
    "\n",
    "## switches num and denom because we didn't name them\n",
    "print(divide(1, 4))"
   ]
  },
  {
   "cell_type": "markdown",
   "metadata": {},
   "source": [
    "### Style\n",
    "In general, I prefer to name parameters, unless there are only one or two. For example, I would (much) prefer to write:\n",
    "\n",
    "    glow(ctx=s, x=100, y=100, radius=30, \n",
    "         sharpness=0.7, color=(1,1,1,1))\n",
    "\n",
    "than:\n",
    "\n",
    "    glow(s, 100, 100, 30, 0.7, (1,1,1,1))\n",
    "\n",
    "This much easier to read, and makes it much less likely I will transpose the order of the arguments and make a silly mistake. \n",
    "\n",
    "I wouldn't name an argument in this case:\n",
    "\n",
    "    def mean(l):\n",
    "        return sum(l)/len(l)\n",
    "        \n",
    "    mean([1,2,3])\n",
    "    \n",
    "because it doesn't add any extra readability.\n",
    "\n",
    "Ideally, your function calls should make it clear what the function does from the function name, and the name of the parameters.\n",
    "    "
   ]
  },
  {
   "cell_type": "markdown",
   "metadata": {},
   "source": [
    "## Note\n",
    "It is perfectly fine to use parameter names like this, even though it looks weird:\n",
    "    \n",
    "    x = load_data(\"data.txt\")\n",
    "    kernel = \"rbf\"\n",
    "    sigma = 2 * sqrt(len(x))\n",
    "    \n",
    "    # fine to use the x=x name\n",
    "    # remember, this means bind parameter x to the \n",
    "    # variable x in the current scope    \n",
    "    compute_distances(x=x, kernel=kernel, sigma=sigma)\n",
    "    \n",
    "    "
   ]
  },
  {
   "cell_type": "markdown",
   "metadata": {
    "collapsed": true
   },
   "source": [
    "## Scope of variables\n",
    "\n",
    "We can create new variables inside functions, just as you would expect:\n"
   ]
  },
  {
   "cell_type": "code",
   "execution_count": 25,
   "metadata": {},
   "outputs": [
    {
     "name": "stdout",
     "output_type": "stream",
     "text": [
      "12\n"
     ]
    }
   ],
   "source": [
    "\n",
    "def mul_add(a,b,c):\n",
    "    # we've createed a new variable mult\n",
    "    mult = a * b\n",
    "    return mult+c\n",
    "\n",
    "print(mul_add(2, 5, 2))"
   ]
  },
  {
   "cell_type": "code",
   "execution_count": 26,
   "metadata": {},
   "outputs": [
    {
     "ename": "NameError",
     "evalue": "name 'mult' is not defined",
     "output_type": "error",
     "traceback": [
      "\u001b[1;31m---------------------------------------------------------------------------\u001b[0m",
      "\u001b[1;31mNameError\u001b[0m                                 Traceback (most recent call last)",
      "\u001b[1;32m<ipython-input-26-6da1ecd8fcc3>\u001b[0m in \u001b[0;36m<module>\u001b[1;34m()\u001b[0m\n\u001b[0;32m      1\u001b[0m \u001b[1;31m## but this is an error\u001b[0m\u001b[1;33m\u001b[0m\u001b[1;33m\u001b[0m\u001b[0m\n\u001b[0;32m      2\u001b[0m \u001b[0mmul_add\u001b[0m\u001b[1;33m(\u001b[0m\u001b[1;36m2\u001b[0m\u001b[1;33m,\u001b[0m\u001b[1;36m5\u001b[0m\u001b[1;33m,\u001b[0m\u001b[1;36m2\u001b[0m\u001b[1;33m)\u001b[0m\u001b[1;33m\u001b[0m\u001b[0m\n\u001b[1;32m----> 3\u001b[1;33m \u001b[0mprint\u001b[0m\u001b[1;33m(\u001b[0m\u001b[0mmult\u001b[0m\u001b[1;33m)\u001b[0m\u001b[1;33m\u001b[0m\u001b[0m\n\u001b[0m",
      "\u001b[1;31mNameError\u001b[0m: name 'mult' is not defined"
     ]
    }
   ],
   "source": [
    "## but this is an error\n",
    "mul_add(2,5,2)\n",
    "print(mult)"
   ]
  },
  {
   "cell_type": "markdown",
   "metadata": {},
   "source": [
    "## Local scope\n",
    "When we create variables inside a function, they **are visible only to that function**. The calling code, and other functions, cannot see those variables. We call these **local variables** because they are local to the function in which they are defined.\n",
    "\n",
    "#### A clean workspace\n",
    "This means each function has a nice, clean private space to work in, where we don't have to worry about a function overwriting variables we have used before. This is the *isolating property of functions*. Computations in one function don't leak out and pollute other functions.\n",
    "\n",
    "This new workspace is recreated every time the function is called.\n",
    "\n",
    "This restriction of variables only to the function in which they are defined is called **scoping**, and variables visible only locally inside a function are in the **local scope**.\n"
   ]
  },
  {
   "cell_type": "code",
   "execution_count": 27,
   "metadata": {},
   "outputs": [
    {
     "name": "stdout",
     "output_type": "stream",
     "text": [
      "12\n",
      "10\n"
     ]
    }
   ],
   "source": [
    "mult = 10\n",
    "print(mul_add(2, 5, 2))\n",
    "print(mult)  # mul is not changed; it can't be overwritten from within mul_add()"
   ]
  },
  {
   "cell_type": "markdown",
   "metadata": {},
   "source": [
    "#### Persistence of locals\n",
    "Note that every time code calls a function, a *new* set of local variables for that function will be used. The old values do not persist from call to call."
   ]
  },
  {
   "cell_type": "code",
   "execution_count": 28,
   "metadata": {
    "collapsed": true
   },
   "outputs": [],
   "source": [
    "def scope_test(x, set_y):\n",
    "    if set_y:\n",
    "        y = x\n",
    "    print(y)\n",
    "    "
   ]
  },
  {
   "cell_type": "code",
   "execution_count": 29,
   "metadata": {},
   "outputs": [
    {
     "name": "stdout",
     "output_type": "stream",
     "text": [
      "20\n"
     ]
    }
   ],
   "source": [
    "# make y to be set to 20\n",
    "scope_test(20, True)    "
   ]
  },
  {
   "cell_type": "code",
   "execution_count": 30,
   "metadata": {},
   "outputs": [
    {
     "ename": "UnboundLocalError",
     "evalue": "local variable 'y' referenced before assignment",
     "output_type": "error",
     "traceback": [
      "\u001b[1;31m---------------------------------------------------------------------------\u001b[0m",
      "\u001b[1;31mUnboundLocalError\u001b[0m                         Traceback (most recent call last)",
      "\u001b[1;32m<ipython-input-30-4c2fd5550830>\u001b[0m in \u001b[0;36m<module>\u001b[1;34m()\u001b[0m\n\u001b[0;32m      1\u001b[0m \u001b[1;31m# Don't set y; now it will be unbound and cause an error\u001b[0m\u001b[1;33m\u001b[0m\u001b[1;33m\u001b[0m\u001b[0m\n\u001b[1;32m----> 2\u001b[1;33m \u001b[0mscope_test\u001b[0m\u001b[1;33m(\u001b[0m\u001b[1;36m50\u001b[0m\u001b[1;33m,\u001b[0m \u001b[1;32mFalse\u001b[0m\u001b[1;33m)\u001b[0m\u001b[1;33m\u001b[0m\u001b[0m\n\u001b[0m",
      "\u001b[1;32m<ipython-input-28-0cadd06b2d10>\u001b[0m in \u001b[0;36mscope_test\u001b[1;34m(x, set_y)\u001b[0m\n\u001b[0;32m      2\u001b[0m     \u001b[1;32mif\u001b[0m \u001b[0mset_y\u001b[0m\u001b[1;33m:\u001b[0m\u001b[1;33m\u001b[0m\u001b[0m\n\u001b[0;32m      3\u001b[0m         \u001b[0my\u001b[0m \u001b[1;33m=\u001b[0m \u001b[0mx\u001b[0m\u001b[1;33m\u001b[0m\u001b[0m\n\u001b[1;32m----> 4\u001b[1;33m     \u001b[0mprint\u001b[0m\u001b[1;33m(\u001b[0m\u001b[0my\u001b[0m\u001b[1;33m)\u001b[0m\u001b[1;33m\u001b[0m\u001b[0m\n\u001b[0m\u001b[0;32m      5\u001b[0m \u001b[1;33m\u001b[0m\u001b[0m\n",
      "\u001b[1;31mUnboundLocalError\u001b[0m: local variable 'y' referenced before assignment"
     ]
    }
   ],
   "source": [
    "# Don't set y; now it will be unbound and cause an error\n",
    "scope_test(50, False)"
   ]
  },
  {
   "cell_type": "markdown",
   "metadata": {},
   "source": [
    "## Globals"
   ]
  },
  {
   "cell_type": "code",
   "execution_count": 31,
   "metadata": {},
   "outputs": [
    {
     "name": "stdout",
     "output_type": "stream",
     "text": [
      "Well, hello there, John\n"
     ]
    }
   ],
   "source": [
    "## If variables used inside functions can only be seen\n",
    "## within that function,\n",
    "## then how does this work?\n",
    "greet = \"Well, hello there, \"\n",
    "\n",
    "def greeting(name):\n",
    "    print(greet+name)\n",
    "\n",
    "greeting(\"John\")"
   ]
  },
  {
   "cell_type": "markdown",
   "metadata": {},
   "source": [
    "Variables defined **outside of any function** are in the **global scope**. This means they are visible to **all functions**. These are **global variables** and every function can see the value that these variables have.\n",
    "\n",
    "### Assignment to globals\n",
    "\n",
    "But, in Python, we cannot directly **change** a globally-scoped variable (global variable) from within a function.\n"
   ]
  },
  {
   "cell_type": "code",
   "execution_count": 17,
   "metadata": {},
   "outputs": [
    {
     "name": "stdout",
     "output_type": "stream",
     "text": [
      "Well, hello there, John\n",
      "Hi John\n"
     ]
    }
   ],
   "source": [
    "## this is fine\n",
    "greet = \"Well, hello there, \"\n",
    "def greeting(name):\n",
    "    print(greet+name)\n",
    "\n",
    "greeting(\"John\")    \n",
    "\n",
    "# this is fine too; the global variable is changed\n",
    "greet = \"Hi \"\n",
    "\n",
    "greeting(\"John\")"
   ]
  },
  {
   "cell_type": "code",
   "execution_count": 18,
   "metadata": {},
   "outputs": [
    {
     "name": "stdout",
     "output_type": "stream",
     "text": [
      "Well, hello there, John\n"
     ]
    }
   ],
   "source": [
    "## We can't change greet from within a function\n",
    "greet = \"Well, hello there, \"\n",
    "def new_greeting(new_greet):\n",
    "    greet = new_greet    \n",
    "\n",
    "# does nothing!\n",
    "new_greeting(\"Yo, \")    \n",
    "greeting(\"John\")"
   ]
  },
  {
   "cell_type": "markdown",
   "metadata": {},
   "source": [
    "Global variables are (by default) read only within a function. This is to try and prevent data from leaking out from functions and have unexpected effects."
   ]
  },
  {
   "cell_type": "markdown",
   "metadata": {},
   "source": [
    "## Shadowing\n",
    "What we actually did with\n",
    "\n",
    "    greet = new_greet\n",
    "\n",
    "is create a new **locally-scoped** variable with the same name as the global variable. The global variable then becomes \"hidden\" or **shadowed** by the new local variable until the function returns. The global variable becomes accessible again once the local scope for the function exits (that is, after it returns).\n",
    "\n",
    "This can often be a source of subtle bugs in your code, if you (temporarily) shadow a global variable by using a local variable of the same name and expect it still to refer to the global variable.\n",
    "\n",
    "\n",
    "To allow functions to write to global variables, you must explicitly tell Python using the **global** keyword:"
   ]
  },
  {
   "cell_type": "code",
   "execution_count": 19,
   "metadata": {},
   "outputs": [
    {
     "name": "stdout",
     "output_type": "stream",
     "text": [
      "Alright, John\n"
     ]
    }
   ],
   "source": [
    "## We can't change greet from within a function\n",
    "greet = \"Well, hello there, \"\n",
    "def new_greeting(new_greet):\n",
    "    global greet   # tells Python that greet is a global variable we want to change\n",
    "    greet = new_greet  \n",
    "    \n",
    "# works correctly\n",
    "new_greeting(\"Alright, \")    \n",
    "greeting(\"John\")"
   ]
  },
  {
   "cell_type": "markdown",
   "metadata": {},
   "source": [
    "In summary:\n",
    "* Variables defined in a function are visible only within that function. They are *local variables*.\n",
    "* Variables defined outside of a function are visible to all functions. They are *global variables*.\n",
    "* **but** *global variables* are read-only by default. If we try and change them, we will create new local variables instead.\n",
    "* the `global` keyword allows a function to change the value of a global variable."
   ]
  },
  {
   "cell_type": "markdown",
   "metadata": {},
   "source": [
    "## The evils of globalisation\n",
    "Although sometimes it is tempting to use global variables to communicate between functions or to hold onto values in between function calls, **it is generally bad practice to do so. **\n",
    "\n",
    "The reason it is bad practice is that you end up with functions that all rely on each other via global variables, and it becomes hard to reason about the cause of effects. \n"
   ]
  },
  {
   "cell_type": "markdown",
   "metadata": {},
   "source": [
    "For example, \n",
    "* I change a global variable in function `fn_1()`;\n",
    "* which is modified by `fn_2()`;\n",
    "* and then read in `fn_3()`, \n",
    "* but **sometimes** `fn_2()` gets called twice \n",
    "* and `fn_3()` gets the wrong value, \n",
    "* and another part of the program happens to use the same name for the global variable it uses and now it overwrites what you've done, and so on...\n"
   ]
  },
  {
   "cell_type": "markdown",
   "metadata": {},
   "source": [
    "A program is **much** easier to be sure is correct if it avoids global variables. When you start working with **classes** you will see a much cleaner way of sharing variables among functions.\n",
    "\n",
    "### Avoiding globals\n",
    "Try and **explicitly** pass values between functions. For example, you could write code with globals like this\n",
    "\n",
    "    temp = 41\n",
    "    pressure = 1.05\n",
    "    volume = 2\n",
    "    \n",
    "    def update_volume():\n",
    "        global volume        \n",
    "        volume = temp / pressure\n",
    "        \n",
    "But it would be vastly better if written as:\n",
    "\n",
    "    def update_volume(pressure, temp):\n",
    "        return temp / pressure\n",
    "        \n",
    "    volume = update_volume(pressure, temp)\n",
    "        \n"
   ]
  },
  {
   "cell_type": "markdown",
   "metadata": {},
   "source": [
    "## Return values\n",
    "### None\n",
    "What happens if you call a function that doesn't have a return statement, and assign it to a variable or use it in an expression? Is that allowed?"
   ]
  },
  {
   "cell_type": "code",
   "execution_count": 20,
   "metadata": {},
   "outputs": [
    {
     "name": "stdout",
     "output_type": "stream",
     "text": [
      "None\n"
     ]
    }
   ],
   "source": [
    "def no_return(x):\n",
    "    x += 1\n",
    "    \n",
    "y = no_return(10)    \n",
    "print(y)"
   ]
  },
  {
   "cell_type": "markdown",
   "metadata": {},
   "source": [
    "**Yes**. *All function calls evaluate to a value.* \n",
    "\n",
    "If a function does not explicitly return a value, it returns the *special* value `None`, which means \"nothing it all\". It is distinct from `False` or 0, or any other value. It is a type all of its own -- it is `None` and it is of type `NoneType`. \n",
    "\n",
    "`None` is often used to represent cases where values are missing. For example, if you call a function with optional parameters, and want to be able to tell if the parameters were set or not, a conventional thing to do is to use `None` as the default"
   ]
  },
  {
   "cell_type": "code",
   "execution_count": 32,
   "metadata": {},
   "outputs": [
    {
     "name": "stdout",
     "output_type": "stream",
     "text": [
      "20\n",
      "100\n",
      "16\n"
     ]
    }
   ],
   "source": [
    "def param_test(x, y=None):\n",
    "    # note: we test for None-ness using is, not ==\n",
    "    if y is None:\n",
    "        y = x\n",
    "    return x * y\n",
    "\n",
    "\n",
    "print(param_test(10, 2))  # set y\n",
    "print(param_test(10))  # now, y will be set to x\n",
    "print(param_test(4))"
   ]
  },
  {
   "cell_type": "markdown",
   "metadata": {},
   "source": [
    "You can imagine that **every** function has\n",
    "\n",
    "    return None\n",
    "\n",
    "appended to the end of it. If another `return` gets there first, that will supercede the implied `return None`. "
   ]
  },
  {
   "cell_type": "markdown",
   "metadata": {},
   "source": [
    "### Multiple return values"
   ]
  },
  {
   "cell_type": "markdown",
   "metadata": {
    "collapsed": true
   },
   "source": [
    "We can return more than one value from a function. This is an extremely useful feature of Python. In the next lecture we will cover the mechanism that makes this work (it's really just a sequence of values), but for now, be aware that a `return` statement can be followed by a comma separated list of values.\n",
    "\n",
    "You can assign the results of the `return` to a corresponding number of variables using parallel assignment."
   ]
  },
  {
   "cell_type": "code",
   "execution_count": 33,
   "metadata": {},
   "outputs": [
    {
     "name": "stdout",
     "output_type": "stream",
     "text": [
      "1 2 3\n"
     ]
    }
   ],
   "source": [
    "def multi_return():\n",
    "    return 1,2,3\n",
    "\n",
    "a,b,c = multi_return()\n",
    "print(a,b,c)\n",
    "# exactly the same as\n",
    "a,b,c = 1,2,3"
   ]
  },
  {
   "cell_type": "markdown",
   "metadata": {},
   "source": [
    "## What happens during a function call?\n",
    "\n",
    "Every time `()` are encountered, a specific series of steps happens.\n",
    "\n",
    "    def f(x):\n",
    "        x = x + 1\n",
    "        return x\n",
    "        \n",
    "    print(f(2) + 3)\n",
    "\n",
    "\n",
    "* a. The place in the code to return to is stored on a **call stack**.\n",
    "    \n",
    "        f(2) + 3\n",
    "            ^\n",
    "            |  we will come back here\n",
    "            |  just after the function call\n",
    "    \n",
    "* b. A new local variable scope is created.\n",
    "    \n",
    "        {}\n",
    "\n",
    "* c. Parameters (variables in this new scope) are bound to arguments (what went in the brackets)\n",
    "\n",
    "        { \n",
    "            x = 2\n",
    "        }\n",
    "\n",
    "* d. Control is transferred to the function, and the function body is executed until the return statement.\n",
    "\n",
    "        x = x + 1          # x = 3 now\n",
    "        return x           # 3 goes onto the return stack\n",
    "    \n",
    "* e. The return value is placed on a **return value stack**\n",
    "* f. The local variable scope is *destroyed* and all values forgotten. Anything that didn't escape with `return` is gone.\n",
    "* g. The place to return to is retrieved from the **call stack** and control is transferred to that point.\n",
    "* h. The value on the **return value stack** is substituted in place of the function call.\n"
   ]
  },
  {
   "cell_type": "markdown",
   "metadata": {},
   "source": [
    "## First class functions\n",
    "Functions are **first-class** in Python. This means that functions are **values**, just like any other value (e.g. an integer, string).  You can store references to functions in variables, pass them to other functions, use them as return values and put them in compound data structures like lists.\n",
    "\n"
   ]
  },
  {
   "cell_type": "code",
   "execution_count": 34,
   "metadata": {},
   "outputs": [
    {
     "name": "stdout",
     "output_type": "stream",
     "text": [
      "twicetwice\n"
     ]
    }
   ],
   "source": [
    "def double(x):\n",
    "    return x*2\n",
    "\n",
    "d = double\n",
    "\n",
    "# now d is the same as double\n",
    "print(d(\"twice\"))"
   ]
  },
  {
   "cell_type": "code",
   "execution_count": 35,
   "metadata": {},
   "outputs": [
    {
     "data": {
      "text/plain": [
       "'fourfourfourfour'"
      ]
     },
     "execution_count": 35,
     "metadata": {},
     "output_type": "execute_result"
    }
   ],
   "source": [
    "def do_fn_twice(fn, x):\n",
    "    # apply fn twice to x\n",
    "    return fn(fn(x))\n",
    "\n",
    "do_fn_twice(double, \"four\")"
   ]
  },
  {
   "cell_type": "markdown",
   "metadata": {},
   "source": [
    "Note that a function **without** the call brackets `()` refers to the function. With the brackets, it **calls** the function and evaluates to the return value. Be careful to note this difference:"
   ]
  },
  {
   "cell_type": "code",
   "execution_count": 36,
   "metadata": {},
   "outputs": [
    {
     "name": "stdout",
     "output_type": "stream",
     "text": [
      "<function apple at 0x000001C00B9B9F28>\n",
      "Apple!\n"
     ]
    }
   ],
   "source": [
    "def apple():\n",
    "    return \"Apple!\"\n",
    "\n",
    "print(apple) # the value is a reference to the function\n",
    "print(apple()) # the value of the expression is the return value of the function"
   ]
  },
  {
   "cell_type": "code",
   "execution_count": 4,
   "metadata": {},
   "outputs": [
    {
     "name": "stdout",
     "output_type": "stream",
     "text": [
      "You called me!\n",
      "You called me!\n"
     ]
    }
   ],
   "source": [
    "def return_a_fn():\n",
    "    # NOTE: you can define functions within other functions\n",
    "    # this is totally fine\n",
    "    def fn():\n",
    "        print(\"You called me!\")\n",
    "    return fn\n",
    "\n",
    "my_function = return_a_fn() # call return_a_fn()\n",
    "my_function()  # now call the function that was returned\n",
    "my_function()  # now call the function that was returned\n"
   ]
  },
  {
   "cell_type": "markdown",
   "metadata": {},
   "source": [
    "First class functions have important uses:\n",
    "* **manufacturing** specialised functions, by returning functions from other functions. We will see this later, when we discuss **closures**.\n",
    "* **injecting** functionality into other parts of the program, by passing functions as arguments. This allows us to specify *custom operations* that can be used by some other code. One important example is sorting, which we will see next week, when we can specify a function to define what attribute we sort a sequence on.\n"
   ]
  },
  {
   "cell_type": "markdown",
   "metadata": {},
   "source": [
    "## Recursion\n",
    "<img src=\"imgs/recursion.png\" width=\"300px\">\n",
    "There is another way to repeated actions, other than iterating with `while` and `for`.\n",
    "\n",
    "**Recursion** is when a function makes a call to itself. \n",
    "\n",
    "This can be used to repeat actions. Sometimes it is much more natural to think of a problem in a recursive form -- when it operates by combining simpler versions of the same problem.\n"
   ]
  },
  {
   "cell_type": "code",
   "execution_count": null,
   "metadata": {
    "collapsed": true
   },
   "outputs": [],
   "source": [
    "def fibonacci(x):\n",
    "    if x<=1:\n",
    "        return 1   # stop, it's 1\n",
    "    else:\n",
    "        # it's the sum of the last two elements of the sequence\n",
    "        return fibonacci(x-1) + fibonacci(x-2) \n",
    "    \n",
    "fibonacci(0)"
   ]
  },
  {
   "cell_type": "markdown",
   "metadata": {},
   "source": [
    "### What recursion does\n",
    "While this might seem odd, *all we are telling the interpreter to do is to jump to the start of the function call with new values bound to the parameters*. \n",
    "\n",
    "Recursive means \"defined in terms of itself\"; we define the problem as an operation on simpler versions of that problem, and so on down, until...\n",
    "\n",
    "\n",
    "### The base case\n",
    "<img src=\"imgs/bass_case.jpg\">\n",
    "*[Image credit: Joe Jenkins CC-BY-NC 2.0]*\n",
    "\n",
    "Recursion is only meaningful if there are parameters that change, and it must have a **base case** -- a condition (execution path) in which we stop calling the function.\n",
    "\n",
    "In the Fibonacci example, the base case is \n",
    "    \n",
    "    if x<=1:\n",
    "    \n",
    "which tells us if we get a value of 1 or smaller to just stop and return 1. The next part \n",
    "\n",
    "    return fibonacci(x-1) + fibonacci(x-2)\n",
    "    \n",
    "computes the value using simpler versions of the same problem. These problems **always** eventually simplify to the base case of `fibonacci(1)` which we already we get an immediate answer for.\n"
   ]
  },
  {
   "cell_type": "markdown",
   "metadata": {},
   "source": [
    "For many problems it's often easier to just use `while` or `for`, but sometimes it is much easier to think about a problem recursively than iteratively. In those cases, recursion can be a life saver."
   ]
  },
  {
   "cell_type": "code",
   "execution_count": null,
   "metadata": {},
   "outputs": [],
   "source": [
    "def factorial(x):\n",
    "    if x<=1:\n",
    "        return 1   # stop, it's 1\n",
    "    else:\n",
    "        return x * factorial(x-1)\n",
    "        \n",
    "\n",
    "factorial(5)"
   ]
  },
  {
   "cell_type": "markdown",
   "metadata": {},
   "source": [
    "## Recursion guidance\n",
    "If you are writing a recursive function **write the base case first**. Then work out how to do the rest of the computation in terms of simpler versions of the arguments given, with some guarantee that these will eventually break down to the base case."
   ]
  },
  {
   "cell_type": "markdown",
   "metadata": {
    "collapsed": true
   },
   "source": [
    "# Finally\n",
    "Please send me any comments and concerns in a one-tweet (140 character message)"
   ]
  },
  {
   "cell_type": "markdown",
   "metadata": {},
   "source": [
    "## Syntax review [from learnxinyminutes.com]"
   ]
  },
  {
   "cell_type": "code",
   "execution_count": 38,
   "metadata": {},
   "outputs": [
    {
     "name": "stdout",
     "output_type": "stream",
     "text": [
      "x is 5 and y is 6\n",
      "x is 5 and y is 6\n",
      "43\n",
      "5\n",
      "6\n"
     ]
    },
    {
     "data": {
      "text/plain": [
       "13"
      ]
     },
     "execution_count": 38,
     "metadata": {},
     "output_type": "execute_result"
    }
   ],
   "source": [
    "# Use \"def\" to create new functions\n",
    "def add(x, y):\n",
    "    print(\"x is {0} and y is {1}\".format(x, y))\n",
    "    return x + y    # Return values with a return statement\n",
    "\n",
    "# Calling functions with parameters\n",
    "add(5, 6)   # => prints out \"x is 5 and y is 6\" and returns 11\n",
    "\n",
    "# Another way to call functions is with keyword arguments\n",
    "add(y=6, x=5)   # Keyword arguments can arrive in any order.\n",
    "\n",
    "\n",
    "# Function Scope\n",
    "x = 5\n",
    "\n",
    "def set_x(num):\n",
    "    # Local var x not the same as global variable x\n",
    "    x = num # => 43\n",
    "    print(x) # => 43\n",
    "\n",
    "def set_global_x(num):\n",
    "    global x\n",
    "    print(x) # => 5\n",
    "    x = num # global var x is now set to 6\n",
    "    print(x) # => 6\n",
    "\n",
    "set_x(43)\n",
    "set_global_x(6)\n",
    "\n",
    "# Python has first class functions\n",
    "def create_adder(x):\n",
    "    def adder(y):\n",
    "        return x + y\n",
    "    return adder\n",
    "\n",
    "add_10 = create_adder(10)\n",
    "add_10(3)   # => 13"
   ]
  }
 ],
 "metadata": {
  "kernelspec": {
   "display_name": "Python 3",
   "language": "python",
   "name": "python3"
  },
  "language_info": {
   "codemirror_mode": {
    "name": "ipython",
    "version": 3
   },
   "file_extension": ".py",
   "mimetype": "text/x-python",
   "name": "python",
   "nbconvert_exporter": "python",
   "pygments_lexer": "ipython3",
   "version": "3.6.1"
  }
 },
 "nbformat": 4,
 "nbformat_minor": 1
}
