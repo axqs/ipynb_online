{
 "cells": [
  {
   "cell_type": "markdown",
   "metadata": {},
   "source": [
    "# Week 2 : Lecture A \n",
    " ## Abstraction: Functions, parameters, arguments and scope\n",
    " ##### CS1P - University of Glasgow - John Williamson - 2016"
   ]
  },
  {
   "cell_type": "code",
   "execution_count": 2,
   "metadata": {
    "collapsed": true
   },
   "outputs": [],
   "source": [
    "from __future__ import division   # make division work like Python 3.x"
   ]
  },
  {
   "cell_type": "markdown",
   "metadata": {},
   "source": [
    "---\n",
    "## Functions\n",
    "Like most languages, Python has **functions** which acheive two goals:\n",
    "* breaks problems down into small, manageable chunks;\n",
    "* allows problems to be **parameterised**, i.e. to have parts that can **vary in a controlled way**.\n",
    "\n",
    "Programs are broken down into collections of functions. One function calls another, and that function calls another, and so on. This breaks things up into neat, manageable chunks and makes it feasible to write sophisticated programs.\n"
   ]
  },
  {
   "cell_type": "markdown",
   "metadata": {},
   "source": [
    "## Functions -- calling and returning\n",
    "A function is a block of code -- a sequence of statements. Functions are **called**, which runs the statements in order. Functions often **return** a value; this allows the code that made the call to the function to receive feedback.\n",
    "\n",
    "In Python, functions are defined with `def`, called using parentheses `()` and \n",
    "use the `return` *keyword* to return values back to the calling code:\n",
    "\n"
   ]
  },
  {
   "cell_type": "code",
   "execution_count": 1,
   "metadata": {
    "collapsed": false
   },
   "outputs": [
    {
     "name": "stdout",
     "output_type": "stream",
     "text": [
      "hello\n"
     ]
    }
   ],
   "source": [
    "## note the syntax: def <identifier>():\n",
    "def hello():\n",
    "    # we return values by putting them after a return statement\n",
    "    return \"hello\"\n",
    "\n",
    "# we *call* hello by putting the brackets () afterwards\n",
    "print hello()"
   ]
  },
  {
   "cell_type": "markdown",
   "metadata": {},
   "source": [
    "## Block syntax: indentation\n",
    "In Python, we denote the section of code following `def` by **indenting** it (putting spaces in front of the following lines). The `def` continues until the code indentation moves back to where it was before. An indented block always starts with a colon `:`.\n",
    "\n",
    "**All blocks of code in Python are denoted this way. Python is whitespace-sensitive. **\n",
    "\n",
    "There are no block markers like braces `{ }` or `begin` and `end` in Python. The block of code is defined by the colon followed by the indentation (spacing) **alone**. The code that \"belongs\" to a `def` statement is everything which has the matching indentation."
   ]
  },
  {
   "cell_type": "code",
   "execution_count": 3,
   "metadata": {
    "collapsed": false
   },
   "outputs": [
    {
     "name": "stdout",
     "output_type": "stream",
     "text": [
      "hello\n",
      "there\n"
     ]
    }
   ],
   "source": [
    "# this is fine\n",
    "def hello():\n",
    "    print \"hello\"\n",
    "    print \"there\"  \n",
    "    \n",
    "hello()"
   ]
  },
  {
   "cell_type": "code",
   "execution_count": 5,
   "metadata": {
    "collapsed": false
   },
   "outputs": [
    {
     "ename": "IndentationError",
     "evalue": "unexpected indent (<ipython-input-5-d175b548527e>, line 4)",
     "output_type": "error",
     "traceback": [
      "\u001b[1;36m  File \u001b[1;32m\"<ipython-input-5-d175b548527e>\"\u001b[1;36m, line \u001b[1;32m4\u001b[0m\n\u001b[1;33m    print \"there\"\u001b[0m\n\u001b[1;37m    ^\u001b[0m\n\u001b[1;31mIndentationError\u001b[0m\u001b[1;31m:\u001b[0m unexpected indent\n"
     ]
    }
   ],
   "source": [
    "# this is an indentation error -- it will not run!\n",
    "def hello():\n",
    "    print \"hello\"      \n",
    "      print \"there\"\n",
    "#   ^\n",
    "#   | does not match any possible indentation!\n",
    "hello()"
   ]
  },
  {
   "cell_type": "markdown",
   "metadata": {},
   "source": [
    "Blocks can be nested (put one inside another) as much as you want, but you need to indent the code for each level of nesting.\n",
    "\n",
    "    # first indent, following the def\n",
    "    def sum(l):\n",
    "        total = 0\n",
    "        # note increasing indent following for\n",
    "        for i in l:\n",
    "            total += i\n",
    "        return total\n",
    "        \n",
    "**It is essential that you get the indentation correct, otherwise you will generate a syntax error!**.        \n",
    "\n",
    "Press `[TAB]` in the notebook to move one indent step in. This inserts spaces, (not tab characters) at the start of the line (if you don't understand what that means, just remember the rule: always use spaces!)"
   ]
  },
  {
   "cell_type": "markdown",
   "metadata": {},
   "source": [
    "## Calling and returning\n",
    "Calling a function temporarily transfers contr"
   ]
  },
  {
   "cell_type": "markdown",
   "metadata": {},
   "source": [
    "## Parameterisation\n",
    "\n",
    "This use of functions allows us to collect together statements into meaningful \"chunks\". But we often want to be able to allow some parts of these chunks to **vary** in interesting ways. \n",
    "\n",
    "To do this we **parameterise** a function. This means it receives variables from the code that called it. This makes functions vastly more powerful; we can develop \"skeleton key\" code and fill in the details to specialise to a particular problem.\n",
    "\n",
    "Let's look at a simple example:"
   ]
  },
  {
   "cell_type": "code",
   "execution_count": 38,
   "metadata": {
    "collapsed": false
   },
   "outputs": [
    {
     "name": "stdout",
     "output_type": "stream",
     "text": [
      "3\n",
      "5\n",
      "201\n"
     ]
    }
   ],
   "source": [
    "def add_one(x):\n",
    "    # note that x becomes whatever was in the brackets when I called it\n",
    "    return x+1\n",
    "    \n",
    "print add_one(2)\n",
    "print add_one(4)\n",
    "y = 200\n",
    "print add_one(y)"
   ]
  },
  {
   "cell_type": "markdown",
   "metadata": {},
   "source": [
    "What happens is that `x` (the **parameter**) is a new variable which is assigned to the value given in the call (the **argument**). \n",
    "\n",
    "## Parameters and arguments\n",
    "**Parameters** are the variables you receive inside a function:\n",
    "\n",
    "    def fn(a,b): # a and b are parameters\n",
    "        return a+b\n",
    "    \n",
    "**Arguments** are the values you send to a function by calling it:\n",
    "\n",
    "    fn(2,4)   # 2 and 4 are arguments\n",
    "    fn(x,y)   # x and y are arguments\n"
   ]
  },
  {
   "cell_type": "markdown",
   "metadata": {},
   "source": [
    "**Note that `y` is not affected by calling add_one(); x is assigned the value that y has, and y itself is unchanged.** The value f x+1 is returned. "
   ]
  },
  {
   "cell_type": "code",
   "execution_count": 49,
   "metadata": {
    "collapsed": false
   },
   "outputs": [
    {
     "name": "stdout",
     "output_type": "stream",
     "text": [
      "201\n",
      "200\n"
     ]
    }
   ],
   "source": [
    "y = 200\n",
    "print add_one(y)\n",
    "print y"
   ]
  },
  {
   "cell_type": "markdown",
   "metadata": {},
   "source": [
    "If we wanted to update y we would need to explicitly say that we wanted to store the result in `y`:"
   ]
  },
  {
   "cell_type": "code",
   "execution_count": 43,
   "metadata": {
    "collapsed": false
   },
   "outputs": [
    {
     "name": "stdout",
     "output_type": "stream",
     "text": [
      "201\n"
     ]
    }
   ],
   "source": [
    "# read as: y becomes add_one(y)\n",
    "y = add_one(y)\n",
    "print y"
   ]
  },
  {
   "cell_type": "markdown",
   "metadata": {},
   "source": [
    "Even if we modify the parameter variable inside the function, the argument variable is unchanged. \n",
    "\n"
   ]
  },
  {
   "cell_type": "code",
   "execution_count": 51,
   "metadata": {
    "collapsed": false
   },
   "outputs": [
    {
     "name": "stdout",
     "output_type": "stream",
     "text": [
      "201\n",
      "200\n"
     ]
    }
   ],
   "source": [
    "def add_one(x):    \n",
    "    x = x + 1\n",
    "    return x\n",
    "\n",
    "y = 200\n",
    "print add_one(y)\n",
    "print y"
   ]
  },
  {
   "cell_type": "markdown",
   "metadata": {},
   "source": [
    "### Caveat\n",
    "*Be aware, when we see types like lists in more detail, we will see that for some data types, we can actually alter their value inside a function!*"
   ]
  },
  {
   "cell_type": "markdown",
   "metadata": {},
   "source": [
    "## Multiple parameters\n",
    "Functions can have many parameters. Each parameter is a new variable that is assigned to the value given when the function is called."
   ]
  },
  {
   "cell_type": "code",
   "execution_count": 41,
   "metadata": {
    "collapsed": false
   },
   "outputs": [
    {
     "data": {
      "text/plain": [
       "'hello, world'"
      ]
     },
     "execution_count": 41,
     "metadata": {},
     "output_type": "execute_result"
    }
   ],
   "source": [
    "# we can have multiple parameters\n",
    "def join_string(a,b,c):\n",
    "    return a+b+c\n",
    "\n",
    "join_string(\"hello\", \", \", \"world\")"
   ]
  },
  {
   "cell_type": "markdown",
   "metadata": {},
   "source": [
    "In Python, some parameters can be made **optional**. That is, you can give parameters **default** values that will be used if a parameter is missing:\n"
   ]
  },
  {
   "cell_type": "code",
   "execution_count": 48,
   "metadata": {
    "collapsed": false
   },
   "outputs": [
    {
     "name": "stdout",
     "output_type": "stream",
     "text": [
      "x=5\n",
      "y=1\n",
      "6\n",
      "\n",
      "x=5\n",
      "y=5\n",
      "10\n"
     ]
    }
   ],
   "source": [
    "## This syntax means: use the value of x, which **must** be passed,\n",
    "## and use the value of y **if it is there**; if not, assign the value 1\n",
    "def add(x, y=1):\n",
    "    print \"x=%d\"%x\n",
    "    print \"y=%d\"%y\n",
    "    return x+y\n",
    "\n",
    "# one argument call\n",
    "print add(5)\n",
    "print\n",
    "# two argument call\n",
    "print add(5,5)"
   ]
  },
  {
   "cell_type": "markdown",
   "metadata": {},
   "source": [
    "Optional parameters must come after all mandatory parameters (those without defaults):\n",
    "\n",
    "    ## fine\n",
    "    def add_one(x, y=1):\n",
    "        return x+y\n",
    "        \n",
    "    ## WRONG! optional parameters must come last in the parameter list\n",
    "    def add_one(y=1, x):\n",
    "        return x+y"
   ]
  },
  {
   "cell_type": "markdown",
   "metadata": {},
   "source": [
    "## Positional arguments\n",
    "Traditionally, programming languages used only the position (order) of parameters to match arguments to parameters. Such arguments are called **positional arguments** because they are matched according to position."
   ]
  },
  {
   "cell_type": "code",
   "execution_count": 77,
   "metadata": {
    "collapsed": false
   },
   "outputs": [
    {
     "name": "stdout",
     "output_type": "stream",
     "text": [
      "4.0\n"
     ]
    }
   ],
   "source": [
    "def divide(num, denom):\n",
    "    return num/denom\n",
    "\n",
    "print divide(4,1)       # will make x=4, y=1"
   ]
  },
  {
   "cell_type": "markdown",
   "metadata": {},
   "source": [
    "### Naming parameters\n",
    "This is fine for a small number of parameters (1 or 2), but it can be very easy to get confused and send the arguments in the wrong order.    \n",
    "\n",
    "In Python, you can explicitly name the parameters you want to match. **This allows you to write the arguments in any order you want**, and it can make code much easier to read."
   ]
  },
  {
   "cell_type": "code",
   "execution_count": 78,
   "metadata": {
    "collapsed": false
   },
   "outputs": [
    {
     "name": "stdout",
     "output_type": "stream",
     "text": [
      "4.0\n",
      "4.0\n",
      "0.25\n"
     ]
    }
   ],
   "source": [
    "# the same as before, but easier to understand\n",
    "print divide(num=4, denom=1)\n",
    "\n",
    "# the same operation, but the argument order can be arranged\n",
    "# because we explicitly named the parameters we wanted to match\n",
    "print divide(denom=1, num=4)\n",
    "\n",
    "## switches num and denom because we didn't name them\n",
    "\n",
    "print divide(1,4)"
   ]
  },
  {
   "cell_type": "markdown",
   "metadata": {},
   "source": [
    "### Style\n",
    "In general, I prefer to name parameters, unless there are only one or two. For example, I would (much) prefer to write:\n",
    "\n",
    "    glow(ctx=s, x=100, y=100, radius=30, sharpness=0.7, color=(1,1,1,1))\n",
    "\n",
    "than:\n",
    "\n",
    "    glow(s, 100, 100, 30, 0.7, (1,1,1,1))\n",
    "\n",
    "This much easier to read, and makes it much less likely I will transpose the order of the arguments and make a silly mistake. \n",
    "\n",
    "I wouldn't name an argument in this case:\n",
    "\n",
    "    def mean(l):\n",
    "        return sum(l)/len(l)\n",
    "        \n",
    "    mean([1,2,3])\n",
    "    \n",
    "because it doesn't add any extra readability.\n",
    "\n",
    "Ideally, your function calls should make it clear what the function does from the function name, and the name of the parameters.\n",
    "    "
   ]
  },
  {
   "cell_type": "markdown",
   "metadata": {
    "collapsed": true
   },
   "source": [
    "## Scope of variables\n",
    "\n",
    "We can create new variables inside functions, just as you would expect:\n"
   ]
  },
  {
   "cell_type": "code",
   "execution_count": 92,
   "metadata": {
    "collapsed": false
   },
   "outputs": [
    {
     "name": "stdout",
     "output_type": "stream",
     "text": [
      "12\n"
     ]
    }
   ],
   "source": [
    "def mul_add(a,b,c):\n",
    "    # we've createed a new variable mul\n",
    "    mul = a * b\n",
    "    return mul+c\n",
    "\n",
    "print mul_add(2,5,2)"
   ]
  },
  {
   "cell_type": "code",
   "execution_count": 93,
   "metadata": {
    "collapsed": false
   },
   "outputs": [
    {
     "ename": "NameError",
     "evalue": "name 'mul' is not defined",
     "output_type": "error",
     "traceback": [
      "\u001b[1;31m---------------------------------------------------------------------------\u001b[0m",
      "\u001b[1;31mNameError\u001b[0m                                 Traceback (most recent call last)",
      "\u001b[1;32m<ipython-input-93-22e3e9caaef7>\u001b[0m in \u001b[0;36m<module>\u001b[1;34m()\u001b[0m\n\u001b[0;32m      1\u001b[0m \u001b[0mmul_add\u001b[0m\u001b[1;33m(\u001b[0m\u001b[1;36m2\u001b[0m\u001b[1;33m,\u001b[0m\u001b[1;36m5\u001b[0m\u001b[1;33m,\u001b[0m\u001b[1;36m2\u001b[0m\u001b[1;33m)\u001b[0m\u001b[1;33m\u001b[0m\u001b[0m\n\u001b[1;32m----> 2\u001b[1;33m \u001b[1;32mprint\u001b[0m \u001b[0mmul\u001b[0m\u001b[1;33m\u001b[0m\u001b[0m\n\u001b[0m",
      "\u001b[1;31mNameError\u001b[0m: name 'mul' is not defined"
     ]
    }
   ],
   "source": [
    "## but this is an error\n",
    "mul_add(2,5,2)\n",
    "print mul"
   ]
  },
  {
   "cell_type": "markdown",
   "metadata": {},
   "source": [
    "## Local scope\n",
    "When we create variables inside a function, they **are visible only to that function**. The calling code, and other functions, cannot see those variable. We call these **local variables** because they are local to the function in which they are defined.\n",
    "\n",
    "This means each function has a nice, clean space to work in, where we never have to worry about a function overwriting variables we have defined before.\n",
    "\n",
    "This restriction of variables only to the \"block\" in which they are defined is called **scoping**, and variables visible only locally inside a function are in the **local scope**.\n"
   ]
  },
  {
   "cell_type": "code",
   "execution_count": 1,
   "metadata": {
    "collapsed": false
   },
   "outputs": [
    {
     "ename": "NameError",
     "evalue": "name 'mul_add' is not defined",
     "output_type": "error",
     "traceback": [
      "\u001b[0;31m---------------------------------------------------------------------------\u001b[0m",
      "\u001b[0;31mNameError\u001b[0m                                 Traceback (most recent call last)",
      "\u001b[0;32m<ipython-input-1-a8792566bceb>\u001b[0m in \u001b[0;36m<module>\u001b[0;34m()\u001b[0m\n\u001b[1;32m      1\u001b[0m \u001b[0mmul\u001b[0m \u001b[1;33m=\u001b[0m \u001b[1;36m10\u001b[0m\u001b[1;33m\u001b[0m\u001b[0m\n\u001b[0;32m----> 2\u001b[0;31m \u001b[1;32mprint\u001b[0m \u001b[0mmul_add\u001b[0m\u001b[1;33m(\u001b[0m\u001b[1;36m2\u001b[0m\u001b[1;33m,\u001b[0m\u001b[1;36m5\u001b[0m\u001b[1;33m,\u001b[0m\u001b[1;36m2\u001b[0m\u001b[1;33m)\u001b[0m\u001b[1;33m\u001b[0m\u001b[0m\n\u001b[0m\u001b[1;32m      3\u001b[0m \u001b[1;32mprint\u001b[0m \u001b[0mmul\u001b[0m  \u001b[1;31m# mul is not changed; it can't be overwritten from within mul_add()\u001b[0m\u001b[1;33m\u001b[0m\u001b[0m\n",
      "\u001b[0;31mNameError\u001b[0m: name 'mul_add' is not defined"
     ]
    }
   ],
   "source": [
    "mul = 10\n",
    "print mul_add(2,5,2)\n",
    "print mul  # mul is not changed; it can't be overwritten from within mul_add()"
   ]
  },
  {
   "cell_type": "code",
   "execution_count": 99,
   "metadata": {
    "collapsed": false
   },
   "outputs": [
    {
     "name": "stdout",
     "output_type": "stream",
     "text": [
      "Well, hello there, John\n"
     ]
    }
   ],
   "source": [
    "## But then how does this work?\n",
    "greet = \"Well, hello there, \"\n",
    "def greeting(name):\n",
    "    print greet+name\n",
    "\n",
    "greeting(\"John\")    "
   ]
  },
  {
   "cell_type": "markdown",
   "metadata": {},
   "source": [
    "Variables defined outside of **any function** are in the **global scope**. This means they are visible to **all functions**. These are **global variables** and every function can see the value that these variables have.\n",
    "\n",
    "But, in Python, we cannot directly **change** a globally-scoped variable (global variable) from within a function.\n"
   ]
  },
  {
   "cell_type": "code",
   "execution_count": 2,
   "metadata": {
    "collapsed": false
   },
   "outputs": [
    {
     "name": "stdout",
     "output_type": "stream",
     "text": [
      "Well, hello there, John\n",
      "Hi John\n"
     ]
    }
   ],
   "source": [
    "## this is fine\n",
    "greet = \"Well, hello there, \"\n",
    "def greeting(name):\n",
    "    print greet+name\n",
    "\n",
    "greeting(\"John\")    \n",
    "\n",
    "# this is fine too; the global variable is changed\n",
    "greet = \"Hi \"\n",
    "\n",
    "greeting(\"John\")    "
   ]
  },
  {
   "cell_type": "code",
   "execution_count": 3,
   "metadata": {
    "collapsed": false
   },
   "outputs": [
    {
     "name": "stdout",
     "output_type": "stream",
     "text": [
      "Well, hello there, John\n"
     ]
    }
   ],
   "source": [
    "## We can't change greet from within a function\n",
    "greet = \"Well, hello there, \"\n",
    "def new_greeting(new_greet):\n",
    "    greet = new_greet    \n",
    "\n",
    "# does nothing!\n",
    "new_greeting(\"Hello, \")    \n",
    "greeting(\"John\")"
   ]
  },
  {
   "cell_type": "markdown",
   "metadata": {},
   "source": [
    "## Shadowing\n",
    "What we actually did with\n",
    "\n",
    "    greet = new_greet\n",
    "\n",
    "is create a new **locally-scoped** variable with the same name as the global variable. The global variable then becomes \"hidden\" or **shadowed** by the new local variable until the function returns.\n",
    "\n",
    "This can often be a source of subtle bugs in your code, if you (temporarily) shadow a global variable by using a local variable of the same name and expect it still to refer to the global variable.\n",
    "\n",
    "To allow functions to write to global variables, you must explicitly tell Python using the **global** keyword:"
   ]
  },
  {
   "cell_type": "code",
   "execution_count": 113,
   "metadata": {
    "collapsed": false
   },
   "outputs": [
    {
     "name": "stdout",
     "output_type": "stream",
     "text": [
      "Alright, John\n"
     ]
    }
   ],
   "source": [
    "## We can't change greet from within a function\n",
    "greet = \"Well, hello there, \"\n",
    "def new_greeting(new_greet):\n",
    "    global greet   # tells Python that greet is a global variable we want to change\n",
    "    greet = new_greet  \n",
    "    \n",
    "# works correctly\n",
    "new_greeting(\"Alright, \")    \n",
    "greeting(\"John\")    "
   ]
  },
  {
   "cell_type": "markdown",
   "metadata": {},
   "source": [
    "In summary:\n",
    "* Variables defined in a function are visible only within that function. They are *local variables*.\n",
    "* Variables defined outside of a function are visible to all functions. They are *global variables*.\n",
    "* **but** *global variables* are read-only by default. If we try and change them, we will create new local variables instead.\n",
    "* the `global` keyword allows a function to change the value of a global variable."
   ]
  },
  {
   "cell_type": "markdown",
   "metadata": {},
   "source": [
    "## Problems of globals\n",
    "Although sometimes it is tempting to use global variables to communicate between functions, **it is generally bad practice to do so. **\n",
    "\n",
    "The reason it is bad practice is that you end up with functions that all rely on each other via global variables, and it becomes hard to reason about the cause of effects. \n"
   ]
  },
  {
   "cell_type": "markdown",
   "metadata": {},
   "source": [
    "For example, \n",
    "* I change a global variable in function fn_1();\n",
    "* which is modified by fn_2();\n",
    "* and then read in fn_3(), \n",
    "* but **sometimes** fn_2() gets called twice \n",
    "* and fn_3() gets the wrong value, \n",
    "* and another part of the program happens to use the same name for the global variable it uses and now it overwrites what you've done, and so on...\n"
   ]
  },
  {
   "cell_type": "markdown",
   "metadata": {},
   "source": [
    "A program is **much** easier to be sure is correct if it avoids global variables. When you start working with **classes** you will see a much cleaner way of sharing variables among functions.\n",
    "\n",
    "### Avoiding globals\n",
    "Try and **explicitly** pass values between functions. For example, you could write code with globals like this\n",
    "\n",
    "    temp = 41\n",
    "    pressure = 1.05\n",
    "    volume = 2\n",
    "    \n",
    "    def update_volume():\n",
    "        global volume        \n",
    "        volume = temp / pressure\n",
    "        \n",
    "But it would be vastly better if written as:\n",
    "\n",
    "    def update_volume(pressure, temp):\n",
    "        return temp / pressure\n",
    "        \n",
    "    volume = update_volume(pressure, temp)\n",
    "        \n"
   ]
  },
  {
   "cell_type": "markdown",
   "metadata": {},
   "source": [
    "\n",
    "\n",
    "## Conclusion\n",
    "\n"
   ]
  }
 ],
 "metadata": {
  "kernelspec": {
   "display_name": "Python 2",
   "language": "python",
   "name": "python2"
  },
  "language_info": {
   "codemirror_mode": {
    "name": "ipython",
    "version": 2
   },
   "file_extension": ".py",
   "mimetype": "text/x-python",
   "name": "python",
   "nbconvert_exporter": "python",
   "pygments_lexer": "ipython2",
   "version": "2.7.11"
  }
 },
 "nbformat": 4,
 "nbformat_minor": 0
}
