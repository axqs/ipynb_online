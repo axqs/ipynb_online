{
 "cells": [
  {
   "cell_type": "markdown",
   "metadata": {},
   "source": [
    "# Week 7 : Lecture A \n",
    " ## Data structures: Dictionaries\n",
    " ##### CS1P - University of Glasgow - John H. .Williamson - 2017/2018 - Python 3.x"
   ]
  },
  {
   "cell_type": "markdown",
   "metadata": {},
   "source": [
    "## Associative memory\n",
    "<img src=\"imgs/robbie.gif\">\n",
    "\n",
    "Internally, computers store data in memory, which is **addressed** using integer adresses. This model, where data is indexed by numbers, is generalized by lists. But what if we relaxed it further, and let our systems \"remember\" anything? This is sometimes called an *associative memory* or *content-addressable memory* because it allows values to be retrieved according to some associated content. \n",
    "\n",
    "For example, details of a song might be indexed by the title of the song. A title can be used to address or query the \"memory\" of all of the songs.\n",
    "\n",
    "## Dictionaries\n",
    "Dictionaries are one of the most useful datatypes. In other languages, they are sometimes called **hash tables** or **hash maps** or just **tables**. A list represents a sequence; one element after another. A dictionary is more general: it represents a **map**, any relation between values. \n",
    "\n",
    "<img src=\"imgs/map.png\">\n",
    "\n",
    "A dictionary maps a finite number of values to a finite number of values."
   ]
  },
  {
   "cell_type": "markdown",
   "metadata": {},
   "source": [
    "It can be used to represent a **graph** structure.\n",
    "\n",
    "Any *directed graph* where every *vertex* maps to exactly one other *vertex* can be represented as a set of (key, value) pairs. Relaxing the \"exactly one other\" constraint is easy, and dictionaries in fact allow us to represent any possible mapping from one set of values to another set.\n",
    "\n",
    "### Lists\n",
    "<img src=\"imgs/list.merm.png\">\n",
    "\n",
    "### Graphs \n",
    "<img src=\"imgs/graph.merm.png\">\n",
    "\n",
    "### Key value version of the graph\n",
    "<img src=\"imgs/key_value.merm.png\" width=\"600px\">"
   ]
  },
  {
   "cell_type": "markdown",
   "metadata": {},
   "source": [
    "### Keys and values\n",
    "Dictionaries **map keys to values**. They represent **mappings** from one set of values to another. \n",
    "\n",
    "A **key** is something we want to use to **look up** a value later. It can be (pretty much) any value: it could be an integer; or a string; or a sequence of strings. \n",
    "\n",
    "A **value** can be any value at all: a string, an image, a network connection: anything we can store in a Python variable.\n",
    "\n",
    "For example, if I were building a dictionary to represent students in a class, I would use **matric numbers** as **keys** and student names and exam scores as **values**."
   ]
  },
  {
   "cell_type": "markdown",
   "metadata": {},
   "source": [
    "## Uses of dictionaries\n",
    "Dictionaries are an *incredibly* useful data structure. Unless a problem needs an ordering, I'd usually prefer using dictionaries to lists.\n",
    "\n",
    "### Lookup tables\n",
    "Lots of problems can be reduced to looking up a value in a table. \n",
    "For example, I might want to associate colours to seasons, to update my website design dynamically (this is a terrible design idea -- please don't do this!). Rather than writing a complicated set of `if/elif`, we can use a simple dictionary instead:"
   ]
  },
  {
   "cell_type": "code",
   "execution_count": 3,
   "metadata": {},
   "outputs": [
    {
     "data": {
      "text/html": [
       "<script \n",
       "    type=\"text/Javascript\">\n",
       "    var dom_site = document.getElementById('site'); \n",
       "    dom_site.style.backgroundColor = '#e0e5f0';  \n",
       "    </script>"
      ],
      "text/plain": [
       "<IPython.core.display.HTML object>"
      ]
     },
     "metadata": {},
     "output_type": "display_data"
    }
   ],
   "source": [
    "from IPython.display import display, HTML\n",
    "def set_colour(hex_color):\n",
    "    javascript = \"\"\"<script \n",
    "    type=\"text/Javascript\">\n",
    "    var dom_site = document.getElementById('site'); \n",
    "    dom_site.style.backgroundColor = '%s';  \n",
    "    </script>\"\"\" % hex_color\n",
    "    display(HTML(javascript))\n",
    "\n",
    "# map seasons to colours with a dictionary\n",
    "seasons = {\"spring\":\"#80f060\", \n",
    "           \"summer\":\"#f0a030\", \n",
    "           \"autumn\":\"#904010\", \n",
    "           \"winter\":\"#e0e5f0\" }\n",
    "\n",
    "set_colour(seasons[\"winter\"])"
   ]
  },
  {
   "cell_type": "markdown",
   "metadata": {},
   "source": [
    "Obviously, two lists could be used instead: one list of possible seasons and a corresponding list of the colours to lookup could be used. But that can be very inefficient as the table gets larger -- you have to step through each element of the table to find the corresponding lookup.\n",
    "\n",
    "Dictionaries are both a simple **and** very efficient way of doing this. "
   ]
  },
  {
   "cell_type": "markdown",
   "metadata": {},
   "source": [
    "## Memoization and caching\n",
    "**Memoization** means remembering results that have been computed before. This can be used to dramatically speed up computations, by avoid redoing expensive computation.\n",
    "\n",
    "We can store arguments as **keys** and return values as **values**, and just look up the result, instead of computing it from scratch again."
   ]
  },
  {
   "cell_type": "code",
   "execution_count": 10,
   "metadata": {},
   "outputs": [
    {
     "name": "stdout",
     "output_type": "stream",
     "text": [
      "1 loop, best of 3: 2.12 s per loop\n"
     ]
    }
   ],
   "source": [
    "%%timeit\n",
    "def fib(x):\n",
    "    if x<=2:\n",
    "        return 1\n",
    "    else:\n",
    "        return fib(x-1)+fib(x-2)\n",
    "fib(35)"
   ]
  },
  {
   "cell_type": "code",
   "execution_count": 11,
   "metadata": {},
   "outputs": [
    {
     "name": "stdout",
     "output_type": "stream",
     "text": [
      "100000 loops, best of 3: 13.6 µs per loop\n"
     ]
    }
   ],
   "source": [
    "%%timeit\n",
    "# store for previous results\n",
    "memo = {}\n",
    "\n",
    "def memo_fib(x):\n",
    "    # check if we've seen this before, and return it if so\n",
    "    if x in memo:\n",
    "        return memo[x]\n",
    "    \n",
    "    if x<=2:\n",
    "        result= 1\n",
    "    else:\n",
    "        result= memo_fib(x-1)+memo_fib(x-2)\n",
    "        \n",
    "    # remember for next time\n",
    "    memo[x] = result\n",
    "    return result\n",
    "\n",
    "memo_fib(35)"
   ]
  },
  {
   "cell_type": "markdown",
   "metadata": {},
   "source": [
    "### Web cache\n",
    "This is how the cache on a web-browser works (although usually with a database rather than a plain dictionary). The keys are **URLs** and the values the data (HTML, PNG, etc.) for that URL. It is cheaper to store the result of downloading a web page and reuse later than redownload each time."
   ]
  },
  {
   "cell_type": "markdown",
   "metadata": {},
   "source": [
    "## Mini-database\n",
    "Dictionaries can provide much of the funcionality of a database. They don't offer the power that a real database needs (persistence, robustness via transactions, concurrent access), but they can be used a simple, in-memory store of tables of data. Columns can be given names, rather than the rather opaque use of indices, in a list of lists structure."
   ]
  },
  {
   "cell_type": "code",
   "execution_count": 10,
   "metadata": {},
   "outputs": [
    {
     "name": "stdout",
     "output_type": "stream",
     "text": [
      "Venus is yellow\n",
      "Mars is red\n",
      "Earth is blue\n"
     ]
    }
   ],
   "source": [
    "planets = [\n",
    "    {\n",
    "        \"name\": \"Venus\",\n",
    "        \"colour\": \"yellow\",\n",
    "        \"age\": \"4.50b\"\n",
    "    },\n",
    "    {\n",
    "        \"name\": \"Mars\",\n",
    "        \"colour\": \"red\",\n",
    "        \"age\": \"4.50b\"\n",
    "    },\n",
    "    {\n",
    "        \"name\": \"Earth\",\n",
    "        \"colour\": \"blue\",\n",
    "        \"age\": \"4.53b\"\n",
    "    },\n",
    "]\n",
    "\n",
    "for planet in planets:\n",
    "    print(planet[\"name\"], \"is\", planet[\"colour\"])"
   ]
  },
  {
   "cell_type": "markdown",
   "metadata": {},
   "source": [
    "### Graphs and mappings\n",
    "Among all representations of discrete data, graphs are the most **general**. Sequences are special cases of graphs; trees are special cases of graphs; 2D arrays are special cases of graphs and so on. \n",
    "\n",
    "Graphs consist of vertices and edges. Dictionaries naturally capture graphs as a mapping relation between vertices. The edges are given by the mappings, and the keys and values make up the vertices. Many **graph algorithms** are easy to write using a dictionary.\n",
    "\n",
    "Many of these, like **shortest path**, **minimum spanning tree** and **max cut** are vital tools in a computer scientist's toolbox."
   ]
  },
  {
   "cell_type": "markdown",
   "metadata": {},
   "source": [
    "<img src=\"imgs/max_flow.png\">\n",
    "*[Image credit:By Min_cut.png: Maksimderivative work: Cyhawk (talk) - Min_cut.png, CC BY-SA 3.0, https://commons.wikimedia.org/w/index.php?curid=11765044]*\n"
   ]
  },
  {
   "cell_type": "markdown",
   "metadata": {},
   "source": [
    "### Interchangeable remapping \"glue\"\n",
    "Scenario: I'm writing a computer game with keyboard controls. I want to be able to map keyboard commands to actions like move up, move down, etc.\n",
    "\n",
    "    UP_ARROW -> Up\n",
    "    DOWN_ARROW -> Down\n",
    "    LEFT_ARROW -> Left\n",
    "    RIGHT_ARROW -> Right\n",
    "    \n",
    "But now someone comes along and wants use WASD (like a sensible person would):\n",
    "\n",
    "    W -> Up\n",
    "    A -> Left\n",
    "    S -> Down\n",
    "    D -> Right\n",
    "    \n",
    "Dictionaries are a very easy way of representing this changeable mapping from one set of values to another. They can be used to \"glue\" different parts of a program together, translating values through a dictionary table.\n",
    "\n",
    "    {\"UP_ARROW\":go_up, \n",
    "    \"DOWN_ARROW\":go_down, \n",
    "    \"LEFT_ARROW\":go_left, \n",
    "    \"RIGHT_ARROW\":go_right}\n",
    "    \n",
    "This ability to *remap* from one representation to another is a very useful application of dictionaries."
   ]
  },
  {
   "cell_type": "markdown",
   "metadata": {},
   "source": [
    "### Packing up arguments\n",
    "\n",
    "We saw that it is a bad idea to have a function definition with dozens of arguments:\n",
    "      "
   ]
  },
  {
   "cell_type": "code",
   "execution_count": null,
   "metadata": {
    "collapsed": true
   },
   "outputs": [],
   "source": [
    "# This is a monster of a function!\n",
    "def render_image(fname, x_res, y_res, bit_depth, color_model, scene_name,\n",
    "                light_model, surface_model, camera_model, projection_matrix,\n",
    "                modelview_matrix, radiometric_model):    \n",
    "        print(fname, x_res, y_res)"
   ]
  },
  {
   "cell_type": "markdown",
   "metadata": {},
   "source": [
    "But sometimes we **need** to specify a lot of things to be able to do some operation. How should we pass this to a function?\n",
    "\n",
    "A dictionary is a suitable choice. It can store mappings from keys (parameters) to values (arguments). So I could pass one dictionary instead of a dozen parameters. \n",
    "\n",
    "And, because it is a normal value, I can also copy it, store it in a file, print it out -- it is a collection that doesn't just \"appear\" when the function is called. *It can be constructed a little bit at a time.*"
   ]
  },
  {
   "cell_type": "code",
   "execution_count": null,
   "metadata": {
    "collapsed": true
   },
   "outputs": [],
   "source": [
    "params = {\"fname\" :\"render.png\", \n",
    "         \"x_res\":320, \n",
    "         \"y_res\":240, \n",
    "         \"bit_depth\":24, \n",
    "         \"color_model\":\"rgba\", \n",
    "         \"scene_name\":\"render_1\",\n",
    "         \"light_model\":\"lambertian\", \n",
    "         \"surface_model\":\"planar\",\n",
    "         \"camera_model\":\"linear\"} \n",
    "\n",
    "# make some more changes\n",
    "params[\"projection_matrix\"] = [[1,0,0],[0,1,0],[0,0,1]]\n",
    "params[\"modelview_matrix\"] = params[\"projection_matrix\"]\n",
    "params[\"radiometric_model\"] = \"brdf_1\""
   ]
  },
  {
   "cell_type": "markdown",
   "metadata": {},
   "source": [
    "In fact, this is so useful that Python has a special syntax to let you call **any** normal function using a dictionary to represent the binding of arguments to parameters, instead of using the normal argument form.\n",
    "\n",
    "If there's a function f(a,b,c), I can call it with a dictionary `param_dict` that has keys \"a\", \"b\",\"c\" like this: `f(**param_dict)`. \n",
    "\n"
   ]
  },
  {
   "cell_type": "code",
   "execution_count": null,
   "metadata": {
    "collapsed": true
   },
   "outputs": [],
   "source": [
    "def f(a,b,c):\n",
    "    print(a, b, c)\n",
    "\n",
    "# ** means \"unpack dictionary into keyword arguments\"\n",
    "f(**{\"a\":1, \"b\":2, \"c\":3})"
   ]
  },
  {
   "cell_type": "code",
   "execution_count": null,
   "metadata": {
    "collapsed": true,
    "scrolled": true
   },
   "outputs": [],
   "source": [
    "render_image(**params)"
   ]
  },
  {
   "cell_type": "markdown",
   "metadata": {},
   "source": [
    "Likewise, a function can capture all of the keyword arguments it is sent into a dictionary using a similar syntax. *This allows functions that can take any number of arguments.*"
   ]
  },
  {
   "cell_type": "code",
   "execution_count": null,
   "metadata": {
    "collapsed": true,
    "scrolled": true
   },
   "outputs": [],
   "source": [
    "def print_kwarg(**kwargs):\n",
    "    print(kwargs)\n",
    "    \n",
    "print_kwarg(**params)"
   ]
  },
  {
   "cell_type": "code",
   "execution_count": null,
   "metadata": {
    "collapsed": true,
    "scrolled": true
   },
   "outputs": [],
   "source": [
    "print_kwarg(one=\"one\", two=\"three\", four=\"eleven\")"
   ]
  },
  {
   "cell_type": "markdown",
   "metadata": {},
   "source": [
    "   \n",
    "\n",
    "### Sets\n",
    "$$ X = \\left\\{ x_1, x_2, x_3, ... \\right\\}$$\n",
    "\n",
    "Dictionaries are very simple ways of remembering that we have seen values before. A *set* is an unordered collection of values, where values can appear at most once. Remembering things we have seen before means capturing the set of previous seen values.\n",
    "\n",
    "Because we can index them by **keys**, and the keys could be anything, we can simply test whether a key is in the dictionary by trying to find it it. To remember that we have seen an item, we just store it into the dictionary a mapping from a key to a dummy value (e.g. from a key to True)\n",
    "\n",
    "(actually, Python has a built in `set` datatype that is even better suited for this, but that's beyond the scope of CS1P)."
   ]
  },
  {
   "cell_type": "code",
   "execution_count": 13,
   "metadata": {},
   "outputs": [
    {
     "name": "stdout",
     "output_type": "stream",
     "text": [
      "['goose', 'eagle', 'swan', 'duck']\n"
     ]
    }
   ],
   "source": [
    "# remove duplicates, the dictionary way (this is actually efficient)\n",
    "birds = [\"duck\", \"duck\", \"goose\", \"swan\", \"goose\", \"duck\", \"duck\", \"duck\", \"eagle\"]\n",
    "all_birds = {}\n",
    "for bird in birds:\n",
    "    all_birds[bird] = True\n",
    "    \n",
    "print(list(all_birds.keys()))"
   ]
  },
  {
   "cell_type": "markdown",
   "metadata": {},
   "source": [
    "### Counters\n",
    "Similarly, there is often a need to count how many times we see a value. For example, parsing a log file from a website, and determining how many times a specific URL was accessed:\n",
    "    \n",
    "         \"GET /pics/wpaper.gif HTTP/1.0\"\n",
    "         \"GET /asctortf/ HTTP/1.0\" \n",
    "         \"GET /pics/5star2000.gif HTTP/1.0\" \n",
    "         \"GET /pics/a2hlogo.jpg HTTP/1.0\" \n",
    "         \"GET /pics/wpaper.gif HTTP/1.0\"\n",
    "         \"GET /cgi-bin/newcount?jafsof3&font=digital HTTP/1.0\" \n",
    "         \"GET /pics/wpaper.gif HTTP/1.0\"\n",
    "         \n",
    "Dictionaries are a natural way to capture this.   \n",
    "\n",
    "    {'GET /asctortf/ HTTP/1.0': 1,\n",
    "         'GET /cgi-bin/newcount?jafsof3&font=digital HTTP/1.0': 1,\n",
    "         'GET /pics/5star2000.gif HTTP/1.0': 1,\n",
    "         'GET /pics/a2hlogo.jpg HTTP/1.0': 1,\n",
    "         'GET /pics/wpaper.gif HTTP/1.0': 3}\n",
    "\n",
    "    "
   ]
  },
  {
   "cell_type": "markdown",
   "metadata": {},
   "source": [
    "## Go to learn.gla.ac.uk/yacrs\n",
    "### join Session 299\n",
    "### Wait for the questions to start!\n",
    "\n",
    "### <font color=\"green\"> CREDIT </font>"
   ]
  },
  {
   "cell_type": "markdown",
   "metadata": {},
   "source": [
    "# Dictionaries in Python\n",
    "### Literal syntax\n",
    "A dictionary has a literal syntax with curly braces, and each key mapped to one value with a colon to separate them."
   ]
  },
  {
   "cell_type": "code",
   "execution_count": null,
   "metadata": {
    "collapsed": true
   },
   "outputs": [],
   "source": [
    "letter_map = {\"a\": 1, \"b\": 2, \"c\": 3, \"d\": 4}"
   ]
  },
  {
   "cell_type": "markdown",
   "metadata": {},
   "source": [
    "The `dict` function can also be used to construct dictionaries. In this case the keys are parameters (and can only be strings), and the values are (keyword) arguments."
   ]
  },
  {
   "cell_type": "code",
   "execution_count": 2,
   "metadata": {},
   "outputs": [
    {
     "name": "stdout",
     "output_type": "stream",
     "text": [
      "{'a': 1, 'b': 2, 'c': 3, 'd': 4}\n"
     ]
    }
   ],
   "source": [
    "# same as above, but dict() only lets us use string keys\n",
    "letter_map = dict(a=1, b=2, c=3, d=4)\n",
    "print(letter_map)"
   ]
  },
  {
   "cell_type": "markdown",
   "metadata": {},
   "source": [
    "-----\n",
    "\n",
    "\n",
    "### How does a dictionary work?\n",
    "\n",
    "#### It's not about sorting\n",
    "One could imagine a data structure that just sorted all of the keys, and then quickly looked up the right key by taking advantage of the order. \n",
    "\n",
    "It's possible to do a **binary search** in this case to find the matching element, and it only takes $O(\\log(n))$ time to do so, where $n$ is the number of elements to search through. This means that doubling the size of the list only increases the time to search by one \"unit\".\n",
    "\n",
    "However, dictionaries work for values even if they don't have a natural order and they can find matching elements in what is called $O(1)$ time. The time to look up does not depend on the number of keys. It doesn't take **any** longer to look up a key in a dictionary of size 200 than in one of size 20000000. "
   ]
  },
  {
   "cell_type": "code",
   "execution_count": 6,
   "metadata": {
    "collapsed": true
   },
   "outputs": [],
   "source": [
    "small_dict = {i:i for i in range(200)}\n",
    "big_dict = {i:i for i in range(2000000)}\n",
    "import random"
   ]
  },
  {
   "cell_type": "code",
   "execution_count": 7,
   "metadata": {},
   "outputs": [
    {
     "ename": "KeyboardInterrupt",
     "evalue": "",
     "output_type": "error",
     "traceback": [
      "\u001b[1;31m---------------------------------------------------------------------------\u001b[0m",
      "\u001b[1;31mKeyboardInterrupt\u001b[0m                         Traceback (most recent call last)",
      "\u001b[1;32m<ipython-input-7-da85eacf46d4>\u001b[0m in \u001b[0;36m<module>\u001b[1;34m()\u001b[0m\n\u001b[1;32m----> 1\u001b[1;33m \u001b[0mget_ipython\u001b[0m\u001b[1;33m(\u001b[0m\u001b[1;33m)\u001b[0m\u001b[1;33m.\u001b[0m\u001b[0mrun_cell_magic\u001b[0m\u001b[1;33m(\u001b[0m\u001b[1;34m'timeit'\u001b[0m\u001b[1;33m,\u001b[0m \u001b[1;34m''\u001b[0m\u001b[1;33m,\u001b[0m \u001b[1;34m'item = small_dict[random.randint(0, 199)]'\u001b[0m\u001b[1;33m)\u001b[0m\u001b[1;33m\u001b[0m\u001b[0m\n\u001b[0m",
      "\u001b[1;32mC:\\conda3\\lib\\site-packages\\IPython\\core\\interactiveshell.py\u001b[0m in \u001b[0;36mrun_cell_magic\u001b[1;34m(self, magic_name, line, cell)\u001b[0m\n\u001b[0;32m   2101\u001b[0m             \u001b[0mmagic_arg_s\u001b[0m \u001b[1;33m=\u001b[0m \u001b[0mself\u001b[0m\u001b[1;33m.\u001b[0m\u001b[0mvar_expand\u001b[0m\u001b[1;33m(\u001b[0m\u001b[0mline\u001b[0m\u001b[1;33m,\u001b[0m \u001b[0mstack_depth\u001b[0m\u001b[1;33m)\u001b[0m\u001b[1;33m\u001b[0m\u001b[0m\n\u001b[0;32m   2102\u001b[0m             \u001b[1;32mwith\u001b[0m \u001b[0mself\u001b[0m\u001b[1;33m.\u001b[0m\u001b[0mbuiltin_trap\u001b[0m\u001b[1;33m:\u001b[0m\u001b[1;33m\u001b[0m\u001b[0m\n\u001b[1;32m-> 2103\u001b[1;33m                 \u001b[0mresult\u001b[0m \u001b[1;33m=\u001b[0m \u001b[0mfn\u001b[0m\u001b[1;33m(\u001b[0m\u001b[0mmagic_arg_s\u001b[0m\u001b[1;33m,\u001b[0m \u001b[0mcell\u001b[0m\u001b[1;33m)\u001b[0m\u001b[1;33m\u001b[0m\u001b[0m\n\u001b[0m\u001b[0;32m   2104\u001b[0m             \u001b[1;32mreturn\u001b[0m \u001b[0mresult\u001b[0m\u001b[1;33m\u001b[0m\u001b[0m\n\u001b[0;32m   2105\u001b[0m \u001b[1;33m\u001b[0m\u001b[0m\n",
      "\u001b[1;32m<decorator-gen-62>\u001b[0m in \u001b[0;36mtimeit\u001b[1;34m(self, line, cell)\u001b[0m\n",
      "\u001b[1;32mC:\\conda3\\lib\\site-packages\\IPython\\core\\magic.py\u001b[0m in \u001b[0;36m<lambda>\u001b[1;34m(f, *a, **k)\u001b[0m\n\u001b[0;32m    185\u001b[0m     \u001b[1;31m# but it's overkill for just that one bit of state.\u001b[0m\u001b[1;33m\u001b[0m\u001b[1;33m\u001b[0m\u001b[0m\n\u001b[0;32m    186\u001b[0m     \u001b[1;32mdef\u001b[0m \u001b[0mmagic_deco\u001b[0m\u001b[1;33m(\u001b[0m\u001b[0marg\u001b[0m\u001b[1;33m)\u001b[0m\u001b[1;33m:\u001b[0m\u001b[1;33m\u001b[0m\u001b[0m\n\u001b[1;32m--> 187\u001b[1;33m         \u001b[0mcall\u001b[0m \u001b[1;33m=\u001b[0m \u001b[1;32mlambda\u001b[0m \u001b[0mf\u001b[0m\u001b[1;33m,\u001b[0m \u001b[1;33m*\u001b[0m\u001b[0ma\u001b[0m\u001b[1;33m,\u001b[0m \u001b[1;33m**\u001b[0m\u001b[0mk\u001b[0m\u001b[1;33m:\u001b[0m \u001b[0mf\u001b[0m\u001b[1;33m(\u001b[0m\u001b[1;33m*\u001b[0m\u001b[0ma\u001b[0m\u001b[1;33m,\u001b[0m \u001b[1;33m**\u001b[0m\u001b[0mk\u001b[0m\u001b[1;33m)\u001b[0m\u001b[1;33m\u001b[0m\u001b[0m\n\u001b[0m\u001b[0;32m    188\u001b[0m \u001b[1;33m\u001b[0m\u001b[0m\n\u001b[0;32m    189\u001b[0m         \u001b[1;32mif\u001b[0m \u001b[0mcallable\u001b[0m\u001b[1;33m(\u001b[0m\u001b[0marg\u001b[0m\u001b[1;33m)\u001b[0m\u001b[1;33m:\u001b[0m\u001b[1;33m\u001b[0m\u001b[0m\n",
      "\u001b[1;32mC:\\conda3\\lib\\site-packages\\IPython\\core\\magics\\execution.py\u001b[0m in \u001b[0;36mtimeit\u001b[1;34m(self, line, cell)\u001b[0m\n\u001b[0;32m   1082\u001b[0m                     \u001b[1;32mbreak\u001b[0m\u001b[1;33m\u001b[0m\u001b[0m\n\u001b[0;32m   1083\u001b[0m \u001b[1;33m\u001b[0m\u001b[0m\n\u001b[1;32m-> 1084\u001b[1;33m         \u001b[0mall_runs\u001b[0m \u001b[1;33m=\u001b[0m \u001b[0mtimer\u001b[0m\u001b[1;33m.\u001b[0m\u001b[0mrepeat\u001b[0m\u001b[1;33m(\u001b[0m\u001b[0mrepeat\u001b[0m\u001b[1;33m,\u001b[0m \u001b[0mnumber\u001b[0m\u001b[1;33m)\u001b[0m\u001b[1;33m\u001b[0m\u001b[0m\n\u001b[0m\u001b[0;32m   1085\u001b[0m         \u001b[0mbest\u001b[0m \u001b[1;33m=\u001b[0m \u001b[0mmin\u001b[0m\u001b[1;33m(\u001b[0m\u001b[0mall_runs\u001b[0m\u001b[1;33m)\u001b[0m \u001b[1;33m/\u001b[0m \u001b[0mnumber\u001b[0m\u001b[1;33m\u001b[0m\u001b[0m\n\u001b[0;32m   1086\u001b[0m         \u001b[0mworst\u001b[0m \u001b[1;33m=\u001b[0m \u001b[0mmax\u001b[0m\u001b[1;33m(\u001b[0m\u001b[0mall_runs\u001b[0m\u001b[1;33m)\u001b[0m \u001b[1;33m/\u001b[0m \u001b[0mnumber\u001b[0m\u001b[1;33m\u001b[0m\u001b[0m\n",
      "\u001b[1;32mC:\\conda3\\lib\\timeit.py\u001b[0m in \u001b[0;36mrepeat\u001b[1;34m(self, repeat, number)\u001b[0m\n\u001b[0;32m    204\u001b[0m         \u001b[0mr\u001b[0m \u001b[1;33m=\u001b[0m \u001b[1;33m[\u001b[0m\u001b[1;33m]\u001b[0m\u001b[1;33m\u001b[0m\u001b[0m\n\u001b[0;32m    205\u001b[0m         \u001b[1;32mfor\u001b[0m \u001b[0mi\u001b[0m \u001b[1;32min\u001b[0m \u001b[0mrange\u001b[0m\u001b[1;33m(\u001b[0m\u001b[0mrepeat\u001b[0m\u001b[1;33m)\u001b[0m\u001b[1;33m:\u001b[0m\u001b[1;33m\u001b[0m\u001b[0m\n\u001b[1;32m--> 206\u001b[1;33m             \u001b[0mt\u001b[0m \u001b[1;33m=\u001b[0m \u001b[0mself\u001b[0m\u001b[1;33m.\u001b[0m\u001b[0mtimeit\u001b[0m\u001b[1;33m(\u001b[0m\u001b[0mnumber\u001b[0m\u001b[1;33m)\u001b[0m\u001b[1;33m\u001b[0m\u001b[0m\n\u001b[0m\u001b[0;32m    207\u001b[0m             \u001b[0mr\u001b[0m\u001b[1;33m.\u001b[0m\u001b[0mappend\u001b[0m\u001b[1;33m(\u001b[0m\u001b[0mt\u001b[0m\u001b[1;33m)\u001b[0m\u001b[1;33m\u001b[0m\u001b[0m\n\u001b[0;32m    208\u001b[0m         \u001b[1;32mreturn\u001b[0m \u001b[0mr\u001b[0m\u001b[1;33m\u001b[0m\u001b[0m\n",
      "\u001b[1;32mC:\\conda3\\lib\\site-packages\\IPython\\core\\magics\\execution.py\u001b[0m in \u001b[0;36mtimeit\u001b[1;34m(self, number)\u001b[0m\n\u001b[0;32m    158\u001b[0m         \u001b[0mgc\u001b[0m\u001b[1;33m.\u001b[0m\u001b[0mdisable\u001b[0m\u001b[1;33m(\u001b[0m\u001b[1;33m)\u001b[0m\u001b[1;33m\u001b[0m\u001b[0m\n\u001b[0;32m    159\u001b[0m         \u001b[1;32mtry\u001b[0m\u001b[1;33m:\u001b[0m\u001b[1;33m\u001b[0m\u001b[0m\n\u001b[1;32m--> 160\u001b[1;33m             \u001b[0mtiming\u001b[0m \u001b[1;33m=\u001b[0m \u001b[0mself\u001b[0m\u001b[1;33m.\u001b[0m\u001b[0minner\u001b[0m\u001b[1;33m(\u001b[0m\u001b[0mit\u001b[0m\u001b[1;33m,\u001b[0m \u001b[0mself\u001b[0m\u001b[1;33m.\u001b[0m\u001b[0mtimer\u001b[0m\u001b[1;33m)\u001b[0m\u001b[1;33m\u001b[0m\u001b[0m\n\u001b[0m\u001b[0;32m    161\u001b[0m         \u001b[1;32mfinally\u001b[0m\u001b[1;33m:\u001b[0m\u001b[1;33m\u001b[0m\u001b[0m\n\u001b[0;32m    162\u001b[0m             \u001b[1;32mif\u001b[0m \u001b[0mgcold\u001b[0m\u001b[1;33m:\u001b[0m\u001b[1;33m\u001b[0m\u001b[0m\n",
      "\u001b[1;32m<magic-timeit>\u001b[0m in \u001b[0;36minner\u001b[1;34m(_it, _timer)\u001b[0m\n",
      "\u001b[1;32mC:\\conda3\\lib\\random.py\u001b[0m in \u001b[0;36mrandint\u001b[1;34m(self, a, b)\u001b[0m\n\u001b[0;32m    218\u001b[0m         \"\"\"\n\u001b[0;32m    219\u001b[0m \u001b[1;33m\u001b[0m\u001b[0m\n\u001b[1;32m--> 220\u001b[1;33m         \u001b[1;32mreturn\u001b[0m \u001b[0mself\u001b[0m\u001b[1;33m.\u001b[0m\u001b[0mrandrange\u001b[0m\u001b[1;33m(\u001b[0m\u001b[0ma\u001b[0m\u001b[1;33m,\u001b[0m \u001b[0mb\u001b[0m\u001b[1;33m+\u001b[0m\u001b[1;36m1\u001b[0m\u001b[1;33m)\u001b[0m\u001b[1;33m\u001b[0m\u001b[0m\n\u001b[0m\u001b[0;32m    221\u001b[0m \u001b[1;33m\u001b[0m\u001b[0m\n\u001b[0;32m    222\u001b[0m     def _randbelow(self, n, int=int, maxsize=1<<BPF, type=type,\n",
      "\u001b[1;31mKeyboardInterrupt\u001b[0m: "
     ]
    }
   ],
   "source": [
    "%%timeit\n",
    "item = small_dict[random.randint(0, 199)]"
   ]
  },
  {
   "cell_type": "code",
   "execution_count": 5,
   "metadata": {},
   "outputs": [
    {
     "name": "stdout",
     "output_type": "stream",
     "text": [
      "1.8 µs ± 47.1 ns per loop (mean ± std. dev. of 7 runs, 100000 loops each)\n"
     ]
    }
   ],
   "source": [
    "%%timeit\n",
    "item = big_dict[random.randint(0, 200000-1)]"
   ]
  },
  {
   "cell_type": "markdown",
   "metadata": {},
   "source": [
    "### Arbitrary ordering\n",
    "**Dictionaries store keys in arbitrary order**. There is **no** guarantee about what order the keys are in. You should assume it is random. If you need ordering, use a list (or another datatype). A dictionary is an unordered collection: it just maintains the relation between keys and values. It can also have **no duplicate keys**. Keys form a set, and every element of a set must be unique.\n",
    "\n",
    "In fact, this is inherent how dictionaries work. Internally, they use a fixed length (but grow-able) array and **hashing**. \n",
    "\n",
    "Imagine I summed the ASCII codes of a string and took the result modulo 64:"
   ]
  },
  {
   "cell_type": "code",
   "execution_count": 1,
   "metadata": {},
   "outputs": [
    {
     "name": "stdout",
     "output_type": "stream",
     "text": [
      "20\n",
      "24\n",
      "62\n",
      "20\n"
     ]
    }
   ],
   "source": [
    "def sum_codes(string):\n",
    "    total = 0\n",
    "    for c in string:\n",
    "        total += ord(c)\n",
    "    return total % 64\n",
    "\n",
    "print(sum_codes(\"hello\"))\n",
    "print(sum_codes(\"there\"))\n",
    "print(sum_codes(\"testing\"))\n",
    "print(sum_codes(\"olleh\"))"
   ]
  },
  {
   "cell_type": "markdown",
   "metadata": {},
   "source": [
    "This would give me back a number. I could use that number as an index into a list with 64 elements. Unfortunately, the number wouldn't be guaranteed to be unique, but there are ways around that. If  I needed to store more strings, I could just double the size of the table from 64 to 128, to 256, and so on.\n",
    "\n",
    "### Hash functions\n",
    "As long as there is a way to map a value to an integer, then we can use that as an index to look up that value at a later point. Computing an integer from a value is called *hashing* because it needs to \"hash together\" lots of parts of the value to get a good index. A hash function that only looked at the first character of a string would do a very bad job, fore example.\n",
    "\n",
    "Good hash functions (functions from values to integers) are hard to design and need to satisfy certain properties. But many built in types have built in hash functions. "
   ]
  },
  {
   "cell_type": "markdown",
   "metadata": {},
   "source": [
    "### Restrictions on keys\n",
    "Because dictionaries work by hashing, every **key** must be:\n",
    "* unique\n",
    "* hashable\n",
    "* immutable\n",
    "\n",
    "Whereas a **value** can be any type at all. There are no restrictions at all on **values**.\n",
    "\n",
    "For example, \n",
    "* `+` strings are hashable and immutable\n",
    "* `+` integers are hashable and immutable\n",
    "* `-` lists are potentially hashable but mutable\n",
    "* `-` dictionaries are potentially hashable but mutable\n",
    "* `+` tuples are hashable and immutable\n",
    "* `-` streams are not hashable and are mutable"
   ]
  },
  {
   "cell_type": "code",
   "execution_count": 15,
   "metadata": {},
   "outputs": [
    {
     "data": {
      "text/plain": [
       "{2.0: 2.0, 5: 5, 'yes': 'yes'}"
      ]
     },
     "execution_count": 15,
     "metadata": {},
     "output_type": "execute_result"
    }
   ],
   "source": [
    "# these are OK\n",
    "{5: 5, \"yes\": \"yes\", 2.0: 2.0}"
   ]
  },
  {
   "cell_type": "code",
   "execution_count": 16,
   "metadata": {},
   "outputs": [
    {
     "ename": "TypeError",
     "evalue": "unhashable type: 'list'",
     "output_type": "error",
     "traceback": [
      "\u001b[0;31m---------------------------------------------------------------------------\u001b[0m",
      "\u001b[0;31mTypeError\u001b[0m                                 Traceback (most recent call last)",
      "\u001b[0;32m<ipython-input-16-852dffe5a757>\u001b[0m in \u001b[0;36m<module>\u001b[0;34m()\u001b[0m\n\u001b[1;32m      1\u001b[0m \u001b[1;31m# no: lists are mutable and thus cannot be keys\u001b[0m\u001b[1;33m\u001b[0m\u001b[1;33m\u001b[0m\u001b[0m\n\u001b[0;32m----> 2\u001b[0;31m \u001b[1;33m{\u001b[0m\u001b[1;33m[\u001b[0m\u001b[1;36m1\u001b[0m\u001b[1;33m,\u001b[0m\u001b[1;36m2\u001b[0m\u001b[1;33m]\u001b[0m\u001b[1;33m:\u001b[0m\u001b[1;33m[\u001b[0m\u001b[1;36m1\u001b[0m\u001b[1;33m,\u001b[0m\u001b[1;36m2\u001b[0m\u001b[1;33m]\u001b[0m\u001b[1;33m}\u001b[0m\u001b[1;33m\u001b[0m\u001b[0m\n\u001b[0m",
      "\u001b[0;31mTypeError\u001b[0m: unhashable type: 'list'"
     ]
    }
   ],
   "source": [
    "# no: lists are mutable and thus cannot be keys\n",
    "{[1, 2]: [1, 2]}"
   ]
  },
  {
   "cell_type": "code",
   "execution_count": 17,
   "metadata": {},
   "outputs": [
    {
     "data": {
      "text/plain": [
       "{(1, 2): [1, 2]}"
      ]
     },
     "execution_count": 17,
     "metadata": {},
     "output_type": "execute_result"
    }
   ],
   "source": [
    "{(1, 2): [1, 2]}  # OK, tuples are immutable"
   ]
  },
  {
   "cell_type": "code",
   "execution_count": 18,
   "metadata": {},
   "outputs": [
    {
     "name": "stdout",
     "output_type": "stream",
     "text": [
      "{'a': 4}\n",
      "{'a': 'hello'}\n"
     ]
    }
   ],
   "source": [
    "# note: if keys are repeated, the last assigned value will be the key\n",
    "d = {\"a\": 2, \"a\": 3, \"a\": 4}\n",
    "print(d)\n",
    "\n",
    "d[\"a\"] = \"hello\"\n",
    "print(d)"
   ]
  },
  {
   "cell_type": "markdown",
   "metadata": {},
   "source": [
    "### Indexing\n",
    "Indexing works just like on lists, except the indices don't need to be integers any more:"
   ]
  },
  {
   "cell_type": "code",
   "execution_count": 19,
   "metadata": {},
   "outputs": [
    {
     "name": "stdout",
     "output_type": "stream",
     "text": [
      "welcome\n",
      "a wild float appears!\n",
      "polo!\n",
      "9\n"
     ]
    }
   ],
   "source": [
    "test_dict = {\n",
    "    2: \"welcome\",\n",
    "    4.15: \"a wild float appears!\",\n",
    "    \"marco\": \"polo!\",\n",
    "    \"nine\": 9\n",
    "}\n",
    "print(test_dict[2])\n",
    "print(test_dict[4.15])\n",
    "print(test_dict[\"marco\"])\n",
    "print(test_dict[\"nine\"])"
   ]
  },
  {
   "cell_type": "markdown",
   "metadata": {},
   "source": [
    "We can also set the keys of a dictionary using assignment. The keys don't need to exist; a new key will be created automatically. Any existing key will be overwritten."
   ]
  },
  {
   "cell_type": "code",
   "execution_count": 20,
   "metadata": {},
   "outputs": [
    {
     "name": "stdout",
     "output_type": "stream",
     "text": [
      "{2: 'unwelcome', 'marco': 'polo!', 'nine': 9, 'seven': 7, 4.15: 'a wild float appears!'}\n"
     ]
    }
   ],
   "source": [
    "test_dict[\"seven\"] = 7\n",
    "test_dict[2] = \"unwelcome\"\n",
    "print(test_dict)"
   ]
  },
  {
   "cell_type": "markdown",
   "metadata": {},
   "source": [
    "Indexing with an key that doesn't exist will cause an exception:"
   ]
  },
  {
   "cell_type": "code",
   "execution_count": 9,
   "metadata": {},
   "outputs": [
    {
     "ename": "KeyError",
     "evalue": "\"this key doesn't exist\"",
     "output_type": "error",
     "traceback": [
      "\u001b[1;31m---------------------------------------------------------------------------\u001b[0m",
      "\u001b[1;31mKeyError\u001b[0m                                  Traceback (most recent call last)",
      "\u001b[1;32m<ipython-input-9-5bc2ee749022>\u001b[0m in \u001b[0;36m<module>\u001b[1;34m()\u001b[0m\n\u001b[1;32m----> 1\u001b[1;33m \u001b[0mprint\u001b[0m\u001b[1;33m(\u001b[0m\u001b[0mtest_dict\u001b[0m\u001b[1;33m[\u001b[0m\u001b[1;34m\"this key doesn't exist\"\u001b[0m\u001b[1;33m]\u001b[0m\u001b[1;33m)\u001b[0m\u001b[1;33m\u001b[0m\u001b[0m\n\u001b[0m",
      "\u001b[1;31mKeyError\u001b[0m: \"this key doesn't exist\""
     ]
    }
   ],
   "source": [
    "print(test_dict[\"this key doesn't exist\"])"
   ]
  },
  {
   "cell_type": "markdown",
   "metadata": {},
   "source": [
    "### Slices\n",
    "Note that there can be no **slices** since dictionaries have no order."
   ]
  },
  {
   "cell_type": "markdown",
   "metadata": {},
   "source": [
    "## Equality and comparison\n",
    "Dictionaries are equal if they have the same keys, and each of the keys maps to the same value.\n",
    "\n",
    "Order comparisons are not defined for dictionaries (although they do evaluate to a result)"
   ]
  },
  {
   "cell_type": "code",
   "execution_count": 1,
   "metadata": {},
   "outputs": [
    {
     "name": "stdout",
     "output_type": "stream",
     "text": [
      "True\n",
      "False\n",
      "False\n"
     ]
    }
   ],
   "source": [
    "print({\"a\" : 1, \"b\" : 2} == {\"a\" : 1, \"b\" : 2})\n",
    "print({\"a\" : 1, \"b\" : 2} == {\"a\" : 1, \"b\" : 2, \"c\" : 3}) # different keys\n",
    "print({\"a\" : 1, \"b\" : 2} == {\"a\" : 1, \"b\" : 20}) # different values for the same keys"
   ]
  },
  {
   "cell_type": "code",
   "execution_count": 3,
   "metadata": {},
   "outputs": [
    {
     "ename": "TypeError",
     "evalue": "'>' not supported between instances of 'dict' and 'dict'",
     "output_type": "error",
     "traceback": [
      "\u001b[1;31m---------------------------------------------------------------------------\u001b[0m",
      "\u001b[1;31mTypeError\u001b[0m                                 Traceback (most recent call last)",
      "\u001b[1;32m<ipython-input-3-85a8e750de01>\u001b[0m in \u001b[0;36m<module>\u001b[1;34m()\u001b[0m\n\u001b[0;32m      1\u001b[0m \u001b[1;31m# cannot compare the ordering of dictionaries!\u001b[0m\u001b[1;33m\u001b[0m\u001b[1;33m\u001b[0m\u001b[0m\n\u001b[1;32m----> 2\u001b[1;33m \u001b[0mprint\u001b[0m\u001b[1;33m(\u001b[0m\u001b[1;33m{\u001b[0m\u001b[1;34m\"a\"\u001b[0m \u001b[1;33m:\u001b[0m \u001b[1;36m1\u001b[0m\u001b[1;33m,\u001b[0m \u001b[1;34m\"b\"\u001b[0m \u001b[1;33m:\u001b[0m \u001b[1;36m2\u001b[0m\u001b[1;33m}\u001b[0m \u001b[1;33m>\u001b[0m \u001b[1;33m{\u001b[0m\u001b[1;34m\"a\"\u001b[0m \u001b[1;33m:\u001b[0m \u001b[1;36m1\u001b[0m\u001b[1;33m,\u001b[0m \u001b[1;34m\"b\"\u001b[0m \u001b[1;33m:\u001b[0m \u001b[1;36m20\u001b[0m\u001b[1;33m}\u001b[0m\u001b[1;33m)\u001b[0m\u001b[1;33m\u001b[0m\u001b[0m\n\u001b[0m",
      "\u001b[1;31mTypeError\u001b[0m: '>' not supported between instances of 'dict' and 'dict'"
     ]
    }
   ],
   "source": [
    "# cannot compare the ordering of dictionaries!\n",
    "print({\"a\" : 1, \"b\" : 2} > {\"a\" : 1, \"b\" : 20})"
   ]
  },
  {
   "cell_type": "markdown",
   "metadata": {},
   "source": [
    "### Deleting\n",
    "Deleting uses `del` just like lists. Note that this **mutates** (i.e. changes in place) the dictionary:"
   ]
  },
  {
   "cell_type": "code",
   "execution_count": 23,
   "metadata": {},
   "outputs": [
    {
     "name": "stdout",
     "output_type": "stream",
     "text": [
      "{2: 'welcome', 'marco': 'polo!', 'nine': 9, 4.15: 'a wild float appears!'}\n",
      "{'marco': 'polo!', 'nine': 9, 4.15: 'a wild float appears!'}\n",
      "{'nine': 9, 4.15: 'a wild float appears!'}\n"
     ]
    }
   ],
   "source": [
    "test_dict = {2:\"welcome\", 4.15:\"a wild float appears!\", \n",
    "             \"marco\":\"polo!\", \"nine\":9}\n",
    "print(test_dict)\n",
    "del test_dict[2]\n",
    "print(test_dict)\n",
    "del test_dict[\"marco\"]\n",
    "print(test_dict)"
   ]
  },
  {
   "cell_type": "markdown",
   "metadata": {},
   "source": [
    "We can remove eveything from a dictionary with `clear`"
   ]
  },
  {
   "cell_type": "code",
   "execution_count": 24,
   "metadata": {},
   "outputs": [
    {
     "name": "stdout",
     "output_type": "stream",
     "text": [
      "{}\n"
     ]
    }
   ],
   "source": [
    "test_dict.clear()\n",
    "print(test_dict)"
   ]
  },
  {
   "cell_type": "markdown",
   "metadata": {},
   "source": [
    "## Popping from dictionaries\n",
    "`pop()` works like `del` but returns the value corresponding to the key removed."
   ]
  },
  {
   "cell_type": "code",
   "execution_count": 25,
   "metadata": {},
   "outputs": [
    {
     "name": "stdout",
     "output_type": "stream",
     "text": [
      "a wild float appears!\n",
      "{2: 'welcome', 'marco': 'polo!', 'nine': 9}\n"
     ]
    }
   ],
   "source": [
    "test_dict = {\n",
    "    2: \"welcome\",\n",
    "    4.15: \"a wild float appears!\",\n",
    "    \"marco\": \"polo!\",\n",
    "    \"nine\": 9\n",
    "}\n",
    "print(test_dict.pop(4.15))\n",
    "print(test_dict)"
   ]
  },
  {
   "cell_type": "markdown",
   "metadata": {},
   "source": [
    "### popitem\n",
    "There is also `popitem()` which chooses a **random** element of the dictionary, removes it and returns both the key and the value. Note that it must be random, because dictionaries have no order."
   ]
  },
  {
   "cell_type": "code",
   "execution_count": 4,
   "metadata": {},
   "outputs": [
    {
     "name": "stdout",
     "output_type": "stream",
     "text": [
      "('nine', 9)\n",
      "('marco', 'polo!')\n",
      "(4.15, 'a wild float appears!')\n",
      "(2, 'welcome')\n"
     ]
    }
   ],
   "source": [
    "test_dict = {2:\"welcome\", 4.15:\"a wild float appears!\", \"marco\":\"polo!\", \"nine\":9}\n",
    "# remove a random element until the dictionary is exhausted\n",
    "while len(test_dict) > 0:\n",
    "    print(test_dict.popitem())"
   ]
  },
  {
   "cell_type": "markdown",
   "metadata": {},
   "source": [
    "## Size of a dictionary\n",
    "We can get the number of keys in a dictionary with `len` (which is a little misleading since dictionaries don't have lengths but rather cardinalities)"
   ]
  },
  {
   "cell_type": "code",
   "execution_count": 5,
   "metadata": {},
   "outputs": [
    {
     "name": "stdout",
     "output_type": "stream",
     "text": [
      "4\n",
      "0\n"
     ]
    }
   ],
   "source": [
    "test_dict = {2:\"welcome\", 4.15:\"a wild float appears!\", \"marco\":\"polo!\", \"nine\":9}\n",
    "print(len(test_dict))\n",
    "print(len({})) # the empty dictionary"
   ]
  },
  {
   "cell_type": "markdown",
   "metadata": {},
   "source": [
    "### Membership test\n",
    "Just like lists, we can use `in` to find out if a key (not a value!) is in a dictionary. This is one of the major uses of dictionaries -- to keep a record of \"things that have been seen\"\n",
    "\n",
    "**But**, unlike a list, the time taken to find an element does not depend on how many elements are in the dictionary.\n",
    "\n",
    "**This is a massive difference!**"
   ]
  },
  {
   "cell_type": "code",
   "execution_count": 2,
   "metadata": {
    "collapsed": true
   },
   "outputs": [],
   "source": [
    "## create 5000000 element list, put the element we want to find at the end\n",
    "list_set = [0] * 5000000\n",
    "list_set[4999999] = \"find me\"\n",
    "\n",
    "# make a dictionary with the same keys\n",
    "dictionary_set = {k: True for k in list_set}"
   ]
  },
  {
   "cell_type": "code",
   "execution_count": 3,
   "metadata": {},
   "outputs": [
    {
     "name": "stdout",
     "output_type": "stream",
     "text": [
      "10 loops, best of 3: 123 ms per loop\n"
     ]
    }
   ],
   "source": [
    "%%timeit\n",
    "\"find me\" in list_set"
   ]
  },
  {
   "cell_type": "code",
   "execution_count": 4,
   "metadata": {},
   "outputs": [
    {
     "name": "stdout",
     "output_type": "stream",
     "text": [
      "10000000 loops, best of 3: 84.1 ns per loop\n"
     ]
    }
   ],
   "source": [
    "%%timeit\n",
    "\"find me\" in dictionary_set"
   ]
  },
  {
   "cell_type": "markdown",
   "metadata": {},
   "source": [
    "## Getting a list of the keys or the values\n",
    "The list of keys and list of values in a dictionary can be obtained easily. The order of the keys is of course undefined, but it **is** guaranteed that that the keys and the values will be returned in the **same** order."
   ]
  },
  {
   "cell_type": "code",
   "execution_count": 33,
   "metadata": {},
   "outputs": [
    {
     "name": "stdout",
     "output_type": "stream",
     "text": [
      "['a', 'c', 'b']\n",
      "[1, 3, 2]\n"
     ]
    }
   ],
   "source": [
    "test_dict = {\"a\":1, \"b\":2, \"c\":3}\n",
    "print(list(test_dict.keys()))\n",
    "print(list(test_dict.values()))"
   ]
  },
  {
   "cell_type": "markdown",
   "metadata": {},
   "source": [
    "## Iterating over dictionaries\n",
    "Every dictionary has **keys** and **values**. We can iterate over either of these. By default, a `for` loop iterates over the keys. This is the most useful thing to do, because we can always look up the corresponding value from the dictionary.\n",
    "\n",
    "Remember that the order of items we iterate over is arbitrary! In practice, it is always the *same* if the dictionary has not changed, but never rely on the order of keys."
   ]
  },
  {
   "cell_type": "code",
   "execution_count": 6,
   "metadata": {},
   "outputs": [
    {
     "name": "stdout",
     "output_type": "stream",
     "text": [
      "walking = slow\n",
      "cycling = medium\n",
      "driving = fast\n"
     ]
    }
   ],
   "source": [
    "mapping = {\"walking\": \"slow\", \"cycling\": \"medium\", \"driving\": \"fast\"}\n",
    "for key in mapping:\n",
    "    print(key, \"=\", mapping[key])"
   ]
  },
  {
   "cell_type": "markdown",
   "metadata": {},
   "source": [
    "### Iterating over keys and values\n",
    "We can also explictly iterate over the keys or the values"
   ]
  },
  {
   "cell_type": "code",
   "execution_count": 10,
   "metadata": {},
   "outputs": [
    {
     "name": "stdout",
     "output_type": "stream",
     "text": [
      "walking = slow\n",
      "cycling = medium\n",
      "driving = fast\n"
     ]
    }
   ],
   "source": [
    "mapping = {\"walking\": \"slow\", \"cycling\": \"medium\", \"driving\": \"fast\"}\n",
    "for key in mapping.keys():\n",
    "    print(key, \"=\", mapping[key])"
   ]
  },
  {
   "cell_type": "code",
   "execution_count": 36,
   "metadata": {},
   "outputs": [
    {
     "name": "stdout",
     "output_type": "stream",
     "text": [
      "slow\n",
      "medium\n",
      "fast\n"
     ]
    }
   ],
   "source": [
    "for value in mapping.values():\n",
    "    print(value)  # no way to get the key from the value!"
   ]
  },
  {
   "cell_type": "markdown",
   "metadata": {},
   "source": [
    "It's often very useful to iterate over the **pairs** of keys and values. There is an easy way of doing this with `items()` and `for` (which uses parallel assignment)"
   ]
  },
  {
   "cell_type": "code",
   "execution_count": 7,
   "metadata": {},
   "outputs": [
    {
     "name": "stdout",
     "output_type": "stream",
     "text": [
      "walking = slow\n",
      "cycling = medium\n",
      "driving = fast\n"
     ]
    }
   ],
   "source": [
    "for key, value in mapping.items():\n",
    "    print(key, \"=\", value) # now we have both"
   ]
  },
  {
   "cell_type": "markdown",
   "metadata": {},
   "source": [
    "## Updating (merging) dictionaries\n",
    "We can merge together to dictionaries using `.update()`. This copies call keys from one dictionary into another, **overwriting any matching keys.**"
   ]
  },
  {
   "cell_type": "code",
   "execution_count": 8,
   "metadata": {},
   "outputs": [
    {
     "name": "stdout",
     "output_type": "stream",
     "text": [
      "{'a': 1, 'b': 2, 'c': 3}\n",
      "{'a': 1, 'b': 'changed', 'c': 3, 'd': 'new'}\n"
     ]
    }
   ],
   "source": [
    "a = {\"a\": 1, \"b\": 2, \"c\": 3}\n",
    "d = {\"b\": \"changed\", \"d\": \"new\"}\n",
    "print(a)\n",
    "a.update(d)\n",
    "print(a)"
   ]
  },
  {
   "cell_type": "markdown",
   "metadata": {},
   "source": [
    "------\n",
    "\n",
    "## get and default values\n",
    "It's annoying to have to write code like:\n",
    "\n",
    "    if \"HB\" in pencil_hardness:\n",
    "        return pencil_hardness[\"HB\"]\n",
    "    else:\n",
    "        # default value\n",
    "        return 0.2\n",
    "\n",
    "which fills in default values if the key is not found in the dictionary.\n",
    "\n",
    "`get()` lets us retrieve a value from a dictionary, substituting a **default** value if the key requested is not in the dictionary."
   ]
  },
  {
   "cell_type": "code",
   "execution_count": 13,
   "metadata": {},
   "outputs": [
    {
     "name": "stdout",
     "output_type": "stream",
     "text": [
      "3\n",
      "2.5\n"
     ]
    }
   ],
   "source": [
    "netflix_stars = {\"Into the Fog\":5, \"City of God\":5, \n",
    "                 \"Slow West\":3, \"In Bruges\":5}\n",
    "\n",
    "# assume a film we know nothing about has a rating of 2.5\n",
    "# in this case the key is present, so the default is ignored\n",
    "print(netflix_stars.get(\"Slow West\", 2.5))\n",
    "\n",
    "# isn't there, so we will get the default value instead\n",
    "print(netflix_stars.get(\"Harry Brown\", 2.5))"
   ]
  },
  {
   "cell_type": "markdown",
   "metadata": {},
   "source": [
    "The default default value is None. So `get()` with just one argument will return None if the item is not in the dictionary."
   ]
  },
  {
   "cell_type": "code",
   "execution_count": 14,
   "metadata": {},
   "outputs": [
    {
     "name": "stdout",
     "output_type": "stream",
     "text": [
      "None\n"
     ]
    }
   ],
   "source": [
    "# by default, get() returns None if the key isn't in the dictionary\n",
    "print(netflix_stars.get(\"A Single Man\"))"
   ]
  },
  {
   "cell_type": "markdown",
   "metadata": {},
   "source": [
    "------\n",
    "# One-to-many mappings\n",
    "So far we have assumed that our dictionaries map from one key to one value. Multiple keys can map to one value, but each key can only map to one value.\n",
    "\n",
    "### One-to-one\n",
    "    {\"a\":\"b\", \"c\":\"d\", \"e\":\"f\"}\n",
    "    \n",
    "### Many-to-one:\n",
    "    {\"a\":1, \"c\":1, \"d\":1}\n",
    "    \n",
    "### Lists\n",
    "This is very easy to relax; we just make the values be lists (or any other compound data structure). **Now each key can map to any number of values.**\n",
    "\n",
    "### One-to-many"
   ]
  },
  {
   "cell_type": "code",
   "execution_count": null,
   "metadata": {
    "collapsed": true
   },
   "outputs": [],
   "source": [
    "{\"a\": [1, 2, 3], \"b\": [2], \"c\": [1, 3]}"
   ]
  },
  {
   "cell_type": "markdown",
   "metadata": {},
   "source": [
    "This is very useful in problems where we want to be able to attach multiple **tags** to a key. For example, in a Netflix scenario, we might have:\n"
   ]
  },
  {
   "cell_type": "code",
   "execution_count": 10,
   "metadata": {},
   "outputs": [
    {
     "name": "stdout",
     "output_type": "stream",
     "text": [
      "{'Into the Fog': ['slow', 'war', 'subtitled', 'atmospheric'], 'City of God': ['subtitled', 'crime', 'drama'], 'Slow West': ['slow', 'western'], 'In Bruges': ['comedy', 'drama']}\n"
     ]
    }
   ],
   "source": [
    "netflix_tags = {\n",
    "    \"Into the Fog\": [\"slow\", \"war\", \"subtitled\", \"atmospheric\"],\n",
    "    \"City of God\": [\"subtitled\", \"crime\", \"drama\"],\n",
    "    \"Slow West\": [\"slow\", \"western\"],\n",
    "    \"In Bruges\": [\"comedy\", \"drama\"]\n",
    "}\n",
    "\n",
    "print(netflix_tags)"
   ]
  },
  {
   "cell_type": "markdown",
   "metadata": {},
   "source": [
    "In fact, we now have full many-to-many mappings: multiple keys can be mapped to multiple values. This is a powerful abstraction: **every** directed graph can be represented as a dictionary of this form, and graphs are an exceptionally general way of representing data."
   ]
  },
  {
   "cell_type": "markdown",
   "metadata": {},
   "source": [
    "The use of `get()` is very useful here, so that we can just append to whatever we get out of the dictionary. But we have to be careful that the dictionary is updated with the new value!"
   ]
  },
  {
   "cell_type": "code",
   "execution_count": 17,
   "metadata": {},
   "outputs": [
    {
     "name": "stdout",
     "output_type": "stream",
     "text": [
      "{}\n"
     ]
    }
   ],
   "source": [
    "## This doesn't work\n",
    "all_films = {}\n",
    "for film in list(netflix_tags.keys()):\n",
    "    for tag in netflix_tags[film]:\n",
    "        all_films.get(film, []).append(tag)\n",
    "        \n",
    "        \n",
    "# huh? it's empty?    \n",
    "print(all_films)\n",
    "# after all, we just *threw away* the return value of get after appending to it!"
   ]
  },
  {
   "cell_type": "code",
   "execution_count": 18,
   "metadata": {},
   "outputs": [
    {
     "name": "stdout",
     "output_type": "stream",
     "text": [
      "{'Into the Fog': ['slow', 'war', 'subtitled', 'atmospheric'], 'City of God': ['subtitled', 'crime', 'drama'], 'Slow West': ['slow', 'western'], 'In Bruges': ['comedy', 'drama']}\n"
     ]
    }
   ],
   "source": [
    "## This works\n",
    "all_films = {}\n",
    "for film in list(netflix_tags.keys()):\n",
    "    film_list = all_films.get(film, [])\n",
    "    for tag in netflix_tags[film]:\n",
    "        film_list.append(tag)\n",
    "    # must explicitly write back\n",
    "    all_films[film] = film_list\n",
    "# This works\n",
    "print(all_films)"
   ]
  },
  {
   "cell_type": "markdown",
   "metadata": {},
   "source": [
    "## Tuple keys -- compound keys"
   ]
  },
  {
   "cell_type": "markdown",
   "metadata": {},
   "source": [
    "We can even use multiple values as a single key. We have to observe the restriction that keys be **immutable** and **hashable**. But tuples are immutable, and they are guaranteed to be hashable if all of their elements are immutable.\n",
    "\n",
    "So if we want to index a dictionary by pairs or triples or any sequence of values, we can do this using tuples. These are **compound keys**.\n",
    "<img src=\"imgs/battleship.png\">\n",
    "*[Image credit: Neurolysis via https://commons.wikimedia.org/wiki/File:Battleship_game.png CC-BY-SA 2.0]*\n",
    "\n",
    "For example, we might want to remember which parts of a Battleship board we had hit so far. This is easy with a compund key:"
   ]
  },
  {
   "cell_type": "code",
   "execution_count": 46,
   "metadata": {},
   "outputs": [
    {
     "name": "stdout",
     "output_type": "stream",
     "text": [
      "{('A', 1): True, ('D', 4): False, ('G', 1): False, ('A', 2): True, ('A', 3): False, ('C', 4): True}\n"
     ]
    }
   ],
   "source": [
    "hits = {}\n",
    "\n",
    "hits[(\"A\", 1)] = True\n",
    "hits[(\"A\", 2)] = True\n",
    "hits[(\"A\", 3)] = False\n",
    "hits[(\"G\", 1)] = False\n",
    "hits[(\"C\", 4)] = True\n",
    "hits[(\"D\", 4)] = False\n",
    "\n",
    "print(hits)"
   ]
  },
  {
   "cell_type": "markdown",
   "metadata": {},
   "source": [
    "### defaultdict\n",
    "We can do even better than than using `get()` to return default values. Imagine we want to append an item to a dictionary of films multiple times (e.g. all the times we paused the film while watching it). We could do something like:\n",
    "\n",
    "    film_pauses = {}\n",
    "    ...\n",
    "    film = film_pauses.get(film, [])\n",
    "    film.append(pause_time)\n",
    "    \n",
    "This is so common that there is a special datastructure *defaultdict* which will autocreate entries in the dictionary if they are accessed and don't already exist."
   ]
  },
  {
   "cell_type": "code",
   "execution_count": 47,
   "metadata": {},
   "outputs": [
    {
     "name": "stdout",
     "output_type": "stream",
     "text": [
      "defaultdict(<type 'list'>, {'Harry Brown': [20.02, 60.1], 'Slow West': [15.3, 19.71, 65.4]})\n"
     ]
    }
   ],
   "source": [
    "from collections import defaultdict # have to import it\n",
    "\n",
    "# make a new, blank list if we access a missing key\n",
    "film_pauses = defaultdict(list)\n",
    "\n",
    "film_pauses[\"Harry Brown\"].append(20.02)\n",
    "film_pauses[\"Harry Brown\"].append(60.1)\n",
    "film_pauses[\"Slow West\"].append(15.3)\n",
    "film_pauses[\"Slow West\"].append(19.71)\n",
    "film_pauses[\"Slow West\"].append(65.4)\n",
    "\n",
    "print(film_pauses)"
   ]
  },
  {
   "cell_type": "markdown",
   "metadata": {},
   "source": [
    "`defaultdict` actually takes a function which must create a new empty value when it is called. Any function will do. In this case list() creates a new, blank list."
   ]
  },
  {
   "cell_type": "code",
   "execution_count": 11,
   "metadata": {},
   "outputs": [
    {
     "name": "stdout",
     "output_type": "stream",
     "text": [
      "[]\n"
     ]
    }
   ],
   "source": [
    "print(list())"
   ]
  },
  {
   "cell_type": "markdown",
   "metadata": {},
   "source": [
    "### Counter\n",
    "We can use the same to make a simple counter, that counts the number of times something occurs. This time, we tell the defaultdict to create a \"blank\" `int` (i.e. value = 0)\n",
    "\n",
    "(there is actually a special `Counter` type in Python, which is even better for this use)"
   ]
  },
  {
   "cell_type": "code",
   "execution_count": 48,
   "metadata": {},
   "outputs": [
    {
     "name": "stdout",
     "output_type": "stream",
     "text": [
      "0\n"
     ]
    }
   ],
   "source": [
    "print(int())"
   ]
  },
  {
   "cell_type": "code",
   "execution_count": 49,
   "metadata": {},
   "outputs": [
    {
     "name": "stdout",
     "output_type": "stream",
     "text": [
      "defaultdict(<type 'int'>, {'Harrison Ford': 2, 'Rutger Hauer': 3, 'Sean Young': 1})\n"
     ]
    }
   ],
   "source": [
    "actor_counts = defaultdict(int)\n",
    "\n",
    "# every time we see an actor in a scene, increment the counter\n",
    "actor_counts[\"Harrison Ford\"] += 1\n",
    "actor_counts[\"Harrison Ford\"] += 1\n",
    "actor_counts[\"Rutger Hauer\"] += 1\n",
    "actor_counts[\"Sean Young\"] += 1\n",
    "actor_counts[\"Rutger Hauer\"] += 1\n",
    "actor_counts[\"Rutger Hauer\"] += 1\n",
    "\n",
    "print(actor_counts)"
   ]
  },
  {
   "cell_type": "markdown",
   "metadata": {},
   "source": [
    "## Copying \n",
    "Dictionaries are mutable, just like lists. This means that if we have two variables referring to the same dictionary, we have to be careful when modifying the dictionary -- because the other variable will now be looking at this modified version."
   ]
  },
  {
   "cell_type": "code",
   "execution_count": 50,
   "metadata": {},
   "outputs": [
    {
     "name": "stdout",
     "output_type": "stream",
     "text": [
      "{'duration': 10, 'credits': 20, 'name': 'cs1p'}\n"
     ]
    }
   ],
   "source": [
    "mapping = {\"name\": \"cs1p\", \"duration\": 10, \"credits\": 10}\n",
    "mapping_2 = mapping\n",
    "mapping[\"credits\"] = 20\n",
    "# uh oh!\n",
    "print(mapping_2)"
   ]
  },
  {
   "cell_type": "markdown",
   "metadata": {},
   "source": [
    "We can copy a dictionary using `.copy()`"
   ]
  },
  {
   "cell_type": "code",
   "execution_count": 51,
   "metadata": {},
   "outputs": [
    {
     "name": "stdout",
     "output_type": "stream",
     "text": [
      "{'duration': 10, 'credits': 10, 'name': 'cs1p'}\n"
     ]
    }
   ],
   "source": [
    "mapping = {\"name\": \"cs1p\", \"duration\": 10, \"credits\": 10}\n",
    "mapping_2 = mapping.copy()\n",
    "# now we are changing the original version,\n",
    "# but the copy that mapping_2 refers to remains unchanged\n",
    "mapping[\"credits\"] = 20\n",
    "print(mapping_2)"
   ]
  },
  {
   "cell_type": "markdown",
   "metadata": {},
   "source": [
    "### Copying \n",
    "But what if we had a dictionary *inside* a dictionary? Or a list inside that dictionary? This is totally valid, and a very common way to store data. But `copy` just creates a new dictionary, and sets each key to the value in the original:"
   ]
  },
  {
   "cell_type": "code",
   "execution_count": null,
   "metadata": {
    "collapsed": true
   },
   "outputs": [],
   "source": [
    "# how copy could be implemented\n",
    "def copy(d):\n",
    "    copy_of_d = {}\n",
    "    for k,v in d.items():\n",
    "        copy_of_d[k] = v\n",
    "    return copy_of_d"
   ]
  },
  {
   "cell_type": "markdown",
   "metadata": {},
   "source": [
    "       \n",
    "This **doesn't** copy the values themselves. It creates a new dictionary with the same keys and same values. The keys are immutable, so there's no problem there. But, if any of the values are **mutable** we still have a problem."
   ]
  },
  {
   "cell_type": "code",
   "execution_count": 52,
   "metadata": {},
   "outputs": [
    {
     "name": "stdout",
     "output_type": "stream",
     "text": [
      "{'duration': 10, 'credits': 10, 'name': 'cs1p', 'staff': {'coordinator': 'A barely educated monkey'}}\n"
     ]
    }
   ],
   "source": [
    "course = {\n",
    "    \"name\": \"cs1p\",\n",
    "    \"duration\": 10,\n",
    "    \"credits\": 10,\n",
    "    \"staff\": {\n",
    "        \"coordinator\": \"John Williamson\"\n",
    "    }\n",
    "}\n",
    "# made a copy\n",
    "course_next_year = course.copy()\n",
    "\n",
    "# next year's lecturer\n",
    "course_next_year[\"staff\"][\"coordinator\"] = \"A barely educated monkey\"\n",
    "\n",
    "# damn it!\n",
    "print(course)"
   ]
  },
  {
   "cell_type": "markdown",
   "metadata": {},
   "source": [
    "### Deep copying\n",
    "**Deep copying** is a process of *recursively* copying all mutable values in a collection. So that if there are dictionaries within dictionaries, or lists, or anything else, those values are copied as well.\n",
    "\n",
    "Python provides this as basic functionality."
   ]
  },
  {
   "cell_type": "code",
   "execution_count": 53,
   "metadata": {},
   "outputs": [
    {
     "name": "stdout",
     "output_type": "stream",
     "text": [
      "{'duration': 10, 'credits': 10, 'name': 'cs1p', 'staff': {'coordinator': 'John Williamson'}}\n",
      "{'duration': 10, 'credits': 10, 'name': 'cs1p', 'staff': {'coordinator': 'An excellent lecturer'}}\n"
     ]
    }
   ],
   "source": [
    "import copy\n",
    "course = {\n",
    "    \"name\": \"cs1p\",\n",
    "    \"duration\": 10,\n",
    "    \"credits\": 10,\n",
    "    \"staff\": {\n",
    "        \"coordinator\": \"John Williamson\"\n",
    "    }\n",
    "}\n",
    "\n",
    "# make a deep copy -- this will copy *all* mutable collections recursively\n",
    "course_next_year = copy.deepcopy(course)\n",
    "# next year's lecturer\n",
    "course_next_year[\"staff\"][\"coordinator\"] = \"An excellent lecturer\"\n",
    "\n",
    "# alright!\n",
    "print(course)\n",
    "print(course_next_year)"
   ]
  },
  {
   "cell_type": "markdown",
   "metadata": {},
   "source": [
    "## JSON-like data formats\n",
    "JSON (JavaScript Object Notation) is a very widely-used and flexible **text format** for transferring data between applications and languages. It is much more flexible than CSV, for example, which is only really suited to 2D table dat.\n",
    "\n",
    "Although Javascript is in the name, it is used widely outside of that context.For example, many webservers transfer results of a query to a client application (e.g. Spotify returning a list of songs given an artist name) in JSON format.\n",
    "\n",
    "All JSON consists of is a text representation with lists, dictionaries, strings, integers and floats. **Dictionaries are the key organizing element of JSON notation.** \n",
    "\n",
    "In fact, JSON notation is syntactically valid Python."
   ]
  },
  {
   "cell_type": "code",
   "execution_count": 54,
   "metadata": {},
   "outputs": [
    {
     "name": "stdout",
     "output_type": "stream",
     "text": [
      "{'employees': [{'lastName': 'Doe', 'firstName': 'John'}, {'lastName': 'Smith', 'firstName': 'Anna'}, {'lastName': 'Jones', 'firstName': 'Peter'}]}\n"
     ]
    }
   ],
   "source": [
    "## JSON example\n",
    "json_1 = {\n",
    "    \"employees\": [{\n",
    "        \"firstName\": \"John\",\n",
    "        \"lastName\": \"Doe\"\n",
    "    }, {\n",
    "        \"firstName\": \"Anna\",\n",
    "        \"lastName\": \"Smith\"\n",
    "    }, {\n",
    "        \"firstName\": \"Peter\",\n",
    "        \"lastName\": \"Jones\"\n",
    "    }]\n",
    "}\n",
    "\n",
    "print(json_1)"
   ]
  },
  {
   "cell_type": "code",
   "execution_count": 58,
   "metadata": {},
   "outputs": [
    {
     "name": "stdout",
     "output_type": "stream",
     "text": [
      "{'data': {'totalItems': 800, 'items': [{'uploaded': '2007-06-05T22:07:03.000Z', 'category': 'News', 'updated': '2010-01-07T13:26:50.000Z', 'accessControl': {'comment': 'allowed', 'videoRespond': 'moderated', 'list': 'allowed', 'rate': 'allowed', 'syndicate': 'allowed', 'embed': 'allowed', 'commentVote': 'allowed'}, 'rating': 4.63, 'description': 'Google Maps API Introduction ...', 'title': 'Google Developers Day US - Maps API Introduction', 'tags': ['GDD07', 'GDD07US', 'Maps'], 'thumbnail': {'default': 'http://i.ytimg.com/vi/hYB0mn5zh2c/default.jpg', 'hqDefault': 'http://i.ytimg.com/vi/hYB0mn5zh2c/hqdefault.jpg'}, 'content': {'1': 'rtsp://v5.cache3.c.youtube.com/CiILENy.../0/0/0/video.3gp', '5': 'http://www.youtube.com/v/hYB0mn5zh2c?f...', '6': 'rtsp://v1.cache1.c.youtube.com/CiILENy.../0/0/0/video.3gp'}, 'player': {'default': 'http://www.youtube.com/watch?vu003dhYB0mn5zh2c'}, 'status': {'reason': 'limitedSyndication', 'value': 'restricted'}, 'uploader': 'GoogleDeveloperDay', 'ratingCount': 68, 'duration': 2840, 'commentCount': 22, 'aspectRatio': 'widescreen', 'favoriteCount': 201, 'id': 'hYB0mn5zh2c', 'viewCount': 220101}], 'updated': '2010-01-07T19:58:42.949Z', 'itemsPerPage': 1, 'startIndex': 1}, 'apiVersion': '2.0'}\n"
     ]
    }
   ],
   "source": [
    "# A typical query response from Youtube\n",
    "\n",
    "youtube_json = {\"apiVersion\":\"2.0\",\n",
    " \"data\":{\n",
    "    \"updated\":\"2010-01-07T19:58:42.949Z\",\n",
    "    \"totalItems\":800,\n",
    "    \"startIndex\":1,\n",
    "    \"itemsPerPage\":1,\n",
    "    \"items\":[\n",
    "        {\"id\":\"hYB0mn5zh2c\",\n",
    "         \"uploaded\":\"2007-06-05T22:07:03.000Z\",\n",
    "         \"updated\":\"2010-01-07T13:26:50.000Z\",\n",
    "         \"uploader\":\"GoogleDeveloperDay\",\n",
    "         \"category\":\"News\",\n",
    "         \"title\":\"Google Developers Day US - Maps API Introduction\",\n",
    "         \"description\":\"Google Maps API Introduction ...\",\n",
    "         \"tags\":[\n",
    "            \"GDD07\",\"GDD07US\",\"Maps\"\n",
    "         ],\n",
    "         \"thumbnail\":{\n",
    "            \"default\":\"http://i.ytimg.com/vi/hYB0mn5zh2c/default.jpg\",\n",
    "            \"hqDefault\":\"http://i.ytimg.com/vi/hYB0mn5zh2c/hqdefault.jpg\"\n",
    "         },\n",
    "         \"player\":{\n",
    "            \"default\":\"http://www.youtube.com/watch?vu003dhYB0mn5zh2c\"\n",
    "         },\n",
    "         \"content\":{\n",
    "            \"1\":\"rtsp://v5.cache3.c.youtube.com/CiILENy.../0/0/0/video.3gp\",\n",
    "            \"5\":\"http://www.youtube.com/v/hYB0mn5zh2c?f...\",\n",
    "            \"6\":\"rtsp://v1.cache1.c.youtube.com/CiILENy.../0/0/0/video.3gp\"\n",
    "         },\n",
    "         \"duration\":2840,\n",
    "         \"aspectRatio\":\"widescreen\",\n",
    "         \"rating\":4.63,\n",
    "         \"ratingCount\":68,\n",
    "         \"viewCount\":220101,\n",
    "         \"favoriteCount\":201,\n",
    "         \"commentCount\":22,\n",
    "         \"status\":{\n",
    "            \"value\":\"restricted\",\n",
    "            \"reason\":\"limitedSyndication\"\n",
    "         },\n",
    "         \"accessControl\":{\n",
    "            \"syndicate\":\"allowed\",\n",
    "            \"commentVote\":\"allowed\",\n",
    "            \"rate\":\"allowed\",\n",
    "            \"list\":\"allowed\",\n",
    "            \"comment\":\"allowed\",\n",
    "            \"embed\":\"allowed\",\n",
    "            \"videoRespond\":\"moderated\"\n",
    "         }\n",
    "        }\n",
    "    ]\n",
    " }\n",
    "}\n",
    "print(youtube_json)"
   ]
  },
  {
   "cell_type": "markdown",
   "metadata": {},
   "source": [
    "## Pretty printing\n",
    "The default printing is ugly, although quite compact. \n",
    "\n",
    "`pprint` in the `pprint` module makes it much more readable if you have to debug code with dictionaries in it."
   ]
  },
  {
   "cell_type": "code",
   "execution_count": 12,
   "metadata": {},
   "outputs": [
    {
     "name": "stdout",
     "output_type": "stream",
     "text": [
      "{'name': 'cs1p', 'duration': 10, 'credits': 10, 'labs': [{'name': 'lab_1', 'theme': 'space engineer'}, {'name': 'lab_2', 'theme': 'jungle botanist'}, {'name': 'lab_3', 'theme': 'tattoo designer'}, {'name': 'lab_4', 'theme': 'supermarket startup'}]}\n"
     ]
    }
   ],
   "source": [
    "import pprint\n",
    "cs1p ={\"name\":\"cs1p\", \"duration\":10, \"credits\":10, \n",
    "       \"labs\":[{\"name\":\"lab_1\", \"theme\":\"space engineer\"}, \n",
    "               {\"name\":\"lab_2\", \"theme\":\"jungle botanist\"},                                                          \n",
    "               {\"name\":\"lab_3\", \"theme\":\"tattoo designer\"}, \n",
    "               {\"name\":\"lab_4\", \"theme\":\"supermarket startup\"}]}\n",
    "print(cs1p)"
   ]
  },
  {
   "cell_type": "code",
   "execution_count": 13,
   "metadata": {},
   "outputs": [
    {
     "name": "stdout",
     "output_type": "stream",
     "text": [
      "{'credits': 10,\n",
      " 'duration': 10,\n",
      " 'labs': [{'name': 'lab_1', 'theme': 'space engineer'},\n",
      "          {'name': 'lab_2', 'theme': 'jungle botanist'},\n",
      "          {'name': 'lab_3', 'theme': 'tattoo designer'},\n",
      "          {'name': 'lab_4', 'theme': 'supermarket startup'}],\n",
      " 'name': 'cs1p'}\n"
     ]
    }
   ],
   "source": [
    "pprint.pprint(cs1p)"
   ]
  },
  {
   "cell_type": "markdown",
   "metadata": {},
   "source": [
    "## Finally\n",
    "Feedback and questions on CS1P, via YACRS."
   ]
  },
  {
   "cell_type": "markdown",
   "metadata": {},
   "source": [
    "## Syntax review (from learnxinyminutes.com)"
   ]
  },
  {
   "cell_type": "code",
   "execution_count": null,
   "metadata": {
    "collapsed": true
   },
   "outputs": [],
   "source": [
    "# Dictionaries store mappings\n",
    "empty_dict = {}\n",
    "# Here is a prefilled dictionary\n",
    "filled_dict = {\"one\": 1, \"two\": 2, \"three\": 3}\n",
    "\n",
    "# Look up values with []\n",
    "filled_dict[\"one\"]   # => 1\n",
    "\n",
    "# Get all keys as a list with \"keys()\"\n",
    "list(filled_dict.keys())   # => [\"three\", \"two\", \"one\"]\n",
    "# Note - Dictionary key ordering is not guaranteed.\n",
    "# Your results might not match this exactly.\n",
    "\n",
    "# Get all values as a list with \"values()\"\n",
    "list(filled_dict.values())   # => [3, 2, 1]\n",
    "# Note - Same as above regarding key ordering.\n",
    "\n",
    "# Get all key-value pairs as a list of tuples with \"items()\"\n",
    "list(filled_dicts.items())    # => [(\"one\", 1), (\"two\", 2), (\"three\", 3)]\n",
    "\n",
    "# Check for existence of keys in a dictionary with \"in\"\n",
    "\"one\" in filled_dict   # => True\n",
    "1 in filled_dict   # => False\n",
    "\n",
    "# Looking up a non-existing key is a KeyError\n",
    "filled_dict[\"four\"]   # KeyError\n",
    "\n",
    "# Use \"get()\" method to avoid the KeyError\n",
    "filled_dict.get(\"one\")   # => 1\n",
    "filled_dict.get(\"four\")   # => None\n",
    "# The get method supports a default argument when the value is missing\n",
    "filled_dict.get(\"one\", 4)   # => 1\n",
    "filled_dict.get(\"four\", 4)   # => 4\n",
    "# note that filled_dict.get(\"four\") is still => None\n",
    "# (get doesn't set the value in the dictionary)\n",
    "\n",
    "# set the value of a key with a syntax similar to lists\n",
    "filled_dict[\"four\"] = 4  # now, filled_dict[\"four\"] => 4\n",
    "\n",
    "# \"setdefault()\" inserts into a dictionary only if the given key isn't present\n",
    "filled_dict.setdefault(\"five\", 5)  # filled_dict[\"five\"] is set to 5\n",
    "filled_dict.setdefault(\"five\", 6)  # filled_dict[\"five\"] is still 5\n",
    "\n",
    "# You can define functions that take a variable number of\n",
    "# positional args, which will be interpreted as a tuple by using *\n",
    "def varargs(*args):\n",
    "    return args\n",
    "\n",
    "varargs(1, 2, 3)   # => (1, 2, 3)\n",
    "\n",
    "# You can define functions that take a variable number of\n",
    "# keyword args, as well, which will be interpreted as a dict by using **\n",
    "def keyword_args(**kwargs):\n",
    "    return kwargs\n",
    "\n",
    "# Let's call it to see what happens\n",
    "keyword_args(big=\"foot\", loch=\"ness\")   # => {\"big\": \"foot\", \"loch\": \"ness\"}\n",
    "\n",
    "\n",
    "# You can do both at once, if you like\n",
    "def all_the_args(*args, **kwargs):\n",
    "    print(args)\n",
    "    print(kwargs)\n",
    "\"\"\"\n",
    "all_the_args(1, 2, a=3, b=4) prints:\n",
    "    (1, 2)\n",
    "    {\"a\": 3, \"b\": 4}\n",
    "\"\"\"\n",
    "\n",
    "# When calling functions, you can do the opposite of args/kwargs!\n",
    "# Use * to expand positional args and use ** to expand keyword args.\n",
    "args = (1, 2, 3, 4)\n",
    "kwargs = {\"a\": 3, \"b\": 4}\n",
    "all_the_args(*args)   # equivalent to foo(1, 2, 3, 4)\n",
    "all_the_args(**kwargs)   # equivalent to foo(a=3, b=4)\n",
    "all_the_args(*args, **kwargs)   # equivalent to foo(1, 2, 3, 4, a=3, b=4)\n",
    "\n",
    "# you can pass args and kwargs along to other functions that take args/kwargs\n",
    "# by expanding them with * and ** respectively\n",
    "def pass_all_the_args(*args, **kwargs):\n",
    "    all_the_args(*args, **kwargs)\n",
    "    print(varargs(*args))\n",
    "    print(keyword_args(**kwargs))"
   ]
  },
  {
   "cell_type": "markdown",
   "metadata": {},
   "source": [
    "## Week review\n",
    "* Dictionaries map keys to values\n",
    "* Every key maps to one value\n",
    "* Multiple keys can map to the same value\n",
    "* Keys must be unique, and they must be immutable\n",
    "* Dictionary keys **have no defined order**\n",
    "* Dictionaries offer very fast key lookup\n",
    "* They are a very flexible data structure, and can represent any graph\n",
    "* Mapping from a key to a list (or dictionary) allows many-to-many mappings\n",
    "* Compound keys (using immutable collections like tuples) allow mappings from pairs, triples, etc. \n",
    "* We can iterate over keys, values and key-value pairs, using .iterkeys(), .itervalues(), .iteritems()\n",
    "* get() allows us to automatically substitute a value when a key is missing \n",
    "* defaultdict is a special kind of dictionary that will fill in a missing value as it is accessed\n",
    "* `**kwargs` can package up a dictionary into a parameter-argument mapping\n",
    "* `**kwargs` can also be used to collect up parameters not named in a function definition.\n",
    "* deep copying is the process of recursively copying a mutable data structure, such that all mutable elements and subelements, and subsubelements (and so on...) are copied as well.\n"
   ]
  },
  {
   "cell_type": "code",
   "execution_count": null,
   "metadata": {
    "collapsed": true
   },
   "outputs": [],
   "source": []
  }
 ],
 "metadata": {
  "kernelspec": {
   "display_name": "Python 3",
   "language": "python",
   "name": "python3"
  },
  "language_info": {
   "codemirror_mode": {
    "name": "ipython",
    "version": 3
   },
   "file_extension": ".py",
   "mimetype": "text/x-python",
   "name": "python",
   "nbconvert_exporter": "python",
   "pygments_lexer": "ipython3",
   "version": "3.6.1"
  }
 },
 "nbformat": 4,
 "nbformat_minor": 1
}
