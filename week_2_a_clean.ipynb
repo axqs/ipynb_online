{
 "cells": [
  {
   "cell_type": "markdown",
   "metadata": {},
   "source": [
    "# Week 2 : Lecture A \n",
    " ## Control: Operators, conditionals and iteration\n",
    " ##### CS1P - University of Glasgow - John H. Williamson - 2017/2018 Python 3.x"
   ]
  },
  {
   "cell_type": "markdown",
   "metadata": {},
   "source": []
  },
  {
   "cell_type": "markdown",
   "metadata": {},
   "source": [
    "# Branching\n",
    "A computer needs to be able **branch**; that is to execute different code depending on some state. A computer without branching would be like a player piano: it can only ever do the same thing, over and over again. It would just be a dumb playback device.\n",
    "\n",
    "<video src=\"imgs/player.mp4\" width=\"600px\" controls> </video>"
   ]
  },
  {
   "cell_type": "markdown",
   "metadata": {},
   "source": [
    "## Flow Control\n",
    "The first *true* computer designed (but never built) was the analytical engine designed by Charles Babbage in 1837. This was to be a enormously complex mechanical machine, with tens of thousands of tiny gears.  What made it a real computer is that it had **conditional execution**; there was a unit called the *mill* that could decide what operation to do based on **data**.\n",
    "<img src=\"imgs/mill.jpg\" width=\"300px\">\n",
    "*[Image credit: Marcin Wichary from San Francisco, U.S.A. - Analytical Engine Mill, CC BY 2.0, https://commons.wikimedia.org/w/index.php?curid=3614794]*\n",
    "\n",
    "The key point is that the mill allowed this computer to change what it was going to do based on previous computations or input. The **flow of execution** could be changed as programs ran.\n"
   ]
  },
  {
   "cell_type": "markdown",
   "metadata": {},
   "source": [
    "## Flow of execution\n",
    "\n",
    "We talk about the **flow of execution** of a program.  This is the path through the code that is taken. Imagine the execution of the program as water flowing down a river. At some points in the river it can split into smaller streams, and merge back together again. Sometimes water goes left, sometimes it goes right.\n",
    "\n",
    "<img src=\"imgs/fork.jpg\" width=400px>\n",
    "\n",
    "A **branch** is a element of the program where the flow of execution splits into two possible paths. The path selected depends on **data**. \n",
    "\n",
    "For example, a program operating a fridge might switch on the light if the door opens, and switch it off it closes. The data would be the door state (open or closed) and the two paths of execution would be `switch light on` and `switch light off`."
   ]
  },
  {
   "cell_type": "markdown",
   "metadata": {
    "hidden": true
   },
   "source": [
    " A very simple program might just be a sequence of statements:\n",
    "\n",
    "    a = 1\n",
    "    print(a)\n",
    "    a = 2\n",
    "    print(a)\n",
    "    \n",
    "But virtually nothing interesting can be written this way -- because what happens can never change. The program cannot change depending on what button you clicked on screen, what packets have come in over the network, what bytes you have read from a file or upon calculations done in advance.\n",
    "\n",
    "We can use simple diagrams to show how branching affects programs. Consider the sequence of statements above. We can draw that as:\n",
    "<img src=\"imgs/statement_graph.merm.png\" width=\"200px\">\n",
    "\n",
    "This is pretty boring, so we can simplify all the statements to just:\n",
    "<img src=\"imgs/simple_graph.merm.png\" width=\"200px\">\n",
    "where the arrow is assumed to include a sequence of statements without branches.\n",
    "\n",
    "\n",
    "If we add a **branch** to our program, we now have two possible exits at some block in the code:\n",
    "<img src=\"imgs/if_graph.merm.png\" width=\"200px\">\n",
    "\n",
    "Here, **true_path** is only executed if some condition was true at the `if` block. \n",
    "\n",
    "Learning to see the structure of programs as graphs like this is a key part of understanding how programs will run. We'll see several of these graphs in this lecture."
   ]
  },
  {
   "cell_type": "markdown",
   "metadata": {},
   "source": [
    "## if\n",
    "How do we introduce such branches in our programs. The simplest branching statement is `if`. \n",
    "\n",
    "`if` takes an expression and executes one sequence of code only if the given expression is `True`.\n",
    "\n",
    "    if <condition>:\n",
    "        <true_block>\n",
    "        ...\n"
   ]
  },
  {
   "cell_type": "code",
   "execution_count": 1,
   "metadata": {},
   "outputs": [
    {
     "name": "stdout",
     "output_type": "stream",
     "text": [
      "Plenty of space left\n"
     ]
    }
   ],
   "source": [
    "spaces_left = 208\n",
    "\n",
    "if spaces_left > 20:\n",
    "    # will only be printed if spaces_left is greater than 20\n",
    "    print(\"Plenty of space left\")"
   ]
  },
  {
   "cell_type": "code",
   "execution_count": 2,
   "metadata": {},
   "outputs": [
    {
     "name": "stdout",
     "output_type": "stream",
     "text": [
      "Plenty of space in the carpark left.\n",
      "So many, in fact, you could park 6 buses in here.\n"
     ]
    }
   ],
   "source": [
    "if spaces_left>200:\n",
    "    # the code to run can be as long as you want\n",
    "    print(\"Plenty of space in the carpark left.\")\n",
    "    print(\"So many, in fact, you could park\", end=' ')\n",
    "    buses = spaces_left / 32\n",
    "    print(\"%d buses in here.\" % buses)"
   ]
  },
  {
   "cell_type": "markdown",
   "metadata": {},
   "source": [
    "## else\n",
    "We can have a branch with two different paths using `else`. One of the two paths is always executed; the `if` path if the expression is True or the `else` path if it is False.\n",
    "\n",
    "\n",
    "    if <condition>:\n",
    "        <true_block>\n",
    "    else:\n",
    "        <false_block>\n",
    "\n",
    "<img src=\"imgs/if_else_graph.merm.png\" width=\"300px\">"
   ]
  },
  {
   "cell_type": "code",
   "execution_count": 3,
   "metadata": {},
   "outputs": [
    {
     "name": "stdout",
     "output_type": "stream",
     "text": [
      "20 or fewer spaces left\n"
     ]
    }
   ],
   "source": [
    "spaces_left = 8\n",
    "if spaces_left>20:\n",
    "    print(\"More than 20 spaces left\")\n",
    "else:\n",
    "    print(\"20 or fewer spaces left\")"
   ]
  },
  {
   "cell_type": "markdown",
   "metadata": {},
   "source": [
    "## elif\n",
    "Sometimes we need to have more than two branches. For example, we might have a temperature scale in a recipe in Celsius, and we need to work out what Gas Mark to put our oven at:"
   ]
  },
  {
   "cell_type": "code",
   "execution_count": null,
   "metadata": {},
   "outputs": [],
   "source": [
    "temp = 180\n",
    "if temp>135:\n",
    "    gas_mark = 1\n",
    "else:\n",
    "    if temp>149:\n",
    "        gas_mark = 2\n",
    "    else:\n",
    "        if temp>163:\n",
    "            gas_mark = 3\n",
    "# etc..."
   ]
  },
  {
   "cell_type": "markdown",
   "metadata": {},
   "source": [
    "This is clumsy and the indentation gets out of control. We can use `elif` to combine an `else` and an `if` together. We can still use a final `else` statement."
   ]
  },
  {
   "cell_type": "code",
   "execution_count": 4,
   "metadata": {},
   "outputs": [],
   "source": [
    "temp = 180\n",
    "if temp>135:\n",
    "    gas_mark=1\n",
    "elif temp>149:\n",
    "    gas_mark =2 \n",
    "elif temp>163:\n",
    "    gas_mark = 3\n",
    "else:\n",
    "    # if it's hotter than that, just turn the burner on full blast!\n",
    "    gas_mark = 100"
   ]
  },
  {
   "cell_type": "markdown",
   "metadata": {},
   "source": [
    "<img src=\"imgs/if_elif_graph.merm.png\" width=\"400px\">\n",
    "#### Caution with elif\n",
    "`elif` makes it easy to write a program with many branches. A long sequence of `elif` statements can be hard to understand (especially if someone else has to understand your code).\n",
    "\n",
    "Sometimes that is the best thing to do, but often it is clearer to use a data structure like a list or a dictionary if there are many possible choices. We will see examples of this later in the course.\n",
    "\n",
    "## Testing programs\n",
    "Programmers need to test their code works. But if there are lots of different paths through the code, that means that *lots* of tests have to be written to make sure each possible path works correctly. Complicated branching can make that hard to get right."
   ]
  },
  {
   "cell_type": "markdown",
   "metadata": {},
   "source": [
    "## Conditionals\n",
    "A conditional is an expression that evaluates to True or False (i.e. a **boolean** expression). `if` takes a conditional to decide which branch of code to execute.\n",
    "\n",
    "The comparison operators are used to test values and the boolean operators combine sub-expressions together.\n",
    "\n",
    "Valid conditional expressions include:\n",
    "\n",
    "    x == 0   [equality]\n",
    "    x > 5    [comparison]\n",
    "    status == \"alive\" or status == \"dead\"    [boolean operator]\n",
    "    "
   ]
  },
  {
   "cell_type": "markdown",
   "metadata": {
    "collapsed": true
   },
   "source": [
    "The expression following an if statement must be a conditional. It must evaluate to either `True` or `False`."
   ]
  },
  {
   "cell_type": "markdown",
   "metadata": {},
   "source": [
    "## Block syntax: indentation\n",
    "In Python, we denote the section of code following `if` by **indenting** it (putting spaces in front of the following lines). The `if` continues until the code indentation moves back to where it was before. An indented block always starts with a colon `:`.\n",
    "\n",
    "**All blocks of code in Python are denoted this way. Python is whitespace-sensitive. **\n",
    "\n",
    "There are no block markers like braces `{ }` or `begin` and `end` in Python. The block of code is defined by the colon followed by the indentation (spacing) **alone**. The code that \"belongs\" to a `if` statement is everything which has the matching indentation. \n",
    "\n",
    "All other language features which deal with blocks of code (i.e. need to work with multiple statements) use indentation to mark the blocks of code."
   ]
  },
  {
   "cell_type": "code",
   "execution_count": 11,
   "metadata": {},
   "outputs": [
    {
     "name": "stdout",
     "output_type": "stream",
     "text": [
      "after\n"
     ]
    }
   ],
   "source": [
    "# this is fine\n",
    "x = False\n",
    "if x:\n",
    "    print(\"hello\")\n",
    "    print(\"there\")  \n",
    "print(\"after\")"
   ]
  },
  {
   "cell_type": "code",
   "execution_count": null,
   "metadata": {},
   "outputs": [],
   "source": [
    "# this is an indentation error -- it will not run!\n",
    "x = True\n",
    "if x:\n",
    "    print \"hello\"      \n",
    "      print \"there\"\n",
    "#   ^\n",
    "#   | does not match any possible indentation!\n",
    "hello()"
   ]
  },
  {
   "cell_type": "markdown",
   "metadata": {},
   "source": [
    "Blocks can be nested (put one inside another) as much as you want, but you need to indent the code for each level of nesting.\n",
    "\n",
    "The advantage of this syntax is that you can see which execution path (block) you are working with visually and the layout is *guaranteed* to be correct."
   ]
  },
  {
   "cell_type": "code",
   "execution_count": 14,
   "metadata": {},
   "outputs": [
    {
     "name": "stdout",
     "output_type": "stream",
     "text": [
      "x and not y\n"
     ]
    }
   ],
   "source": [
    "# first indent, following the def\n",
    "x = True\n",
    "y = False\n",
    "if x:\n",
    "    if y:\n",
    "        print(\"x and y\")\n",
    "    else:\n",
    "        print(\"x and not y\")\n",
    "else:\n",
    "    print(\"not x\")"
   ]
  },
  {
   "cell_type": "markdown",
   "metadata": {},
   "source": [
    "       \n",
    "**It is essential that you get the indentation correct, otherwise you will generate a syntax error!**.        \n",
    "\n",
    "Press `[TAB]` in the notebook to move one indent step in. This inserts spaces, (not tab characters) at the start of the line (if you don't understand what that means, just remember the rule: always use spaces!)\n",
    "\n",
    "<font color=\"red\"> Why is this code (from a news article) obviously fake? </font>\n",
    "<img src=\"imgs/wrong.jpg\">"
   ]
  },
  {
   "cell_type": "markdown",
   "metadata": {},
   "source": [
    "## truthy and falsey\n",
    "\n",
    "https://youtu.be/awD1gtpdWIA?t=24\n",
    "\n",
    "You should always use explicitly use booleans as a condition for `if`.\n",
    "\n",
    "However, Python will let **any** value be an expression in a condition, and there are some weird rules around this. If you are reading other people's code, you may need to be aware of this.\n",
    "\n",
    "Everything is true, except:\n",
    "* `False`\n",
    "* `None`\n",
    "* `[]`  (the empty list)\n",
    "* `\"\"` (the empty string)\n",
    "* `0` (integer 0)\n",
    "* `0.0` (floating point zero)"
   ]
  },
  {
   "cell_type": "code",
   "execution_count": 68,
   "metadata": {},
   "outputs": [
    {
     "name": "stdout",
     "output_type": "stream",
     "text": [
      "1 True\n",
      "0 False\n",
      "[] False\n",
      "[0] True\n"
     ]
    }
   ],
   "source": [
    "if 1:\n",
    "    print(\"1 True\")\n",
    "else:\n",
    "    print(\"1 False\")\n",
    "    \n",
    "if 0: \n",
    "    print(\"0 True\")\n",
    "else:\n",
    "    print(\"0 False\")\n",
    "    \n",
    "if []:    \n",
    "    print(\"[] True\")\n",
    "else:\n",
    "    print(\"[] False\")\n",
    "    \n",
    "    \n",
    "if [0]:    \n",
    "    print(\"[0] True\")\n",
    "else:\n",
    "    print(\"[0] False\")"
   ]
  },
  {
   "cell_type": "markdown",
   "metadata": {},
   "source": [
    "These values are called **falsey** values (yes, really) because they work like False. Every other value is **truthy**. \n",
    "\n",
    "\n",
    "\n",
    "Be safe: always test to get a boolean. If `num` is going to be an integer, don't write \n",
    "\n",
    "     if num:\n",
    "         # do something if num is not zero\n",
    "\n",
    "write:\n",
    "\n",
    "    if num!=0:\n",
    "        # do something if num is not zero\n",
    "\n",
    "\n",
    "## Pass\n",
    "Sometimes you need to write a placeholder in an `if` statement (e.g. because you are testing one branch before writing the other). But in Python, this is invalid syntax:\n",
    "\n",
    "    if x:\n",
    "    else:\n",
    "        print(\"not x\")\n",
    "        \n",
    "because an indented block **must** follow a colon. To get around this, there is a special keyword `pass` that means \"do nothing\" (like passing in a quiz). The correct thing to write is:\n",
    "\n",
    "    if x:\n",
    "        pass\n",
    "    else:\n",
    "        print(\"not x\")\n",
    "        \n",
    "In general, most finished (i.e. completed and tested) software will not have `pass`, but it is useful for testing.\n"
   ]
  },
  {
   "cell_type": "markdown",
   "metadata": {},
   "source": [
    "# Looping\n",
    "Repeating actions is what makes computers powerful. Controlling repetition is central to programming. A section of code that repeats is called a **loop**, and the act of repeating is called **iteration** (from the Latin *iterare* \"to do again\").\n",
    "\n",
    "The key thing about looping is that it useful looping does not do *exactly* the same thing again, but repeats an set of instructions (statements) on *different data*."
   ]
  },
  {
   "cell_type": "markdown",
   "metadata": {},
   "source": [
    "## Definite iteration\n",
    "Definite iteration means doing something a fixed number of times. In Python, we use `for` to specify a definite iterations. To iterate over a sequence of numbers, we use `range()` to tell `for` what numbers we want to step through:"
   ]
  },
  {
   "cell_type": "code",
   "execution_count": 5,
   "metadata": {},
   "outputs": [
    {
     "name": "stdout",
     "output_type": "stream",
     "text": [
      "* * * * * * * * * * "
     ]
    }
   ],
   "source": [
    "for i in range(10):\n",
    "    print(\"*\", end=' ')"
   ]
  },
  {
   "cell_type": "markdown",
   "metadata": {},
   "source": [
    "The **loop variable** is the variable *i* here. It changes as the loop runs."
   ]
  },
  {
   "cell_type": "code",
   "execution_count": 6,
   "metadata": {},
   "outputs": [
    {
     "name": "stdout",
     "output_type": "stream",
     "text": [
      "0 1 2 3 4 5 6 7 8 9 "
     ]
    }
   ],
   "source": [
    "for i in range(10):\n",
    "    print(i, end=' ')"
   ]
  },
  {
   "cell_type": "markdown",
   "metadata": {},
   "source": [
    "The **loop body** is the all of the code inside of the loop; in this case just the single line:\n",
    "\n",
    "     print(i, end=' ')\n",
    "    "
   ]
  },
  {
   "cell_type": "markdown",
   "metadata": {},
   "source": [
    "<img src=\"imgs/for_graph.merm.png\" width=\"300px\">"
   ]
  },
  {
   "cell_type": "markdown",
   "metadata": {},
   "source": [
    "Note that Python counts from 0, not 1, so `range(10)` will repeat exactly 10 times, but `i` will range from 0 to 9.\n",
    "\n",
    "We can change the range we iterate over:"
   ]
  },
  {
   "cell_type": "code",
   "execution_count": 1,
   "metadata": {},
   "outputs": [
    {
     "name": "stdout",
     "output_type": "stream",
     "text": [
      "0\n",
      "1\n",
      "2\n",
      "3\n",
      "4\n"
     ]
    }
   ],
   "source": [
    "# 0..4\n",
    "for i in range(5):\n",
    "    print(i)"
   ]
  },
  {
   "cell_type": "code",
   "execution_count": 8,
   "metadata": {},
   "outputs": [
    {
     "name": "stdout",
     "output_type": "stream",
     "text": [
      "1\n",
      "2\n",
      "3\n",
      "4\n",
      "5\n"
     ]
    }
   ],
   "source": [
    "# 1..5\n",
    "for i in range(1,6):\n",
    "    print(i)"
   ]
  },
  {
   "cell_type": "markdown",
   "metadata": {},
   "source": [
    "## Counting from 0\n",
    "It might seem strange that we write `range(1,6)` and stop at 5, but it is consistent with the view that numbers are counted starting at 0. In Python, the start is *inclusive* and the end is *exclusive*.\n",
    "\n",
    "### Skipping\n",
    "We can even make the loop variable skip numbers as it goes, using a step. This is given as the third value to `range()`: `range(0,10,2)` means values from 0 to 9, choosing every fifth number."
   ]
  },
  {
   "cell_type": "code",
   "execution_count": 9,
   "metadata": {},
   "outputs": [
    {
     "name": "stdout",
     "output_type": "stream",
     "text": [
      "0\n",
      "2\n",
      "4\n",
      "6\n",
      "8\n"
     ]
    }
   ],
   "source": [
    "# 0..9, every second number\n",
    "# note that I **must** specify the start and end of this range\n",
    "# as well as the step \n",
    "for i in range(0,10,2):\n",
    "    print(i)"
   ]
  },
  {
   "cell_type": "code",
   "execution_count": 10,
   "metadata": {},
   "outputs": [
    {
     "name": "stdout",
     "output_type": "stream",
     "text": [
      "0\n",
      "3\n",
      "6\n",
      "9\n"
     ]
    }
   ],
   "source": [
    "# 0..9, every third number    \n",
    "for i in range(0,10,3):\n",
    "    print(i)"
   ]
  },
  {
   "cell_type": "markdown",
   "metadata": {},
   "source": [
    "### Sequences\n",
    "\n",
    "Definite iteration is particularly useful when you want to do something to a sequence of values (like find the mean of a list of numbers, or trim five seconds off every video in a folder). We'll see this in more detail when we look at **lists** in Python.\n",
    "\n",
    "## Loop variable names\n",
    "If your loop variable is an integer counting from 0..n, it is conventional to use the name *i*. Although it's good to use descriptive variable names, no-one wants to read code like:\n",
    "\n",
    "    for number_of_steps_so_far in range(20):\n",
    "        print number_of_steps_so_far * 2\n",
    "\n",
    "If your loop variable isn't just counting up from 0..n, it is better to give a more descriptive name than `i`."
   ]
  },
  {
   "cell_type": "code",
   "execution_count": 11,
   "metadata": {},
   "outputs": [
    {
     "data": {
      "image/png": "[encoded data removed]",
      "text/plain": [
       "<matplotlib.figure.Figure at 0x1cda872e7f0>"
      ]
     },
     "metadata": {},
     "output_type": "display_data"
    }
   ],
   "source": [
    "## plotting x^2 with a loop\n",
    "\n",
    "%matplotlib inline\n",
    "import matplotlib.pyplot as plt\n",
    "\n",
    "for i in range(100):\n",
    "    plt.plot(i, i**2, 'kx')"
   ]
  },
  {
   "cell_type": "markdown",
   "metadata": {},
   "source": [
    "## Nested loops\n",
    "We can **nest** one loop inside another. For example, imagine we wanted to go though and check colours on a 2D grid. We need to step through *columns and rows*.\n",
    "<img src=\"imgs/grid.png\">\n",
    "To do this, we just put one loop inside the other.\n",
    "<img src=\"imgs/matroyshka.jpg\">\n",
    " *[Image credit: Stephen Edmonds from Melbourne, Australia CC-BY-SA 2.0]*\n",
    "\n"
   ]
  },
  {
   "cell_type": "code",
   "execution_count": 15,
   "metadata": {},
   "outputs": [
    {
     "name": "stdout",
     "output_type": "stream",
     "text": [
      "**********\n",
      "**********\n",
      "**********\n",
      "**********\n",
      "**********\n"
     ]
    }
   ],
   "source": [
    "for i in range(5):\n",
    "    for j in range(10):\n",
    "        print(\"*\", end=\"\")\n",
    "    print() # new line\n",
    "\n",
    "        "
   ]
  },
  {
   "cell_type": "code",
   "execution_count": 19,
   "metadata": {},
   "outputs": [
    {
     "name": "stdout",
     "output_type": "stream",
     "text": [
      "i 0 j 0 k 0\n",
      "i 0 j 0 k 1\n",
      "i 0 j 0 k 2\n",
      "i 0 j 1 k 0\n",
      "i 0 j 1 k 1\n",
      "i 0 j 1 k 2\n",
      "i 0 j 2 k 0\n",
      "i 0 j 2 k 1\n",
      "i 0 j 2 k 2\n",
      "\n",
      "i 1 j 0 k 0\n",
      "i 1 j 0 k 1\n",
      "i 1 j 0 k 2\n",
      "i 1 j 1 k 0\n",
      "i 1 j 1 k 1\n",
      "i 1 j 1 k 2\n",
      "i 1 j 2 k 0\n",
      "i 1 j 2 k 1\n",
      "i 1 j 2 k 2\n",
      "\n",
      "i 2 j 0 k 0\n",
      "i 2 j 0 k 1\n",
      "i 2 j 0 k 2\n",
      "i 2 j 1 k 0\n",
      "i 2 j 1 k 1\n",
      "i 2 j 1 k 2\n",
      "i 2 j 2 k 0\n",
      "i 2 j 2 k 1\n",
      "i 2 j 2 k 2\n",
      "\n"
     ]
    }
   ],
   "source": [
    "for i in range(3):\n",
    "    for j in range(3):\n",
    "        for k in range(3):\n",
    "            print(\"i\", i, \"j\", j, \"k\", k)\n",
    "    print() # print a newline to make it clearer"
   ]
  },
  {
   "cell_type": "markdown",
   "metadata": {},
   "source": [
    "Notice that the **inner** loop (with `j` here) runs \"fastest\", in that it cycles through each of its values before `i` changes (the `i` loop is called the **outer** loop). This is logically what we asked for. \n",
    "\n",
    "We can nest loops as much as we want, but it can often become hard to understand code if we have very deep nesting.  If the problem calls for very deep nesting, then breaking off code into functions or using special data structures like numerical arrays can simplify things.\n",
    "\n",
    "It will also take significant time to run: if a loop iterates of *n* values (e.g. 10 values), then nesting the same loop will take 100=10^2 time, nesting it again will take 1000=10^3 time and so on.\n"
   ]
  },
  {
   "cell_type": "code",
   "execution_count": 3,
   "metadata": {},
   "outputs": [
    {
     "name": "stdout",
     "output_type": "stream",
     "text": [
      "i0 j0 l0\n",
      "i0 j0 l1\n",
      "i0 j0 l2\n",
      "i0 j1 l0\n",
      "i0 j1 l1\n",
      "i0 j1 l2\n",
      "i0 j2 l0\n",
      "i0 j2 l1\n",
      "i0 j2 l2\n",
      "i1 j0 l0\n",
      "i1 j0 l1\n",
      "i1 j0 l2\n",
      "i1 j1 l0\n",
      "i1 j1 l1\n",
      "i1 j1 l2\n",
      "i1 j2 l0\n",
      "i1 j2 l1\n",
      "i1 j2 l2\n",
      "i2 j0 l0\n",
      "i2 j0 l1\n",
      "i2 j0 l2\n",
      "i2 j1 l0\n",
      "i2 j1 l1\n",
      "i2 j1 l2\n",
      "i2 j2 l0\n",
      "i2 j2 l1\n",
      "i2 j2 l2\n"
     ]
    }
   ],
   "source": [
    "for i in range(3):\n",
    "    for j in range(3):\n",
    "        for l in range(3):\n",
    "            print(\"i%d\"% i, \"j%d\"% j, \"l%d\"% l)"
   ]
  },
  {
   "cell_type": "markdown",
   "metadata": {},
   "source": [
    "## Range\n",
    "When we use `range()` like this, these are known as **counted loops**, because the loop variable counts up. \n",
    "\n",
    "What `range()` really does is generate a sequence of numbers, and `for` then looks at those in turn.\n"
   ]
  },
  {
   "cell_type": "code",
   "execution_count": 14,
   "metadata": {},
   "outputs": [
    {
     "data": {
      "text/plain": [
       "[0, 1, 2, 3, 4, 5, 6, 7, 8, 9]"
      ]
     },
     "execution_count": 14,
     "metadata": {},
     "output_type": "execute_result"
    }
   ],
   "source": [
    "list(range(10))"
   ]
  },
  {
   "cell_type": "markdown",
   "metadata": {},
   "source": [
    "Note that **range** could take a computed expression, not just a constant. **BUT**, the value we loop to must stay constant *within that loop*.\n",
    "\n",
    "This is fine:\n"
   ]
  },
  {
   "cell_type": "code",
   "execution_count": 15,
   "metadata": {},
   "outputs": [
    {
     "name": "stdout",
     "output_type": "stream",
     "text": [
      "\n",
      "* \n",
      "* * \n",
      "* * * \n",
      "* * * * \n",
      "* * * * * \n",
      "* * * * * * \n",
      "* * * * * * * \n",
      "* * * * * * * * \n",
      "* * * * * * * * * \n"
     ]
    }
   ],
   "source": [
    "for i in range(10):\n",
    "    for j in range(i):\n",
    "        print(\"*\", end=' ') \n",
    "    print()"
   ]
  },
  {
   "cell_type": "code",
   "execution_count": 16,
   "metadata": {},
   "outputs": [
    {
     "name": "stdout",
     "output_type": "stream",
     "text": [
      "\n",
      "\n",
      "\n",
      "\n",
      "\n",
      "\n",
      "\n",
      "\n",
      "\n",
      "\n"
     ]
    }
   ],
   "source": [
    "for i in range(10):\n",
    "    k = 0\n",
    "    for j in range(k):\n",
    "        print(\"*\", end=' ') \n",
    "        k += 1\n",
    "    print()"
   ]
  },
  {
   "cell_type": "markdown",
   "metadata": {},
   "source": [
    "## Never write to loop variables\n",
    "Don't try and change a loop variable during the execution of a loop. The behaviour is not what you might expect (although it is consistent):"
   ]
  },
  {
   "cell_type": "code",
   "execution_count": 17,
   "metadata": {},
   "outputs": [
    {
     "name": "stdout",
     "output_type": "stream",
     "text": [
      "0\n",
      "1\n",
      "2\n",
      "3\n",
      "4\n",
      "25\n",
      "6\n",
      "7\n",
      "8\n",
      "9\n"
     ]
    }
   ],
   "source": [
    "for i in range(10):\n",
    "    if i==5:\n",
    "        i = 25\n",
    "    print(i)"
   ]
  },
  {
   "cell_type": "markdown",
   "metadata": {},
   "source": [
    "This is different from the behaviour in other languages like C and Java."
   ]
  },
  {
   "cell_type": "markdown",
   "metadata": {},
   "source": [
    "## General for loops\n",
    "\n",
    "`for` will actually step through **any** sequence of values. That sequence does not have to come from `range()`. Strings, for example, are sequences of character (length-1 strings) in Python, so this works:"
   ]
  },
  {
   "cell_type": "code",
   "execution_count": 21,
   "metadata": {},
   "outputs": [
    {
     "name": "stdout",
     "output_type": "stream",
     "text": [
      "C S 1 P "
     ]
    }
   ],
   "source": [
    "for ch in 'CS1P':\n",
    "    print(ch, end=' ')"
   ]
  },
  {
   "cell_type": "markdown",
   "metadata": {},
   "source": [
    "As we'll see when we cover lists, a common Python idiom is to use for with a list of options, to do each in turn:"
   ]
  },
  {
   "cell_type": "code",
   "execution_count": 26,
   "metadata": {},
   "outputs": [
    {
     "name": "stdout",
     "output_type": "stream",
     "text": [
      "It is cold\n",
      "It is warm\n",
      "It is hot\n",
      "It is scalding\n"
     ]
    }
   ],
   "source": [
    "for temp in [\"cold\", \"warm\", \"hot\", \"scalding\"]:\n",
    "    print(\"It is %s\" % temp)"
   ]
  },
  {
   "cell_type": "markdown",
   "metadata": {},
   "source": [
    "# Indefinite iteration\n",
    "With indefinite iteration, in contrast, we don't specify in advance how many repetitions to do. This is the most general form of a loop.\n",
    "\n",
    "For example, we might want to divide to numbers by repeated subtraction. We don't know how many times we need to subtract the denominator, because that's what we're trying to work out.\n",
    "\n",
    "### While\n",
    "In Python, we use `while` to specify an indefinite loop. The `while` must be followed by a condition (an expression that evaluates to a boolean True or False). If the condition is True, the loop continues. If it is False, the loop is skipped over."
   ]
  },
  {
   "cell_type": "markdown",
   "metadata": {},
   "source": [
    "<img src=\"imgs/while_graph.merm.png\" width=\"300px\">"
   ]
  },
  {
   "cell_type": "markdown",
   "metadata": {},
   "source": [
    "`For` loops are really just a nicer way of writing `while` loops. Every `for` loop can be written as a `while` loop, by explictly setting the loop variable."
   ]
  },
  {
   "cell_type": "code",
   "execution_count": 27,
   "metadata": {},
   "outputs": [
    {
     "name": "stdout",
     "output_type": "stream",
     "text": [
      "0\n",
      "1\n",
      "2\n",
      "3\n",
      "4\n"
     ]
    }
   ],
   "source": [
    "i = 0\n",
    "while i<5:    \n",
    "    print(i)\n",
    "    i += 1 # VERY IMPORTANT -- if you forget this \n",
    "    # the loop will run forever.\n",
    "    # after all, how could i ever get to be bigger \n",
    "    # than 5 if you don't ever change it!"
   ]
  },
  {
   "cell_type": "markdown",
   "metadata": {},
   "source": [
    "We would never write a loop as a while loop if it could be written neatly as a for loop, but in some cases you can't know the number of iterations in advance, like in the division example:"
   ]
  },
  {
   "cell_type": "code",
   "execution_count": 22,
   "metadata": {},
   "outputs": [
    {
     "name": "stdout",
     "output_type": "stream",
     "text": [
      "9 remainder 1\n",
      "9 * 7 + 1 = 64\n"
     ]
    }
   ],
   "source": [
    "# division by repeated subtraction\n",
    "num = 64\n",
    "denom = 7\n",
    "result = 0\n",
    "while num>=0:\n",
    "    num = num - denom\n",
    "    result += 1\n",
    "    \n",
    "# we will have gone one subtraction \n",
    "# \"too far\", which we correct at the end\n",
    "print(\"%d remainder %d\" % (result-1, denom + num))\n",
    "# verify our result numerically\n",
    "print(\"%d * %d + %d = %d\" % (result-1, denom,num+denom,(result-1)*denom+num+denom))"
   ]
  },
  {
   "cell_type": "markdown",
   "metadata": {},
   "source": [
    "Or for example, if you were copying lines of text from file to another. You wouldn't know in advance how many lines there are to be copied; you would just keep copying until there are no more lines. \n",
    "\n",
    "Here we do an operation which will terminate after a random number of iterations:"
   ]
  },
  {
   "cell_type": "code",
   "execution_count": 23,
   "metadata": {},
   "outputs": [],
   "source": [
    "# loop until some random time. there will be a different number of stars each\n",
    "# time I run this. random.uniform returns a float number between 0 and 1\n",
    "import random\n",
    "while random.uniform(0,1)<0.95:\n",
    "    print(\"*\", end=' ')"
   ]
  },
  {
   "cell_type": "markdown",
   "metadata": {},
   "source": [
    "## Infinite iteration (usually bad!)\n",
    "If the loop condition is always True, the `while` loop will run forever. This is usually considered a **bad thing!** Make sure your **loop condition** will become False at some point during execution of the loop."
   ]
  },
  {
   "cell_type": "code",
   "execution_count": null,
   "metadata": {},
   "outputs": [],
   "source": [
    "#while 1==1:\n",
    "#    pass # pass doesn't do anything at all\n"
   ]
  },
  {
   "cell_type": "markdown",
   "metadata": {},
   "source": [
    "### Escaping from iteration escapes: continue and break\n",
    "Sometimes you want to combine elements of indefinite and definite iteration. This is often because you want to repeat something, but stop if an unusual situation occurs.\n",
    "\n",
    "For example, we could loop through a list of names, but stop if one of them is longer than 10 characters:\n"
   ]
  },
  {
   "cell_type": "code",
   "execution_count": 38,
   "metadata": {},
   "outputs": [
    {
     "name": "stdout",
     "output_type": "stream",
     "text": [
      "short\n",
      "long\n",
      "longer\n",
      "After loop\n"
     ]
    }
   ],
   "source": [
    "for name in [\"short\", \"long\", \"longer\", \n",
    "             \"extremelylongnamethatistoolong\", \"short\", \"shortish\", \"anything\"]:\n",
    "    if len(name)<10:\n",
    "        print(name)\n",
    "    else:\n",
    "        break\n",
    "print(\"After loop\")"
   ]
  },
  {
   "cell_type": "markdown",
   "metadata": {},
   "source": [
    "**break** will cause the current innermost loop to exit. It will jump straight past the end of the loop to the next code to executed.\n",
    "\n",
    "But note that it only ever breaks out of **one** loop; the current one being executed.\n"
   ]
  },
  {
   "cell_type": "code",
   "execution_count": 39,
   "metadata": {},
   "outputs": [
    {
     "name": "stdout",
     "output_type": "stream",
     "text": [
      "0 short\n",
      "0 long\n",
      "0 longer\n",
      "1 short\n",
      "1 long\n",
      "1 longer\n",
      "2 short\n",
      "2 long\n",
      "2 longer\n"
     ]
    }
   ],
   "source": [
    "for i in range(3):\n",
    "    for name in [\"short\", \"long\", \"longer\", \n",
    "                 \"extremelylongnamethatistoolong\", \"short\", \"shortish\"]:\n",
    "        if len(name)<10:\n",
    "            print(i, name)\n",
    "        else:\n",
    "            break # exits this loop, but *not* the for i in ... loop"
   ]
  },
  {
   "cell_type": "markdown",
   "metadata": {},
   "source": [
    "We can also force a loop to skip the rest of a repetition part way through. This is sometimes useful if you have a long series of conditions inside a loop, and if one of them is True, you want to move onto the next element without looking at it further."
   ]
  },
  {
   "cell_type": "code",
   "execution_count": 24,
   "metadata": {},
   "outputs": [
    {
     "name": "stdout",
     "output_type": "stream",
     "text": [
      "0\n",
      "1\n",
      "*\n",
      "2\n",
      "**\n",
      "3\n",
      "4\n",
      "****\n",
      "5\n",
      "*****\n",
      "6\n",
      "7\n",
      "*******\n",
      "8\n",
      "********\n",
      "9\n"
     ]
    }
   ],
   "source": [
    "for i in range(10):\n",
    "    print(i)\n",
    "    # if i is divisible by 3, don't do the rest of this loop\n",
    "    if i%3==0:\n",
    "        continue # -> jump back to the top of the loop        \n",
    "    print(\"*\"*i)\n",
    "    "
   ]
  },
  {
   "cell_type": "markdown",
   "metadata": {},
   "source": [
    "**Note** Be careful here:\n",
    "* **break** exits a loop (jumps to just after the end of the loop)\n",
    "* **continue** skips the rest of the current loop (jumps back to the top of the loop)\n",
    "* **pass** doesn't do *anything* at all. It it just a placeholder -- a **no operation**."
   ]
  },
  {
   "cell_type": "markdown",
   "metadata": {},
   "source": [
    "## Break with caution\n",
    "Although `break` and `continue` can be invaluable, they make code more difficult understand and should be used sparingly. Consider what happens to the branch graph when you add a break or a continue: now there is a another path of execution that you must consider.\n",
    "\n",
    "### Break\n",
    "<img src=\"imgs/break_graph.merm.png\" width=\"400px\">\n",
    "### Continue\n",
    "<img src=\"imgs/continue_graph.merm.png\" width=\"400px\">"
   ]
  },
  {
   "cell_type": "markdown",
   "metadata": {},
   "source": [
    "## Finally\n",
    "What concerns you about CS1P so far? Use YACRS to send 140 character responses. Thank you!\n",
    "\n",
    "### Remember to prepare the A exercises for the lab next week."
   ]
  },
  {
   "cell_type": "markdown",
   "metadata": {},
   "source": [
    "## Syntax review [from learnxinyminutes.com]"
   ]
  },
  {
   "cell_type": "code",
   "execution_count": null,
   "metadata": {},
   "outputs": [],
   "source": [
    "# Let's just make a variable\n",
    "some_var = 5\n",
    "\n",
    "# Here is an if statement. Indentation is significant in python!\n",
    "# prints \"some_var is smaller than 10\"\n",
    "if some_var > 10:\n",
    "    print(\"some_var is totally bigger than 10.\")\n",
    "elif some_var < 10:    # This elif clause is optional.\n",
    "    print(\"some_var is smaller than 10.\")\n",
    "else:           # This is optional too.\n",
    "    print(\"some_var is indeed 10.\")\n",
    "\n",
    "\n",
    "\"\"\"\n",
    "For loops iterate over lists\n",
    "prints:\n",
    "    dog is a mammal\n",
    "    cat is a mammal\n",
    "    mouse is a mammal\n",
    "\"\"\"\n",
    "for animal in [\"dog\", \"cat\", \"mouse\"]:\n",
    "    # You can use {0} to interpolate formatted strings. (See above.)\n",
    "    print(\"{0} is a mammal\".format(animal))\n",
    "\n",
    "\"\"\"\n",
    "\"range(number)\" returns a list of numbers\n",
    "from zero to the given number\n",
    "prints:\n",
    "    0\n",
    "    1\n",
    "    2\n",
    "    3\n",
    "\"\"\"\n",
    "for i in range(4):\n",
    "    print(i)\n",
    "\n",
    "\"\"\"\n",
    "\"range(lower, upper)\" returns a list of numbers\n",
    "from the lower number to the upper number\n",
    "prints:\n",
    "    4\n",
    "    5\n",
    "    6\n",
    "    7\n",
    "\"\"\"\n",
    "for i in range(4, 8):\n",
    "    print(i)\n",
    "\n",
    "\"\"\"\n",
    "While loops go until a condition is no longer met.\n",
    "prints:\n",
    "    0\n",
    "    1\n",
    "    2\n",
    "    3\n",
    "\"\"\"\n",
    "x = 0\n",
    "while x < 4:\n",
    "    print(x)\n",
    "    x += 1  # Shorthand for x = x + 1\n",
    "\n",
    "# break escapes from a loop\n",
    "while True: # loop for ever\n",
    "    print(x)\n",
    "    x += 1  # Shorthand for x = x + 1\n",
    "    if x>4:\n",
    "        break # stop if x>4\n",
    "\n",
    "# continue skips the rest of an iteration\n",
    "for i in range(10):\n",
    "    if i==5:\n",
    "        continue # we won't print anything if i is 5\n",
    "    print(\"Iteration %d\" % (i,))"
   ]
  },
  {
   "cell_type": "code",
   "execution_count": null,
   "metadata": {},
   "outputs": [],
   "source": []
  }
 ],
 "metadata": {
  "kernelspec": {
   "display_name": "Python 3",
   "language": "python",
   "name": "python3"
  },
  "language_info": {
   "codemirror_mode": {
    "name": "ipython",
    "version": 3
   },
   "file_extension": ".py",
   "mimetype": "text/x-python",
   "name": "python",
   "nbconvert_exporter": "python",
   "pygments_lexer": "ipython3",
   "version": "3.6.1"
  }
 },
 "nbformat": 4,
 "nbformat_minor": 1
}
