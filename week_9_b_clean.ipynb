{
 "cells": [
  {
   "cell_type": "markdown",
   "metadata": {},
   "source": [
    "# Week 9 : Lecture B \n",
    " ## Functional: Recursion, comprehesnsions and first-class functions\n",
    " ##### CS1P - University of Glasgow - John Williamson - 2017/2018 - Python 3.x\n",
    " "
   ]
  },
  {
   "cell_type": "markdown",
   "metadata": {},
   "source": []
  },
  {
   "cell_type": "markdown",
   "metadata": {},
   "source": [
    "## Postbag Questions\n",
    "\n",
    "\n",
    "# CDX Workshop on Friday\n",
    "The next TechSoc CDX workshop will cover Networks, starting with the basics and going into a range of topics from protocols to the OSI model. It will be held on Friday 24th November at 5pm in Boyd Orr Lecture Theatre 2 (Room 222).\n",
    "\n",
    "(this is really good stuff to know, and it's also good to get it from fellow students rather than dry lecturers)"
   ]
  },
  {
   "cell_type": "markdown",
   "metadata": {},
   "source": [
    "### The problem with pop\n",
    "**Lots** of people in the lab had code like this in `decompress`:"
   ]
  },
  {
   "cell_type": "code",
   "execution_count": null,
   "metadata": {},
   "outputs": [],
   "source": [
    "def decompress(codes):\n",
    "    # ...\n",
    "    decoded = codebook(codes.pop(0))\n",
    "    # ...\n",
    "    \n",
    "    "
   ]
  },
  {
   "cell_type": "markdown",
   "metadata": {},
   "source": [
    "This is probably because there is example code for LZW in Python online which uses this form. However, it won't work here. \n",
    "\n",
    "Why?\n",
    "\n",
    "`pop()` **mutates** (changes) the list it is applied to. This means that\n",
    "\n",
    "    codes = compress('ABC')\n",
    "    decoded = decompress(codes)\n",
    "    assert(codes==[65,66,67])\n",
    "    \n",
    "will fail, because `decompress` has modified `codes`! This is an aliasing problem. The solution is to either:\n",
    "\n",
    "* use `codes[0]` which will index without changing `codes`, and then iterate over the *remaining* characters\n",
    "* or copy `codes` before working with it.\n",
    "\n",
    "Either is fine, though the first one is more efficient, as it doesn't make unnecessary copies.\n",
    "\n",
    "This mutability is a **side-effect**, the kind of side-effect that functional programming eliminates.\n",
    "\n"
   ]
  },
  {
   "cell_type": "markdown",
   "metadata": {},
   "source": [
    "#### What is the advantage to using non-functional programming? Why don't we always use functional, since it has so many advantages?\n",
    "**Very good** question. There are several answers:\n",
    "* some things are just plain awkward to write functionally. We might have to use recursion instead of more straightforward iteration. It's sometimes easiest to just write things into variables.\n",
    "* functional approaches *can* be much faster, or at least allow for more intelligent optimisation. But they can also be slower. Immutability means that every action on a variable *must* copy that variable. This is a bad idea if you are working incrementally on a large data structure like an array.\n",
    "* some languages don't support functional programming conveniently, like C. Without first class functions it is hard to work smoothly in a functional style.\n",
    "* many programmers don't understand functional programming (no-one here, of course), particularly those without formal training, and will make a mess of it. Some elite financial institutions like *Jane Street* exclusively use functional programming -- because they can afford to hire only the absolute best developers.\n",
    "\n",
    "Most of the time though, functional ideas are useful, but in combination with occasional non-functional conveniences. Much good Javascript development focuses on introducing functional approaches to make an elegant solution out of a pig's ear of a language.\n",
    "\n",
    "\n",
    "#### What books would be good for someone doing CS?\n",
    "It's hard to say; there are just so many books that would be good for specific, technical subjects, like Python programming (see Moodle for my recommendations there) or software engineering, but many will demand more background than most of you have at this point. Here are three books written for a general audience, but especially suitable for undergraduate CS students, which I can personally recommend:\n",
    "\n",
    "* **Code** by Charles Petzgold will tell you how computers work, from wires up to assembly language. It is extremely well written and clear. Of these books, this is the only one which likely help you directly in your studies.\n",
    "* **Goedel, Escher, Bach: An Eternal Golden Braid** by Douglas Hofstatder deals with deep philosophical issues in computer science, from a engaging viewpoint. It is mind-bending but non-technical.\n",
    "* **The Code Book** by Simon Singh is a very good introduction to cryptography. If you liked the code breaking parts of the knitting lab, I'd give it a look.\n",
    "\n",
    "\n",
    "#### Do you recommend using lambda where possible or stick to the old fashioned way?\n",
    "Use `lambda` sparingly. It can be really handy when writing short, simple functions. Don't over use it, and when you need to use it, you'll know.\n",
    "\n",
    "### Any specific tips for the lab exam?\n",
    "You'll definitely want:\n",
    "\n",
    "* loops\n",
    "* conditionals\n",
    "* lists\n",
    "* strings\n",
    "* dictionaries\n",
    "* `ord()` and `chr()` and understand ASCII codes\n",
    "\n",
    "You don't want regular expressions, numerical arrays, `pop`(!), or recursion. Comprehensions can be helpful, but not required."
   ]
  },
  {
   "cell_type": "markdown",
   "metadata": {},
   "source": [
    "### Why is all([]) True?\n",
    "For the exact same reason that `0!` (0 factorial) is defined to be 1.\n",
    "`all` is equivalent to `reduce(and, seq)`, and `and` is the \"multiplication\" operator for booleans."
   ]
  },
  {
   "cell_type": "markdown",
   "metadata": {},
   "source": [
    "### What happened to the end of the video?\n",
    "Uhh, I'm not sure. Sorry about that.\n",
    "\n",
    "\n",
    "### Any external exercises  and/or reading about functional programming that you would recommend?\n",
    "The problem with most resources is that they:\n",
    "* don't use Python (but teach functional approaches well);\n",
    "* go much further than we do in CS1P and cover things like generators;\n",
    "* are out-of-date and don't have comprehensions (the most simple and useful functional tool)\n",
    "\n",
    "Here are some blog-style of suggestions to digest:\n",
    "\n",
    "* https://dev.to/dawranliou/never-write-for-loops-again\n",
    "* https://docs.python.org/2/howto/functional.html\n",
    "* https://marcobonzanini.com/2015/06/08/functional-programming-in-python/\n",
    "* https://codesachin.wordpress.com/2016/04/03/a-practical-introduction-to-functional-programming-for-python-coders/\n",
    "\n",
    "* http://treyhunner.com/2015/12/python-list-comprehensions-now-in-color/ [comprehensions]\n",
    "\n",
    "Also, Think Like a Computer Scientist, sections:\n",
    "* 4.9 - 4.11 (recursion)\n",
    "\n",
    "* Professor Frisby's Mostly Adequate Guide to Functional Programming https://drboolean.gitbooks.io/mostly-adequate-guide/content/\n",
    "[to be honest a bit silly, and Javascript based, but goes much further into depth]"
   ]
  },
  {
   "cell_type": "markdown",
   "metadata": {},
   "source": [
    "\n",
    "#### A setback of the heart lies ahead, what with the future yet to come.\n",
    "That's very poetic (although it doesn't seem to scan properly). \n",
    "\n",
    "#### Does html work on yacrs?\n",
    "No, because then you'd probably try and inject malicious Javascript or something.\n",
    "\n",
    "#### Which mechanical keyboard do you recommend?\n",
    "I already answered this I think. I have a Das Keyboard 4 Professional with Cherry MX Blue which I **really** like.\n",
    "\n",
    "<img src=\"imgs/daskeyboard.jpg\">\n",
    "\n",
    "#### I think I've been going to the wrong course. This isn't modern and expressive art..... is it?\n",
    "\n",
    "\n",
    "\n",
    "#### Would you rather fight 100 duck-sized horses or 1 horse-sized duck?\n",
    "Divide and conquer, people, divide and conquer.\n",
    "\n",
    "### Why do you always lower the board as you walk around?\n",
    "\n",
    "Tics.\n",
    "\n",
    "\n",
    "\n"
   ]
  },
  {
   "cell_type": "markdown",
   "metadata": {},
   "source": [
    "-----------------------------------------------\n",
    "\n",
    "## Pain points\n",
    "* reduce\n",
    "* lambda\n",
    "* closures\n",
    "* recursion"
   ]
  },
  {
   "cell_type": "markdown",
   "metadata": {},
   "source": [
    "### Reduce\n",
    "`reduce` always works with two argument functions (e.g. `f(x,y)`)\n",
    "\n",
    "It takes a sequence of elements [a,b,c,d,...] and it does the following:\n",
    "\n",
    "    f(a,f(b,f(c,f(d,...))))\n",
    "    \n",
    "So `reduce(add, [1,2,3,4])` would compute:\n",
    "\n",
    "    add(1, add(2, add(3,4)))\n",
    "    = add(1, add(2, 7))\n",
    "    = add(1, 9)\n",
    "    = 10\n",
    "    \n"
   ]
  },
  {
   "cell_type": "markdown",
   "metadata": {},
   "source": [
    "## lambda\n",
    "`lambda` is just a way of writing functions without giving them a name. It is used because it allows writing functions *within* an expression (for example, in a list, or as an argument to another function).\n",
    "\n",
    "There still has to be a parameter list, which is given before a `:` The \"body\" of the `lambda` **must be an expression** (remember, an expression consists of values and operators).\n",
    "\n",
    "    def f(x,y):\n",
    "        return x * y \n",
    "    \n",
    "    def g(x):\n",
    "        return [x,x]\n",
    "        \n",
    "    def h():\n",
    "        return \"LAMBDA\"\n",
    "        \n",
    "    f = lambda x, y: x * y    \n",
    "    g = lambda x: [x,x]\n",
    "    h = lambda: \"LAMBDA\""
   ]
  },
  {
   "cell_type": "markdown",
   "metadata": {},
   "source": [
    "# Revision questions\n",
    "YACRS, now."
   ]
  },
  {
   "cell_type": "markdown",
   "metadata": {},
   "source": [
    "    \n",
    "## What does this do?"
   ]
  },
  {
   "cell_type": "code",
   "execution_count": null,
   "metadata": {},
   "outputs": [],
   "source": [
    "(lambda x:[x*x]) (3)"
   ]
  },
  {
   "cell_type": "markdown",
   "metadata": {},
   "source": [
    "-------\n",
    "\n",
    "\n",
    "## Recursive solutions\n",
    "### Pure functional solutions\n",
    "Why do functional approaches use recursion? Because we *cannot* modify variables; thus we could never maintain a counter (for loop) or change a condition (while loop). The *only* thing we can ever do to change the flow of execution is call another function. \n",
    "\n",
    "#### This is why functional languages emphasise recursion; true functional programming can only have recursion!\n",
    "\n",
    "If that function is the same function we are currently in **but with different values bound to the parameters** then we have a way of doing repetition within a functional framework.\n",
    "\n",
    "### Max\n",
    "For example, we might need to find the maximum value of a list. But we can't use variables to keep track of the maximum, because that would require mutability."
   ]
  },
  {
   "cell_type": "code",
   "execution_count": 3,
   "metadata": {},
   "outputs": [],
   "source": [
    "x = [5, 20, 103, 5903, 1102, 24, 1, 63, 44, -1000, 2000000]\n"
   ]
  },
  {
   "cell_type": "code",
   "execution_count": null,
   "metadata": {},
   "outputs": [],
   "source": [
    "# imperative maximum\n",
    "# uses mutable variables, so not functional\n",
    "def imax(x):\n",
    "    current_max = x[0]\n",
    "    for val in x:\n",
    "        if val>current_max:\n",
    "            current_max = val # this line is non-functional!\n",
    "    return current_max\n",
    "\n",
    "imax(x)"
   ]
  },
  {
   "cell_type": "markdown",
   "metadata": {},
   "source": [
    "Instead, we can write it like this:"
   ]
  },
  {
   "cell_type": "code",
   "execution_count": null,
   "metadata": {},
   "outputs": [],
   "source": [
    "# recursive, functional maximum\n",
    "def rmax(x, max_found=None):\n",
    "    # nothing left, use the max_found\n",
    "    if len(x) == 0:\n",
    "        return max_found\n",
    "    # take off the first element, check the remainder of the list\n",
    "    if max_found is None or x[0] > max_found:\n",
    "        # bind max_found to x[0]\n",
    "        return rmax(x[1:], x[0])\n",
    "    else:\n",
    "        # leave max_found unchanged\n",
    "        return rmax(x[1:], max_found)\n",
    "\n",
    "rmax(x)"
   ]
  },
  {
   "cell_type": "markdown",
   "metadata": {},
   "source": [
    "Or a recursive sum"
   ]
  },
  {
   "cell_type": "code",
   "execution_count": null,
   "metadata": {},
   "outputs": [],
   "source": [
    "x = [5, 20, 103, 5903, 1102, 24, 1, 63, 44, -1000]\n",
    "\n",
    "\n",
    "def rsum(x):\n",
    "    if len(x) == 1:\n",
    "        return x[0]\n",
    "    return x[0] + rsum(x[1:])\n",
    "\n",
    "\n",
    "rsum(x)"
   ]
  },
  {
   "cell_type": "markdown",
   "metadata": {},
   "source": [
    "### A tree\n",
    "The **tree** is a structure for which recursive solutions are a very natural fit. It is easy to represent a tree using a list of lists; for example, a binary tree (one which has at most two branches at every stage) can be written as pairs, where each element of the pair can also be a pair:\n"
   ]
  },
  {
   "cell_type": "code",
   "execution_count": 4,
   "metadata": {},
   "outputs": [],
   "source": [
    "tree = [[[\"a\", \"b\"], [\"c\", [\"d\", \"e\"]]], [\"h\", \"i\"]]"
   ]
  },
  {
   "cell_type": "code",
   "execution_count": 5,
   "metadata": {},
   "outputs": [
    {
     "data": {
      "image/png": "[encoded data removed]",
      "text/plain": [
       "<matplotlib.figure.Figure at 0x24ac9d74710>"
      ]
     },
     "metadata": {},
     "output_type": "display_data"
    }
   ],
   "source": [
    "%matplotlib inline\n",
    "import matplotlib.pyplot as plt\n",
    "\n",
    "# don't worry about this code\n",
    "def plot_tree(tree, px=0, py=0, w=1.0, h=0.1):\n",
    "    if type(tree) == type([]):\n",
    "        plot_tree(tree[0], px - w / 2, py - h, w / 2)\n",
    "        plot_tree(tree[1], px + w / 2, py - h, w / 2)\n",
    "        plt.plot([px, px + w / 2], [py, py - h], \"k\", alpha=0.3, lw=2)\n",
    "        plt.plot([px, px - w / 2], [py, py - h], \"k\", alpha=0.3, lw=2)\n",
    "    else:\n",
    "        plt.text(px, py - 0.01, tree, fontsize=24, color=\"k\")\n",
    "    plt.axis(\"off\")\n",
    "\n",
    "\n",
    "plot_tree(tree)"
   ]
  },
  {
   "cell_type": "code",
   "execution_count": null,
   "metadata": {},
   "outputs": [],
   "source": [
    "# print out each element of a tree, in order, left-to-right\n",
    "# uses a recursive solution\n",
    "def print_tree(t):\n",
    "    # if it's a tree\n",
    "    if type(t)==type([]): \n",
    "        # return the left side then the right side\n",
    "        return  print_tree(t[0]) + print_tree(t[1])\n",
    "    else:\n",
    "        # else, return the value\n",
    "        return t\n",
    "    \n",
    "print(print_tree(tree))"
   ]
  },
  {
   "cell_type": "code",
   "execution_count": null,
   "metadata": {},
   "outputs": [],
   "source": [
    "# test if an element is a member of a tree\n",
    "# only works if the elements are not lists!\n",
    "def member_tree(elt, t):\n",
    "    # is this a list?\n",
    "    if type(t)==type([]): \n",
    "        # then check the left half and the right half\n",
    "        # we \"or\" together the result\n",
    "        return  member_tree(elt, t[0]) or member_tree(elt, t[1])\n",
    "    else:\n",
    "        # otherwise check if the item is the one we are looking\n",
    "        # for\n",
    "        return elt==t\n",
    "    \n",
    "member_tree(\"a\", tree)"
   ]
  },
  {
   "cell_type": "markdown",
   "metadata": {},
   "source": [
    "## What does a function call do?"
   ]
  },
  {
   "cell_type": "code",
   "execution_count": null,
   "metadata": {},
   "outputs": [],
   "source": [
    "### Example \n",
    "\n",
    "def g(x):\n",
    "    return x - 1\n",
    "\n",
    "def f(x):\n",
    "    print(x)\n",
    "    if x<=0:\n",
    "        return x\n",
    "    else:\n",
    "        return g(x)\n",
    "    \n",
    "f(2)"
   ]
  },
  {
   "cell_type": "code",
   "execution_count": null,
   "metadata": {},
   "outputs": [],
   "source": [
    "### Example \n",
    "def f(x):\n",
    "    print(x)\n",
    "    if x<=0:\n",
    "        return x\n",
    "    else:\n",
    "        return f(x-1)\n",
    "    \n",
    "f(2)"
   ]
  },
  {
   "cell_type": "code",
   "execution_count": 6,
   "metadata": {},
   "outputs": [
    {
     "data": {
      "text/plain": [
       "'AlphaBravo'"
      ]
     },
     "execution_count": 6,
     "metadata": {},
     "output_type": "execute_result"
    }
   ],
   "source": [
    "## Example     \n",
    "def f(x):\n",
    "    def g(y):\n",
    "        return x + y\n",
    "    return g\n",
    "\n",
    "f(\"Alpha\")(\"Bravo\")"
   ]
  },
  {
   "cell_type": "code",
   "execution_count": 9,
   "metadata": {},
   "outputs": [
    {
     "name": "stdout",
     "output_type": "stream",
     "text": [
      "AlphaBravo\n",
      "AlphaCharlie\n"
     ]
    }
   ],
   "source": [
    "## Example \n",
    "def f(x):\n",
    "    return lambda y: x + y\n",
    "   \n",
    "make_alpha = f(\"Alpha\")\n",
    "print(make_alpha(\"Bravo\"))\n",
    "print(make_alpha(\"Charlie\"))\n"
   ]
  },
  {
   "cell_type": "code",
   "execution_count": null,
   "metadata": {},
   "outputs": [],
   "source": [
    "f_alpha = f(\"Alpha\")\n",
    "\n",
    "f_alpha(\"Charlie\")"
   ]
  },
  {
   "cell_type": "markdown",
   "metadata": {},
   "source": [
    "### Two useful principles\n",
    "* **Avoid writing explicit loops where you can**\n",
    "* **Avoid side-effects, or at least partition them away from the rest of your code**\n"
   ]
  },
  {
   "cell_type": "code",
   "execution_count": null,
   "metadata": {},
   "outputs": [],
   "source": [
    "# explicit loop\n",
    "new = []\n",
    "y = 5\n",
    "for x in old:    \n",
    "    new.append(x+y)"
   ]
  },
  {
   "cell_type": "code",
   "execution_count": null,
   "metadata": {},
   "outputs": [],
   "source": [
    "# comprehension\n",
    "new = [x+5 for x in old]"
   ]
  },
  {
   "cell_type": "markdown",
   "metadata": {},
   "source": [
    "------------"
   ]
  },
  {
   "cell_type": "code",
   "execution_count": null,
   "metadata": {},
   "outputs": [],
   "source": [
    "def f_functional(x,y):\n",
    "     return [x for i in range(y)]\n",
    "    \n",
    "z = []\n",
    "def f_nonfunctional(x,y):\n",
    "    global z # nasty side effect!\n",
    "    z = []\n",
    "    for i in range(y):\n",
    "        z.append(x) "
   ]
  },
  {
   "cell_type": "code",
   "execution_count": null,
   "metadata": {},
   "outputs": [],
   "source": [
    "f_functional(\"yes\", 4)"
   ]
  },
  {
   "cell_type": "code",
   "execution_count": null,
   "metadata": {},
   "outputs": [],
   "source": [
    "f_nonfunctional(\"no\", 5)\n",
    "print(z)"
   ]
  },
  {
   "cell_type": "markdown",
   "metadata": {},
   "source": [
    "\n",
    "## Discussion Questions\n"
   ]
  },
  {
   "cell_type": "markdown",
   "metadata": {},
   "source": [
    "### Q1 Higher-order functions\n",
    "\n",
    "    \n",
    "Write a comprehension that will return the first element of each element of a list of lists, if there is at least one element in that sublist.\n",
    "\n",
    "    A. This cannot be done\n",
    "    B. [x[0] for x in l if len(x)>1]\n",
    "    C. [l[0] for x in l if len(l)>1]\n",
    "    D. [x[l] for x in l if len(x)>len(l)]\n",
    "    E. [l[x] for x in l if len(x)>1]\n",
    "     "
   ]
  },
  {
   "cell_type": "markdown",
   "metadata": {},
   "source": [
    "## Q2  Election fraud\n",
    "You have to detect election fraud. The fraudsters are unsubtle and have stuffed ballot boxes in a few polling areas. \n",
    "\n",
    "You have a dictionary of `{area name: integer vote count}` for the suspect party: `sus_v` and a similar dictionary of the total votes for all parties `tot_v`. (these variable names are just so this fits on the screen -- they are not good choices!)\n",
    "\n",
    "Which of the following finds all suspiciously high votes for the suspicious party (>80% of the vote) and converts them to a list of pairs of (area, percentage)?"
   ]
  },
  {
   "cell_type": "code",
   "execution_count": null,
   "metadata": {},
   "outputs": [],
   "source": [
    "A. [(area, 100.0 * (sus/tot_v[area])) \n",
    "   for area,sus in sus_v.items() \n",
    "   if sus/tot_v[area]>0.8]\n",
    "\n",
    "B. {area:sus/100.0 * tot_v[area] for area in sus_v\n",
    "    if sus/tot_v[area]>0.8}\n",
    "\n",
    "C. [(area,100.0 * sus/total) for sus,total in zip(sus_v, tot_v) \n",
    "    if sus/tot_v[area]<0.8]\n",
    "\n",
    "D. [(area,100.0 * (sus/tot_v[area])) \n",
    "   for area,sus in sus_v.items()]\n",
    "   "
   ]
  },
  {
   "cell_type": "code",
   "execution_count": null,
   "metadata": {},
   "outputs": [],
   "source": [
    "sus_votes = {\"Glasgow\":2000, \"Edinburgh\":2300, \"Aberdeen\":1540, \"Dundee\":1200}\n",
    "total_votes = {\"Glasgow\":2015, \"Edinburgh\":3300, \"Aberdeen\":1580, \"Dundee\":2290}"
   ]
  },
  {
   "cell_type": "markdown",
   "metadata": {},
   "source": [
    "### Q3 Partial application"
   ]
  },
  {
   "cell_type": "markdown",
   "metadata": {},
   "source": [
    "`*args` is the notation that allows  a sequence of values to be passed to a function in a call as if the sequence elements were the argument list."
   ]
  },
  {
   "cell_type": "code",
   "execution_count": null,
   "metadata": {},
   "outputs": [],
   "source": [
    "def f(x,y,z):\n",
    "    print(x+y*z)\n",
    "    \n",
    "x = [1,2,3]\n",
    "f(*x) # same as f(1,2,3)\n",
    "f(1,2,3)\n",
    "f(*[1,2,3])"
   ]
  },
  {
   "cell_type": "markdown",
   "metadata": {},
   "source": [
    "It can also be used in a function definition, to collect up all arguments into a list"
   ]
  },
  {
   "cell_type": "code",
   "execution_count": null,
   "metadata": {},
   "outputs": [],
   "source": [
    "def g(*args):\n",
    "    print(args)\n",
    "    \n",
    "g(1,2,3,4)\n",
    "g(\"hello\", \"there\")"
   ]
  },
  {
   "cell_type": "code",
   "execution_count": null,
   "metadata": {},
   "outputs": [],
   "source": [
    "def h(fn,x):\n",
    "    def inner_fn(*args):\n",
    "        return fn(x, *args)\n",
    "    return inner_fn\n",
    "\n",
    "def f(x,y,z):\n",
    "    print(x+y*z)\n",
    "    \n",
    "g = h(h(f,1), 2)\n",
    "g(3)"
   ]
  },
  {
   "cell_type": "markdown",
   "metadata": {},
   "source": [
    "### What does h do?\n",
    "    A. returns a new function that does the same thing as f\n",
    "    B. returns a new function that already has \n",
    "        one parameter bound to an argument\n",
    "    C. returns a new function that already has a fixed \n",
    "        return value of its own\n",
    "    D. returns a function that will return a \n",
    "        new function with a different set of arguments when called\n"
   ]
  },
  {
   "cell_type": "code",
   "execution_count": null,
   "metadata": {},
   "outputs": [],
   "source": []
  }
 ],
 "metadata": {
  "kernelspec": {
   "display_name": "Python 3",
   "language": "python",
   "name": "python3"
  },
  "language_info": {
   "codemirror_mode": {
    "name": "ipython",
    "version": 3
   },
   "file_extension": ".py",
   "mimetype": "text/x-python",
   "name": "python",
   "nbconvert_exporter": "python",
   "pygments_lexer": "ipython3",
   "version": "3.6.1"
  }
 },
 "nbformat": 4,
 "nbformat_minor": 1
}
